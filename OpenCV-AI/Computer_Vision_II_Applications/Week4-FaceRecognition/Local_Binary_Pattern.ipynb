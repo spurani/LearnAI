{
    "cells": [
        {
            "cell_type": "markdown",
            "metadata": {},
            "source": [
                "# <font style=\"color:rgb(50,120,229)\">Local Binary Patterns<\/font>\n",
                "\n",
                "In this section we will talk about a feature descriptor called Local Binary Patterns. LBP is used widely because it is computationally inexpensive as compared to other feature descriptors such as SIFT and HOG yet very effective in representing texture in an image."
            ]
        },
        {
            "cell_type": "markdown",
            "metadata": {},
            "source": [
                "## <font style=\"color:rgb(50,120,229)\">What are Local Binary Patterns?<\/font>\n",
                "\n",
                "Local Binary Pattern ( LBP ) of a pixel is calculated by comparing the intensity of neighborhood pixels with this pixel and representing the result as a binary number. LBPs are calculated on grayscale images. To calculate LBP for a pixel we take a patch in the image with this pixel at the center. If intensity of center pixel is greater than or equal to a neighborhood pixel we denote this comparison as 1 else 0. If we compare 8 neighbors around a pixel in a 3x3 patch, we get an 8-bit binary number denoting the texture around a pixel such as 11010001. For each neighborhood pixel there can be only 2 values (0 or 1). So for 8 neighbors  there are $2^8$=256 combinations possible for LBP code around a pixel. So in decimal we will have these encodings from 0, 1, 2 \u2026 upto 255.\n",
                "\n",
                "<center><a href=\"https:\/\/www.learnopencv.com\/wp-content\/uploads\/2018\/01\/opcv4face-w7-m5-thresholdImage.png\"><img src=\"https:\/\/www.learnopencv.com\/wp-content\/uploads\/2018\/01\/opcv4face-w7-m5-thresholdImage.png\" width=500\/><\/a><\/center>\n",
                "\n",
                "&nbsp;\n",
                "When we represent LBP code as a binary number we can start from any neighborhood pixel and can go either clockwise or counterclockwise. But it is important to use the same convention to calculate LBP codes for all images.\n",
                "\n",
                "The original LBP descriptor used a 3x3 patch, but we can also use a larger patch and take equidistance pixel values lying farthest from the center pixel. Next image shows different number of neighbors used to define LBP.\n",
                "\n",
                "<center><a href=\"https:\/\/www.learnopencv.com\/wp-content\/uploads\/2018\/01\/opcv4face-w7-m5-LBPImage.jpg\"><img src=\"https:\/\/www.learnopencv.com\/wp-content\/uploads\/2018\/01\/opcv4face-w7-m5-LBPImage.jpg\" width=500\/><\/a><\/center>\n",
                "\n",
                "&nbsp;\n",
                "Now we can calculate LBP codes for all the pixels in image.\n",
                "\n",
                "LBP texture descriptor is also very robust to illumination variations because we are just comparing whether neighbourhood pixel has greater intensity or not, unlike Histogram of Gradients (HoG) where we calculate gradient."
            ]
        },
        {
            "cell_type": "markdown",
            "metadata": {},
            "source": [
                "## <font style=\"color:rgb(50,120,229)\">LBP Histograms<\/font>\n",
                "Now that we have LBP codes for all pixels in an image, how should we represent the whole image using these LBP codes? Short answer: Histograms.\n",
                "\n",
                "We can calculate histogram of LBP codes by binning them into 256 bins (numbered 0, 1, ...255). The value at each bin represents the frequency of that LBP code. Hence we will get a 256 dimensional vector.\n",
                "\n",
                "Is the LBP representation of the image unique? No. We have discarded the spatial information by computing the histogram. If we split the entire image into 4 equal sized patches and shuffle these patches. Although the new image is now visually very different from the original image, the global descriptor of this new image will be still be very close to original image.\n",
                "\n",
                "One way to solve this problem is to divide image into many small patches, say 20x20 then calculate histogram of LBP codes for each such patch and concatenate the histograms one after another. So if our image is of size 100x100. We will have 25 patches and a 25*256 = 6400 dimensional vector. This way our global feature descriptor also has information about features of various local patches. This method also makes the final feature descriptor to be more robust against pose and illumination variations.\n",
                "\n",
                "<center><a href=\"https:\/\/www.learnopencv.com\/wp-content\/uploads\/2018\/01\/opcv4face-w7-m5-FeatureHistogramFaceImage.jpg\"><img src=\"https:\/\/www.learnopencv.com\/wp-content\/uploads\/2018\/01\/opcv4face-w7-m5-FeatureHistogramFaceImage.jpg\" width=500\/><\/a><\/center>\n",
                "\n",
                "## <font style=\"color:rgb(50,120,229)\">Comparing LBP Histograms<\/font>\n",
                "Now that we have Local Binary Pattern descriptors, we can use this to compare two images. OpenCV uses Chi-Square distance to calculate distance between two histograms:\n",
                "\n",
                "$$\n",
                "d(H_1,H_2)=\\sum_I{\\frac{{(H_1(I)-H_2(I))}^2}{H_1(I)}}\n",
                "$$"
            ]
        },
        {
            "cell_type": "markdown",
            "metadata": {},
            "source": [
                "## <font style=\"color:rgb(50,120,229)\">References and Further Reading<\/font>\n",
                "\n",
                "http:\/\/www.scholarpedia.org\/article\/Local_Binary_Patterns\n",
                "\n",
                "http:\/\/bytefish.de\/blog\/local_binary_patterns\/\n",
                "\n",
                "http:\/\/hanzratech.in\/2015\/05\/30\/local-binary-patterns.html\n",
                "\n",
                "http:\/\/docs.opencv.org\/2.4\/modules\/contrib\/doc\/facerec\/facerec_tutorial.html"
            ]
        },
        {
            "cell_type": "code",
            "execution_count": null,
            "metadata": {},
            "outputs": [],
            "source": []
        }
    ],
    "metadata": {
        "kernelspec": {
            "display_name": "Python 3",
            "language": "python",
            "name": "python3"
        },
        "language_info": {
            "codemirror_mode": {
                "name": "ipython",
                "version": 3
            },
            "file_extension": ".py",
            "mimetype": "text\/x-python",
            "name": "python",
            "nbconvert_exporter": "python",
            "pygments_lexer": "ipython3",
            "version": "3.7.1"
        }
    },
    "nbformat": 4,
    "nbformat_minor": 2
}