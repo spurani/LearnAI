{
 "cells": [
  {
   "cell_type": "code",
   "execution_count": 2,
   "metadata": {},
   "outputs": [],
   "source": [
    "import cv2\n",
    "import numpy as np\n",
    "import matplotlib.pyplot as plt\n",
    "import faceBlendCommon as fbc\n",
    "import dlib\n",
    "%matplotlib inline"
   ]
  },
  {
   "cell_type": "code",
   "execution_count": 3,
   "metadata": {},
   "outputs": [],
   "source": [
    "import matplotlib\n",
    "matplotlib.rcParams['figure.figsize'] = (6.0,6.0)\n",
    "matplotlib.rcParams['image.cmap'] = 'gray'"
   ]
  },
  {
   "cell_type": "code",
   "execution_count": 5,
   "metadata": {},
   "outputs": [],
   "source": [
    "# Landmark model location\n",
    "PREDICTOR_PATH = \"../shape_predictor_68_face_landmarks.dat\"\n",
    "\n",
    "# Get the face detector\n",
    "faceDetector = dlib.get_frontal_face_detector()\n",
    "# The landmark detector is implemented in the shape_predictor class\n",
    "landmarkDetector = dlib.shape_predictor(PREDICTOR_PATH)"
   ]
  },
  {
   "cell_type": "code",
   "execution_count": 9,
   "metadata": {},
   "outputs": [],
   "source": [
    "# Read two images\n",
    "im1 = cv2.imread(\"hillary-clinton.jpg\")\n",
    "im2 = cv2.imread(\"presidents/bill-clinton.jpg\")"
   ]
  },
  {
   "cell_type": "code",
   "execution_count": 10,
   "metadata": {},
   "outputs": [],
   "source": [
    "# Detect landmarks in both images.\n",
    "points1 = fbc.getLandmarks(faceDetector, landmarkDetector, im1)\n",
    "points2 = fbc.getLandmarks(faceDetector, landmarkDetector, im2)\n",
    "\n",
    "points1 = np.array(points1)\n",
    "points2 = np.array(points2)\n",
    "\n",
    "# Convert image to floating point in the range 0 to 1\n",
    "im1 = np.float32(im1)/255.0\n",
    "im2 = np.float32(im2)/255.0"
   ]
  },
  {
   "cell_type": "code",
   "execution_count": 11,
   "metadata": {},
   "outputs": [],
   "source": [
    "# Dimensions of output image\n",
    "h = 600\n",
    "w = 600\n",
    "\n",
    "# Normalize image to output coordinates.\n",
    "imNorm1, points1 = fbc.normalizeImagesAndLandmarks((h, w), \n",
    "                                                  im1, points1)\n",
    "imNorm2, points2 = fbc.normalizeImagesAndLandmarks((h, w), \n",
    "                                                  im2, points2)"
   ]
  },
  {
   "cell_type": "code",
   "execution_count": 12,
   "metadata": {},
   "outputs": [],
   "source": [
    "# Calculate average points. Will be used for Delaunay triangulation.\n",
    "pointsAvg = (points1 + points2)/2.0\n",
    "\n",
    "# 8 Boundary points for Delaunay Triangulation\n",
    "boundaryPoints = fbc.getEightBoundaryPoints(h, w)\n",
    "points1 = np.concatenate((points1, boundaryPoints), axis=0)\n",
    "points2 = np.concatenate((points2, boundaryPoints), axis=0)\n",
    "pointsAvg = np.concatenate((pointsAvg, boundaryPoints), axis=0)\n",
    "\n",
    "# Calculate Delaunay triangulation.\n",
    "rect = (0, 0, w, h)\n",
    "dt = fbc.calculateDelaunayTriangles(rect, pointsAvg)"
   ]
  },
  {
   "cell_type": "code",
   "execution_count": 13,
   "metadata": {},
   "outputs": [
    {
     "name": "stdout",
     "output_type": "stream",
     "text": [
      "76\n",
      "76\n",
      "76\n"
     ]
    }
   ],
   "source": [
    "print(len(points1))\n",
    "print(len(points2))\n",
    "print(len(pointsAvg))"
   ]
  },
  {
   "cell_type": "code",
   "execution_count": null,
   "metadata": {},
   "outputs": [],
   "source": [
    "# Start animation.\n",
    "alpha = 0\n",
    "increaseAlpha = True\n",
    "\n",
    "while True:\n",
    "    # Compute landmark points based on morphing parameter alpha\n",
    "    pointsMorph = (1 - alpha) * points1 + alpha * points2\n",
    "\n",
    "    # Warp images such that normalized points line up \n",
    "    # with morphed points.\n",
    "    imOut1 = fbc.warpImage(imNorm1, points1, pointsMorph.tolist(), dt)\n",
    "    imOut2 = fbc.warpImage(imNorm2, points2, pointsMorph.tolist(), dt)\n",
    "\n",
    "    # Blend warped images based on morphing parameter alpha\n",
    "    imMorph = (1 - alpha) * imOut1 + alpha * imOut2\n",
    "    \n",
    "    # Keep animating by ensuring alpha stays between 0 and 1.\n",
    "    if (alpha <= 0 and not increaseAlpha):\n",
    "        increaseAlpha = True\n",
    "    if (alpha >= 1 and increaseAlpha):\n",
    "        break\n",
    "        increaseAlpha = False\n",
    "\n",
    "    if increaseAlpha:\n",
    "        alpha += 0.075\n",
    "    else:\n",
    "        alpha -= 0.075\n",
    "\n",
    "    plt.imshow(imMorph[:,:,::-1])\n",
    "    plt.show()"
   ]
  },
  {
   "cell_type": "code",
   "execution_count": null,
   "metadata": {},
   "outputs": [],
   "source": []
  }
 ],
 "metadata": {
  "kernelspec": {
   "display_name": "Python 3",
   "language": "python",
   "name": "python3"
  }
 },
 "nbformat": 4,
 "nbformat_minor": 2
}
