{
 "cells": [
  {
   "cell_type": "markdown",
   "metadata": {},
   "source": [
    "# <font style=\"color:rgb(50,120,229)\">Motivation </font>\n",
    "In the previous chapter, we used a Multilayer Perceptron on the Fashion MNIST dataset. The performance was pretty good as we achieved 88% accuracy on test data. But there was a problem with that approach. In our training dataset, all images are centered. If the images in the test set are off-center, then the MLP approach fails miserably. We want the network to be Translation-Invariant.\n",
    "\n",
    "Given below is an example of the first test image which corresponds to the `Boot` class. The image is shifted by some amount to the top and bottom. The classifier predicts it correctly for the centered image but fails in the other two cases. To make it work for these images, either we have to train separate MLPs for different locations or we have to make sure that we have all these variations in the training set as well, which I would say is difficult, if not impossible.\n",
    "\n",
    "<img src=\"https://www.learnopencv.com/wp-content/uploads/2019/12/mlp-shift-failure.jpg\" width=\"900\">\n",
    "\n",
    "The Fully connected network tries to learn global features or patterns. It acts as a good classifier.\n",
    "\n",
    "Another major problem with a fully connected classifier is that the number of parameters increases very fast since each node in layer L is connected to a node in layer L-1. So it is not feasible to design very deep networks using an MLP structure alone.\n",
    "\n",
    "Both the above problems are solved to a great extent by using Convolutional Neural Networks."
   ]
  },
  {
   "cell_type": "markdown",
   "metadata": {},
   "source": [
    "## <font style=\"color:rgb(50,120,229)\">Import Libraries </font>"
   ]
  },
  {
   "cell_type": "code",
   "execution_count": 1,
   "metadata": {
    "colab": [],
    "colab_type": "code",
    "collapsed": true,
    "id": "YCD-5STuiduq"
   },
   "outputs": [],
   "source": [
    "import numpy as np\n",
    "import matplotlib.pyplot as plt\n",
    "%matplotlib inline\n",
    "from tensorflow.keras.models import Sequential\n",
    "from tensorflow.keras.layers import Dense, Conv2D, MaxPooling2D, Dropout, Flatten"
   ]
  },
  {
   "cell_type": "markdown",
   "metadata": {
    "colab_type": "text",
    "id": "u1bQVWr_iduz"
   },
   "source": [
    "## <font style=\"color:rgb(50,120,229)\">Import the Data</font>\n",
    "We will use the fashion MNIST load_data function to load it into memory"
   ]
  },
  {
   "cell_type": "code",
   "execution_count": 2,
   "metadata": {
    "colab": {
     "base_uri": "https://localhost:8080/",
     "height": 51
    },
    "colab_type": "code",
    "collapsed": true,
    "id": "Dm8L21GDidu0",
    "outputId": "2a34083f-5024-4d2f-f439-827566ad1a7b"
   },
   "outputs": [],
   "source": [
    "from tensorflow.keras.datasets import fashion_mnist\n",
    "(train_images, train_labels), (test_images, test_labels) = fashion_mnist.load_data()"
   ]
  },
  {
   "cell_type": "code",
   "execution_count": 3,
   "metadata": {
    "colab": {
     "base_uri": "https://localhost:8080/",
     "height": 51
    },
    "colab_type": "code",
    "collapsed": true,
    "id": "Dm8L21GDidu0",
    "outputId": "2a34083f-5024-4d2f-f439-827566ad1a7b"
   },
   "outputs": [],
   "source": [
    "labelMap = [\"T-shirt/top\",\"Trouser\",\"Pullover\",\"Dress\",\"Coat\",\"Sandal\",\"Shirt\",\"Sneaker\",\"Bag\",\"Ankle boot\"]"
   ]
  },
  {
   "cell_type": "markdown",
   "metadata": {
    "colab_type": "text",
    "id": "Da07asulidu4"
   },
   "source": [
    "## <font style=\"color:rgb(50,120,229)\">Explore the Data</font>\n",
    "Check out the number of images in training and test data and also the number of classes and some sample images"
   ]
  },
  {
   "cell_type": "code",
   "execution_count": 4,
   "metadata": {
    "colab": [],
    "colab_type": "code",
    "collapsed": true,
    "id": "h-gkF7AHidu5"
   },
   "outputs": [],
   "source": [
    "from tensorflow.keras.utils import to_categorical"
   ]
  },
  {
   "cell_type": "code",
   "execution_count": 5,
   "metadata": {
    "colab": {
     "base_uri": "https://localhost:8080/",
     "height": 250
    },
    "colab_type": "code",
    "id": "58-5ZsIxidu9",
    "outputId": "131fd368-261b-4c92-b716-eef18c3f31fb"
   },
   "outputs": [
    {
     "name": "stdout",
     "output_type": "stream",
     "text": [
      "Training data shape :  (60000, 28, 28) (60000,)\n",
      "Testing data shape :  (10000, 28, 28) (10000,)\n",
      "Total number of outputs :  10\n",
      "Output classes :  [0 1 2 3 4 5 6 7 8 9]\n"
     ]
    },
    {
     "data": {
      "text/plain": [
       "Text(0.5, 1.0, 'Ground Truth : 9')"
      ]
     },
     "execution_count": 5,
     "metadata": {},
     "output_type": "execute_result"
    },
    {
     "data": {
      "image/png": "[encoded data removed]",
      "text/plain": [
       "<Figure size 720x360 with 2 Axes>"
      ]
     },
     "metadata": {
      "needs_background": "light"
     },
     "output_type": "display_data"
    }
   ],
   "source": [
    "print('Training data shape : ', train_images.shape, train_labels.shape)\n",
    "\n",
    "print('Testing data shape : ', test_images.shape, test_labels.shape)\n",
    "\n",
    "# Find the unique numbers from the train labels\n",
    "classes = np.unique(train_labels)\n",
    "nClasses = len(classes)\n",
    "print('Total number of outputs : ', nClasses)\n",
    "print('Output classes : ', classes)\n",
    "\n",
    "plt.figure(figsize=[10,5])\n",
    "\n",
    "# Display the first image in training data\n",
    "plt.subplot(121)\n",
    "plt.imshow(train_images[0,:,:])\n",
    "plt.title(\"Ground Truth : {}\".format(train_labels[0]))\n",
    "\n",
    "# Display the first image in testing data\n",
    "plt.subplot(122)\n",
    "plt.imshow(test_images[0,:,:])\n",
    "plt.title(\"Ground Truth : {}\".format(test_labels[0]))\n"
   ]
  },
  {
   "cell_type": "markdown",
   "metadata": {
    "colab_type": "text",
    "id": "4O1ymTkOidvA"
   },
   "source": [
    "## <font style=\"color:rgb(50,120,229)\">Preprocess the Data</font>\n",
    "Perform normalization of data (i.e. convert the images to float and normalize the intensity values to lie between 0-1 and convert the labels to categorical variables to be used in Keras."
   ]
  },
  {
   "cell_type": "code",
   "execution_count": 6,
   "metadata": {
    "colab": [],
    "colab_type": "code",
    "collapsed": true,
    "id": "P--Rs6w-idvB"
   },
   "outputs": [],
   "source": [
    "# Find the shape of input images and create the variable input_shape\n",
    "nDims = 1\n",
    "nRows,nCols = train_images.shape[1:]\n",
    "train_data = train_images.reshape(train_images.shape[0], nRows, nCols,nDims)\n",
    "test_data = test_images.reshape(test_images.shape[0], nRows, nCols,nDims)\n",
    "input_shape = (nRows, nCols,nDims)\n",
    "\n",
    "# Change to float datatype\n",
    "train_data = train_data.astype('float32')\n",
    "test_data = test_data.astype('float32')\n",
    "\n",
    "# Scale the data to lie between 0 to 1\n",
    "train_data /= 255\n",
    "test_data /= 255\n",
    "\n",
    "# Change the labels from integer to categorical data\n",
    "train_labels_one_hot = to_categorical(train_labels)\n",
    "test_labels_one_hot = to_categorical(test_labels)"
   ]
  },
  {
   "cell_type": "code",
   "execution_count": 7,
   "metadata": {
    "colab": {
     "base_uri": "https://localhost:8080/",
     "height": 51
    },
    "colab_type": "code",
    "id": "9zJL58gUidvF",
    "outputId": "84ff66cc-d8e2-4e72-eca8-2a504729ea55"
   },
   "outputs": [
    {
     "name": "stdout",
     "output_type": "stream",
     "text": [
      "Original label 0 :  9\n",
      "After conversion to categorical ( one-hot ) :  [0. 0. 0. 0. 0. 0. 0. 0. 0. 1.]\n"
     ]
    }
   ],
   "source": [
    "# Display the change for category label using one-hot encoding\n",
    "print('Original label 0 : ', train_labels[0])\n",
    "print('After conversion to categorical ( one-hot ) : ', train_labels_one_hot[0])"
   ]
  },
  {
   "cell_type": "markdown",
   "metadata": {
    "colab_type": "text",
    "id": "8aMXugtIidvI"
   },
   "source": [
    "## <font style=\"color:rgb(50,120,229)\">Define the Model</font>\n",
    "For implementing a CNN, we will stack up Convolutional Layers, followed by Max Pooling layers. We will also include Dropout to avoid overfitting. \n",
    "\n",
    "Finally, we will add a fully connected ( Dense ) layer followed by a softmax layer. Given below is the model structure.\n",
    "\n",
    "We use 6 convolutional layers and 1 fully-connected layer. \n",
    "- The first 2 convolutional layers have 32 filters / kernels with a window size of 3×3. \n",
    "- The remaining conv layers have 64 filters. \n",
    "- We also add a max pooling layer with window size 2×2 after each pair of conv layer. \n",
    "- We add a dropout layer with a dropout ratio of 0.25 after every pooling layer. \n",
    "- In the final line, we add the dense layer which performs the classification among 10 classes using a softmax layer."
   ]
  },
  {
   "cell_type": "code",
   "execution_count": 8,
   "metadata": {
    "colab": [],
    "colab_type": "code",
    "collapsed": true,
    "id": "vqNkKKGNidvJ"
   },
   "outputs": [],
   "source": [
    "def createModel():\n",
    "    model = Sequential()\n",
    "    # The first two layers with 32 filters of window size 3x3\n",
    "    model.add(Conv2D(32, (3, 3), padding='same', activation='relu', input_shape=input_shape))\n",
    "    model.add(Conv2D(32, (3, 3), activation='relu'))\n",
    "    model.add(MaxPooling2D(pool_size=(2, 2)))\n",
    "    model.add(Dropout(0.25))\n",
    "\n",
    "    model.add(Conv2D(64, (3, 3), padding='same', activation='relu'))\n",
    "    model.add(Conv2D(64, (3, 3), activation='relu'))\n",
    "    model.add(MaxPooling2D(pool_size=(2, 2)))\n",
    "    model.add(Dropout(0.25))\n",
    "\n",
    "    model.add(Conv2D(64, (3, 3), padding='same', activation='relu'))\n",
    "    model.add(Conv2D(64, (3, 3), activation='relu'))\n",
    "    model.add(MaxPooling2D(pool_size=(2, 2)))\n",
    "    model.add(Dropout(0.25))\n",
    "\n",
    "    model.add(Flatten())\n",
    "    model.add(Dense(512, activation='relu'))\n",
    "    model.add(Dropout(0.5))\n",
    "    model.add(Dense(nClasses, activation='softmax'))\n",
    "    \n",
    "    return model"
   ]
  },
  {
   "cell_type": "markdown",
   "metadata": {
    "colab_type": "text",
    "id": "txxZ6d7bidvM"
   },
   "source": [
    "## <font style=\"color:rgb(50,120,229)\">Train the model</font>\n",
    "We will employ the same Keras workflow that we learnt in the previous section. We create the model and use the `compile` and `fit` methods to train the network.\n",
    "\n",
    "If we check the model summary we can see the shapes of each layer.\n",
    "\n",
    "It shows that since we have used padding in the first layer, the output shape is same as the input ( 32×32 ). But the second conv layer shrinks by 2 pixels in both dimensions. Also, the output size after pooling layer decreases by half since we have used a stride of 2 and a window size of 2×2. The final droupout layer has an output of 2x2x64. This has to be converted to a single array. This is done by the flatten layer which converts the 3D array into a 1D array of size 2x2x64 = 256. The final layer has 10 nodes since there are 10 classes.\n",
    "\n",
    "Since it is a 10 class classification problem, we will use a categorical cross entropy loss and use RMSProp optimizer to train the network. We will run it for 20 epochs."
   ]
  },
  {
   "cell_type": "code",
   "execution_count": 9,
   "metadata": {
    "colab": {
     "base_uri": "https://localhost:8080/",
     "height": 1000
    },
    "colab_type": "code",
    "id": "s0fYm6knidvQ",
    "outputId": "c9b26e0c-1198-41f3-94cd-eb8d9de3aa08"
   },
   "outputs": [
    {
     "name": "stdout",
     "output_type": "stream",
     "text": [
      "Model: \"sequential\"\n",
      "_________________________________________________________________\n",
      "Layer (type)                 Output Shape              Param #   \n",
      "=================================================================\n",
      "conv2d (Conv2D)              (None, 28, 28, 32)        320       \n",
      "_________________________________________________________________\n",
      "conv2d_1 (Conv2D)            (None, 26, 26, 32)        9248      \n",
      "_________________________________________________________________\n",
      "max_pooling2d (MaxPooling2D) (None, 13, 13, 32)        0         \n",
      "_________________________________________________________________\n",
      "dropout (Dropout)            (None, 13, 13, 32)        0         \n",
      "_________________________________________________________________\n",
      "conv2d_2 (Conv2D)            (None, 13, 13, 64)        18496     \n",
      "_________________________________________________________________\n",
      "conv2d_3 (Conv2D)            (None, 11, 11, 64)        36928     \n",
      "_________________________________________________________________\n",
      "max_pooling2d_1 (MaxPooling2 (None, 5, 5, 64)          0         \n",
      "_________________________________________________________________\n",
      "dropout_1 (Dropout)          (None, 5, 5, 64)          0         \n",
      "_________________________________________________________________\n",
      "conv2d_4 (Conv2D)            (None, 5, 5, 64)          36928     \n",
      "_________________________________________________________________\n",
      "conv2d_5 (Conv2D)            (None, 3, 3, 64)          36928     \n",
      "_________________________________________________________________\n",
      "max_pooling2d_2 (MaxPooling2 (None, 1, 1, 64)          0         \n",
      "_________________________________________________________________\n",
      "dropout_2 (Dropout)          (None, 1, 1, 64)          0         \n",
      "_________________________________________________________________\n",
      "flatten (Flatten)            (None, 64)                0         \n",
      "_________________________________________________________________\n",
      "dense (Dense)                (None, 512)               33280     \n",
      "_________________________________________________________________\n",
      "dropout_3 (Dropout)          (None, 512)               0         \n",
      "_________________________________________________________________\n",
      "dense_1 (Dense)              (None, 10)                5130      \n",
      "=================================================================\n",
      "Total params: 177,258\n",
      "Trainable params: 177,258\n",
      "Non-trainable params: 0\n",
      "_________________________________________________________________\n"
     ]
    }
   ],
   "source": [
    "model1 = createModel()\n",
    "batch_size = 256\n",
    "epochs = 20\n",
    "model1.compile(optimizer='rmsprop', loss='categorical_crossentropy', metrics=['accuracy'])\n",
    "\n",
    "model1.summary()"
   ]
  },
  {
   "cell_type": "code",
   "execution_count": 10,
   "metadata": {
    "colab": {
     "base_uri": "https://localhost:8080/",
     "height": 1000
    },
    "colab_type": "code",
    "id": "s0fYm6knidvQ",
    "outputId": "c9b26e0c-1198-41f3-94cd-eb8d9de3aa08",
    "scrolled": true
   },
   "outputs": [
    {
     "name": "stdout",
     "output_type": "stream",
     "text": [
      "Train on 60000 samples, validate on 10000 samples\n",
      "Epoch 1/20\n",
      "60000/60000 [==============================] - 43s 712us/sample - loss: 0.9351 - accuracy: 0.6424 - val_loss: 0.5806 - val_accuracy: 0.7685\n",
      "Epoch 2/20\n",
      "60000/60000 [==============================] - 41s 691us/sample - loss: 0.5269 - accuracy: 0.8019 - val_loss: 0.5359 - val_accuracy: 0.8076\n",
      "Epoch 3/20\n",
      "60000/60000 [==============================] - 41s 689us/sample - loss: 0.4226 - accuracy: 0.8460 - val_loss: 0.3797 - val_accuracy: 0.8584\n",
      "Epoch 4/20\n",
      "60000/60000 [==============================] - 41s 689us/sample - loss: 0.3654 - accuracy: 0.8665 - val_loss: 0.3887 - val_accuracy: 0.8491\n",
      "Epoch 5/20\n",
      "60000/60000 [==============================] - 41s 690us/sample - loss: 0.3247 - accuracy: 0.8823 - val_loss: 0.3015 - val_accuracy: 0.8920\n",
      "Epoch 6/20\n",
      "60000/60000 [==============================] - 41s 686us/sample - loss: 0.3024 - accuracy: 0.8916 - val_loss: 0.2781 - val_accuracy: 0.9000\n",
      "Epoch 7/20\n",
      "60000/60000 [==============================] - 41s 689us/sample - loss: 0.2827 - accuracy: 0.8984 - val_loss: 0.2658 - val_accuracy: 0.9046\n",
      "Epoch 8/20\n",
      "60000/60000 [==============================] - 41s 689us/sample - loss: 0.2671 - accuracy: 0.9039 - val_loss: 0.2744 - val_accuracy: 0.9010\n",
      "Epoch 9/20\n",
      "60000/60000 [==============================] - 41s 688us/sample - loss: 0.2578 - accuracy: 0.9068 - val_loss: 0.2701 - val_accuracy: 0.9003\n",
      "Epoch 10/20\n",
      "60000/60000 [==============================] - 41s 690us/sample - loss: 0.2459 - accuracy: 0.9119 - val_loss: 0.2587 - val_accuracy: 0.9056\n",
      "Epoch 11/20\n",
      "60000/60000 [==============================] - 41s 690us/sample - loss: 0.2380 - accuracy: 0.9139 - val_loss: 0.2527 - val_accuracy: 0.9112\n",
      "Epoch 12/20\n",
      "60000/60000 [==============================] - 41s 690us/sample - loss: 0.2322 - accuracy: 0.9166 - val_loss: 0.2380 - val_accuracy: 0.9160\n",
      "Epoch 13/20\n",
      "60000/60000 [==============================] - 41s 691us/sample - loss: 0.2245 - accuracy: 0.9195 - val_loss: 0.2324 - val_accuracy: 0.9158\n",
      "Epoch 14/20\n",
      "60000/60000 [==============================] - 41s 691us/sample - loss: 0.2184 - accuracy: 0.9216 - val_loss: 0.2352 - val_accuracy: 0.9183\n",
      "Epoch 15/20\n",
      "60000/60000 [==============================] - 41s 691us/sample - loss: 0.2116 - accuracy: 0.9243 - val_loss: 0.2283 - val_accuracy: 0.9184\n",
      "Epoch 16/20\n",
      "60000/60000 [==============================] - 41s 689us/sample - loss: 0.2082 - accuracy: 0.9249 - val_loss: 0.2489 - val_accuracy: 0.9120\n",
      "Epoch 17/20\n",
      "60000/60000 [==============================] - 41s 690us/sample - loss: 0.2027 - accuracy: 0.9269 - val_loss: 0.2466 - val_accuracy: 0.9116\n",
      "Epoch 18/20\n",
      "60000/60000 [==============================] - 41s 689us/sample - loss: 0.2001 - accuracy: 0.9277 - val_loss: 0.2323 - val_accuracy: 0.9173\n",
      "Epoch 19/20\n",
      "60000/60000 [==============================] - 41s 690us/sample - loss: 0.1995 - accuracy: 0.9285 - val_loss: 0.2199 - val_accuracy: 0.9241\n",
      "Epoch 20/20\n",
      "60000/60000 [==============================] - 41s 689us/sample - loss: 0.1917 - accuracy: 0.9301 - val_loss: 0.2189 - val_accuracy: 0.9231\n"
     ]
    }
   ],
   "source": [
    "history = model1.fit(train_data, train_labels_one_hot, batch_size=batch_size, epochs=epochs, verbose=1, \n",
    "                   validation_data=(test_data, test_labels_one_hot))\n",
    "# test_loss,test_accuracy = model1.evaluate(test_data, test_labels_one_hot)"
   ]
  },
  {
   "cell_type": "markdown",
   "metadata": {
    "colab_type": "text",
    "id": "tznmQGQ5idvS"
   },
   "source": [
    "## <font style=\"color:rgb(50,120,229)\">Check the loss and accuracy curves</font>\n",
    "We use the history method while training to store the accuracy and loss values over the iterations. We plot the values to see how the network accuracy and loss changed while training."
   ]
  },
  {
   "cell_type": "code",
   "execution_count": 11,
   "metadata": {
    "colab": {
     "base_uri": "https://localhost:8080/",
     "height": 428
    },
    "colab_type": "code",
    "id": "GYkclcfJidvT",
    "outputId": "f8494580-e18f-4f1b-a8f3-21e3540a56a8"
   },
   "outputs": [
    {
     "data": {
      "text/plain": [
       "Text(0.5, 1.0, 'Loss Curves')"
      ]
     },
     "execution_count": 11,
     "metadata": {},
     "output_type": "execute_result"
    },
    {
     "data": {
      "image/png": "[encoded data removed]",
      "text/plain": [
       "<Figure size 576x432 with 1 Axes>"
      ]
     },
     "metadata": {
      "needs_background": "light"
     },
     "output_type": "display_data"
    }
   ],
   "source": [
    "plt.figure(figsize=[8,6])\n",
    "plt.plot(history.history['loss'],'r',linewidth=3.0)\n",
    "plt.plot(history.history['val_loss'],'b',linewidth=3.0)\n",
    "plt.legend(['Training loss', 'Validation Loss'],fontsize=18)\n",
    "plt.xlabel('Epochs ',fontsize=16)\n",
    "plt.ylabel('Loss',fontsize=16)\n",
    "plt.title('Loss Curves',fontsize=16)"
   ]
  },
  {
   "cell_type": "code",
   "execution_count": 12,
   "metadata": {
    "colab": {
     "base_uri": "https://localhost:8080/",
     "height": 428
    },
    "colab_type": "code",
    "id": "kjMuD6pmidvV",
    "outputId": "3495f2a8-db92-44f6-92cb-25105a1ff09f"
   },
   "outputs": [
    {
     "data": {
      "text/plain": [
       "Text(0.5, 1.0, 'Accuracy Curves')"
      ]
     },
     "execution_count": 12,
     "metadata": {},
     "output_type": "execute_result"
    },
    {
     "data": {
      "image/png": "[encoded data removed]",
      "text/plain": [
       "<Figure size 576x432 with 1 Axes>"
      ]
     },
     "metadata": {
      "needs_background": "light"
     },
     "output_type": "display_data"
    }
   ],
   "source": [
    "plt.figure(figsize=[8,6])\n",
    "plt.plot(history.history['accuracy'],'r',linewidth=3.0)\n",
    "plt.plot(history.history['val_accuracy'],'b',linewidth=3.0)\n",
    "plt.legend(['Training Accuracy', 'Validation Accuracy'],fontsize=18)\n",
    "plt.xlabel('Epochs ',fontsize=16)\n",
    "plt.ylabel('Accuracy',fontsize=16)\n",
    "plt.title('Accuracy Curves',fontsize=16)\n"
   ]
  },
  {
   "cell_type": "markdown",
   "metadata": {},
   "source": [
    "From the above curves, we can see that there is a considerable difference between the training and validation loss. This indicates that the network has tried to memorize the training data and thus, is able to get better accuracy on it. This is a sign of Overfitting. But we have already used Dropout in the network, then why is it still overfitting. We will see if we can further reduce overfitting using something else."
   ]
  },
  {
   "cell_type": "markdown",
   "metadata": {},
   "source": [
    "## <font style=\"color:rgb(50,120,229)\">Inference</font>\n",
    "Now that the model has trained and we are getting a decent accuracy on the test set, we should check the results visually too. \n",
    "\n",
    "Let us check what output we got for the first test image."
   ]
  },
  {
   "cell_type": "code",
   "execution_count": 13,
   "metadata": {},
   "outputs": [
    {
     "data": {
      "image/png": "[encoded data removed]",
      "text/plain": [
       "<Figure size 432x288 with 1 Axes>"
      ]
     },
     "metadata": {
      "needs_background": "light"
     },
     "output_type": "display_data"
    },
    {
     "name": "stdout",
     "output_type": "stream",
     "text": [
      "Label = 9, Item = Ankle boot\n"
     ]
    }
   ],
   "source": [
    "testSample = test_data[0,:]\n",
    "plt.imshow(testSample.reshape(28,28));plt.show()\n",
    "\n",
    "label = model1.predict_classes(testSample.reshape(1,28,28,nDims))[0]\n",
    "print(\"Label = {}, Item = {}\".format(label,labelMap[label]))"
   ]
  },
  {
   "cell_type": "markdown",
   "metadata": {},
   "source": [
    "### <font style=\"color:rgb(8,133,37)\">Now let us also check the output of the image that is shifted up</font>"
   ]
  },
  {
   "cell_type": "code",
   "execution_count": 14,
   "metadata": {},
   "outputs": [
    {
     "data": {
      "image/png": "[encoded data removed]",
      "text/plain": [
       "<Figure size 432x288 with 1 Axes>"
      ]
     },
     "metadata": {
      "needs_background": "light"
     },
     "output_type": "display_data"
    },
    {
     "name": "stdout",
     "output_type": "stream",
     "text": [
      "Label = 9, Item = Ankle boot\n"
     ]
    }
   ],
   "source": [
    "shiftUp = np.zeros(testSample.shape)\n",
    "shiftUp[1:20,:] = testSample[6:25,:]\n",
    "plt.imshow(shiftUp.reshape(28,28));plt.show()\n",
    "\n",
    "label = model1.predict_classes(shiftUp.reshape(1,28,28,nDims))[0]\n",
    "print(\"Label = {}, Item = {}\".format(label,labelMap[label]))"
   ]
  },
  {
   "cell_type": "markdown",
   "metadata": {},
   "source": [
    "It shows that the output is correct even when the image is shifted up."
   ]
  },
  {
   "cell_type": "markdown",
   "metadata": {},
   "source": [
    "### <font style=\"color:rgb(8,133,37)\">And for the image that is shifted Down?</font>"
   ]
  },
  {
   "cell_type": "code",
   "execution_count": 15,
   "metadata": {},
   "outputs": [
    {
     "data": {
      "image/png": "[encoded data removed]",
      "text/plain": [
       "<Figure size 432x288 with 1 Axes>"
      ]
     },
     "metadata": {
      "needs_background": "light"
     },
     "output_type": "display_data"
    },
    {
     "name": "stdout",
     "output_type": "stream",
     "text": [
      "Label = 9, Item = Ankle boot\n"
     ]
    }
   ],
   "source": [
    "shiftDown = np.zeros(testSample.shape)\n",
    "shiftDown[10:27,:] = testSample[6:23,:]\n",
    "plt.imshow(shiftDown.reshape(28,28));plt.show()\n",
    "\n",
    "label = model1.predict_classes(shiftDown.reshape(1,28,28,nDims))[0]\n",
    "print(\"Label = {}, Item = {}\".format(label,labelMap[label]))"
   ]
  },
  {
   "cell_type": "markdown",
   "metadata": {},
   "source": [
    "### <font style=\"color:rgb(8,133,37)\">Voila! The network is translation invariant now!</font>"
   ]
  },
  {
   "cell_type": "markdown",
   "metadata": {},
   "source": [
    "## <font style=\"color:rgb(50,120,229)\">Exercise </font>\n",
    "1. Use the CIFAR10 dataset instead of Fashion MNIST and see what changes you need to make to the code\n",
    "2. Train it for extended periods and see what changes occur from the curves."
   ]
  },
  {
   "cell_type": "markdown",
   "metadata": {},
   "source": [
    "It looks like there were a lot of parameters to chose from and then training took a long time. We would not want to get tied down with these two problems when we are working on simple problems. Many researchers working in this field very generously open-source their trained models which have been trained on millions of images and for hundreds of hours on many GPUs. We can leverage their models and try to use their trained models as the starting point rather than starting from scratch. We will learn how to do Transfer Learning and Fine-tuning and how to use your own data for training the network in the next week."
   ]
  }
 ],
 "metadata": {
  "accelerator": "GPU",
  "colab": {
   "name": "Image Classification using Convolutional Neural Networks in Keras.ipynb",
   "provenance": []
  },
  "kernelspec": {
   "display_name": "Python 3 [3.6]",
   "language": "python",
   "name": "python3"
  },
  "language_info": {
   "codemirror_mode": {
    "name": "ipython",
    "version": 3
   },
   "file_extension": ".py",
   "mimetype": "text/x-python",
   "name": "python",
   "nbconvert_exporter": "python",
   "pygments_lexer": "ipython3",
   "version": "3.6.4"
  }
 },
 "nbformat": 4,
 "nbformat_minor": 1
}
