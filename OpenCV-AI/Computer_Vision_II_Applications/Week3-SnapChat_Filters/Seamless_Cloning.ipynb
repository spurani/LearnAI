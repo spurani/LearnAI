{
    "cells": [
        {
            "cell_type": "markdown",
            "metadata": {},
            "source": [
                "# <font style = \"color:rgb(50,120,229)\">Seamless Cloning<\/font>\n",
                "\n",
                "| <img src=\"https:\/\/www.learnopencv.com\/wp-content\/uploads\/2015\/01\/seamless-cloning-example.jpg\" alt=\" Seamless Cloning Example\" width=\"600\" height=\"600\"\/> |\n",
                "| --- |\n",
                "| <center>Figure 1 : Seamless Cloning Example : An airplane cloned into the picture of an evening sky.<\/center> |\n",
                "\n",
                "We had seen in a previous section, how you can use arithmetic and bitwise operations to blend one image on another. It is difficult to get good results when there is a huge color difference between the two images. There are more advanced methods which help perform this kind of blending which can be useful in many applications which require you to blend images and make them look natural and real.\n",
                "\n",
                "The above image was created using a scene of a sky and that of an airplane.  If I had simply overlaid the airplane image on top of the sky image, the result would look ridiculous (See Figure 2).\n",
                "\n",
                "| <img src=\"https:\/\/www.learnopencv.com\/wp-content\/uploads\/2015\/02\/sky-with-plane.jpg\" alt=\"Sky with plane overlaid.\" width=\"600\" height=\"600\"\/> |\n",
                "| --- |\n",
                "| <center>Figure 2 : Sky with plane overlaid.<\/center> |\n",
                "\n",
                "Now of course nobody in their right mind would do a composition like that. You would obviously mask the image out carefully, and perhaps after spending half a day in Photoshop get an image that looks like Figure 3.\n",
                "\n",
                "| <img src=\"https:\/\/www.learnopencv.com\/wp-content\/uploads\/2015\/02\/sky-with-plane-masked.jpg\" alt=\"Sky with plane overlaid.\" width=\"600\" height=\"600\"\/> |\n",
                "| --- |\n",
                "| <center>Figure 3 : Sky image with airplane overlaid with careful masking.<\/center> |"
            ]
        },
        {
            "cell_type": "markdown",
            "metadata": {},
            "source": [
                "If you are an artist you would spend another half day and carefully adjust the lighting on the airplane to the lighting of the sky image and create a beautiful composition.\n",
                "\n",
                "\n",
                "Wouldn\u2019t it be cool if you could make a very rough mask around the airplane, and yet create a beautiful composition that looks like Figure 1 ? Let's see one such method : "
            ]
        },
        {
            "cell_type": "markdown",
            "metadata": {},
            "source": [
                "### <font style=\"color:rgb(8,133,37)\">Perform gradient domain **Poisson blending**<\/font>\n",
                "\n",
                "1. Find the x and y gradients of the source and destination images\n",
                "2. Copy the gradients from source images to the destination image\n",
                "3. Integration in the gradients domain with Dirichlet boundary conditions\n",
                "\n",
                "What if you did it in just 5 lines of code ? Now that won\u2019t just be cool, it would be seriously badass!\n",
                "\n",
                "Use **cv2.seamlessClone** - does all the above for you! \n",
                "\n"
            ]
        },
        {
            "cell_type": "markdown",
            "metadata": {},
            "source": [
                "# <font style = \"color:rgb(50,120,229)\">Seamless Cloning Example<\/font>\n",
                "    \n",
                "### <font style = \"color:rgb(8,133,37)\">Function Syntax<\/font>\n",
                "    \n",
                "A quick look at the usage first\n",
                "\n",
                "```python\n",
                "output = cv2.seamlessClone(src, dst, mask, center, flags)\n",
                "```\n",
                "\n",
                "Where,\n",
                "\n",
                "- **`src`** - Source image that will be cloned into the destination image. In our example it is the airplane.\n",
                "- **`dst`** - Destination image into which the source image will be cloned. In our example it is the sky image.\n",
                "- **`mask`** - A rough mask around the object you want to clone. This should be the size of the source image. Set it to an all white image if you are lazy!\n",
                "- **`center`** - Location of the center of the source image in the destination image.\n",
                "- **`flags`** - The two flags that currently work are NORMAL_CLONE and MIXED_CLONE. I have included an example to show the difference.\n",
                "- **`output`** - Output \/ result image."
            ]
        },
        {
            "cell_type": "markdown",
            "metadata": {},
            "source": [
                "Now let\u2019s look at the code that I used to generate the images above.\n",
                "\n"
            ]
        },
        {
            "cell_type": "code",
            "execution_count": 1,
            "metadata": {},
            "outputs": [],
            "source": [
                "# Standard imports\n",
                "import cv2\n",
                "import numpy as np \n",
                "from dataPath import DATA_PATH\n",
                "import matplotlib.pyplot as plt\n",
                "%matplotlib inline"
            ]
        },
        {
            "cell_type": "code",
            "execution_count": 2,
            "metadata": {},
            "outputs": [],
            "source": [
                "import matplotlib\n",
                "matplotlib.rcParams['figure.figsize'] = (10.0, 10.0)\n",
                "matplotlib.rcParams['image.cmap'] = 'gray'"
            ]
        },
        {
            "cell_type": "code",
            "execution_count": 3,
            "metadata": {},
            "outputs": [],
            "source": [
                "# Read images\n",
                "src = cv2.imread(DATA_PATH + \"images\/airplane.jpg\")\n",
                "dst = cv2.imread(DATA_PATH + \"images\/sky.jpg\")"
            ]
        },
        {
            "cell_type": "code",
            "execution_count": 19,
            "metadata": {},
            "outputs": [],
            "source": [
                "# Create a rough mask around the airplane.\n",
                "src_mask = np.zeros(src.shape, src.dtype)\n",
                "poly = np.array([ [4,80], [30,54], [151,63], [254,37], [298,90], [272,134], [43,122] ], np.int32)\n",
                "src_mask = cv2.fillPoly(src_mask, [poly], (255, 255, 255))"
            ]
        },
        {
            "cell_type": "code",
            "execution_count": 5,
            "metadata": {},
            "outputs": [],
            "source": [
                "# This is where the CENTER of the airplane will be placed\n",
                "center = (800,100)"
            ]
        },
        {
            "cell_type": "code",
            "execution_count": 10,
            "metadata": {},
            "outputs": [],
            "source": [
                "# Clone seamlessly.\n",
                "output = cv2.seamlessClone(src, dst, src_mask, center, cv2.NORMAL_CLONE)"
            ]
        },
        {
            "cell_type": "code",
            "execution_count": 11,
            "metadata": {},
            "outputs": [],
            "source": [
                "plt.imshow(output[:,:,::-1])\n",
                "plt.show()"
            ]
        },
        {
            "cell_type": "markdown",
            "metadata": {},
            "source": [
                "In the above example, the cloning type ( `flags` ) I used was `NORMAL_CLONE`. There is another type, `MIXED_CLONE`, that is subtly different from `NORMAL_CLONE`. Let\u2019s see how the two types differ in detail."
            ]
        },
        {
            "cell_type": "markdown",
            "metadata": {},
            "source": [
                "## <font style = \"color:rgb(50,120,229)\">Normal Cloning ( NORMAL_CLONE ) versus Mixed Cloning ( MIXED_CLONE )<\/font>\n",
                "    \n",
                "I have a 5 year old son who gives me \u201cI Love You\u201d tickets if I treat him well. There was a time when kids yearned for their parent\u2019s approval, but these days parents have to do their best to earn \u201cI Love You\u201d tickets. Anyway, back to cloning. I am going to use one of these \u201cI Love You Tickets\u201d in the service of Computer Vision (See Figure 4 ).\n",
                "\n",
                "| <img src=\"https:\/\/www.learnopencv.com\/wp-content\/uploads\/2015\/02\/iloveyouticket.jpg\" alt=\"Input Image\" width=\"600\" height=\"600\"\/> |\n",
                "| --- |\n",
                "| <center>Figure 4: An \u201cI Love You\u201d Ticket.<\/center> |\n",
                "\n",
                "Let\u2019s try to clone this image onto a wooden texture shown in Figure 5. We will be lazy and use a source mask that is all white, and clone the source image right in the center of the wooden texture image.\n",
                "\n",
                "\n",
                "| <img src=\"https:\/\/www.learnopencv.com\/wp-content\/uploads\/2015\/02\/wood-texture.jpg\" alt=\"Input Image\" width=\"600\" height=\"600\"\/> |\n",
                "| --- |\n",
                "| <center>FIgure 5 : Wood Texture<\/center> |"
            ]
        },
        {
            "cell_type": "code",
            "execution_count": 14,
            "metadata": {},
            "outputs": [],
            "source": [
                "# Read images : src image will be cloned into dst\n",
                "im = cv2.imread(DATA_PATH + \"images\/wood-texture.jpg\")\n",
                "obj= cv2.imread(DATA_PATH + \"images\/iloveyouticket.jpg\")"
            ]
        },
        {
            "cell_type": "code",
            "execution_count": 15,
            "metadata": {},
            "outputs": [],
            "source": [
                "# Create an all white mask\n",
                "mask = 255 * np.ones(obj.shape, obj.dtype)"
            ]
        },
        {
            "cell_type": "code",
            "execution_count": 16,
            "metadata": {},
            "outputs": [],
            "source": [
                "# The location of the center of the src in the dst\n",
                "width, height, channels = im.shape\n",
                "center = (height\/\/2, width\/\/2)"
            ]
        },
        {
            "cell_type": "code",
            "execution_count": 17,
            "metadata": {},
            "outputs": [],
            "source": [
                "# Seamlessly clone src into dst and put the results in output\n",
                "normal_clone = cv2.seamlessClone(obj, im, mask, center, cv2.NORMAL_CLONE)\n",
                "mixed_clone = cv2.seamlessClone(obj, im, mask, center, cv2.MIXED_CLONE)"
            ]
        },
        {
            "cell_type": "code",
            "execution_count": 20,
            "metadata": {},
            "outputs": [],
            "source": [
                "plt.figure(figsize=[20,10])\n",
                "plt.subplot(1,2,1)\n",
                "plt.title(\"Normal Clone Result\")\n",
                "plt.imshow(normal_clone[:,:,::-1])\n",
                "plt.subplot(1,2,2)\n",
                "plt.title(\"Mixed Clone Result\")\n",
                "plt.imshow(mixed_clone[:,:,::-1])\n",
                "plt.show()"
            ]
        },
        {
            "cell_type": "markdown",
            "metadata": {},
            "source": [
                "## <font style = \"color:rgb(50,120,229)\">Observations <\/font>\n",
                "    \n",
                "1. If we use Normal Cloning by using the `NORMAL_CLONE` flag, we did not use a good mask and you can see excessive smoothing between the words \u201cI\u201d and \u201cLove\u201d, and between \u201cyou\u201d and \u201cPaa\u201d. Sure we were lazy. We could have created a rough mask and improved the result.  But if you are lazy and smart, you would use Mixed Cloning.\n",
                "1. **In Normal Cloning the texture ( gradient ) of the source image is preserved in the cloned region.**\n",
                "1. In Mixed Cloning, the texture ( gradient ) of the cloned region is determined by a combination of the source and the destination images. \n",
                "1. **Mixed Cloning does not produce smooth regions because it picks the dominant texture ( gradient ) between the source and destination images**. Notice the texture for mixed cloning is no longer smooth between \u201cI\u201d and \u201cLove\u201d, and \u201cyou\u201d and \u201cPaa\u201d. Lazy people cheer!\n"
            ]
        }
    ],
    "metadata": {
        "kernelspec": {
            "display_name": "Python 3",
            "language": "python",
            "name": "python3"
        },
        "language_info": {
            "codemirror_mode": {
                "name": "ipython",
                "version": 3
            },
            "file_extension": ".py",
            "mimetype": "text\/x-python",
            "name": "python",
            "nbconvert_exporter": "python",
            "pygments_lexer": "ipython3",
            "version": "3.7.1"
        }
    },
    "nbformat": 4,
    "nbformat_minor": 2
}