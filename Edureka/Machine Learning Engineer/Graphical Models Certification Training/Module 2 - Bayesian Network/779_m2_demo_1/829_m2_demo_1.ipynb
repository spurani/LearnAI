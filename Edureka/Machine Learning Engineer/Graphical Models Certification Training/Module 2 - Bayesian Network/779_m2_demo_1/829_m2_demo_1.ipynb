{
 "cells": [
  {
   "cell_type": "markdown",
   "metadata": {},
   "source": [
    "# Module 2: Bayesian Network - Demo 1: Late to Office"
   ]
  },
  {
   "cell_type": "code",
   "execution_count": 1,
   "metadata": {
    "collapsed": true
   },
   "outputs": [],
   "source": [
    "#Bayesian Model\n",
    "from pgmpy.models import BayesianModel"
   ]
  },
  {
   "cell_type": "markdown",
   "metadata": {},
   "source": [
    "### Create an empty Bayesian Network and add nodes, edges to it"
   ]
  },
  {
   "cell_type": "code",
   "execution_count": 2,
   "metadata": {
    "collapsed": true
   },
   "outputs": [],
   "source": [
    "# initialize an empty BN or a model with nodes and edges.\n",
    "model = BayesianModel() "
   ]
  },
  {
   "cell_type": "code",
   "execution_count": 3,
   "metadata": {
    "collapsed": true
   },
   "outputs": [],
   "source": [
    "#Add nodes and edges to this network:\n",
    "model.add_nodes_from(['smog', 'traffic'])\n",
    "model.add_edge('smog', 'traffic')\n"
   ]
  },
  {
   "cell_type": "code",
   "execution_count": 4,
   "metadata": {},
   "outputs": [
    {
     "data": {
      "text/plain": [
       "['smog', 'traffic']"
      ]
     },
     "execution_count": 4,
     "metadata": {},
     "output_type": "execute_result"
    }
   ],
   "source": [
    "model.nodes()"
   ]
  },
  {
   "cell_type": "code",
   "execution_count": 5,
   "metadata": {},
   "outputs": [
    {
     "data": {
      "text/plain": [
       "[('smog', 'traffic')]"
      ]
     },
     "execution_count": 5,
     "metadata": {},
     "output_type": "execute_result"
    }
   ],
   "source": [
    "model.edges()"
   ]
  },
  {
   "cell_type": "code",
   "execution_count": 6,
   "metadata": {},
   "outputs": [
    {
     "data": {
      "text/plain": [
       "['smog', 'traffic', 'accident']"
      ]
     },
     "execution_count": 6,
     "metadata": {},
     "output_type": "execute_result"
    }
   ],
   "source": [
    "model.add_edge('accident', 'traffic')\n",
    "model.nodes()"
   ]
  },
  {
   "cell_type": "code",
   "execution_count": 7,
   "metadata": {},
   "outputs": [
    {
     "data": {
      "text/plain": [
       "[('smog', 'traffic'), ('accident', 'traffic')]"
      ]
     },
     "execution_count": 7,
     "metadata": {},
     "output_type": "execute_result"
    }
   ],
   "source": [
    "model.edges()"
   ]
  },
  {
   "cell_type": "markdown",
   "metadata": {},
   "source": [
    "### Define CPD's for all the nodes and add them to the network"
   ]
  },
  {
   "cell_type": "code",
   "execution_count": 8,
   "metadata": {},
   "outputs": [
    {
     "name": "stdout",
     "output_type": "stream",
     "text": [
      "CPD of Smog +--------+-----+\n",
      "| smog_0 | 0.4 |\n",
      "+--------+-----+\n",
      "| smog_1 | 0.6 |\n",
      "+--------+-----+\n",
      "CPD of Accident +------------+-----+\n",
      "| accident_0 | 0.2 |\n",
      "+------------+-----+\n",
      "| accident_1 | 0.8 |\n",
      "+------------+-----+\n",
      "CPD of Traffic Jam +-----------+------------+------------+------------+------------+\n",
      "| smog      | smog_0     | smog_0     | smog_1     | smog_1     |\n",
      "+-----------+------------+------------+------------+------------+\n",
      "| accident  | accident_0 | accident_1 | accident_0 | accident_1 |\n",
      "+-----------+------------+------------+------------+------------+\n",
      "| traffic_0 | 0.9        | 0.6        | 0.7        | 0.1        |\n",
      "+-----------+------------+------------+------------+------------+\n",
      "| traffic_1 | 0.1        | 0.4        | 0.3        | 0.9        |\n",
      "+-----------+------------+------------+------------+------------+\n"
     ]
    }
   ],
   "source": [
    "from pgmpy.factors.discrete import TabularCPD\n",
    "cpd_smog = TabularCPD('smog', 2, [[0.4], [0.6]])\n",
    "cpd_accident = TabularCPD('accident', 2, [[0.2], [0.8]])\n",
    "cpd_traffic = TabularCPD('traffic', 2,\n",
    "                                [[0.9, 0.6, 0.7, 0.1],\n",
    "                                 [0.1, 0.4, 0.3, 0.9]],\n",
    "                                evidence=['smog', 'accident'],\n",
    "                                evidence_card=[2, 2])\n",
    "print(\"CPD of Smog\", cpd_smog, end=\"\\n\")\n",
    "print(\"CPD of Accident\", cpd_accident, end=\"\\n\")\n",
    "print(\"CPD of Traffic Jam\", cpd_traffic, end=\"\\n\")\n"
   ]
  },
  {
   "cell_type": "code",
   "execution_count": 9,
   "metadata": {},
   "outputs": [
    {
     "data": {
      "text/plain": [
       "[<TabularCPD representing P(smog:2) at 0x7f3057b0f908>,\n",
       " <TabularCPD representing P(accident:2) at 0x7f3057b0f8d0>,\n",
       " <TabularCPD representing P(traffic:2 | smog:2, accident:2) at 0x7f3057b0f898>]"
      ]
     },
     "execution_count": 9,
     "metadata": {},
     "output_type": "execute_result"
    }
   ],
   "source": [
    "model.add_cpds(cpd_smog, cpd_accident, cpd_traffic)\n",
    "model.get_cpds()\n"
   ]
  },
  {
   "cell_type": "code",
   "execution_count": 10,
   "metadata": {},
   "outputs": [
    {
     "data": {
      "text/plain": [
       "[<TabularCPD representing P(smog:2) at 0x7f3057b0f908>,\n",
       " <TabularCPD representing P(accident:2) at 0x7f3057b0f8d0>,\n",
       " <TabularCPD representing P(traffic:2 | smog:2, accident:2) at 0x7f3057b0f898>,\n",
       " <TabularCPD representing P(woke_late:2) at 0x7f3057b0f4a8>,\n",
       " <TabularCPD representing P(late_to_office:2 | woke_late:2, traffic:2) at 0x7f3057b0f3c8>]"
      ]
     },
     "execution_count": 10,
     "metadata": {},
     "output_type": "execute_result"
    }
   ],
   "source": [
    "model.add_nodes_from(['woke_late',  \n",
    "                               'late_to_office'])\n",
    "model.add_edges_from(\n",
    "                   [('woke_late', 'late_to_office'),\n",
    "                    ('traffic', 'late_to_office')])\n",
    "cpd_woke_late = TabularCPD('woke_late', 2,\n",
    "                                          [[0.6], [0.4]])\n",
    "cpd_late_to_office = TabularCPD(\n",
    "                               'late_to_office', 2,\n",
    "                               [[0.9, 0.45, 0.8, 0.1],\n",
    "                                [0.1, 0.55, 0.2, 0.9]],\n",
    "                               evidence=['woke_late',\n",
    "                                         'traffic'],evidence_card=[2, 2])\n",
    "model.add_cpds(cpd_woke_late, cpd_late_to_office)\n",
    "model.get_cpds()\n"
   ]
  },
  {
   "cell_type": "markdown",
   "metadata": {},
   "source": [
    "### Model consistency"
   ]
  },
  {
   "cell_type": "code",
   "execution_count": 11,
   "metadata": {},
   "outputs": [
    {
     "data": {
      "text/plain": [
       "True"
      ]
     },
     "execution_count": 11,
     "metadata": {},
     "output_type": "execute_result"
    }
   ],
   "source": [
    "model.check_model()"
   ]
  },
  {
   "cell_type": "markdown",
   "metadata": {},
   "source": [
    "### Local Dependencies"
   ]
  },
  {
   "cell_type": "code",
   "execution_count": 12,
   "metadata": {},
   "outputs": [
    {
     "data": {
      "text/plain": [
       "(traffic _|_ woke_late | accident, smog)"
      ]
     },
     "execution_count": 12,
     "metadata": {},
     "output_type": "execute_result"
    }
   ],
   "source": [
    "\n",
    "model.local_independencies('traffic') \n"
   ]
  },
  {
   "cell_type": "code",
   "execution_count": 13,
   "metadata": {},
   "outputs": [
    {
     "data": {
      "text/plain": [
       "(woke_late _|_ accident, smog, traffic)\n",
       "(traffic _|_ woke_late | accident, smog)\n",
       "(accident _|_ smog, woke_late)\n",
       "(smog _|_ accident, woke_late)\n",
       "(late_to_office _|_ accident, smog | traffic, woke_late)"
      ]
     },
     "execution_count": 13,
     "metadata": {},
     "output_type": "execute_result"
    }
   ],
   "source": [
    "model.local_independencies(['woke_late', 'traffic', 'accident','smog', 'late_to_office'])"
   ]
  },
  {
   "cell_type": "markdown",
   "metadata": {},
   "source": [
    "### Graphical Representation of the Network"
   ]
  },
  {
   "cell_type": "code",
   "execution_count": 14,
   "metadata": {
    "scrolled": true
   },
   "outputs": [
    {
     "data": {
      "image/png": "[encoded data removed]",
      "text/plain": [
       "<matplotlib.figure.Figure at 0x7f3057b0f9b0>"
      ]
     },
     "metadata": {},
     "output_type": "display_data"
    }
   ],
   "source": [
    "import warnings\n",
    "warnings.filterwarnings(\"ignore\")\n",
    "import matplotlib.pyplot as plt\n",
    "import networkx as nx\n",
    "nx.draw_shell(model,with_labels=True)\n",
    "plt.show()\n"
   ]
  }
 ],
 "metadata": {
  "kernelspec": {
   "display_name": "Python 3",
   "language": "python",
   "name": "python3"
  },
  "language_info": {
   "codemirror_mode": {
    "name": "ipython",
    "version": 3
   },
   "file_extension": ".py",
   "mimetype": "text/x-python",
   "name": "python",
   "nbconvert_exporter": "python",
   "pygments_lexer": "ipython3",
   "version": "3.6.3"
  }
 },
 "nbformat": 4,
 "nbformat_minor": 2
}
