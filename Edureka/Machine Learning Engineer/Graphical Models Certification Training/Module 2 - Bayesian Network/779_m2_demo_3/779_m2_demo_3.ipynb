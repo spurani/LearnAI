{
 "cells": [
  {
   "cell_type": "markdown",
   "metadata": {},
   "source": [
    "# Module 2: Bayesian Network - Demo 3: Spam Filtering"
   ]
  },
  {
   "cell_type": "code",
   "execution_count": 1,
   "metadata": {
    "collapsed": true
   },
   "outputs": [],
   "source": [
    "#Import Bayesian Model\n",
    "from pgmpy.models import BayesianModel\n",
    "from pgmpy.factors.discrete import TabularCPD"
   ]
  },
  {
   "cell_type": "markdown",
   "metadata": {},
   "source": [
    "### Defining the model structure by passing a list of edges"
   ]
  },
  {
   "cell_type": "code",
   "execution_count": 2,
   "metadata": {
    "collapsed": true
   },
   "outputs": [],
   "source": [
    "#Defining the model structure. We can define the network by just passing a list of edges.\n",
    "model = BayesianModel([('Special_Character','Spam_Keyword'),\n",
    "                       ('Email_Client','Spam_Keyword'), \n",
    "                       ('Spam_Keyword', 'Spam_Email'),\n",
    "                       ('Email_Client', 'Suspicious_Email_Link')])\n"
   ]
  },
  {
   "cell_type": "code",
   "execution_count": 3,
   "metadata": {},
   "outputs": [
    {
     "data": {
      "text/plain": [
       "['Special_Character',\n",
       " 'Spam_Keyword',\n",
       " 'Email_Client',\n",
       " 'Spam_Email',\n",
       " 'Suspicious_Email_Link']"
      ]
     },
     "execution_count": 3,
     "metadata": {},
     "output_type": "execute_result"
    }
   ],
   "source": [
    "model.nodes()"
   ]
  },
  {
   "cell_type": "code",
   "execution_count": 4,
   "metadata": {},
   "outputs": [
    {
     "data": {
      "text/plain": [
       "[('Special_Character', 'Spam_Keyword'),\n",
       " ('Spam_Keyword', 'Spam_Email'),\n",
       " ('Email_Client', 'Spam_Keyword'),\n",
       " ('Email_Client', 'Suspicious_Email_Link')]"
      ]
     },
     "execution_count": 4,
     "metadata": {},
     "output_type": "execute_result"
    }
   ],
   "source": [
    "model.edges()"
   ]
  },
  {
   "cell_type": "markdown",
   "metadata": {},
   "source": [
    "### Define CPD's for all the nodes and add them to the network"
   ]
  },
  {
   "cell_type": "code",
   "execution_count": 5,
   "metadata": {
    "collapsed": true
   },
   "outputs": [],
   "source": [
    "# Defining individual CPDs\n",
    "cpd_Characters = TabularCPD(variable='Special_Character',variable_card=2,values=[[0.6, 0.4]])\n",
    "cpd_Email_Client = TabularCPD(variable='Email_Client',variable_card=2, values=[[0.7, 0.3]])\n",
    "cpd_Keyword = TabularCPD(variable='Spam_Keyword', \n",
    "                         variable_card=3, \n",
    "                         values=[[0.3, 0.05, 0.9,  0.5],\n",
    "                                 [0.4, 0.25, 0.08, 0.3],\n",
    "                                 [0.3, 0.7,  0.02, 0.2]],\n",
    "                          evidence=['Email_Client', 'Special_Character'],\n",
    "                          evidence_card=[2, 2])\n",
    "cpd_Spam_Email = TabularCPD(variable='Spam_Email', \n",
    "                            variable_card=2, \n",
    "                            values=[[0.1, 0.4, 0.99],\n",
    "                                    [0.9, 0.6, 0.01]],\n",
    "                            evidence=['Spam_Keyword'],\n",
    "                            evidence_card=[3])\n",
    "cpd_Link_Suspicious = TabularCPD(variable='Suspicious_Email_Link', \n",
    "                                 variable_card=2,\n",
    "                                 values=[[0.95, 0.2],\n",
    "                                         [0.05, 0.8]],\n",
    "                                 evidence=['Email_Client'],\n",
    "                                 evidence_card=[2])\n"
   ]
  },
  {
   "cell_type": "code",
   "execution_count": 6,
   "metadata": {},
   "outputs": [
    {
     "data": {
      "text/plain": [
       "[<TabularCPD representing P(Special_Character:2) at 0x7f19f153e2e8>,\n",
       " <TabularCPD representing P(Email_Client:2) at 0x7f1a4406d898>,\n",
       " <TabularCPD representing P(Spam_Keyword:3 | Email_Client:2, Special_Character:2) at 0x7f19f153e358>,\n",
       " <TabularCPD representing P(Spam_Email:2 | Spam_Keyword:3) at 0x7f1a4406d2e8>,\n",
       " <TabularCPD representing P(Suspicious_Email_Link:2 | Email_Client:2) at 0x7f19f153e2b0>]"
      ]
     },
     "execution_count": 6,
     "metadata": {},
     "output_type": "execute_result"
    }
   ],
   "source": [
    "# Associating the CPDs with the network\n",
    "model.add_cpds(cpd_Characters, cpd_Email_Client, cpd_Keyword, cpd_Spam_Email, cpd_Link_Suspicious)\n",
    "model.get_cpds()"
   ]
  },
  {
   "cell_type": "code",
   "execution_count": 7,
   "metadata": {},
   "outputs": [
    {
     "name": "stdout",
     "output_type": "stream",
     "text": [
      "+----------------+-----+\n",
      "| Email_Client_0 | 0.7 |\n",
      "+----------------+-----+\n",
      "| Email_Client_1 | 0.3 |\n",
      "+----------------+-----+\n",
      "+-------------------+---------------------+---------------------+---------------------+---------------------+\n",
      "| Email_Client      | Email_Client_0      | Email_Client_0      | Email_Client_1      | Email_Client_1      |\n",
      "+-------------------+---------------------+---------------------+---------------------+---------------------+\n",
      "| Special_Character | Special_Character_0 | Special_Character_1 | Special_Character_0 | Special_Character_1 |\n",
      "+-------------------+---------------------+---------------------+---------------------+---------------------+\n",
      "| Spam_Keyword_0    | 0.3                 | 0.05                | 0.9                 | 0.5                 |\n",
      "+-------------------+---------------------+---------------------+---------------------+---------------------+\n",
      "| Spam_Keyword_1    | 0.4                 | 0.25                | 0.08                | 0.3                 |\n",
      "+-------------------+---------------------+---------------------+---------------------+---------------------+\n",
      "| Spam_Keyword_2    | 0.3                 | 0.7                 | 0.02                | 0.2                 |\n",
      "+-------------------+---------------------+---------------------+---------------------+---------------------+\n",
      "+--------------+----------------+----------------+----------------+\n",
      "| Spam_Keyword | Spam_Keyword_0 | Spam_Keyword_1 | Spam_Keyword_2 |\n",
      "+--------------+----------------+----------------+----------------+\n",
      "| Spam_Email_0 | 0.1            | 0.4            | 0.99           |\n",
      "+--------------+----------------+----------------+----------------+\n",
      "| Spam_Email_1 | 0.9            | 0.6            | 0.01           |\n",
      "+--------------+----------------+----------------+----------------+\n",
      "+---------------------+-----+\n",
      "| Special_Character_0 | 0.6 |\n",
      "+---------------------+-----+\n",
      "| Special_Character_1 | 0.4 |\n",
      "+---------------------+-----+\n",
      "+-------------------------+----------------+----------------+\n",
      "| Email_Client            | Email_Client_0 | Email_Client_1 |\n",
      "+-------------------------+----------------+----------------+\n",
      "| Suspicious_Email_Link_0 | 0.95           | 0.2            |\n",
      "+-------------------------+----------------+----------------+\n",
      "| Suspicious_Email_Link_1 | 0.05           | 0.8            |\n",
      "+-------------------------+----------------+----------------+\n"
     ]
    }
   ],
   "source": [
    "#Check the cpds for all the nodes\n",
    "print(model.get_cpds('Email_Client'))\n",
    "print(model.get_cpds('Spam_Keyword'))\n",
    "print(model.get_cpds('Spam_Email'))\n",
    "print(model.get_cpds('Special_Character'))\n",
    "print(model.get_cpds('Suspicious_Email_Link'))\n"
   ]
  },
  {
   "cell_type": "markdown",
   "metadata": {},
   "source": [
    "### Cardinality of Node"
   ]
  },
  {
   "cell_type": "code",
   "execution_count": 8,
   "metadata": {},
   "outputs": [
    {
     "data": {
      "text/plain": [
       "3"
      ]
     },
     "execution_count": 8,
     "metadata": {},
     "output_type": "execute_result"
    }
   ],
   "source": [
    "# Cardinality - Number of nodes that a given node is connected with in a network\n",
    "model.get_cardinality('Spam_Keyword')\n"
   ]
  },
  {
   "cell_type": "markdown",
   "metadata": {},
   "source": [
    "### Local Independencies"
   ]
  },
  {
   "cell_type": "code",
   "execution_count": 9,
   "metadata": {},
   "outputs": [
    {
     "data": {
      "text/plain": [
       "(Spam_Keyword _|_ Suspicious_Email_Link | Special_Character, Email_Client)"
      ]
     },
     "execution_count": 9,
     "metadata": {},
     "output_type": "execute_result"
    }
   ],
   "source": [
    "#Getting the local independencies of a variable.\n",
    "model.local_independencies('Spam_Keyword')"
   ]
  },
  {
   "cell_type": "code",
   "execution_count": 10,
   "metadata": {},
   "outputs": [
    {
     "data": {
      "text/plain": [
       "(Special_Character _|_ Suspicious_Email_Link, Email_Client)\n",
       "(Email_Client _|_ Special_Character)\n",
       "(Suspicious_Email_Link _|_ Special_Character, Spam_Email, Spam_Keyword | Email_Client)\n",
       "(Spam_Keyword _|_ Suspicious_Email_Link | Special_Character, Email_Client)\n",
       "(Spam_Email _|_ Special_Character, Suspicious_Email_Link, Email_Client | Spam_Keyword)"
      ]
     },
     "execution_count": 10,
     "metadata": {},
     "output_type": "execute_result"
    }
   ],
   "source": [
    "#Getting all the local independencies in the network.\n",
    "model.local_independencies(['Special_Character','Email_Client', 'Suspicious_Email_Link', 'Spam_Keyword', 'Spam_Email'])"
   ]
  },
  {
   "cell_type": "markdown",
   "metadata": {},
   "source": [
    "### Active trail"
   ]
  },
  {
   "cell_type": "code",
   "execution_count": 11,
   "metadata": {},
   "outputs": [
    {
     "data": {
      "text/plain": [
       "{'Special_Character': {'Spam_Email', 'Spam_Keyword', 'Special_Character'}}"
      ]
     },
     "execution_count": 11,
     "metadata": {},
     "output_type": "execute_result"
    }
   ],
   "source": [
    "#If any change in Node A influences values of Node B then we say that there is an active trail between A and B.\n",
    "model.active_trail_nodes('Special_Character')"
   ]
  },
  {
   "cell_type": "code",
   "execution_count": 12,
   "metadata": {},
   "outputs": [
    {
     "data": {
      "text/plain": [
       "{'Special_Character': {'Spam_Email', 'Spam_Keyword', 'Special_Character'}}"
      ]
     },
     "execution_count": 12,
     "metadata": {},
     "output_type": "execute_result"
    }
   ],
   "source": [
    "model.active_trail_nodes('Special_Character',observed ='Suspicious_Email_Link')"
   ]
  },
  {
   "cell_type": "markdown",
   "metadata": {},
   "source": [
    "### Model consistency"
   ]
  },
  {
   "cell_type": "code",
   "execution_count": 13,
   "metadata": {},
   "outputs": [
    {
     "data": {
      "text/plain": [
       "True"
      ]
     },
     "execution_count": 13,
     "metadata": {},
     "output_type": "execute_result"
    }
   ],
   "source": [
    "model.check_model()"
   ]
  },
  {
   "cell_type": "markdown",
   "metadata": {},
   "source": [
    "### Graphical Representation of network"
   ]
  },
  {
   "cell_type": "code",
   "execution_count": 14,
   "metadata": {},
   "outputs": [
    {
     "data": {
      "image/png": "[encoded data removed]",
      "text/plain": [
       "<matplotlib.figure.Figure at 0x7f19f153e240>"
      ]
     },
     "metadata": {},
     "output_type": "display_data"
    }
   ],
   "source": [
    "import warnings\n",
    "warnings.filterwarnings(\"ignore\")\n",
    "import matplotlib.pyplot as plt\n",
    "import networkx as nx\n",
    "nx.draw_shell(model,with_labels=True)\n",
    "plt.show()"
   ]
  },
  {
   "cell_type": "code",
   "execution_count": null,
   "metadata": {
    "collapsed": true
   },
   "outputs": [],
   "source": []
  }
 ],
 "metadata": {
  "kernelspec": {
   "display_name": "Python 3",
   "language": "python",
   "name": "python3"
  },
  "language_info": {
   "codemirror_mode": {
    "name": "ipython",
    "version": 3
   },
   "file_extension": ".py",
   "mimetype": "text/x-python",
   "name": "python",
   "nbconvert_exporter": "python",
   "pygments_lexer": "ipython3",
   "version": "3.6.3"
  }
 },
 "nbformat": 4,
 "nbformat_minor": 2
}
