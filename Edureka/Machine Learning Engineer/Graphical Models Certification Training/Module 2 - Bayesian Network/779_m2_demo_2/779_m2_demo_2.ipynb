{
 "cells": [
  {
   "cell_type": "markdown",
   "metadata": {},
   "source": [
    "# Module 2: Bayesian Network - Demo 2: Jewellery Campaign Success"
   ]
  },
  {
   "cell_type": "code",
   "execution_count": 1,
   "metadata": {
    "collapsed": true
   },
   "outputs": [],
   "source": [
    "#Import the package\n",
    "from pgmpy.models import BayesianModel"
   ]
  },
  {
   "cell_type": "code",
   "execution_count": 2,
   "metadata": {
    "collapsed": true
   },
   "outputs": [],
   "source": [
    "#Create an empty Bayesian Model\n",
    "model = BayesianModel()"
   ]
  },
  {
   "cell_type": "code",
   "execution_count": 3,
   "metadata": {},
   "outputs": [
    {
     "data": {
      "text/plain": [
       "['Gender', 'Success', 'Age-group']"
      ]
     },
     "execution_count": 3,
     "metadata": {},
     "output_type": "execute_result"
    }
   ],
   "source": [
    "#Add the nodes and edges\n",
    "model.add_nodes_from(['Gender', 'Success'])\n",
    "model.add_edge('Gender', 'Success')\n",
    "model.add_edge('Age-group', 'Success')\n",
    "model.nodes()\n"
   ]
  },
  {
   "cell_type": "code",
   "execution_count": 4,
   "metadata": {},
   "outputs": [
    {
     "data": {
      "text/plain": [
       "[('Gender', 'Success'), ('Age-group', 'Success')]"
      ]
     },
     "execution_count": 4,
     "metadata": {},
     "output_type": "execute_result"
    }
   ],
   "source": [
    "model.edges()\n"
   ]
  },
  {
   "cell_type": "markdown",
   "metadata": {},
   "source": [
    "### Define CPD's for all the nodes and add them to the network"
   ]
  },
  {
   "cell_type": "code",
   "execution_count": 5,
   "metadata": {
    "collapsed": true
   },
   "outputs": [],
   "source": [
    "\n",
    "from pgmpy.factors.discrete import TabularCPD\n",
    "cpd_gender = TabularCPD('Gender', 2, [[0.45], [0.55]])\n",
    "cpd_age_group = TabularCPD('Age-group', 2, [[0.4], [0.6]])\n",
    "model.add_cpds(cpd_gender, cpd_age_group)\n",
    "model.add_node('Marital_status')\n",
    "model.add_edge('Age-group', 'Marital_status')\n"
   ]
  },
  {
   "cell_type": "code",
   "execution_count": 6,
   "metadata": {
    "collapsed": true
   },
   "outputs": [],
   "source": [
    "cpd_marital_status = TabularCPD('Marital_status', 2,\n",
    "                                      [[0.65, 0.15],\n",
    "                                       [0.35, 0.85]],\n",
    "                                      evidence=['Age-group'],\n",
    "                                      evidence_card=[2])\n",
    "model.add_cpds(cpd_marital_status)\n",
    "model.add_edge('Marital_status','Success')\n",
    "model.add_nodes_from(['Business','Employed'])\n",
    "model.add_edges_from([('Business', 'Employed'),\n",
    "                    ('Employed', 'Success')])"
   ]
  },
  {
   "cell_type": "code",
   "execution_count": 7,
   "metadata": {
    "collapsed": true
   },
   "outputs": [],
   "source": [
    "cpd_business = TabularCPD('Business', 2, [[0.67], [0.33]])\n",
    "cpd_employed = TabularCPD('Employed', 2,\n",
    "                                      [[.55, 0.15],\n",
    "                                       [.45, 0.85]],\n",
    "                                      evidence=['Business'],\n",
    "                                      evidence_card=[2])\n",
    "model.add_cpds(cpd_business, cpd_employed)\n"
   ]
  },
  {
   "cell_type": "code",
   "execution_count": 8,
   "metadata": {
    "collapsed": true
   },
   "outputs": [],
   "source": [
    "cpd_success = TabularCPD('Success', 2,\n",
    "                                [[1, 0.85, 0.65, 0.12, 0.95, 0.8, 0.95, 0.4, 0.05, 0.9, 0.6, 0.7, 0.8, 0.5, 0.9, 0.02],\n",
    "                                 [0, 0.15, 0.35, 0.88, 0.05, 0.2, 0.05, 0.6, 0.95, 0.1, 0.4, 0.3, 0.2, 0.5, 0.1, 0.98]],\n",
    "                                evidence=['Gender','Age-group','Marital_status','Employed'],\n",
    "                                evidence_card=[2,2,2,2])\n",
    "model.add_cpds(cpd_success)\n"
   ]
  },
  {
   "cell_type": "code",
   "execution_count": 9,
   "metadata": {},
   "outputs": [
    {
     "name": "stdout",
     "output_type": "stream",
     "text": [
      "+----------+------+\n",
      "| Gender_0 | 0.45 |\n",
      "+----------+------+\n",
      "| Gender_1 | 0.55 |\n",
      "+----------+------+\n",
      "+------------------+-------------+-------------+\n",
      "| Age-group        | Age-group_0 | Age-group_1 |\n",
      "+------------------+-------------+-------------+\n",
      "| Marital_status_0 | 0.65        | 0.15        |\n",
      "+------------------+-------------+-------------+\n",
      "| Marital_status_1 | 0.35        | 0.85        |\n",
      "+------------------+-------------+-------------+\n",
      "+-------------+-----+\n",
      "| Age-group_0 | 0.4 |\n",
      "+-------------+-----+\n",
      "| Age-group_1 | 0.6 |\n",
      "+-------------+-----+\n"
     ]
    }
   ],
   "source": [
    "print(model.get_cpds('Gender'))\n",
    "print(model.get_cpds('Marital_status'))\n",
    "print(model.get_cpds('Age-group'))\n",
    "\n",
    "     "
   ]
  },
  {
   "cell_type": "code",
   "execution_count": 10,
   "metadata": {},
   "outputs": [
    {
     "name": "stdout",
     "output_type": "stream",
     "text": [
      "+------------+------+\n",
      "| Business_0 | 0.67 |\n",
      "+------------+------+\n",
      "| Business_1 | 0.33 |\n",
      "+------------+------+\n",
      "+------------+------------+------------+\n",
      "| Business   | Business_0 | Business_1 |\n",
      "+------------+------------+------------+\n",
      "| Employed_0 | 0.55       | 0.15       |\n",
      "+------------+------------+------------+\n",
      "| Employed_1 | 0.45       | 0.85       |\n",
      "+------------+------------+------------+\n"
     ]
    }
   ],
   "source": [
    "print(model.get_cpds('Business'))\n",
    "print(model.get_cpds('Employed'))\n"
   ]
  },
  {
   "cell_type": "code",
   "execution_count": 11,
   "metadata": {},
   "outputs": [
    {
     "name": "stdout",
     "output_type": "stream",
     "text": [
      "+----------------+------------------+------------------+------------------+------------------+------------------+------------------+------------------+------------------+------------------+------------------+------------------+------------------+------------------+------------------+------------------+------------------+\n",
      "| Gender         | Gender_0         | Gender_0         | Gender_0         | Gender_0         | Gender_0         | Gender_0         | Gender_0         | Gender_0         | Gender_1         | Gender_1         | Gender_1         | Gender_1         | Gender_1         | Gender_1         | Gender_1         | Gender_1         |\n",
      "+----------------+------------------+------------------+------------------+------------------+------------------+------------------+------------------+------------------+------------------+------------------+------------------+------------------+------------------+------------------+------------------+------------------+\n",
      "| Age-group      | Age-group_0      | Age-group_0      | Age-group_0      | Age-group_0      | Age-group_1      | Age-group_1      | Age-group_1      | Age-group_1      | Age-group_0      | Age-group_0      | Age-group_0      | Age-group_0      | Age-group_1      | Age-group_1      | Age-group_1      | Age-group_1      |\n",
      "+----------------+------------------+------------------+------------------+------------------+------------------+------------------+------------------+------------------+------------------+------------------+------------------+------------------+------------------+------------------+------------------+------------------+\n",
      "| Marital_status | Marital_status_0 | Marital_status_0 | Marital_status_1 | Marital_status_1 | Marital_status_0 | Marital_status_0 | Marital_status_1 | Marital_status_1 | Marital_status_0 | Marital_status_0 | Marital_status_1 | Marital_status_1 | Marital_status_0 | Marital_status_0 | Marital_status_1 | Marital_status_1 |\n",
      "+----------------+------------------+------------------+------------------+------------------+------------------+------------------+------------------+------------------+------------------+------------------+------------------+------------------+------------------+------------------+------------------+------------------+\n",
      "| Employed       | Employed_0       | Employed_1       | Employed_0       | Employed_1       | Employed_0       | Employed_1       | Employed_0       | Employed_1       | Employed_0       | Employed_1       | Employed_0       | Employed_1       | Employed_0       | Employed_1       | Employed_0       | Employed_1       |\n",
      "+----------------+------------------+------------------+------------------+------------------+------------------+------------------+------------------+------------------+------------------+------------------+------------------+------------------+------------------+------------------+------------------+------------------+\n",
      "| Success_0      | 1.0              | 0.85             | 0.65             | 0.12             | 0.95             | 0.8              | 0.95             | 0.4              | 0.05             | 0.9              | 0.6              | 0.7              | 0.8              | 0.5              | 0.9              | 0.02             |\n",
      "+----------------+------------------+------------------+------------------+------------------+------------------+------------------+------------------+------------------+------------------+------------------+------------------+------------------+------------------+------------------+------------------+------------------+\n",
      "| Success_1      | 0.0              | 0.15             | 0.35             | 0.88             | 0.05             | 0.2              | 0.05             | 0.6              | 0.95             | 0.1              | 0.4              | 0.3              | 0.2              | 0.5              | 0.1              | 0.98             |\n",
      "+----------------+------------------+------------------+------------------+------------------+------------------+------------------+------------------+------------------+------------------+------------------+------------------+------------------+------------------+------------------+------------------+------------------+\n"
     ]
    }
   ],
   "source": [
    "print(model.get_cpds('Success'))"
   ]
  },
  {
   "cell_type": "markdown",
   "metadata": {},
   "source": [
    "### Consistency of Model"
   ]
  },
  {
   "cell_type": "code",
   "execution_count": 12,
   "metadata": {},
   "outputs": [
    {
     "data": {
      "text/plain": [
       "True"
      ]
     },
     "execution_count": 12,
     "metadata": {},
     "output_type": "execute_result"
    }
   ],
   "source": [
    "model.check_model()"
   ]
  },
  {
   "cell_type": "code",
   "execution_count": 13,
   "metadata": {},
   "outputs": [
    {
     "data": {
      "text/plain": [
       "(Success _|_ Business | Gender, Employed, Marital_status, Age-group)"
      ]
     },
     "execution_count": 13,
     "metadata": {},
     "output_type": "execute_result"
    }
   ],
   "source": [
    "#Local independencies of variable\n",
    "model.local_independencies('Success')"
   ]
  },
  {
   "cell_type": "markdown",
   "metadata": {},
   "source": [
    "### Graphical Representation of Network"
   ]
  },
  {
   "cell_type": "code",
   "execution_count": 16,
   "metadata": {},
   "outputs": [
    {
     "data": {
      "image/png": "[encoded data removed]",
      "text/plain": [
       "<matplotlib.figure.Figure at 0x7f6abf35d0b8>"
      ]
     },
     "metadata": {},
     "output_type": "display_data"
    }
   ],
   "source": [
    "#Graphical representation \n",
    "import warnings\n",
    "warnings.filterwarnings(\"ignore\")  \n",
    "import matplotlib.pyplot as plt\n",
    "import networkx as nx\n",
    "nx.draw_shell(model,with_labels=True)\n",
    "plt.show()"
   ]
  }
 ],
 "metadata": {
  "kernelspec": {
   "display_name": "Python 3",
   "language": "python",
   "name": "python3"
  },
  "language_info": {
   "codemirror_mode": {
    "name": "ipython",
    "version": 3
   },
   "file_extension": ".py",
   "mimetype": "text/x-python",
   "name": "python",
   "nbconvert_exporter": "python",
   "pygments_lexer": "ipython3",
   "version": "3.6.3"
  }
 },
 "nbformat": 4,
 "nbformat_minor": 2
}
