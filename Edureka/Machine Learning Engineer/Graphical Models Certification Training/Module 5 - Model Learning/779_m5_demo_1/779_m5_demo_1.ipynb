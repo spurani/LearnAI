{
 "cells": [
  {
   "cell_type": "markdown",
   "metadata": {},
   "source": [
    "#### In this example we will be looking at MaximumLikelihoodEstimator and BayesianEstimator"
   ]
  },
  {
   "cell_type": "code",
   "execution_count": 1,
   "metadata": {},
   "outputs": [],
   "source": [
    "from pgmpy.models import BayesianModel\n",
    "from pgmpy.estimators import MaximumLikelihoodEstimator\n",
    "from pgmpy.estimators import BayesianEstimator\n",
    "import networkx as nx\n",
    "import numpy as np\n",
    "import pandas as pd\n",
    "import matplotlib.pyplot as plt"
   ]
  },
  {
   "cell_type": "markdown",
   "metadata": {},
   "source": [
    "#### Lets consider we have 1000 samples of previous data on individual performance.\n",
    "#### Based on this observation, we can estimate the parameters on how practice analysis effects match performance etc."
   ]
  },
  {
   "cell_type": "code",
   "execution_count": 2,
   "metadata": {},
   "outputs": [
    {
     "data": {
      "text/plain": [
       "array([[1, 0, 1, 1],\n",
       "       [0, 0, 0, 0],\n",
       "       [0, 0, 0, 1],\n",
       "       [1, 0, 1, 1],\n",
       "       [0, 1, 0, 1],\n",
       "       [1, 0, 0, 1],\n",
       "       [1, 0, 1, 1],\n",
       "       [0, 1, 0, 1],\n",
       "       [1, 0, 1, 0],\n",
       "       [0, 1, 0, 0],\n",
       "       [0, 1, 0, 0],\n",
       "       [0, 0, 1, 0],\n",
       "       [1, 1, 0, 1],\n",
       "       [1, 1, 0, 1],\n",
       "       [1, 1, 1, 0],\n",
       "       [0, 1, 1, 1],\n",
       "       [0, 0, 1, 1],\n",
       "       [1, 0, 1, 1],\n",
       "       [1, 1, 0, 1],\n",
       "       [0, 1, 0, 1]])"
      ]
     },
     "execution_count": 2,
     "metadata": {},
     "output_type": "execute_result"
    }
   ],
   "source": [
    "# lets generate random data; say these are the previous samples\n",
    "sample_size = 20\n",
    "raw_data = np.random.randint(low=0, high=2,size=(sample_size, 4))\n",
    "raw_data"
   ]
  },
  {
   "cell_type": "code",
   "execution_count": 3,
   "metadata": {},
   "outputs": [],
   "source": [
    "data = pd.DataFrame(raw_data, columns=['Pa', 'Fi', 'Pr', 'Ma'])"
   ]
  },
  {
   "cell_type": "code",
   "execution_count": 4,
   "metadata": {},
   "outputs": [],
   "source": [
    "# lets define the individual cricket performance model \n",
    "cric_perf_model = BayesianModel([('Pa', 'Fi'), ('Pa', 'Pr'), ('Fi', 'Ma'),\n",
    "                               ('Pr', 'Ma')])"
   ]
  },
  {
   "cell_type": "code",
   "execution_count": 5,
   "metadata": {},
   "outputs": [
    {
     "data": {
      "image/png": "[encoded data removed]",
      "text/plain": [
       "<Figure size 432x288 with 1 Axes>"
      ]
     },
     "metadata": {
      "needs_background": "light"
     },
     "output_type": "display_data"
    }
   ],
   "source": [
    "nx.draw_networkx(cric_perf_model)\n",
    "plt.show()"
   ]
  },
  {
   "cell_type": "code",
   "execution_count": 6,
   "metadata": {},
   "outputs": [],
   "source": [
    "# calling the fit method by passing the estimator to learn the parameters\n",
    "cric_perf_model.fit(data, estimator=MaximumLikelihoodEstimator)"
   ]
  },
  {
   "cell_type": "code",
   "execution_count": 7,
   "metadata": {},
   "outputs": [
    {
     "data": {
      "text/plain": [
       "[<TabularCPD representing P(Fi:2 | Pa:2) at 0x7f4ebe1c4cf8>,\n",
       " <TabularCPD representing P(Ma:2 | Fi:2, Pr:2) at 0x7f4ebe1c4908>,\n",
       " <TabularCPD representing P(Pa:2) at 0x7f4ebe1c49b0>,\n",
       " <TabularCPD representing P(Pr:2 | Pa:2) at 0x7f4ebe1c4630>]"
      ]
     },
     "execution_count": 7,
     "metadata": {},
     "output_type": "execute_result"
    }
   ],
   "source": [
    "cric_perf_model.get_cpds()"
   ]
  },
  {
   "cell_type": "code",
   "execution_count": 8,
   "metadata": {},
   "outputs": [
    {
     "name": "stdout",
     "output_type": "stream",
     "text": [
      "+-------+--------------------+--------------------+-------+-------+\n",
      "| Fi    | Fi(0)              | Fi(0)              | Fi(1) | Fi(1) |\n",
      "+-------+--------------------+--------------------+-------+-------+\n",
      "| Pr    | Pr(0)              | Pr(1)              | Pr(0) | Pr(1) |\n",
      "+-------+--------------------+--------------------+-------+-------+\n",
      "| Ma(0) | 0.3333333333333333 | 0.2857142857142857 | 0.25  | 0.5   |\n",
      "+-------+--------------------+--------------------+-------+-------+\n",
      "| Ma(1) | 0.6666666666666666 | 0.7142857142857143 | 0.75  | 0.5   |\n",
      "+-------+--------------------+--------------------+-------+-------+\n"
     ]
    }
   ],
   "source": [
    "print(cric_perf_model.get_cpds('Ma'))"
   ]
  },
  {
   "cell_type": "markdown",
   "metadata": {},
   "source": [
    "#### Now, lets have a look at BayesianEstimation \n",
    "#### Bayesian estimation adjusts the prior belief based on the number of samples it has seen.\n",
    "#### So the results will be different for 10 and 1000 samples unlike MLE"
   ]
  },
  {
   "cell_type": "code",
   "execution_count": 9,
   "metadata": {},
   "outputs": [],
   "source": [
    "# lets define the individual cricket performance model \n",
    "cric_perf_model = BayesianModel([('Pa', 'Fi'), ('Pa', 'Pr'), ('Fi', 'Ma'),\n",
    "                               ('Pr', 'Ma')])"
   ]
  },
  {
   "cell_type": "code",
   "execution_count": 10,
   "metadata": {},
   "outputs": [],
   "source": [
    "cric_perf_model.fit(data, estimator=BayesianEstimator)"
   ]
  },
  {
   "cell_type": "code",
   "execution_count": 11,
   "metadata": {},
   "outputs": [
    {
     "name": "stdout",
     "output_type": "stream",
     "text": [
      "+-------+---------------------+--------------------+---------------------+-------+\n",
      "| Fi    | Fi(0)               | Fi(0)              | Fi(1)               | Fi(1) |\n",
      "+-------+---------------------+--------------------+---------------------+-------+\n",
      "| Pr    | Pr(0)               | Pr(1)              | Pr(0)               | Pr(1) |\n",
      "+-------+---------------------+--------------------+---------------------+-------+\n",
      "| Ma(0) | 0.38235294117647056 | 0.3181818181818182 | 0.28378378378378377 | 0.5   |\n",
      "+-------+---------------------+--------------------+---------------------+-------+\n",
      "| Ma(1) | 0.6176470588235294  | 0.6818181818181818 | 0.7162162162162162  | 0.5   |\n",
      "+-------+---------------------+--------------------+---------------------+-------+\n"
     ]
    }
   ],
   "source": [
    "print(cric_perf_model.get_cpds('Ma'))"
   ]
  },
  {
   "cell_type": "markdown",
   "metadata": {},
   "source": [
    "#### You can change the sample size and see how different parameters are wrt MLE."
   ]
  },
  {
   "cell_type": "code",
   "execution_count": null,
   "metadata": {},
   "outputs": [],
   "source": []
  }
 ],
 "metadata": {
  "kernelspec": {
   "display_name": "Python 3",
   "language": "python",
   "name": "python3"
  },
  "language_info": {
   "codemirror_mode": {
    "name": "ipython",
    "version": 3
   },
   "file_extension": ".py",
   "mimetype": "text/x-python",
   "name": "python",
   "nbconvert_exporter": "python",
   "pygments_lexer": "ipython3",
   "version": "3.6.7"
  }
 },
 "nbformat": 4,
 "nbformat_minor": 2
}
