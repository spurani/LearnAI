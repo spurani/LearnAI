{
 "cells": [
  {
   "cell_type": "markdown",
   "metadata": {},
   "source": [
    "# PGM Project\n",
    "\n",
    "## Case Study\n",
    "\n",
    "To identify fraud claims across pharmacies dispensing DrugK, using network analysis approach.\n",
    "\n",
    "## Data Prep:\n",
    "- Data cleansing\n",
    "- Variable Transformation\n",
    "- Feature engineering\n",
    "\n",
    "## Bayesian Network:\n",
    "- Construct Bayesian network by considering all possible attributes of a prescription\n",
    "- Perform parametric estimation of probabilities\n",
    "- Find out all events leading to a case of substance abuse with rare evidence\n",
    "\n",
    "## Markov Chain:\n",
    "- How likely a patient is to switch from low dose category to high dose category (Change in supply/ Reduction in days/ Changed strength of drug?)\n",
    "- Define state space of an event\n",
    "- Draw inference by estimating posterior probabilities of events\n",
    "\n",
    "## Inferences\n",
    "\n",
    "1) Very LOW number for the \"Probability of the possible sequence of states\", based on the data\n",
    "2) As a result, for a sequence of ten, the forcast of the state does not change\n",
    "\n",
    "## Note\n",
    "\n",
    "Tech. Support, upon review, has commented this implementation meets and exceeds expectations"
   ]
  },
  {
   "cell_type": "code",
   "execution_count": 1,
   "metadata": {},
   "outputs": [
    {
     "name": "stdout",
     "output_type": "stream",
     "text": [
      "2020-10-22 19:23:29.442285\n"
     ]
    }
   ],
   "source": [
    "import datetime, time\n",
    "print(datetime.datetime.now())\n",
    "start_time = time.time()"
   ]
  },
  {
   "cell_type": "code",
   "execution_count": 1,
   "metadata": {},
   "outputs": [],
   "source": [
    "import pandas as pd\n",
    "import matplotlib.pyplot as plt\n",
    "import numpy as np\n",
    "\n",
    "from pgmpy.models import BayesianModel\n",
    "from pgmpy.factors.discrete import TabularCPD\n",
    "from pgmpy.estimators import MaximumLikelihoodEstimator\n",
    "\n",
    "import warnings\n",
    "warnings.filterwarnings(\"ignore\")\n",
    "import matplotlib.pyplot as plt\n",
    "import networkx as nx\n",
    "\n",
    "from sklearn.decomposition import PCA"
   ]
  },
  {
   "cell_type": "markdown",
   "metadata": {},
   "source": [
    "## Data Prep:"
   ]
  },
  {
   "cell_type": "code",
   "execution_count": 2,
   "metadata": {},
   "outputs": [
    {
     "name": "stdout",
     "output_type": "stream",
     "text": [
      "<class 'pandas.core.frame.DataFrame'>\n",
      "RangeIndex: 2000 entries, 0 to 1999\n",
      "Data columns (total 20 columns):\n",
      "UID             2000 non-null int64\n",
      "PhID            2000 non-null int64\n",
      "PresID          2000 non-null int64\n",
      "CLID            2000 non-null float64\n",
      "PATID           2000 non-null int64\n",
      "ID              2000 non-null int64\n",
      "DCID            2000 non-null int64\n",
      "Qty             2000 non-null int64\n",
      "Days            2000 non-null int64\n",
      "Refill          2000 non-null int64\n",
      "Strength        2000 non-null float64\n",
      "Amount          2000 non-null float64\n",
      "Gender          2000 non-null int64\n",
      "Age             2000 non-null int64\n",
      "Fill Date       2000 non-null object\n",
      "Written Date    2000 non-null object\n",
      "Fill GAP        2000 non-null int64\n",
      "NextRefill      2000 non-null object\n",
      "EarlyRefill     2000 non-null int64\n",
      "Fraud           2000 non-null int64\n",
      "dtypes: float64(3), int64(14), object(3)\n",
      "memory usage: 312.6+ KB\n",
      "None\n"
     ]
    }
   ],
   "source": [
    "#Claim_Dataset_Part1.csv\n",
    "claims1_df=pd.read_csv('Datasets/Claim_Dataset_Part1.csv', sep=',')\n",
    "print(claims1_df.info())"
   ]
  },
  {
   "cell_type": "code",
   "execution_count": 4,
   "metadata": {},
   "outputs": [
    {
     "data": {
      "text/html": [
       "<div>\n",
       "<style scoped>\n",
       "    .dataframe tbody tr th:only-of-type {\n",
       "        vertical-align: middle;\n",
       "    }\n",
       "\n",
       "    .dataframe tbody tr th {\n",
       "        vertical-align: top;\n",
       "    }\n",
       "\n",
       "    .dataframe thead th {\n",
       "        text-align: right;\n",
       "    }\n",
       "</style>\n",
       "<table border=\"1\" class=\"dataframe\">\n",
       "  <thead>\n",
       "    <tr style=\"text-align: right;\">\n",
       "      <th></th>\n",
       "      <th>UID</th>\n",
       "      <th>PhID</th>\n",
       "      <th>PresID</th>\n",
       "      <th>CLID</th>\n",
       "      <th>PATID</th>\n",
       "      <th>ID</th>\n",
       "      <th>DCID</th>\n",
       "      <th>Qty</th>\n",
       "      <th>Days</th>\n",
       "      <th>Refill</th>\n",
       "      <th>Strength</th>\n",
       "      <th>Amount</th>\n",
       "      <th>Gender</th>\n",
       "      <th>Age</th>\n",
       "      <th>Fill Date</th>\n",
       "      <th>Written Date</th>\n",
       "      <th>Fill GAP</th>\n",
       "      <th>NextRefill</th>\n",
       "      <th>EarlyRefill</th>\n",
       "      <th>Fraud</th>\n",
       "    </tr>\n",
       "  </thead>\n",
       "  <tbody>\n",
       "    <tr>\n",
       "      <th>0</th>\n",
       "      <td>1</td>\n",
       "      <td>3127172</td>\n",
       "      <td>2031955</td>\n",
       "      <td>1.820000e+14</td>\n",
       "      <td>200599</td>\n",
       "      <td>77687332</td>\n",
       "      <td>406048533</td>\n",
       "      <td>12</td>\n",
       "      <td>3</td>\n",
       "      <td>0</td>\n",
       "      <td>4.5</td>\n",
       "      <td>3.01</td>\n",
       "      <td>0</td>\n",
       "      <td>39</td>\n",
       "      <td>23-06-2018</td>\n",
       "      <td>23-06-2018</td>\n",
       "      <td>0</td>\n",
       "      <td>26-06-2018</td>\n",
       "      <td>0</td>\n",
       "      <td>0</td>\n",
       "    </tr>\n",
       "    <tr>\n",
       "      <th>1</th>\n",
       "      <td>2</td>\n",
       "      <td>3127934</td>\n",
       "      <td>3145680</td>\n",
       "      <td>1.820000e+14</td>\n",
       "      <td>200810</td>\n",
       "      <td>76558228</td>\n",
       "      <td>65162003434</td>\n",
       "      <td>14</td>\n",
       "      <td>4</td>\n",
       "      <td>0</td>\n",
       "      <td>4.5</td>\n",
       "      <td>3.22</td>\n",
       "      <td>0</td>\n",
       "      <td>32</td>\n",
       "      <td>31-05-2018</td>\n",
       "      <td>31-05-2018</td>\n",
       "      <td>0</td>\n",
       "      <td>04-06-2018</td>\n",
       "      <td>0</td>\n",
       "      <td>0</td>\n",
       "    </tr>\n",
       "    <tr>\n",
       "      <th>2</th>\n",
       "      <td>3</td>\n",
       "      <td>3127934</td>\n",
       "      <td>3146402</td>\n",
       "      <td>1.820000e+14</td>\n",
       "      <td>200810</td>\n",
       "      <td>77705008</td>\n",
       "      <td>62037052524</td>\n",
       "      <td>10</td>\n",
       "      <td>2</td>\n",
       "      <td>0</td>\n",
       "      <td>7.5</td>\n",
       "      <td>4.75</td>\n",
       "      <td>0</td>\n",
       "      <td>32</td>\n",
       "      <td>02-06-2018</td>\n",
       "      <td>06-02-2018</td>\n",
       "      <td>116</td>\n",
       "      <td>04-06-2018</td>\n",
       "      <td>1</td>\n",
       "      <td>0</td>\n",
       "    </tr>\n",
       "    <tr>\n",
       "      <th>3</th>\n",
       "      <td>4</td>\n",
       "      <td>3127934</td>\n",
       "      <td>3147500</td>\n",
       "      <td>1.820000e+14</td>\n",
       "      <td>200810</td>\n",
       "      <td>77705143</td>\n",
       "      <td>65162003434</td>\n",
       "      <td>12</td>\n",
       "      <td>2</td>\n",
       "      <td>0</td>\n",
       "      <td>4.5</td>\n",
       "      <td>3.01</td>\n",
       "      <td>0</td>\n",
       "      <td>32</td>\n",
       "      <td>05-06-2018</td>\n",
       "      <td>06-05-2018</td>\n",
       "      <td>30</td>\n",
       "      <td>07-06-2018</td>\n",
       "      <td>0</td>\n",
       "      <td>0</td>\n",
       "    </tr>\n",
       "    <tr>\n",
       "      <th>4</th>\n",
       "      <td>5</td>\n",
       "      <td>3141427</td>\n",
       "      <td>1041174</td>\n",
       "      <td>1.700000e+14</td>\n",
       "      <td>201658</td>\n",
       "      <td>59837307</td>\n",
       "      <td>42858010324</td>\n",
       "      <td>30</td>\n",
       "      <td>30</td>\n",
       "      <td>0</td>\n",
       "      <td>7.5</td>\n",
       "      <td>5.53</td>\n",
       "      <td>0</td>\n",
       "      <td>29</td>\n",
       "      <td>26-01-2017</td>\n",
       "      <td>26-01-2017</td>\n",
       "      <td>0</td>\n",
       "      <td>25-02-2017</td>\n",
       "      <td>0</td>\n",
       "      <td>0</td>\n",
       "    </tr>\n",
       "  </tbody>\n",
       "</table>\n",
       "</div>"
      ],
      "text/plain": [
       "   UID     PhID   PresID          CLID   PATID        ID         DCID  Qty  \\\n",
       "0    1  3127172  2031955  1.820000e+14  200599  77687332    406048533   12   \n",
       "1    2  3127934  3145680  1.820000e+14  200810  76558228  65162003434   14   \n",
       "2    3  3127934  3146402  1.820000e+14  200810  77705008  62037052524   10   \n",
       "3    4  3127934  3147500  1.820000e+14  200810  77705143  65162003434   12   \n",
       "4    5  3141427  1041174  1.700000e+14  201658  59837307  42858010324   30   \n",
       "\n",
       "   Days  Refill  Strength  Amount  Gender  Age   Fill Date Written Date  \\\n",
       "0     3       0       4.5    3.01       0   39  23-06-2018   23-06-2018   \n",
       "1     4       0       4.5    3.22       0   32  31-05-2018   31-05-2018   \n",
       "2     2       0       7.5    4.75       0   32  02-06-2018   06-02-2018   \n",
       "3     2       0       4.5    3.01       0   32  05-06-2018   06-05-2018   \n",
       "4    30       0       7.5    5.53       0   29  26-01-2017   26-01-2017   \n",
       "\n",
       "   Fill GAP  NextRefill  EarlyRefill  Fraud  \n",
       "0         0  26-06-2018            0      0  \n",
       "1         0  04-06-2018            0      0  \n",
       "2       116  04-06-2018            1      0  \n",
       "3        30  07-06-2018            0      0  \n",
       "4         0  25-02-2017            0      0  "
      ]
     },
     "execution_count": 4,
     "metadata": {},
     "output_type": "execute_result"
    }
   ],
   "source": [
    "claims1_df.head(5)"
   ]
  },
  {
   "cell_type": "code",
   "execution_count": 5,
   "metadata": {},
   "outputs": [
    {
     "name": "stdout",
     "output_type": "stream",
     "text": [
      "<class 'pandas.core.frame.DataFrame'>\n",
      "RangeIndex: 2000 entries, 0 to 1999\n",
      "Data columns (total 22 columns):\n",
      "UID                2000 non-null int64\n",
      "PhID               2000 non-null int64\n",
      "PresID             2000 non-null int64\n",
      "CLID               2000 non-null float64\n",
      "PATID              2000 non-null int64\n",
      "ID                 2000 non-null int64\n",
      "DCID               2000 non-null int64\n",
      "Qty                2000 non-null int64\n",
      "Days               2000 non-null int64\n",
      "Refill             2000 non-null int64\n",
      "Strength           2000 non-null float64\n",
      "Amount             2000 non-null float64\n",
      "Gender             2000 non-null int64\n",
      "Age                2000 non-null int64\n",
      "Fill Date          2000 non-null object\n",
      "Written Date       2000 non-null object\n",
      "Fill GAP           2000 non-null int64\n",
      "NextRefill         2000 non-null object\n",
      "EarlyRefill        2000 non-null int64\n",
      "Fraud              2000 non-null int64\n",
      "Fill_Date_dt       2000 non-null datetime64[ns]\n",
      "Written_Date_dt    2000 non-null datetime64[ns]\n",
      "dtypes: datetime64[ns](2), float64(3), int64(14), object(3)\n",
      "memory usage: 343.8+ KB\n",
      "None\n"
     ]
    },
    {
     "data": {
      "text/html": [
       "<div>\n",
       "<style scoped>\n",
       "    .dataframe tbody tr th:only-of-type {\n",
       "        vertical-align: middle;\n",
       "    }\n",
       "\n",
       "    .dataframe tbody tr th {\n",
       "        vertical-align: top;\n",
       "    }\n",
       "\n",
       "    .dataframe thead th {\n",
       "        text-align: right;\n",
       "    }\n",
       "</style>\n",
       "<table border=\"1\" class=\"dataframe\">\n",
       "  <thead>\n",
       "    <tr style=\"text-align: right;\">\n",
       "      <th></th>\n",
       "      <th>UID</th>\n",
       "      <th>PhID</th>\n",
       "      <th>PresID</th>\n",
       "      <th>CLID</th>\n",
       "      <th>PATID</th>\n",
       "      <th>ID</th>\n",
       "      <th>DCID</th>\n",
       "      <th>Qty</th>\n",
       "      <th>Days</th>\n",
       "      <th>Refill</th>\n",
       "      <th>...</th>\n",
       "      <th>Gender</th>\n",
       "      <th>Age</th>\n",
       "      <th>Fill Date</th>\n",
       "      <th>Written Date</th>\n",
       "      <th>Fill GAP</th>\n",
       "      <th>NextRefill</th>\n",
       "      <th>EarlyRefill</th>\n",
       "      <th>Fraud</th>\n",
       "      <th>Fill_Date_dt</th>\n",
       "      <th>Written_Date_dt</th>\n",
       "    </tr>\n",
       "  </thead>\n",
       "  <tbody>\n",
       "    <tr>\n",
       "      <th>0</th>\n",
       "      <td>1</td>\n",
       "      <td>3127172</td>\n",
       "      <td>2031955</td>\n",
       "      <td>1.820000e+14</td>\n",
       "      <td>200599</td>\n",
       "      <td>77687332</td>\n",
       "      <td>406048533</td>\n",
       "      <td>12</td>\n",
       "      <td>3</td>\n",
       "      <td>0</td>\n",
       "      <td>...</td>\n",
       "      <td>0</td>\n",
       "      <td>39</td>\n",
       "      <td>23-06-2018</td>\n",
       "      <td>23-06-2018</td>\n",
       "      <td>0</td>\n",
       "      <td>26-06-2018</td>\n",
       "      <td>0</td>\n",
       "      <td>0</td>\n",
       "      <td>2018-06-23</td>\n",
       "      <td>2018-06-23</td>\n",
       "    </tr>\n",
       "    <tr>\n",
       "      <th>1</th>\n",
       "      <td>2</td>\n",
       "      <td>3127934</td>\n",
       "      <td>3145680</td>\n",
       "      <td>1.820000e+14</td>\n",
       "      <td>200810</td>\n",
       "      <td>76558228</td>\n",
       "      <td>65162003434</td>\n",
       "      <td>14</td>\n",
       "      <td>4</td>\n",
       "      <td>0</td>\n",
       "      <td>...</td>\n",
       "      <td>0</td>\n",
       "      <td>32</td>\n",
       "      <td>31-05-2018</td>\n",
       "      <td>31-05-2018</td>\n",
       "      <td>0</td>\n",
       "      <td>04-06-2018</td>\n",
       "      <td>0</td>\n",
       "      <td>0</td>\n",
       "      <td>2018-05-31</td>\n",
       "      <td>2018-05-31</td>\n",
       "    </tr>\n",
       "    <tr>\n",
       "      <th>2</th>\n",
       "      <td>3</td>\n",
       "      <td>3127934</td>\n",
       "      <td>3146402</td>\n",
       "      <td>1.820000e+14</td>\n",
       "      <td>200810</td>\n",
       "      <td>77705008</td>\n",
       "      <td>62037052524</td>\n",
       "      <td>10</td>\n",
       "      <td>2</td>\n",
       "      <td>0</td>\n",
       "      <td>...</td>\n",
       "      <td>0</td>\n",
       "      <td>32</td>\n",
       "      <td>02-06-2018</td>\n",
       "      <td>06-02-2018</td>\n",
       "      <td>116</td>\n",
       "      <td>04-06-2018</td>\n",
       "      <td>1</td>\n",
       "      <td>0</td>\n",
       "      <td>2018-02-06</td>\n",
       "      <td>2018-06-02</td>\n",
       "    </tr>\n",
       "    <tr>\n",
       "      <th>3</th>\n",
       "      <td>4</td>\n",
       "      <td>3127934</td>\n",
       "      <td>3147500</td>\n",
       "      <td>1.820000e+14</td>\n",
       "      <td>200810</td>\n",
       "      <td>77705143</td>\n",
       "      <td>65162003434</td>\n",
       "      <td>12</td>\n",
       "      <td>2</td>\n",
       "      <td>0</td>\n",
       "      <td>...</td>\n",
       "      <td>0</td>\n",
       "      <td>32</td>\n",
       "      <td>05-06-2018</td>\n",
       "      <td>06-05-2018</td>\n",
       "      <td>30</td>\n",
       "      <td>07-06-2018</td>\n",
       "      <td>0</td>\n",
       "      <td>0</td>\n",
       "      <td>2018-05-06</td>\n",
       "      <td>2018-06-05</td>\n",
       "    </tr>\n",
       "    <tr>\n",
       "      <th>4</th>\n",
       "      <td>5</td>\n",
       "      <td>3141427</td>\n",
       "      <td>1041174</td>\n",
       "      <td>1.700000e+14</td>\n",
       "      <td>201658</td>\n",
       "      <td>59837307</td>\n",
       "      <td>42858010324</td>\n",
       "      <td>30</td>\n",
       "      <td>30</td>\n",
       "      <td>0</td>\n",
       "      <td>...</td>\n",
       "      <td>0</td>\n",
       "      <td>29</td>\n",
       "      <td>26-01-2017</td>\n",
       "      <td>26-01-2017</td>\n",
       "      <td>0</td>\n",
       "      <td>25-02-2017</td>\n",
       "      <td>0</td>\n",
       "      <td>0</td>\n",
       "      <td>2017-01-26</td>\n",
       "      <td>2017-01-26</td>\n",
       "    </tr>\n",
       "  </tbody>\n",
       "</table>\n",
       "<p>5 rows × 22 columns</p>\n",
       "</div>"
      ],
      "text/plain": [
       "   UID     PhID   PresID          CLID   PATID        ID         DCID  Qty  \\\n",
       "0    1  3127172  2031955  1.820000e+14  200599  77687332    406048533   12   \n",
       "1    2  3127934  3145680  1.820000e+14  200810  76558228  65162003434   14   \n",
       "2    3  3127934  3146402  1.820000e+14  200810  77705008  62037052524   10   \n",
       "3    4  3127934  3147500  1.820000e+14  200810  77705143  65162003434   12   \n",
       "4    5  3141427  1041174  1.700000e+14  201658  59837307  42858010324   30   \n",
       "\n",
       "   Days  Refill       ...         Gender  Age   Fill Date  Written Date  \\\n",
       "0     3       0       ...              0   39  23-06-2018    23-06-2018   \n",
       "1     4       0       ...              0   32  31-05-2018    31-05-2018   \n",
       "2     2       0       ...              0   32  02-06-2018    06-02-2018   \n",
       "3     2       0       ...              0   32  05-06-2018    06-05-2018   \n",
       "4    30       0       ...              0   29  26-01-2017    26-01-2017   \n",
       "\n",
       "  Fill GAP  NextRefill  EarlyRefill Fraud  Fill_Date_dt  Written_Date_dt  \n",
       "0        0  26-06-2018            0     0    2018-06-23       2018-06-23  \n",
       "1        0  04-06-2018            0     0    2018-05-31       2018-05-31  \n",
       "2      116  04-06-2018            1     0    2018-02-06       2018-06-02  \n",
       "3       30  07-06-2018            0     0    2018-05-06       2018-06-05  \n",
       "4        0  25-02-2017            0     0    2017-01-26       2017-01-26  \n",
       "\n",
       "[5 rows x 22 columns]"
      ]
     },
     "execution_count": 5,
     "metadata": {},
     "output_type": "execute_result"
    }
   ],
   "source": [
    "claims1_df['Fill_Date_dt'] = pd.to_datetime(claims1_df['Fill Date'])\n",
    "claims1_df['Written_Date_dt'] = pd.to_datetime(claims1_df['Written Date'])\n",
    "print(claims1_df.info())\n",
    "claims1_df.head(5)"
   ]
  },
  {
   "cell_type": "code",
   "execution_count": 6,
   "metadata": {},
   "outputs": [
    {
     "name": "stdout",
     "output_type": "stream",
     "text": [
      "<class 'pandas.core.frame.DataFrame'>\n",
      "RangeIndex: 2000 entries, 0 to 1999\n",
      "Data columns (total 22 columns):\n",
      "UID                2000 non-null int64\n",
      "PhID               2000 non-null int64\n",
      "PresID             2000 non-null int64\n",
      "CLID               2000 non-null float64\n",
      "PATID              2000 non-null int64\n",
      "ID                 2000 non-null int64\n",
      "DCID               2000 non-null int64\n",
      "Qty                2000 non-null int64\n",
      "Days               2000 non-null int64\n",
      "Refill             2000 non-null int64\n",
      "Strength           2000 non-null float64\n",
      "Amount             2000 non-null float64\n",
      "Gender             2000 non-null int64\n",
      "Age                2000 non-null int64\n",
      "Fill Date          2000 non-null object\n",
      "Written Date       2000 non-null object\n",
      "Fill GAP           2000 non-null int64\n",
      "NextRefill         2000 non-null object\n",
      "EarlyRefill        2000 non-null int64\n",
      "Fraud              2000 non-null int64\n",
      "Fill_Date_dt       2000 non-null datetime64[ns]\n",
      "Written_Date_dt    2000 non-null datetime64[ns]\n",
      "dtypes: datetime64[ns](2), float64(3), int64(14), object(3)\n",
      "memory usage: 343.8+ KB\n",
      "None\n"
     ]
    }
   ],
   "source": [
    "print(claims1_df.info())"
   ]
  },
  {
   "cell_type": "code",
   "execution_count": 7,
   "metadata": {},
   "outputs": [],
   "source": [
    "# claims2_df=pd.read_csv('Claim_Dataset_Part2.csv', sep=',')\n",
    "# print(claims2_df.info())"
   ]
  },
  {
   "cell_type": "code",
   "execution_count": 8,
   "metadata": {},
   "outputs": [],
   "source": [
    "# claims2_df.head(5)"
   ]
  },
  {
   "cell_type": "code",
   "execution_count": null,
   "metadata": {},
   "outputs": [],
   "source": []
  },
  {
   "cell_type": "markdown",
   "metadata": {},
   "source": [
    "### Data cleansing"
   ]
  },
  {
   "cell_type": "code",
   "execution_count": 9,
   "metadata": {},
   "outputs": [
    {
     "name": "stdout",
     "output_type": "stream",
     "text": [
      "UID                2000\n",
      "PhID               2000\n",
      "PresID             2000\n",
      "CLID               2000\n",
      "PATID              2000\n",
      "ID                 2000\n",
      "DCID               2000\n",
      "Qty                2000\n",
      "Days               2000\n",
      "Refill             2000\n",
      "Strength           2000\n",
      "Amount             2000\n",
      "Gender             2000\n",
      "Age                2000\n",
      "Fill Date          2000\n",
      "Written Date       2000\n",
      "Fill GAP           2000\n",
      "NextRefill         2000\n",
      "EarlyRefill        2000\n",
      "Fraud              2000\n",
      "Fill_Date_dt       2000\n",
      "Written_Date_dt    2000\n",
      "dtype: int64\n"
     ]
    }
   ],
   "source": [
    "print(claims1_df.count())"
   ]
  },
  {
   "cell_type": "code",
   "execution_count": 10,
   "metadata": {},
   "outputs": [],
   "source": [
    "num_rows = claims1_df.shape[0]"
   ]
  },
  {
   "cell_type": "code",
   "execution_count": 11,
   "metadata": {},
   "outputs": [],
   "source": [
    "num_missing = num_rows - claims1_df.count()"
   ]
  },
  {
   "cell_type": "code",
   "execution_count": 12,
   "metadata": {},
   "outputs": [
    {
     "name": "stdout",
     "output_type": "stream",
     "text": [
      "UID                0\n",
      "PhID               0\n",
      "PresID             0\n",
      "CLID               0\n",
      "PATID              0\n",
      "ID                 0\n",
      "DCID               0\n",
      "Qty                0\n",
      "Days               0\n",
      "Refill             0\n",
      "Strength           0\n",
      "Amount             0\n",
      "Gender             0\n",
      "Age                0\n",
      "Fill Date          0\n",
      "Written Date       0\n",
      "Fill GAP           0\n",
      "NextRefill         0\n",
      "EarlyRefill        0\n",
      "Fraud              0\n",
      "Fill_Date_dt       0\n",
      "Written_Date_dt    0\n",
      "dtype: int64\n"
     ]
    }
   ],
   "source": [
    "print(num_missing)"
   ]
  },
  {
   "cell_type": "markdown",
   "metadata": {},
   "source": [
    "### GOOD, no data is missing"
   ]
  },
  {
   "cell_type": "code",
   "execution_count": null,
   "metadata": {},
   "outputs": [],
   "source": []
  },
  {
   "cell_type": "markdown",
   "metadata": {},
   "source": [
    "### Variable Transformation - Not needed!"
   ]
  },
  {
   "cell_type": "code",
   "execution_count": null,
   "metadata": {},
   "outputs": [],
   "source": []
  },
  {
   "cell_type": "markdown",
   "metadata": {},
   "source": [
    "### Feature engineering - To reduce the number of features (independent variables)"
   ]
  },
  {
   "cell_type": "code",
   "execution_count": 3,
   "metadata": {},
   "outputs": [
    {
     "name": "stdout",
     "output_type": "stream",
     "text": [
      "   Qty  Days  Strength  Gender  Age  EarlyRefill\n",
      "0   12     3       4.5       0   39            0\n",
      "1   14     4       4.5       0   32            0\n",
      "2   10     2       7.5       0   32            1\n",
      "3   12     2       4.5       0   32            0\n",
      "4   30    30       7.5       0   29            0\n",
      "PCA Explined Variance:  [0.54888251]\n"
     ]
    }
   ],
   "source": [
    "claims_features_df = claims1_df[['Qty', 'Days', 'Strength', 'Gender', 'Age', 'EarlyRefill']]\n",
    "print(claims_features_df.head(5))\n",
    "\n",
    "pca = PCA(n_components=1)\n",
    "pca.fit(claims_features_df)\n",
    "print (\"PCA Explined Variance: \", pca.explained_variance_ratio_)"
   ]
  },
  {
   "cell_type": "code",
   "execution_count": 4,
   "metadata": {},
   "outputs": [
    {
     "name": "stdout",
     "output_type": "stream",
     "text": [
      "          DCID\n",
      "0    406048533\n",
      "1  65162003434\n",
      "2  62037052524\n",
      "3  65162003434\n",
      "4  42858010324\n",
      "PCA Explined Variance:  [1.] \n",
      "\n",
      "<class 'pandas.core.frame.DataFrame'>\n",
      "RangeIndex: 2000 entries, 0 to 1999\n",
      "Data columns (total 1 columns):\n",
      "DCID    2000 non-null int64\n",
      "dtypes: int64(1)\n",
      "memory usage: 15.7 KB\n",
      "None\n"
     ]
    }
   ],
   "source": [
    "# claims_features2_df = claims1_df[['Qty', 'Days', 'Strength', 'Gender', 'Age', 'EarlyRefill', 'DCID']]\n",
    "claims_features2_df = claims1_df[['DCID']]\n",
    "print(claims_features2_df.head(5))\n",
    "\n",
    "pca = PCA(n_components=1)\n",
    "pca.fit(claims_features2_df)\n",
    "print (\"PCA Explined Variance: \", pca.explained_variance_ratio_, '\\n')\n",
    "print(claims_features2_df.info())"
   ]
  },
  {
   "cell_type": "markdown",
   "metadata": {},
   "source": [
    "## Extremely Interesting, the Feature,  'Drug ID\" alone explains for all the influence on the Dependent Varaible, Fraud!!"
   ]
  },
  {
   "cell_type": "markdown",
   "metadata": {},
   "source": [
    "## Bayesian Network:"
   ]
  },
  {
   "cell_type": "markdown",
   "metadata": {},
   "source": [
    "### Construct Bayesian network by considering all possible attributes of a prescription"
   ]
  },
  {
   "cell_type": "code",
   "execution_count": 15,
   "metadata": {},
   "outputs": [],
   "source": [
    "# initialize an empty BN or a model with nodes and edges.\n",
    "model = BayesianModel() "
   ]
  },
  {
   "cell_type": "code",
   "execution_count": 16,
   "metadata": {},
   "outputs": [],
   "source": [
    "#Add nodes and edges to this network:\n",
    "model.add_nodes_from(['Quantity', 'Days', 'Strength', 'Gender', 'Age', 'Easy Refill', 'Fraud Claim'])\n",
    "model.add_edge('Quantity', 'Days')\n",
    "model.add_edge('Quantity', 'Strength')\n",
    "model.add_edge('Days', 'Strength')\n",
    "model.add_edge('Strength', 'Gender')\n",
    "model.add_edge('Strength', 'Age')\n",
    "model.add_edge('Gender', 'Easy Refill')\n",
    "model.add_edge('Age', 'Easy Refill')\n",
    "model.add_edge('Easy Refill', 'Fraud Claim' )"
   ]
  },
  {
   "cell_type": "code",
   "execution_count": 17,
   "metadata": {},
   "outputs": [
    {
     "data": {
      "text/plain": [
       "NodeView(('Quantity', 'Days', 'Strength', 'Gender', 'Age', 'Easy Refill', 'Fraud Claim'))"
      ]
     },
     "execution_count": 17,
     "metadata": {},
     "output_type": "execute_result"
    }
   ],
   "source": [
    "model.nodes()"
   ]
  },
  {
   "cell_type": "code",
   "execution_count": 18,
   "metadata": {},
   "outputs": [
    {
     "data": {
      "text/plain": [
       "OutEdgeView([('Quantity', 'Days'), ('Quantity', 'Strength'), ('Days', 'Strength'), ('Strength', 'Gender'), ('Strength', 'Age'), ('Gender', 'Easy Refill'), ('Age', 'Easy Refill'), ('Easy Refill', 'Fraud Claim')])"
      ]
     },
     "execution_count": 18,
     "metadata": {},
     "output_type": "execute_result"
    }
   ],
   "source": [
    "model.edges()"
   ]
  },
  {
   "cell_type": "code",
   "execution_count": 19,
   "metadata": {},
   "outputs": [],
   "source": [
    "# model.check_model()"
   ]
  },
  {
   "cell_type": "code",
   "execution_count": 20,
   "metadata": {},
   "outputs": [
    {
     "data": {
      "image/png": "[encoded data removed]",
      "text/plain": [
       "<Figure size 432x288 with 1 Axes>"
      ]
     },
     "metadata": {},
     "output_type": "display_data"
    }
   ],
   "source": [
    "nx.draw_shell(model,with_labels=True)\n",
    "plt.show()"
   ]
  },
  {
   "cell_type": "markdown",
   "metadata": {},
   "source": [
    "## Perform parametric estimation of probabilities with ONLY Drug ID"
   ]
  },
  {
   "cell_type": "code",
   "execution_count": 21,
   "metadata": {},
   "outputs": [
    {
     "name": "stdout",
     "output_type": "stream",
     "text": [
      "<class 'pandas.core.frame.DataFrame'>\n",
      "RangeIndex: 2000 entries, 0 to 1999\n",
      "Data columns (total 2 columns):\n",
      "DCID     2000 non-null int64\n",
      "Fraud    2000 non-null int64\n",
      "dtypes: int64(2)\n",
      "memory usage: 31.3 KB\n",
      "None \n",
      "\n"
     ]
    },
    {
     "data": {
      "text/html": [
       "<div>\n",
       "<style scoped>\n",
       "    .dataframe tbody tr th:only-of-type {\n",
       "        vertical-align: middle;\n",
       "    }\n",
       "\n",
       "    .dataframe tbody tr th {\n",
       "        vertical-align: top;\n",
       "    }\n",
       "\n",
       "    .dataframe thead th {\n",
       "        text-align: right;\n",
       "    }\n",
       "</style>\n",
       "<table border=\"1\" class=\"dataframe\">\n",
       "  <thead>\n",
       "    <tr style=\"text-align: right;\">\n",
       "      <th></th>\n",
       "      <th>DCID</th>\n",
       "      <th>Fraud</th>\n",
       "    </tr>\n",
       "  </thead>\n",
       "  <tbody>\n",
       "    <tr>\n",
       "      <th>0</th>\n",
       "      <td>406048533</td>\n",
       "      <td>0</td>\n",
       "    </tr>\n",
       "    <tr>\n",
       "      <th>1</th>\n",
       "      <td>65162003434</td>\n",
       "      <td>0</td>\n",
       "    </tr>\n",
       "    <tr>\n",
       "      <th>2</th>\n",
       "      <td>62037052524</td>\n",
       "      <td>0</td>\n",
       "    </tr>\n",
       "    <tr>\n",
       "      <th>3</th>\n",
       "      <td>65162003434</td>\n",
       "      <td>0</td>\n",
       "    </tr>\n",
       "    <tr>\n",
       "      <th>4</th>\n",
       "      <td>42858010324</td>\n",
       "      <td>0</td>\n",
       "    </tr>\n",
       "  </tbody>\n",
       "</table>\n",
       "</div>"
      ],
      "text/plain": [
       "          DCID  Fraud\n",
       "0    406048533      0\n",
       "1  65162003434      0\n",
       "2  62037052524      0\n",
       "3  65162003434      0\n",
       "4  42858010324      0"
      ]
     },
     "execution_count": 21,
     "metadata": {},
     "output_type": "execute_result"
    }
   ],
   "source": [
    "claims_features2_df['Fraud'] = claims1_df['Fraud']\n",
    "print(claims_features2_df.info(), '\\n')\n",
    "claims_features2_df.head(5)"
   ]
  },
  {
   "cell_type": "code",
   "execution_count": 22,
   "metadata": {},
   "outputs": [
    {
     "data": {
      "text/plain": [
       "NodeView(('DCID', 'Fraud'))"
      ]
     },
     "execution_count": 22,
     "metadata": {},
     "output_type": "execute_result"
    }
   ],
   "source": [
    "claims_feature2_model = BayesianModel([('DCID', 'Fraud')])\n",
    "claims_feature2_model.nodes()"
   ]
  },
  {
   "cell_type": "code",
   "execution_count": 23,
   "metadata": {},
   "outputs": [
    {
     "data": {
      "image/png": "[encoded data removed]",
      "text/plain": [
       "<Figure size 432x288 with 1 Axes>"
      ]
     },
     "metadata": {},
     "output_type": "display_data"
    }
   ],
   "source": [
    "nx.draw_shell(claims_feature2_model,with_labels=True)\n",
    "plt.show()"
   ]
  },
  {
   "cell_type": "code",
   "execution_count": 24,
   "metadata": {},
   "outputs": [],
   "source": [
    "claims_feature2_model.fit(claims_features2_df, estimator=MaximumLikelihoodEstimator)"
   ]
  },
  {
   "cell_type": "code",
   "execution_count": 25,
   "metadata": {},
   "outputs": [
    {
     "data": {
      "text/plain": [
       "[<TabularCPD representing P(DCID:158) at 0x29b000ab240>,\n",
       " <TabularCPD representing P(Fraud:2 | DCID:158) at 0x29b7df75c88>]"
      ]
     },
     "execution_count": 25,
     "metadata": {},
     "output_type": "execute_result"
    }
   ],
   "source": [
    "claims_feature2_model.get_cpds()"
   ]
  },
  {
   "cell_type": "markdown",
   "metadata": {},
   "source": [
    "## Perform parametric estimation of probabilities with ALL the key dependent varaibles"
   ]
  },
  {
   "cell_type": "code",
   "execution_count": 26,
   "metadata": {},
   "outputs": [],
   "source": [
    "model2 = BayesianModel() \n",
    "\n",
    "#Add nodes and edges to this network:\n",
    "model2.add_nodes_from(['Qty', 'Days', 'Strength', 'Gender', 'Age', 'EarlyRefill', 'Fraud'])\n",
    "model2.add_edge('Qty', 'Days')\n",
    "model2.add_edge('Qty', 'Strength')\n",
    "model2.add_edge('Days', 'Strength')\n",
    "model2.add_edge('Strength', 'Gender')\n",
    "model2.add_edge('Strength', 'Age')\n",
    "model2.add_edge('Gender', 'EarlyRefill')\n",
    "model2.add_edge('Age', 'EarlyRefill')\n",
    "model2.add_edge('EarlyRefill', 'Fraud' )"
   ]
  },
  {
   "cell_type": "code",
   "execution_count": 27,
   "metadata": {},
   "outputs": [
    {
     "data": {
      "text/plain": [
       "NodeView(('Qty', 'Days', 'Strength', 'Gender', 'Age', 'EarlyRefill', 'Fraud'))"
      ]
     },
     "execution_count": 27,
     "metadata": {},
     "output_type": "execute_result"
    }
   ],
   "source": [
    "model2.nodes()"
   ]
  },
  {
   "cell_type": "code",
   "execution_count": 28,
   "metadata": {},
   "outputs": [
    {
     "data": {
      "image/png": "[encoded data removed]",
      "text/plain": [
       "<Figure size 432x288 with 1 Axes>"
      ]
     },
     "metadata": {},
     "output_type": "display_data"
    }
   ],
   "source": [
    "nx.draw_shell(model2,with_labels=True)\n",
    "plt.show()"
   ]
  },
  {
   "cell_type": "code",
   "execution_count": 29,
   "metadata": {},
   "outputs": [
    {
     "name": "stdout",
     "output_type": "stream",
     "text": [
      "<class 'pandas.core.frame.DataFrame'>\n",
      "RangeIndex: 2000 entries, 0 to 1999\n",
      "Data columns (total 7 columns):\n",
      "Qty            2000 non-null int64\n",
      "Days           2000 non-null int64\n",
      "Strength       2000 non-null float64\n",
      "Gender         2000 non-null int64\n",
      "Age            2000 non-null int64\n",
      "EarlyRefill    2000 non-null int64\n",
      "Fraud          2000 non-null int64\n",
      "dtypes: float64(1), int64(6)\n",
      "memory usage: 109.5 KB\n"
     ]
    }
   ],
   "source": [
    "claims_features_df['Fraud'] = claims1_df['Fraud']\n",
    "claims_features_df.info()"
   ]
  },
  {
   "cell_type": "code",
   "execution_count": 30,
   "metadata": {},
   "outputs": [],
   "source": [
    "model2.fit(claims_features_df, estimator=MaximumLikelihoodEstimator)"
   ]
  },
  {
   "cell_type": "code",
   "execution_count": 31,
   "metadata": {},
   "outputs": [
    {
     "data": {
      "text/plain": [
       "[<TabularCPD representing P(Age:48 | Strength:20) at 0xcb7aeb8>,\n",
       " <TabularCPD representing P(Days:28 | Qty:63) at 0xc9ea208>,\n",
       " <TabularCPD representing P(EarlyRefill:2 | Age:48, Gender:2) at 0xcb5c4e0>,\n",
       " <TabularCPD representing P(Fraud:2 | EarlyRefill:2) at 0xc941860>,\n",
       " <TabularCPD representing P(Gender:2 | Strength:20) at 0xcb5cd30>,\n",
       " <TabularCPD representing P(Qty:63) at 0xcb5ce48>,\n",
       " <TabularCPD representing P(Strength:20 | Days:28, Qty:63) at 0xcb5c320>]"
      ]
     },
     "execution_count": 31,
     "metadata": {},
     "output_type": "execute_result"
    }
   ],
   "source": [
    "model2.get_cpds()"
   ]
  },
  {
   "cell_type": "code",
   "execution_count": null,
   "metadata": {},
   "outputs": [],
   "source": []
  },
  {
   "cell_type": "markdown",
   "metadata": {},
   "source": [
    "## Find out all events leading to a case of substance abuse with rare evidence"
   ]
  },
  {
   "cell_type": "code",
   "execution_count": 32,
   "metadata": {},
   "outputs": [
    {
     "data": {
      "text/plain": [
       "{'Fraud': {'Age', 'Days', 'EarlyRefill', 'Fraud', 'Gender', 'Qty', 'Strength'}}"
      ]
     },
     "execution_count": 32,
     "metadata": {},
     "output_type": "execute_result"
    }
   ],
   "source": [
    "model2.active_trail_nodes('Fraud')"
   ]
  },
  {
   "cell_type": "code",
   "execution_count": 33,
   "metadata": {},
   "outputs": [
    {
     "data": {
      "text/plain": [
       "{'Qty': {'Age', 'Days', 'EarlyRefill', 'Gender', 'Qty', 'Strength'}}"
      ]
     },
     "execution_count": 33,
     "metadata": {},
     "output_type": "execute_result"
    }
   ],
   "source": [
    "model2.active_trail_nodes('Qty',observed ='Fraud')"
   ]
  },
  {
   "cell_type": "markdown",
   "metadata": {},
   "source": [
    "# Markov Chain:"
   ]
  },
  {
   "cell_type": "markdown",
   "metadata": {},
   "source": [
    "## How likely a PATIENT is to switch from LOW dose category to HIGH dose category (Change in supply/ Reduction in days/ Changed strength of drug?)"
   ]
  },
  {
   "cell_type": "code",
   "execution_count": 5,
   "metadata": {},
   "outputs": [
    {
     "name": "stdout",
     "output_type": "stream",
     "text": [
      "<class 'pandas.core.frame.DataFrame'>\n",
      "RangeIndex: 2000 entries, 0 to 1999\n",
      "Data columns (total 20 columns):\n",
      "UID             2000 non-null int64\n",
      "PhID            2000 non-null int64\n",
      "PresID          2000 non-null int64\n",
      "CLID            2000 non-null float64\n",
      "PATID           2000 non-null int64\n",
      "ID              2000 non-null int64\n",
      "DCID            2000 non-null int64\n",
      "Qty             2000 non-null int64\n",
      "Days            2000 non-null int64\n",
      "Refill          2000 non-null int64\n",
      "Strength        2000 non-null float64\n",
      "Amount          2000 non-null float64\n",
      "Gender          2000 non-null int64\n",
      "Age             2000 non-null int64\n",
      "Fill Date       2000 non-null object\n",
      "Written Date    2000 non-null object\n",
      "Fill GAP        2000 non-null int64\n",
      "NextRefill      2000 non-null object\n",
      "EarlyRefill     2000 non-null int64\n",
      "Fraud           2000 non-null int64\n",
      "dtypes: float64(3), int64(14), object(3)\n",
      "memory usage: 312.6+ KB\n"
     ]
    }
   ],
   "source": [
    "claims1_df.info()"
   ]
  },
  {
   "cell_type": "code",
   "execution_count": 6,
   "metadata": {},
   "outputs": [
    {
     "name": "stdout",
     "output_type": "stream",
     "text": [
      "Patient Count:  334 \n",
      "\n"
     ]
    }
   ],
   "source": [
    "patient_list = claims1_df['PATID'].unique().tolist()\n",
    "print(\"Patient Count: \", len(patient_list), '\\n')"
   ]
  },
  {
   "cell_type": "code",
   "execution_count": 7,
   "metadata": {},
   "outputs": [
    {
     "name": "stdout",
     "output_type": "stream",
     "text": [
      "<class 'list'> \n",
      "\n",
      "Strength States Count:  20 \n",
      "\n"
     ]
    }
   ],
   "source": [
    "strength_states = claims1_df['Strength'].unique().tolist()\n",
    "print(type(strength_states), '\\n')\n",
    "print(\"Strength States Count: \", len(strength_states), '\\n')"
   ]
  },
  {
   "cell_type": "code",
   "execution_count": 8,
   "metadata": {},
   "outputs": [
    {
     "name": "stdout",
     "output_type": "stream",
     "text": [
      "[0.36, 0.5, 1.5, 3.75, 4.5, 5.0, 7.5, 8.0, 9.0, 10.0, 11.25, 13.5, 15.0, 22.5, 30.0, 45.0, 60.0, 120.0, 180.0, 240.0]\n"
     ]
    }
   ],
   "source": [
    "strength_states.sort(reverse=False)\n",
    "print(strength_states)"
   ]
  },
  {
   "cell_type": "markdown",
   "metadata": {},
   "source": [
    "## Setting Sort order: PATID, DCID, Strength"
   ]
  },
  {
   "cell_type": "code",
   "execution_count": 9,
   "metadata": {},
   "outputs": [],
   "source": [
    "claim_selected = claims1_df[['PATID', 'DCID', 'Strength', 'PhID', 'Days']]\n",
    "claim_selected_sorted = claim_selected.sort_values(['PATID', 'DCID', 'Strength'], ascending=[True, True, True])\n"
   ]
  },
  {
   "cell_type": "code",
   "execution_count": 10,
   "metadata": {},
   "outputs": [
    {
     "data": {
      "text/html": [
       "<div>\n",
       "<style scoped>\n",
       "    .dataframe tbody tr th:only-of-type {\n",
       "        vertical-align: middle;\n",
       "    }\n",
       "\n",
       "    .dataframe tbody tr th {\n",
       "        vertical-align: top;\n",
       "    }\n",
       "\n",
       "    .dataframe thead th {\n",
       "        text-align: right;\n",
       "    }\n",
       "</style>\n",
       "<table border=\"1\" class=\"dataframe\">\n",
       "  <thead>\n",
       "    <tr style=\"text-align: right;\">\n",
       "      <th></th>\n",
       "      <th>PATID</th>\n",
       "      <th>DCID</th>\n",
       "      <th>Strength</th>\n",
       "      <th>PhID</th>\n",
       "      <th>Days</th>\n",
       "    </tr>\n",
       "  </thead>\n",
       "  <tbody>\n",
       "    <tr>\n",
       "      <th>0</th>\n",
       "      <td>200599</td>\n",
       "      <td>406048533</td>\n",
       "      <td>4.5</td>\n",
       "      <td>3127172</td>\n",
       "      <td>3</td>\n",
       "    </tr>\n",
       "    <tr>\n",
       "      <th>2</th>\n",
       "      <td>200810</td>\n",
       "      <td>62037052524</td>\n",
       "      <td>7.5</td>\n",
       "      <td>3127934</td>\n",
       "      <td>2</td>\n",
       "    </tr>\n",
       "    <tr>\n",
       "      <th>1</th>\n",
       "      <td>200810</td>\n",
       "      <td>65162003434</td>\n",
       "      <td>4.5</td>\n",
       "      <td>3127934</td>\n",
       "      <td>4</td>\n",
       "    </tr>\n",
       "    <tr>\n",
       "      <th>3</th>\n",
       "      <td>200810</td>\n",
       "      <td>65162003434</td>\n",
       "      <td>4.5</td>\n",
       "      <td>3127934</td>\n",
       "      <td>2</td>\n",
       "    </tr>\n",
       "    <tr>\n",
       "      <th>4</th>\n",
       "      <td>201658</td>\n",
       "      <td>42858010324</td>\n",
       "      <td>7.5</td>\n",
       "      <td>3141427</td>\n",
       "      <td>30</td>\n",
       "    </tr>\n",
       "    <tr>\n",
       "      <th>5</th>\n",
       "      <td>201658</td>\n",
       "      <td>42858010324</td>\n",
       "      <td>7.5</td>\n",
       "      <td>3141427</td>\n",
       "      <td>8</td>\n",
       "    </tr>\n",
       "    <tr>\n",
       "      <th>6</th>\n",
       "      <td>201658</td>\n",
       "      <td>42858010324</td>\n",
       "      <td>7.5</td>\n",
       "      <td>3141427</td>\n",
       "      <td>5</td>\n",
       "    </tr>\n",
       "    <tr>\n",
       "      <th>7</th>\n",
       "      <td>201666</td>\n",
       "      <td>603388844</td>\n",
       "      <td>10.0</td>\n",
       "      <td>3139050</td>\n",
       "      <td>7</td>\n",
       "    </tr>\n",
       "    <tr>\n",
       "      <th>8</th>\n",
       "      <td>201666</td>\n",
       "      <td>603389244</td>\n",
       "      <td>7.5</td>\n",
       "      <td>3194529</td>\n",
       "      <td>4</td>\n",
       "    </tr>\n",
       "    <tr>\n",
       "      <th>9</th>\n",
       "      <td>201781</td>\n",
       "      <td>42858020473</td>\n",
       "      <td>10.0</td>\n",
       "      <td>3199300</td>\n",
       "      <td>5</td>\n",
       "    </tr>\n",
       "  </tbody>\n",
       "</table>\n",
       "</div>"
      ],
      "text/plain": [
       "    PATID         DCID  Strength     PhID  Days\n",
       "0  200599    406048533       4.5  3127172     3\n",
       "2  200810  62037052524       7.5  3127934     2\n",
       "1  200810  65162003434       4.5  3127934     4\n",
       "3  200810  65162003434       4.5  3127934     2\n",
       "4  201658  42858010324       7.5  3141427    30\n",
       "5  201658  42858010324       7.5  3141427     8\n",
       "6  201658  42858010324       7.5  3141427     5\n",
       "7  201666    603388844      10.0  3139050     7\n",
       "8  201666    603389244       7.5  3194529     4\n",
       "9  201781  42858020473      10.0  3199300     5"
      ]
     },
     "execution_count": 10,
     "metadata": {},
     "output_type": "execute_result"
    }
   ],
   "source": [
    "claim_selected_sorted.head(10)"
   ]
  },
  {
   "cell_type": "code",
   "execution_count": 11,
   "metadata": {},
   "outputs": [
    {
     "name": "stdout",
     "output_type": "stream",
     "text": [
      "<class 'pandas.core.frame.DataFrame'>\n",
      "Int64Index: 2000 entries, 0 to 1999\n",
      "Data columns (total 5 columns):\n",
      "PATID       2000 non-null int64\n",
      "DCID        2000 non-null int64\n",
      "Strength    2000 non-null float64\n",
      "PhID        2000 non-null int64\n",
      "Days        2000 non-null int64\n",
      "dtypes: float64(1), int64(4)\n",
      "memory usage: 93.8 KB\n"
     ]
    }
   ],
   "source": [
    "claim_selected_sorted.info()"
   ]
  },
  {
   "cell_type": "code",
   "execution_count": 12,
   "metadata": {},
   "outputs": [
    {
     "data": {
      "text/plain": [
       "Index(['PATID', 'DCID', 'Strength', 'PhID', 'Days'], dtype='object')"
      ]
     },
     "execution_count": 12,
     "metadata": {},
     "output_type": "execute_result"
    }
   ],
   "source": [
    "claim_selected_sorted.columns"
   ]
  },
  {
   "cell_type": "code",
   "execution_count": 30,
   "metadata": {},
   "outputs": [
    {
     "name": "stdout",
     "output_type": "stream",
     "text": [
      "<class 'pandas.core.frame.DataFrame'>\n",
      "Index: 0 entries\n",
      "Data columns (total 5 columns):\n",
      "PATID       0 non-null int64\n",
      "DCID        0 non-null int64\n",
      "Strength    0 non-null float64\n",
      "PhID        0 non-null int64\n",
      "Days        0 non-null int64\n",
      "dtypes: float64(1), int64(4)\n",
      "memory usage: 0.0+ bytes\n"
     ]
    }
   ],
   "source": [
    "# Create EMPTY claims_filtered DF\n",
    "claims_filtered = pd.DataFrame(columns=claim_selected_sorted.columns)\n",
    "claims_filtered['PATID'] = pd.to_numeric(claims_filtered['PATID'])\n",
    "claims_filtered['DCID'] = pd.to_numeric(claims_filtered['DCID']) \n",
    "claims_filtered['Strength'] = claims_filtered['Strength'].astype(float)\n",
    "claims_filtered['PhID'] = pd.to_numeric(claims_filtered['PhID']) \n",
    "claims_filtered['Days'] = pd.to_numeric(claims_filtered['Days'])\n",
    "claims_filtered.info()"
   ]
  },
  {
   "cell_type": "markdown",
   "metadata": {},
   "source": [
    "## OBSERVATION: On including Drug Id, out of 334 patients, ZERO patients have upgraded to higher doseage!!"
   ]
  },
  {
   "cell_type": "code",
   "execution_count": 31,
   "metadata": {},
   "outputs": [
    {
     "name": "stdout",
     "output_type": "stream",
     "text": [
      "claim_selected_sorted at Start:  2000 \n",
      "\n",
      "claims_filtered at Start:  0 \n",
      "\n",
      "claim_selected_sorted at End:  2000 \n",
      "\n",
      "claims_filtered at End:  0 \n",
      "\n"
     ]
    }
   ],
   "source": [
    "current_patientID = 0\n",
    "current_drugID = 0\n",
    "current_strength = 0.0\n",
    "current_row = 0\n",
    "\n",
    "print(\"claim_selected_sorted at Start: \", len(claim_selected_sorted),'\\n')\n",
    "print(\"claims_filtered at Start: \", len(claims_filtered), '\\n')\n",
    "\n",
    "for row in range(len(claim_selected_sorted)):\n",
    "    if (current_patientID == claim_selected_sorted.loc[row,'PATID'] ):\n",
    "        if (current_drugID == claim_selected_sorted.loc[row,'DCID']):\n",
    "            if (current_strength < claim_selected_sorted.loc[row,'Strength']):\n",
    "                claims_filtered.loc[current_row] = claim_selected_sorted.iloc[row]\n",
    "                print(\"Source : \", claim_selected_sorted.iloc[row], '\\n')\n",
    "                print(\"Filtered : \", claims_filtered.iloc[current_row], '\\n')\n",
    "                print(\"Strength Current: \", current_strength, \" New: \", claim_selected_sorted.loc[row,'Strength'] )\n",
    "                current_row += 1\n",
    "    current_patientID = claim_selected_sorted.loc[row,'PATID']\n",
    "    current_drugID = claim_selected_sorted.loc[row,'DCID']\n",
    "    current_strength = claim_selected_sorted.loc[row,'Strength']    \n",
    "    \n",
    "print(\"claim_selected_sorted at End: \", len(claim_selected_sorted),'\\n')\n",
    "print(\"claims_filtered at End: \", len(claims_filtered), '\\n')"
   ]
  },
  {
   "cell_type": "markdown",
   "metadata": {},
   "source": [
    "## Excluding the Drug ID in the Filter"
   ]
  },
  {
   "cell_type": "code",
   "execution_count": 32,
   "metadata": {},
   "outputs": [
    {
     "name": "stdout",
     "output_type": "stream",
     "text": [
      "claim_selected_sorted at Start:  2000 \n",
      "\n",
      "claims_filtered at Start:  0 \n",
      "\n",
      "claim_selected_sorted at End:  2000 \n",
      "\n",
      "claims_filtered at End:  297 \n",
      "\n"
     ]
    }
   ],
   "source": [
    "current_patientID = 0\n",
    "current_drugID = 0\n",
    "current_strength = 0.0\n",
    "current_row = 0\n",
    "\n",
    "print(\"claim_selected_sorted at Start: \", len(claim_selected_sorted),'\\n')\n",
    "print(\"claims_filtered at Start: \", len(claims_filtered), '\\n')\n",
    "\n",
    "for row in range(len(claim_selected_sorted)):\n",
    "    if (current_patientID == claim_selected_sorted.loc[row,'PATID'] ):\n",
    "#         if (current_drugID == claim_selected_sorted.loc[row,'DCID']):\n",
    "        if (current_strength < claim_selected_sorted.loc[row,'Strength']):\n",
    "            claims_filtered.loc[current_row] = claim_selected_sorted.iloc[row]\n",
    "#             print(\"Source : \", claim_selected_sorted.iloc[row], '\\n')\n",
    "#             print(\"Filtered : \", claims_filtered.iloc[current_row], '\\n')\n",
    "#             print(\"Strength Current: \", current_strength, \" New: \", claim_selected_sorted.loc[row,'Strength'] )\n",
    "            current_row += 1\n",
    "    current_patientID = claim_selected_sorted.loc[row,'PATID']\n",
    "    current_drugID = claim_selected_sorted.loc[row,'DCID']\n",
    "    current_strength = claim_selected_sorted.loc[row,'Strength']  \n",
    "    \n",
    "print(\"claim_selected_sorted at End: \", len(claim_selected_sorted),'\\n')\n",
    "print(\"claims_filtered at End: \", len(claims_filtered), '\\n')"
   ]
  },
  {
   "cell_type": "code",
   "execution_count": 45,
   "metadata": {},
   "outputs": [
    {
     "name": "stdout",
     "output_type": "stream",
     "text": [
      "<class 'pandas.core.frame.DataFrame'>\n",
      "Int64Index: 297 entries, 0 to 296\n",
      "Data columns (total 5 columns):\n",
      "PATID       297 non-null float64\n",
      "DCID        297 non-null float64\n",
      "Strength    297 non-null float64\n",
      "PhID        297 non-null float64\n",
      "Days        297 non-null float64\n",
      "dtypes: float64(5)\n",
      "memory usage: 13.9 KB\n"
     ]
    }
   ],
   "source": [
    "claims_filtered.info()"
   ]
  },
  {
   "cell_type": "code",
   "execution_count": 46,
   "metadata": {},
   "outputs": [
    {
     "name": "stdout",
     "output_type": "stream",
     "text": [
      "<class 'pandas.core.frame.DataFrame'>\n",
      "Int64Index: 297 entries, 0 to 296\n",
      "Data columns (total 5 columns):\n",
      "PATID       297 non-null int32\n",
      "DCID        297 non-null int32\n",
      "Strength    297 non-null float64\n",
      "PhID        297 non-null int32\n",
      "Days        297 non-null int32\n",
      "dtypes: float64(1), int32(4)\n",
      "memory usage: 9.3 KB\n"
     ]
    }
   ],
   "source": [
    "claims_filtered['PATID'] = claims_filtered['PATID'].astype(int) # pd.to_numeric(claims_filtered['PATID'])\n",
    "# claims_filtered['PATID'] = np.dtype(claims1_df['PATID']).type   # claims_filtered['PATID'].astype(int) \n",
    "claims_filtered['DCID'] = claims_filtered['DCID'].astype(int) # pd.to_numeric(claims_filtered['DCID']) \n",
    "claims_filtered['Strength'] = claims_filtered['Strength'].astype(float)\n",
    "claims_filtered['PhID'] = claims_filtered['PhID'].astype(int) # pd.to_numeric(claims_filtered['PhID']) \n",
    "claims_filtered['Days'] = claims_filtered['Days'].astype(int) # pd.to_numeric(claims_filtered['Days'])\n",
    "claims_filtered.info()"
   ]
  },
  {
   "cell_type": "code",
   "execution_count": 47,
   "metadata": {},
   "outputs": [
    {
     "name": "stdout",
     "output_type": "stream",
     "text": [
      "(297, 5)\n"
     ]
    },
    {
     "data": {
      "text/html": [
       "<div>\n",
       "<style scoped>\n",
       "    .dataframe tbody tr th:only-of-type {\n",
       "        vertical-align: middle;\n",
       "    }\n",
       "\n",
       "    .dataframe tbody tr th {\n",
       "        vertical-align: top;\n",
       "    }\n",
       "\n",
       "    .dataframe thead th {\n",
       "        text-align: right;\n",
       "    }\n",
       "</style>\n",
       "<table border=\"1\" class=\"dataframe\">\n",
       "  <thead>\n",
       "    <tr style=\"text-align: right;\">\n",
       "      <th></th>\n",
       "      <th>PATID</th>\n",
       "      <th>DCID</th>\n",
       "      <th>Strength</th>\n",
       "      <th>PhID</th>\n",
       "      <th>Days</th>\n",
       "    </tr>\n",
       "  </thead>\n",
       "  <tbody>\n",
       "    <tr>\n",
       "      <th>0</th>\n",
       "      <td>200810</td>\n",
       "      <td>-2147483648</td>\n",
       "      <td>4.5</td>\n",
       "      <td>3127934</td>\n",
       "      <td>4</td>\n",
       "    </tr>\n",
       "    <tr>\n",
       "      <th>1</th>\n",
       "      <td>203687</td>\n",
       "      <td>406051328</td>\n",
       "      <td>7.5</td>\n",
       "      <td>3196458</td>\n",
       "      <td>30</td>\n",
       "    </tr>\n",
       "    <tr>\n",
       "      <th>2</th>\n",
       "      <td>203857</td>\n",
       "      <td>-2147483648</td>\n",
       "      <td>45.0</td>\n",
       "      <td>3145079</td>\n",
       "      <td>30</td>\n",
       "    </tr>\n",
       "    <tr>\n",
       "      <th>3</th>\n",
       "      <td>203857</td>\n",
       "      <td>-2147483648</td>\n",
       "      <td>4.5</td>\n",
       "      <td>3127932</td>\n",
       "      <td>5</td>\n",
       "    </tr>\n",
       "    <tr>\n",
       "      <th>4</th>\n",
       "      <td>204961</td>\n",
       "      <td>-2147483648</td>\n",
       "      <td>5.0</td>\n",
       "      <td>3142847</td>\n",
       "      <td>3</td>\n",
       "    </tr>\n",
       "    <tr>\n",
       "      <th>5</th>\n",
       "      <td>205609</td>\n",
       "      <td>-2147483648</td>\n",
       "      <td>7.5</td>\n",
       "      <td>3136056</td>\n",
       "      <td>15</td>\n",
       "    </tr>\n",
       "    <tr>\n",
       "      <th>6</th>\n",
       "      <td>206959</td>\n",
       "      <td>-2147483648</td>\n",
       "      <td>15.0</td>\n",
       "      <td>3197323</td>\n",
       "      <td>30</td>\n",
       "    </tr>\n",
       "    <tr>\n",
       "      <th>7</th>\n",
       "      <td>207123</td>\n",
       "      <td>406833124</td>\n",
       "      <td>30.0</td>\n",
       "      <td>3149014</td>\n",
       "      <td>30</td>\n",
       "    </tr>\n",
       "    <tr>\n",
       "      <th>8</th>\n",
       "      <td>207123</td>\n",
       "      <td>406833124</td>\n",
       "      <td>30.0</td>\n",
       "      <td>3149014</td>\n",
       "      <td>30</td>\n",
       "    </tr>\n",
       "    <tr>\n",
       "      <th>9</th>\n",
       "      <td>207123</td>\n",
       "      <td>406833124</td>\n",
       "      <td>30.0</td>\n",
       "      <td>3149014</td>\n",
       "      <td>30</td>\n",
       "    </tr>\n",
       "  </tbody>\n",
       "</table>\n",
       "</div>"
      ],
      "text/plain": [
       "    PATID        DCID  Strength     PhID  Days\n",
       "0  200810 -2147483648       4.5  3127934     4\n",
       "1  203687   406051328       7.5  3196458    30\n",
       "2  203857 -2147483648      45.0  3145079    30\n",
       "3  203857 -2147483648       4.5  3127932     5\n",
       "4  204961 -2147483648       5.0  3142847     3\n",
       "5  205609 -2147483648       7.5  3136056    15\n",
       "6  206959 -2147483648      15.0  3197323    30\n",
       "7  207123   406833124      30.0  3149014    30\n",
       "8  207123   406833124      30.0  3149014    30\n",
       "9  207123   406833124      30.0  3149014    30"
      ]
     },
     "execution_count": 47,
     "metadata": {},
     "output_type": "execute_result"
    }
   ],
   "source": [
    "print(claims_filtered.shape)\n",
    "claims_filtered.head(10)"
   ]
  },
  {
   "cell_type": "markdown",
   "metadata": {},
   "source": [
    "## OBSERVATION: On excluding Drug Id, out of 334 patients, 297 patients have upgraded to higher doseage!!"
   ]
  },
  {
   "cell_type": "code",
   "execution_count": null,
   "metadata": {},
   "outputs": [],
   "source": []
  },
  {
   "cell_type": "markdown",
   "metadata": {},
   "source": [
    "## Markov Chain: Process Data from 'Claim_Dataset_Part2.csv' File"
   ]
  },
  {
   "cell_type": "code",
   "execution_count": 48,
   "metadata": {},
   "outputs": [
    {
     "name": "stdout",
     "output_type": "stream",
     "text": [
      "<class 'pandas.core.frame.DataFrame'>\n",
      "RangeIndex: 335 entries, 0 to 334\n",
      "Data columns (total 21 columns):\n",
      "PATID     335 non-null int64\n",
      "Fraud     335 non-null object\n",
      "Dec-16    103 non-null float64\n",
      "Jan-17    79 non-null float64\n",
      "Feb-17    80 non-null float64\n",
      "Mar-17    83 non-null float64\n",
      "Apr-17    77 non-null float64\n",
      "May-17    89 non-null float64\n",
      "Jun-17    96 non-null float64\n",
      "Jul-17    76 non-null float64\n",
      "Aug-17    83 non-null float64\n",
      "Sep-17    75 non-null float64\n",
      "Oct-17    76 non-null float64\n",
      "Nov-17    80 non-null float64\n",
      "Dec-17    88 non-null float64\n",
      "Jan-18    50 non-null float64\n",
      "Feb-18    58 non-null float64\n",
      "Mar-18    56 non-null float64\n",
      "Apr-18    62 non-null float64\n",
      "May-18    71 non-null float64\n",
      "Jun-18    78 non-null float64\n",
      "dtypes: float64(19), int64(1), object(1)\n",
      "memory usage: 55.0+ KB\n",
      "None\n"
     ]
    }
   ],
   "source": [
    "claims2_df=pd.read_csv('Claim_Dataset_Part2.csv', sep=',')\n",
    "print(claims2_df.info())"
   ]
  },
  {
   "cell_type": "code",
   "execution_count": 49,
   "metadata": {},
   "outputs": [
    {
     "data": {
      "text/html": [
       "<div>\n",
       "<style scoped>\n",
       "    .dataframe tbody tr th:only-of-type {\n",
       "        vertical-align: middle;\n",
       "    }\n",
       "\n",
       "    .dataframe tbody tr th {\n",
       "        vertical-align: top;\n",
       "    }\n",
       "\n",
       "    .dataframe thead th {\n",
       "        text-align: right;\n",
       "    }\n",
       "</style>\n",
       "<table border=\"1\" class=\"dataframe\">\n",
       "  <thead>\n",
       "    <tr style=\"text-align: right;\">\n",
       "      <th></th>\n",
       "      <th>PATID</th>\n",
       "      <th>Fraud</th>\n",
       "      <th>Dec-16</th>\n",
       "      <th>Jan-17</th>\n",
       "      <th>Feb-17</th>\n",
       "      <th>Mar-17</th>\n",
       "      <th>Apr-17</th>\n",
       "      <th>May-17</th>\n",
       "      <th>Jun-17</th>\n",
       "      <th>Jul-17</th>\n",
       "      <th>...</th>\n",
       "      <th>Sep-17</th>\n",
       "      <th>Oct-17</th>\n",
       "      <th>Nov-17</th>\n",
       "      <th>Dec-17</th>\n",
       "      <th>Jan-18</th>\n",
       "      <th>Feb-18</th>\n",
       "      <th>Mar-18</th>\n",
       "      <th>Apr-18</th>\n",
       "      <th>May-18</th>\n",
       "      <th>Jun-18</th>\n",
       "    </tr>\n",
       "  </thead>\n",
       "  <tbody>\n",
       "    <tr>\n",
       "      <th>0</th>\n",
       "      <td>200599</td>\n",
       "      <td>N</td>\n",
       "      <td>NaN</td>\n",
       "      <td>NaN</td>\n",
       "      <td>0.0</td>\n",
       "      <td>NaN</td>\n",
       "      <td>NaN</td>\n",
       "      <td>NaN</td>\n",
       "      <td>NaN</td>\n",
       "      <td>NaN</td>\n",
       "      <td>...</td>\n",
       "      <td>NaN</td>\n",
       "      <td>NaN</td>\n",
       "      <td>NaN</td>\n",
       "      <td>NaN</td>\n",
       "      <td>NaN</td>\n",
       "      <td>NaN</td>\n",
       "      <td>NaN</td>\n",
       "      <td>NaN</td>\n",
       "      <td>NaN</td>\n",
       "      <td>1.0</td>\n",
       "    </tr>\n",
       "    <tr>\n",
       "      <th>1</th>\n",
       "      <td>200810</td>\n",
       "      <td>N</td>\n",
       "      <td>NaN</td>\n",
       "      <td>NaN</td>\n",
       "      <td>NaN</td>\n",
       "      <td>NaN</td>\n",
       "      <td>NaN</td>\n",
       "      <td>NaN</td>\n",
       "      <td>NaN</td>\n",
       "      <td>NaN</td>\n",
       "      <td>...</td>\n",
       "      <td>NaN</td>\n",
       "      <td>NaN</td>\n",
       "      <td>NaN</td>\n",
       "      <td>NaN</td>\n",
       "      <td>NaN</td>\n",
       "      <td>NaN</td>\n",
       "      <td>NaN</td>\n",
       "      <td>NaN</td>\n",
       "      <td>1.0</td>\n",
       "      <td>1.0</td>\n",
       "    </tr>\n",
       "    <tr>\n",
       "      <th>2</th>\n",
       "      <td>201658</td>\n",
       "      <td>N</td>\n",
       "      <td>NaN</td>\n",
       "      <td>1.0</td>\n",
       "      <td>NaN</td>\n",
       "      <td>1.0</td>\n",
       "      <td>NaN</td>\n",
       "      <td>1.0</td>\n",
       "      <td>NaN</td>\n",
       "      <td>NaN</td>\n",
       "      <td>...</td>\n",
       "      <td>NaN</td>\n",
       "      <td>NaN</td>\n",
       "      <td>NaN</td>\n",
       "      <td>NaN</td>\n",
       "      <td>NaN</td>\n",
       "      <td>NaN</td>\n",
       "      <td>NaN</td>\n",
       "      <td>NaN</td>\n",
       "      <td>NaN</td>\n",
       "      <td>NaN</td>\n",
       "    </tr>\n",
       "    <tr>\n",
       "      <th>3</th>\n",
       "      <td>201666</td>\n",
       "      <td>N</td>\n",
       "      <td>NaN</td>\n",
       "      <td>1.0</td>\n",
       "      <td>NaN</td>\n",
       "      <td>1.0</td>\n",
       "      <td>NaN</td>\n",
       "      <td>NaN</td>\n",
       "      <td>NaN</td>\n",
       "      <td>NaN</td>\n",
       "      <td>...</td>\n",
       "      <td>NaN</td>\n",
       "      <td>NaN</td>\n",
       "      <td>NaN</td>\n",
       "      <td>NaN</td>\n",
       "      <td>NaN</td>\n",
       "      <td>NaN</td>\n",
       "      <td>NaN</td>\n",
       "      <td>NaN</td>\n",
       "      <td>NaN</td>\n",
       "      <td>NaN</td>\n",
       "    </tr>\n",
       "    <tr>\n",
       "      <th>4</th>\n",
       "      <td>201781</td>\n",
       "      <td>N</td>\n",
       "      <td>NaN</td>\n",
       "      <td>NaN</td>\n",
       "      <td>NaN</td>\n",
       "      <td>NaN</td>\n",
       "      <td>NaN</td>\n",
       "      <td>NaN</td>\n",
       "      <td>1.0</td>\n",
       "      <td>NaN</td>\n",
       "      <td>...</td>\n",
       "      <td>NaN</td>\n",
       "      <td>NaN</td>\n",
       "      <td>NaN</td>\n",
       "      <td>NaN</td>\n",
       "      <td>NaN</td>\n",
       "      <td>NaN</td>\n",
       "      <td>NaN</td>\n",
       "      <td>NaN</td>\n",
       "      <td>NaN</td>\n",
       "      <td>NaN</td>\n",
       "    </tr>\n",
       "  </tbody>\n",
       "</table>\n",
       "<p>5 rows × 21 columns</p>\n",
       "</div>"
      ],
      "text/plain": [
       "    PATID Fraud  Dec-16  Jan-17  Feb-17  Mar-17  Apr-17  May-17  Jun-17  \\\n",
       "0  200599     N     NaN     NaN     0.0     NaN     NaN     NaN     NaN   \n",
       "1  200810     N     NaN     NaN     NaN     NaN     NaN     NaN     NaN   \n",
       "2  201658     N     NaN     1.0     NaN     1.0     NaN     1.0     NaN   \n",
       "3  201666     N     NaN     1.0     NaN     1.0     NaN     NaN     NaN   \n",
       "4  201781     N     NaN     NaN     NaN     NaN     NaN     NaN     1.0   \n",
       "\n",
       "   Jul-17  ...  Sep-17  Oct-17  Nov-17  Dec-17  Jan-18  Feb-18  Mar-18  \\\n",
       "0     NaN  ...     NaN     NaN     NaN     NaN     NaN     NaN     NaN   \n",
       "1     NaN  ...     NaN     NaN     NaN     NaN     NaN     NaN     NaN   \n",
       "2     NaN  ...     NaN     NaN     NaN     NaN     NaN     NaN     NaN   \n",
       "3     NaN  ...     NaN     NaN     NaN     NaN     NaN     NaN     NaN   \n",
       "4     NaN  ...     NaN     NaN     NaN     NaN     NaN     NaN     NaN   \n",
       "\n",
       "   Apr-18  May-18  Jun-18  \n",
       "0     NaN     NaN     1.0  \n",
       "1     NaN     1.0     1.0  \n",
       "2     NaN     NaN     NaN  \n",
       "3     NaN     NaN     NaN  \n",
       "4     NaN     NaN     NaN  \n",
       "\n",
       "[5 rows x 21 columns]"
      ]
     },
     "execution_count": 49,
     "metadata": {},
     "output_type": "execute_result"
    }
   ],
   "source": [
    "claims2_df.head(5)"
   ]
  },
  {
   "cell_type": "markdown",
   "metadata": {},
   "source": [
    "## Define state space of an event"
   ]
  },
  {
   "cell_type": "code",
   "execution_count": 50,
   "metadata": {},
   "outputs": [
    {
     "name": "stdout",
     "output_type": "stream",
     "text": [
      "Fraud States Count:  2 \n",
      "\n"
     ]
    },
    {
     "data": {
      "text/plain": [
       "['N', 'Y']"
      ]
     },
     "execution_count": 50,
     "metadata": {},
     "output_type": "execute_result"
    }
   ],
   "source": [
    "fraud_states = claims2_df['Fraud'].unique().tolist()\n",
    "print(\"Fraud States Count: \", len(fraud_states), '\\n')\n",
    "fraud_states"
   ]
  },
  {
   "cell_type": "code",
   "execution_count": 51,
   "metadata": {},
   "outputs": [
    {
     "name": "stdout",
     "output_type": "stream",
     "text": [
      "2\n"
     ]
    }
   ],
   "source": [
    "size = len(fraud_states)\n",
    "print(size)"
   ]
  },
  {
   "cell_type": "code",
   "execution_count": 52,
   "metadata": {},
   "outputs": [
    {
     "data": {
      "text/plain": [
       "array([[0., 0.],\n",
       "       [0., 0.]])"
      ]
     },
     "execution_count": 52,
     "metadata": {},
     "output_type": "execute_result"
    }
   ],
   "source": [
    "# Possible sequences of events\n",
    "transitionName = [[\"F\",\"N\"],[\"F\",\"F\"],['N', 'N'], ['N', 'Y']]\n",
    "\n",
    "# Probabilities matrix (transition matrix - an empty one)\n",
    "import numpy as np\n",
    "transitionMatrix = np.zeros((size,size))\n",
    "transitionMatrix"
   ]
  },
  {
   "cell_type": "code",
   "execution_count": 53,
   "metadata": {},
   "outputs": [
    {
     "data": {
      "text/plain": [
       "[200599,\n",
       " 200810,\n",
       " 201658,\n",
       " 201666,\n",
       " 201781,\n",
       " 202002,\n",
       " 202743,\n",
       " 202840,\n",
       " 203418,\n",
       " 203448,\n",
       " 203626,\n",
       " 203687,\n",
       " 203857,\n",
       " 203863,\n",
       " 203930,\n",
       " 203938,\n",
       " 204021,\n",
       " 204961,\n",
       " 205167,\n",
       " 205609,\n",
       " 206062,\n",
       " 206242,\n",
       " 206322,\n",
       " 206611,\n",
       " 206959,\n",
       " 207002,\n",
       " 207040,\n",
       " 207123,\n",
       " 207125,\n",
       " 207141,\n",
       " 207151,\n",
       " 207822,\n",
       " 208304,\n",
       " 208411,\n",
       " 208420,\n",
       " 208760,\n",
       " 208821,\n",
       " 209420,\n",
       " 209624,\n",
       " 210195,\n",
       " 210238,\n",
       " 210993,\n",
       " 211254,\n",
       " 211337,\n",
       " 211383,\n",
       " 211550,\n",
       " 211570,\n",
       " 211626,\n",
       " 211652,\n",
       " 211677,\n",
       " 211704,\n",
       " 211734,\n",
       " 211785,\n",
       " 211860,\n",
       " 211911,\n",
       " 211944,\n",
       " 212131,\n",
       " 212214,\n",
       " 212593,\n",
       " 212613,\n",
       " 212846,\n",
       " 212877,\n",
       " 213118,\n",
       " 213192,\n",
       " 213768,\n",
       " 214116,\n",
       " 214277,\n",
       " 214742,\n",
       " 214816,\n",
       " 215080,\n",
       " 215146,\n",
       " 215404,\n",
       " 216020,\n",
       " 216068,\n",
       " 216185,\n",
       " 216266,\n",
       " 216339,\n",
       " 216363,\n",
       " 216555,\n",
       " 216638,\n",
       " 216673,\n",
       " 216708,\n",
       " 216733,\n",
       " 216910,\n",
       " 216915,\n",
       " 216959,\n",
       " 217289,\n",
       " 217394,\n",
       " 217502,\n",
       " 217544,\n",
       " 217823,\n",
       " 217963,\n",
       " 218042,\n",
       " 218066,\n",
       " 218074,\n",
       " 218603,\n",
       " 218617,\n",
       " 218655,\n",
       " 218736,\n",
       " 219155,\n",
       " 219304,\n",
       " 219360,\n",
       " 219441,\n",
       " 219457,\n",
       " 219474,\n",
       " 219572,\n",
       " 219644,\n",
       " 220062,\n",
       " 220387,\n",
       " 220786,\n",
       " 220932,\n",
       " 222352,\n",
       " 223439,\n",
       " 224019,\n",
       " 224023,\n",
       " 224049,\n",
       " 224074,\n",
       " 224124,\n",
       " 224150,\n",
       " 225000,\n",
       " 225051,\n",
       " 225156,\n",
       " 225377,\n",
       " 225458,\n",
       " 225462,\n",
       " 225546,\n",
       " 225598,\n",
       " 225656,\n",
       " 226093,\n",
       " 226127,\n",
       " 226227,\n",
       " 226612,\n",
       " 226614,\n",
       " 226622,\n",
       " 226639,\n",
       " 226815,\n",
       " 226837,\n",
       " 226892,\n",
       " 226930,\n",
       " 226977,\n",
       " 227187,\n",
       " 227225,\n",
       " 227248,\n",
       " 227462,\n",
       " 227479,\n",
       " 227484,\n",
       " 227698,\n",
       " 227736,\n",
       " 227764,\n",
       " 227770,\n",
       " 227821,\n",
       " 227859,\n",
       " 227878,\n",
       " 228165,\n",
       " 228183,\n",
       " 228246,\n",
       " 228333,\n",
       " 228353,\n",
       " 228546,\n",
       " 228558,\n",
       " 228720,\n",
       " 229103,\n",
       " 229110,\n",
       " 229356,\n",
       " 229802,\n",
       " 229993,\n",
       " 230445,\n",
       " 230519,\n",
       " 230542,\n",
       " 230958,\n",
       " 231176,\n",
       " 231207,\n",
       " 231257,\n",
       " 231670,\n",
       " 231758,\n",
       " 231761,\n",
       " 231786,\n",
       " 231831,\n",
       " 231908,\n",
       " 231918,\n",
       " 231996,\n",
       " 232268,\n",
       " 232310,\n",
       " 232535,\n",
       " 232887,\n",
       " 233100,\n",
       " 233183,\n",
       " 233379,\n",
       " 233388,\n",
       " 233523,\n",
       " 233619,\n",
       " 233827,\n",
       " 233991,\n",
       " 234064,\n",
       " 234078,\n",
       " 234115,\n",
       " 234155,\n",
       " 234200,\n",
       " 234285,\n",
       " 234299,\n",
       " 234349,\n",
       " 234367,\n",
       " 234607,\n",
       " 234740,\n",
       " 234752,\n",
       " 234905,\n",
       " 234906,\n",
       " 235169,\n",
       " 235273,\n",
       " 235316,\n",
       " 235488,\n",
       " 235489,\n",
       " 235589,\n",
       " 235756,\n",
       " 235923,\n",
       " 235968,\n",
       " 236000,\n",
       " 236664,\n",
       " 236992,\n",
       " 237154,\n",
       " 237213,\n",
       " 237278,\n",
       " 237801,\n",
       " 237864,\n",
       " 238136,\n",
       " 238742,\n",
       " 238750,\n",
       " 238782,\n",
       " 238813,\n",
       " 238863,\n",
       " 238952,\n",
       " 239124,\n",
       " 239191,\n",
       " 239199,\n",
       " 239412,\n",
       " 239892,\n",
       " 239918,\n",
       " 239948,\n",
       " 240244,\n",
       " 240466,\n",
       " 241004,\n",
       " 241612,\n",
       " 241861,\n",
       " 241943,\n",
       " 241994,\n",
       " 242664,\n",
       " 242852,\n",
       " 243376,\n",
       " 243423,\n",
       " 243938,\n",
       " 244043,\n",
       " 244110,\n",
       " 244211,\n",
       " 244716,\n",
       " 245254,\n",
       " 245335,\n",
       " 245485,\n",
       " 245607,\n",
       " 246077,\n",
       " 246078,\n",
       " 246498,\n",
       " 246580,\n",
       " 247338,\n",
       " 247602,\n",
       " 247619,\n",
       " 247912,\n",
       " 248297,\n",
       " 249903,\n",
       " 249959,\n",
       " 251625,\n",
       " 252006,\n",
       " 252514,\n",
       " 253212,\n",
       " 253364,\n",
       " 253415,\n",
       " 253453,\n",
       " 253567,\n",
       " 253771,\n",
       " 254460,\n",
       " 254954,\n",
       " 255440,\n",
       " 255499,\n",
       " 255596,\n",
       " 255741,\n",
       " 255839,\n",
       " 256381,\n",
       " 256398,\n",
       " 256444,\n",
       " 256493,\n",
       " 257230,\n",
       " 257289,\n",
       " 257402,\n",
       " 257424,\n",
       " 257785,\n",
       " 257787,\n",
       " 258169,\n",
       " 258214,\n",
       " 258473,\n",
       " 258670,\n",
       " 259160,\n",
       " 259356,\n",
       " 259664,\n",
       " 259674,\n",
       " 259731,\n",
       " 259952,\n",
       " 260632,\n",
       " 260778,\n",
       " 261080,\n",
       " 261423,\n",
       " 261466,\n",
       " 261593,\n",
       " 261725,\n",
       " 261888,\n",
       " 261960,\n",
       " 261978,\n",
       " 262011,\n",
       " 262049,\n",
       " 262092,\n",
       " 262426,\n",
       " 262436,\n",
       " 262452,\n",
       " 262592,\n",
       " 262738,\n",
       " 262825,\n",
       " 262957,\n",
       " 262969,\n",
       " 263117,\n",
       " 263262,\n",
       " 263426,\n",
       " 263432,\n",
       " 263627,\n",
       " 263643,\n",
       " 263655,\n",
       " 263829]"
      ]
     },
     "execution_count": 53,
     "metadata": {},
     "output_type": "execute_result"
    }
   ],
   "source": [
    "patients_list = claims2_df['PATID'].unique().tolist()\n",
    "patients_list"
   ]
  },
  {
   "cell_type": "markdown",
   "metadata": {},
   "source": [
    "## Draw inference by estimating posterior probabilities of events"
   ]
  },
  {
   "cell_type": "code",
   "execution_count": 54,
   "metadata": {},
   "outputs": [
    {
     "data": {
      "text/plain": [
       "array([[1.067e+03, 1.000e+00],\n",
       "       [1.000e+00, 5.600e+01]])"
      ]
     },
     "execution_count": 54,
     "metadata": {},
     "output_type": "execute_result"
    }
   ],
   "source": [
    "for x in patients_list:\n",
    "  single_patient = claims2_df.loc[claims2_df['PATID'] == x]\n",
    "  fraud1 = \"NA\"\n",
    "  for i in range(2,21):\n",
    "        for j in range(0,len(single_patient)):\n",
    "            num = single_patient.values[j,i]\n",
    "            if (num == 1.0):\n",
    "                if (fraud1 == \"NA\"):\n",
    "                    fraud1 = single_patient.values[j,1]\n",
    "                else:\n",
    "                    fraud2 = single_patient.values[j,1]\n",
    "                    if (fraud1 == \"N\" and fraud2 == \"N\"):\n",
    "                        transitionMatrix[0,0] = transitionMatrix[0,0] + 1\n",
    "                    if (fraud1 == \"N\" and fraud2 == \"Y\"):\n",
    "                        transitionMatrix[0,1] = transitionMatrix[0,1] + 1\n",
    "                    if (fraud1 == \"Y\" and fraud2 == \"N\"):\n",
    "                        transitionMatrix[1,0] = transitionMatrix[1,0] + 1\n",
    "                    if (fraud1 == \"Y\" and fraud2 == \"Y\"):\n",
    "                        transitionMatrix[1,1] = transitionMatrix[1,1] + 1\n",
    "\n",
    "                    fraud1 = fraud2\n",
    "transitionMatrix"
   ]
  },
  {
   "cell_type": "code",
   "execution_count": 55,
   "metadata": {},
   "outputs": [],
   "source": [
    "transitionMatrix=(transitionMatrix.T/transitionMatrix.sum(axis=1)).T"
   ]
  },
  {
   "cell_type": "code",
   "execution_count": 56,
   "metadata": {},
   "outputs": [],
   "source": [
    "import numpy as np\n",
    "import random as rm\n",
    "def fraud_forecast(fraud_num):\n",
    "    # Choose the starting state\n",
    "    first_fraud = \"N\"\n",
    "    print(\"First Fraud: \" + first_fraud)\n",
    "    # Shall store the sequence of states taken. So, this only has the starting state for now.\n",
    "    fraudList = [first_fraud]\n",
    "    i = 0\n",
    "    # To calculate the probability of the fraudList\n",
    "    prob = 1\n",
    "    while i != fraud_num:\n",
    "        if first_fraud == \"N\":\n",
    "            change = np.random.choice(transitionName[0],replace=True,p=transitionMatrix[0])\n",
    "            if change == \"Y\":\n",
    "                prob = prob * transitionMatrix[0,0]\n",
    "                first_fraud = \"Y\"\n",
    "                fraudList.append(\"Y\")\n",
    "                pass\n",
    "            else:\n",
    "                prob = prob * transitionMatrix[0,1]\n",
    "                first_fraud = \"N\"\n",
    "                fraudList.append(\"N\")\n",
    "\n",
    "        elif first_fraud == \"Y\":\n",
    "            change = np.random.choice(transitionName[1],replace=True,p=transitionMatrix[1])\n",
    "            if change == \"N\":\n",
    "                prob = prob * transitionMatrix[1,0]\n",
    "                fraudList.append(\"N\")\n",
    "                pass\n",
    "            else:\n",
    "                prob = prob * transitionMatrix[1,1]\n",
    "                first_purchase = \"Y\"\n",
    "                fraudList.append(\"Y\")\n",
    "        i += 1  \n",
    "    print(\"Possible states: \" + str(fraudList))\n",
    "    print(\"Probability of the possible sequence of states: \" + str(prob))"
   ]
  },
  {
   "cell_type": "code",
   "execution_count": 57,
   "metadata": {},
   "outputs": [
    {
     "name": "stdout",
     "output_type": "stream",
     "text": [
      "First Fraud: N\n",
      "Possible states: ['N', 'N', 'N', 'N', 'N', 'N', 'N', 'N', 'N', 'N', 'N']\n",
      "Probability of the possible sequence of states: 5.179495654908889e-31\n"
     ]
    }
   ],
   "source": [
    "fraud_forecast(10)"
   ]
  },
  {
   "cell_type": "markdown",
   "metadata": {},
   "source": [
    "## Inferences\n",
    "\n",
    "1) Very LOW number for the \"Probability of the possible sequence of states\", based on the data\n",
    "2) As a result, for a sequence of ten, the forcast of the state does not change\n",
    "\n",
    "## Note\n",
    "\n",
    "Tech. Support, upon review, has commented this implementation meets and exceeds expectations"
   ]
  },
  {
   "cell_type": "code",
   "execution_count": 58,
   "metadata": {},
   "outputs": [
    {
     "data": {
      "text/plain": [
       "1561652090.8884711"
      ]
     },
     "execution_count": 58,
     "metadata": {},
     "output_type": "execute_result"
    }
   ],
   "source": [
    "end_time = time.time()\n",
    "end_time"
   ]
  },
  {
   "cell_type": "code",
   "execution_count": 59,
   "metadata": {},
   "outputs": [
    {
     "data": {
      "text/plain": [
       "41.004345417022705"
      ]
     },
     "execution_count": 59,
     "metadata": {},
     "output_type": "execute_result"
    }
   ],
   "source": [
    "elapsed_time = end_time - start_time\n",
    "elapsed_time"
   ]
  },
  {
   "cell_type": "code",
   "execution_count": null,
   "metadata": {},
   "outputs": [],
   "source": []
  }
 ],
 "metadata": {
  "kernelspec": {
   "display_name": "Python 3",
   "language": "python",
   "name": "python3"
  },
  "language_info": {
   "codemirror_mode": {
    "name": "ipython",
    "version": 3
   },
   "file_extension": ".py",
   "mimetype": "text/x-python",
   "name": "python",
   "nbconvert_exporter": "python",
   "pygments_lexer": "ipython3",
   "version": "3.6.5"
  }
 },
 "nbformat": 4,
 "nbformat_minor": 2
}
