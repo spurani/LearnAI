{
 "cells": [
  {
   "cell_type": "markdown",
   "metadata": {},
   "source": [
    "# Module 3:  Markov's Network - Demo 1: Product"
   ]
  },
  {
   "cell_type": "code",
   "execution_count": 2,
   "metadata": {},
   "outputs": [
    {
     "data": {
      "text/html": [
       "<div>\n",
       "<style scoped>\n",
       "    .dataframe tbody tr th:only-of-type {\n",
       "        vertical-align: middle;\n",
       "    }\n",
       "\n",
       "    .dataframe tbody tr th {\n",
       "        vertical-align: top;\n",
       "    }\n",
       "\n",
       "    .dataframe thead th {\n",
       "        text-align: right;\n",
       "    }\n",
       "</style>\n",
       "<table border=\"1\" class=\"dataframe\">\n",
       "  <thead>\n",
       "    <tr style=\"text-align: right;\">\n",
       "      <th></th>\n",
       "      <th>Customer</th>\n",
       "      <th>Product</th>\n",
       "      <th>Jan'18</th>\n",
       "      <th>Feb'18</th>\n",
       "      <th>Mar'18</th>\n",
       "      <th>Apr'18</th>\n",
       "      <th>May'18</th>\n",
       "      <th>June'18</th>\n",
       "      <th>July'18</th>\n",
       "    </tr>\n",
       "  </thead>\n",
       "  <tbody>\n",
       "    <tr>\n",
       "      <th>0</th>\n",
       "      <td>Cust_1</td>\n",
       "      <td>T-Shirts</td>\n",
       "      <td>1.0</td>\n",
       "      <td>NaN</td>\n",
       "      <td>1.0</td>\n",
       "      <td>1.0</td>\n",
       "      <td>NaN</td>\n",
       "      <td>NaN</td>\n",
       "      <td>NaN</td>\n",
       "    </tr>\n",
       "    <tr>\n",
       "      <th>1</th>\n",
       "      <td>Cust_1</td>\n",
       "      <td>Shoes</td>\n",
       "      <td>NaN</td>\n",
       "      <td>1.0</td>\n",
       "      <td>NaN</td>\n",
       "      <td>NaN</td>\n",
       "      <td>NaN</td>\n",
       "      <td>1.0</td>\n",
       "      <td>NaN</td>\n",
       "    </tr>\n",
       "    <tr>\n",
       "      <th>2</th>\n",
       "      <td>Cust_1</td>\n",
       "      <td>Denims</td>\n",
       "      <td>NaN</td>\n",
       "      <td>NaN</td>\n",
       "      <td>NaN</td>\n",
       "      <td>NaN</td>\n",
       "      <td>1.0</td>\n",
       "      <td>NaN</td>\n",
       "      <td>1.0</td>\n",
       "    </tr>\n",
       "    <tr>\n",
       "      <th>3</th>\n",
       "      <td>Cust_2</td>\n",
       "      <td>Shoes</td>\n",
       "      <td>NaN</td>\n",
       "      <td>1.0</td>\n",
       "      <td>NaN</td>\n",
       "      <td>NaN</td>\n",
       "      <td>NaN</td>\n",
       "      <td>NaN</td>\n",
       "      <td>1.0</td>\n",
       "    </tr>\n",
       "    <tr>\n",
       "      <th>4</th>\n",
       "      <td>Cust_2</td>\n",
       "      <td>T-Shirts</td>\n",
       "      <td>1.0</td>\n",
       "      <td>NaN</td>\n",
       "      <td>NaN</td>\n",
       "      <td>NaN</td>\n",
       "      <td>1.0</td>\n",
       "      <td>NaN</td>\n",
       "      <td>NaN</td>\n",
       "    </tr>\n",
       "  </tbody>\n",
       "</table>\n",
       "</div>"
      ],
      "text/plain": [
       "  Customer   Product  Jan'18  Feb'18  Mar'18  Apr'18  May'18  June'18  July'18\n",
       "0   Cust_1  T-Shirts     1.0     NaN     1.0     1.0     NaN      NaN      NaN\n",
       "1   Cust_1     Shoes     NaN     1.0     NaN     NaN     NaN      1.0      NaN\n",
       "2   Cust_1    Denims     NaN     NaN     NaN     NaN     1.0      NaN      1.0\n",
       "3   Cust_2     Shoes     NaN     1.0     NaN     NaN     NaN      NaN      1.0\n",
       "4   Cust_2  T-Shirts     1.0     NaN     NaN     NaN     1.0      NaN      NaN"
      ]
     },
     "execution_count": 2,
     "metadata": {},
     "output_type": "execute_result"
    }
   ],
   "source": [
    "# Reading the Data using pandas\n",
    "import pandas as pd\n",
    "data= pd.read_csv('Markov_data.csv')\n",
    "data.head()\n"
   ]
  },
  {
   "cell_type": "code",
   "execution_count": 3,
   "metadata": {},
   "outputs": [
    {
     "data": {
      "text/plain": [
       "['T-Shirts', 'Shoes', 'Denims']"
      ]
     },
     "execution_count": 3,
     "metadata": {},
     "output_type": "execute_result"
    }
   ],
   "source": [
    "states = data['Product'].unique().tolist()\n",
    "states\n"
   ]
  },
  {
   "cell_type": "code",
   "execution_count": 4,
   "metadata": {},
   "outputs": [
    {
     "name": "stdout",
     "output_type": "stream",
     "text": [
      "3\n"
     ]
    }
   ],
   "source": [
    "size = len(states)\n",
    "print(size)"
   ]
  },
  {
   "cell_type": "code",
   "execution_count": 5,
   "metadata": {},
   "outputs": [
    {
     "data": {
      "text/plain": [
       "array([[0., 0., 0.],\n",
       "       [0., 0., 0.],\n",
       "       [0., 0., 0.]])"
      ]
     },
     "execution_count": 5,
     "metadata": {},
     "output_type": "execute_result"
    }
   ],
   "source": [
    "# Possible sequences of events\n",
    "transitionName = [[\"TT\",\"TS\",\"TD\"],[\"ST\",\"SS\",\"SD\"],[\"DT\",\"DS\",\"DD\"]]\n",
    "\n",
    "# Probabilities matrix (transition matrix - an empty one)\n",
    "import numpy as np\n",
    "transitionMatrix = np.zeros((size,size))\n",
    "transitionMatrix\n"
   ]
  },
  {
   "cell_type": "code",
   "execution_count": 6,
   "metadata": {},
   "outputs": [
    {
     "data": {
      "text/plain": [
       "['Cust_1',\n",
       " 'Cust_2',\n",
       " 'Cust_3',\n",
       " 'Cust_4',\n",
       " 'Cust_5',\n",
       " 'Cust_6',\n",
       " 'Cust_7',\n",
       " 'Cust_8',\n",
       " 'Cust_9',\n",
       " 'Cust_10',\n",
       " 'Cust_11']"
      ]
     },
     "execution_count": 6,
     "metadata": {},
     "output_type": "execute_result"
    }
   ],
   "source": [
    "cust_list = data['Customer'].unique().tolist()\n",
    "cust_list\n"
   ]
  },
  {
   "cell_type": "code",
   "execution_count": 7,
   "metadata": {},
   "outputs": [
    {
     "data": {
      "text/plain": [
       "array([[8., 9., 6.],\n",
       "       [5., 3., 3.],\n",
       "       [6., 3., 2.]])"
      ]
     },
     "execution_count": 7,
     "metadata": {},
     "output_type": "execute_result"
    }
   ],
   "source": [
    "for x in cust_list:\n",
    "  single_cust = data.loc[data['Customer'] == x]\n",
    "  prod1 = \"NA\"\n",
    "  for i in range(2,9):\n",
    "        for j in range(0,len(single_cust)):\n",
    "            num = single_cust.values[j,i]\n",
    "            if (num == 1.0):\n",
    "                if (prod1 == \"NA\"):\n",
    "                    prod1 = single_cust.values[j,1]\n",
    "                else:\n",
    "                    prod2 = single_cust.values[j,1]\n",
    "                    if (prod1 == \"T-Shirts\" and prod2 == \"T-Shirts\"):\n",
    "                        transitionMatrix[0,0] = transitionMatrix[0,0] + 1\n",
    "                    if (prod1 == \"T-Shirts\" and prod2 == \"Shoes\"):\n",
    "                        transitionMatrix[0,1] = transitionMatrix[0,1] + 1\n",
    "                    if (prod1 == \"T-Shirts\" and prod2 == \"Denims\"):\n",
    "                        transitionMatrix[0,2] = transitionMatrix[0,2] + 1\n",
    "                    if (prod1 == \"Shoes\" and prod2 == \"T-Shirts\"):\n",
    "                        transitionMatrix[1,0] = transitionMatrix[1,0] + 1\n",
    "                    if (prod1 == \"Shoes\" and prod2 == \"Shoes\"):\n",
    "                        transitionMatrix[1,1] = transitionMatrix[1,1] + 1\n",
    "                    if (prod1 == \"Shoes\" and prod2 == \"Denims\"):\n",
    "                        transitionMatrix[1,2] = transitionMatrix[1,2] + 1\n",
    "                    if (prod1 == \"Denims\" and prod2 == \"T-Shirts\"):\n",
    "                        transitionMatrix[2,0] = transitionMatrix[2,0] + 1\n",
    "                    if (prod1 == \"Denims\" and prod2 == \"Shoes\"):\n",
    "                        transitionMatrix[2,1] = transitionMatrix[2,1] + 1\n",
    "                    if (prod1 == \"Denims\" and prod2 == \"Denims\"):\n",
    "                        transitionMatrix[2,2] = transitionMatrix[2,2] + 1\n",
    "                    prod1 = prod2\n",
    "transitionMatrix\n"
   ]
  },
  {
   "cell_type": "code",
   "execution_count": 8,
   "metadata": {
    "collapsed": true
   },
   "outputs": [],
   "source": [
    "transitionMatrix=(transitionMatrix.T/transitionMatrix.sum(axis=1)).T\n"
   ]
  },
  {
   "cell_type": "code",
   "execution_count": 10,
   "metadata": {
    "collapsed": true
   },
   "outputs": [],
   "source": [
    "import numpy as np\n",
    "import random as rm\n",
    "def purchase_forecast(purchase_num):\n",
    "    # Choose the starting state\n",
    "    first_purchase = \"Shoes\"\n",
    "    print(\"First Purchase: \" + first_purchase)\n",
    "    # Shall store the sequence of states taken. So, this only has the starting state for now.\n",
    "    purchaseList = [first_purchase]\n",
    "    i = 0\n",
    "    # To calculate the probability of the purchaseList\n",
    "    prob = 1\n",
    "    while i != purchase_num:\n",
    "        if first_purchase == \"Shoes\":\n",
    "            change = np.random.choice(transitionName[0],replace=True,p=transitionMatrix[0])\n",
    "            if change == \"ST\":\n",
    "                prob = prob * transitionMatrix[1,0]\n",
    "                first_purchase = \"T-Shirts\"\n",
    "                purchaseList.append(\"T-Shirts\")\n",
    "                pass\n",
    "            elif change == \"SS\":\n",
    "                prob = prob * transitionMatrix[1,1]\n",
    "                purchaseList.append(\"Shoes\")\n",
    "            else:\n",
    "                prob = prob * transitionMatrix[1,2]\n",
    "                first_purchase = \"Denims\"\n",
    "                purchaseList.append(\"Denims\")\n",
    "        elif first_purchase == \"T-Shirts\":\n",
    "            change = np.random.choice(transitionName[1],replace=True,p=transitionMatrix[1])\n",
    "            if change == \"TT\":\n",
    "                prob = prob * transitionMatrix[0,0]\n",
    "                purchaseList.append(\"T-Shirts\")\n",
    "                pass\n",
    "            elif change == \"TS\":\n",
    "                prob = prob * transitionMatrix[0,1]\n",
    "                first_purchase = \"Shoes\"\n",
    "                purchaseList.append(\"Shoes\")\n",
    "            else:\n",
    "                prob = prob * transitionMatrix[0,2]\n",
    "                first_purchase = \"Denims\"\n",
    "                purchaseList.append(\"Denims\")\n",
    "        elif first_purchase == \"Denims\":\n",
    "            change = np.random.choice(transitionName[2],replace=True,p=transitionMatrix[2])\n",
    "            if change == \"DT\":\n",
    "                prob = prob * transitionMatrix[2,0]\n",
    "                purchaseList.append(\"T-Shirts\")\n",
    "                pass\n",
    "            elif change == \"DS\":\n",
    "                prob = prob * transitionMatrix[2,1]\n",
    "                first_purchase = \"Shoes\"\n",
    "                purchaseList.append(\"Shoes\")\n",
    "            else:\n",
    "                prob = prob * transitionMatrix[2,2]\n",
    "                first_purchase = \"Denims\"\n",
    "                purchaseList.append(\"Denims\")\n",
    "        i += 1  \n",
    "    print(\"Possible states: \" + str(purchaseList))\n",
    "    print(\"Probability of the possible sequence of states: \" + str(prob))\n"
   ]
  },
  {
   "cell_type": "code",
   "execution_count": 11,
   "metadata": {},
   "outputs": [
    {
     "name": "stdout",
     "output_type": "stream",
     "text": [
      "First Purchase: Shoes\n",
      "Possible states: ['Shoes', 'Denims', 'T-Shirts', 'T-Shirts']\n",
      "Probability of the possible sequence of states: 0.08114199849737037\n"
     ]
    }
   ],
   "source": [
    "purchase_forecast(3)"
   ]
  },
  {
   "cell_type": "code",
   "execution_count": null,
   "metadata": {
    "collapsed": true
   },
   "outputs": [],
   "source": []
  }
 ],
 "metadata": {
  "kernelspec": {
   "display_name": "Python 3",
   "language": "python",
   "name": "python3"
  },
  "language_info": {
   "codemirror_mode": {
    "name": "ipython",
    "version": 3
   },
   "file_extension": ".py",
   "mimetype": "text/x-python",
   "name": "python",
   "nbconvert_exporter": "python",
   "pygments_lexer": "ipython3",
   "version": "3.6.3"
  }
 },
 "nbformat": 4,
 "nbformat_minor": 2
}
