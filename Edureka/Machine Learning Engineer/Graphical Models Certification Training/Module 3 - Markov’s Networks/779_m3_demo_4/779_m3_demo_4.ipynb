{
 "cells": [
  {
   "cell_type": "code",
   "execution_count": 1,
   "metadata": {},
   "outputs": [],
   "source": [
    "# Import PyAgrum package \n",
    "import pyAgrum as gum\n",
    "import pyAgrum.lib.notebook as gnb"
   ]
  },
  {
   "cell_type": "markdown",
   "metadata": {},
   "source": [
    "#### Let us initiate the process of creating an influence diagram, initially the diagram is empty."
   ]
  },
  {
   "cell_type": "code",
   "execution_count": 2,
   "metadata": {},
   "outputs": [
    {
     "name": "stdout",
     "output_type": "stream",
     "text": [
      "Influence Diagram{\n",
      "  chance: 0,\n",
      "  utility: 0,\n",
      "  decision: 0,\n",
      "  arcs: 0,\n",
      "  domainSize: 1\n",
      "}\n"
     ]
    }
   ],
   "source": [
    "diag=gum.InfluenceDiagram()\n",
    "print(diag)"
   ]
  },
  {
   "cell_type": "markdown",
   "metadata": {},
   "source": [
    "#### We are about to purchase a car and factors taken into consideration are the Traffic(T)(High/Low), Mileage(M) (Low,Medium,High) , Category(C) (Normal,SUV) ,Performance(P) (Bad,Good) and Review(Bad,Good), for making decision whether to buy(Yes,No). \n",
    "\n",
    "#### The variables that our model depends on are called as chanceNodes in pyAgrum and let us create those."
   ]
  },
  {
   "cell_type": "code",
   "execution_count": 3,
   "metadata": {},
   "outputs": [],
   "source": [
    "## Creating all chance nodes.\n",
    "t=diag.addChanceNode(gum.LabelizedVariable('T','Traffic',2))\n",
    "m=diag.addChanceNode(gum.LabelizedVariable('M','Mileage',3))\n",
    "\n",
    "c=diag.addChanceNode(gum.LabelizedVariable('C','category',2))\n",
    "p=diag.addChanceNode(gum.LabelizedVariable('P','performance',2))\n",
    "\n",
    "r=diag.addChanceNode(gum.LabelizedVariable(\"R\",\"review\",2))"
   ]
  },
  {
   "cell_type": "code",
   "execution_count": 4,
   "metadata": {},
   "outputs": [],
   "source": [
    "#Let us now add our decision node.\n",
    "b=diag.addDecisionNode(gum.LabelizedVariable('B','buy',2))"
   ]
  },
  {
   "cell_type": "markdown",
   "metadata": {},
   "source": [
    "#### Once we make a decision, let us assume we have a way to model the satisfaction we get out of that decision."
   ]
  },
  {
   "cell_type": "code",
   "execution_count": 5,
   "metadata": {},
   "outputs": [],
   "source": [
    "# creating utility node.\n",
    "s=diag.addUtilityNode(gum.LabelizedVariable(\"S\",\"Satisfaction\",1))"
   ]
  },
  {
   "cell_type": "markdown",
   "metadata": {},
   "source": [
    "#### Having created the node , now we need to define the relationships between them."
   ]
  },
  {
   "cell_type": "code",
   "execution_count": 6,
   "metadata": {},
   "outputs": [],
   "source": [
    "diag.addArc(diag.idFromName('T'),diag.idFromName('M'))\n",
    "diag.addArc(diag.idFromName('C'),diag.idFromName('M'))\n",
    "diag.addArc(diag.idFromName('M'),diag.idFromName('R'))\n",
    "diag.addArc(diag.idFromName('C'),diag.idFromName('P'))\n",
    "diag.addArc(diag.idFromName(\"R\"),diag.idFromName(\"B\"))\n",
    "diag.addArc(diag.idFromName(\"B\"),s)\n",
    "diag.addArc(diag.idFromName(\"P\"),s)"
   ]
  },
  {
   "cell_type": "markdown",
   "metadata": {},
   "source": [
    "#### We can visualise the relationship"
   ]
  },
  {
   "cell_type": "code",
   "execution_count": 7,
   "metadata": {},
   "outputs": [
    {
     "data": {
      "text/html": [
       "<svg height=\"332pt\" viewBox=\"0.00 0.00 134.00 332.00\" width=\"134pt\" xmlns=\"http://www.w3.org/2000/svg\" xmlns:xlink=\"http://www.w3.org/1999/xlink\">\n",
       "<g class=\"graph\" id=\"graph0\" transform=\"scale(1 1) rotate(0) translate(4 328)\">\n",
       "<title>no_name</title>\n",
       "<polygon fill=\"white\" points=\"-4,4 -4,-328 130,-328 130,4 -4,4\" stroke=\"none\"/>\n",
       "<!-- B -->\n",
       "<g class=\"node\" id=\"node1\"><title>B</title>\n",
       "<polygon fill=\"lightgrey\" points=\"62,-108 8,-108 8,-72 62,-72 62,-108\" stroke=\"black\"/>\n",
       "<text font-family=\"Times,serif\" font-size=\"14.00\" text-anchor=\"middle\" x=\"35\" y=\"-86.3\">B</text>\n",
       "</g>\n",
       "<!-- S -->\n",
       "<g class=\"node\" id=\"node2\"><title>S</title>\n",
       "<polygon fill=\"lightgrey\" points=\"64,-36 37,-18 64,-3.55271e-15 91,-18 64,-36\" stroke=\"black\"/>\n",
       "<text font-family=\"Times,serif\" font-size=\"14.00\" text-anchor=\"middle\" x=\"64\" y=\"-14.3\">S</text>\n",
       "</g>\n",
       "<!-- B&#45;&gt;S -->\n",
       "<g class=\"edge\" id=\"edge7\"><title>B-&gt;S</title>\n",
       "<path d=\"M42.1685,-71.6966C45.9031,-62.6821 50.5183,-51.5421 54.5418,-41.8302\" fill=\"none\" stroke=\"black\"/>\n",
       "<polygon fill=\"black\" points=\"57.8649,-42.9533 58.4589,-32.3751 51.3979,-40.2741 57.8649,-42.9533\" stroke=\"black\"/>\n",
       "</g>\n",
       "<!-- T -->\n",
       "<g class=\"node\" id=\"node3\"><title>T</title>\n",
       "<ellipse cx=\"27\" cy=\"-306\" fill=\"lightgrey\" rx=\"27\" ry=\"18\" stroke=\"black\"/>\n",
       "<text font-family=\"Times,serif\" font-size=\"14.00\" text-anchor=\"middle\" x=\"27\" y=\"-302.3\">T</text>\n",
       "</g>\n",
       "<!-- M -->\n",
       "<g class=\"node\" id=\"node4\"><title>M</title>\n",
       "<ellipse cx=\"27\" cy=\"-234\" fill=\"lightgrey\" rx=\"27\" ry=\"18\" stroke=\"black\"/>\n",
       "<text font-family=\"Times,serif\" font-size=\"14.00\" text-anchor=\"middle\" x=\"27\" y=\"-230.3\">M</text>\n",
       "</g>\n",
       "<!-- T&#45;&gt;M -->\n",
       "<g class=\"edge\" id=\"edge1\"><title>T-&gt;M</title>\n",
       "<path d=\"M27,-287.697C27,-279.983 27,-270.712 27,-262.112\" fill=\"none\" stroke=\"black\"/>\n",
       "<polygon fill=\"black\" points=\"30.5001,-262.104 27,-252.104 23.5001,-262.104 30.5001,-262.104\" stroke=\"black\"/>\n",
       "</g>\n",
       "<!-- R -->\n",
       "<g class=\"node\" id=\"node7\"><title>R</title>\n",
       "<ellipse cx=\"27\" cy=\"-162\" fill=\"lightgrey\" rx=\"27\" ry=\"18\" stroke=\"black\"/>\n",
       "<text font-family=\"Times,serif\" font-size=\"14.00\" text-anchor=\"middle\" x=\"27\" y=\"-158.3\">R</text>\n",
       "</g>\n",
       "<!-- M&#45;&gt;R -->\n",
       "<g class=\"edge\" id=\"edge2\"><title>M-&gt;R</title>\n",
       "<path d=\"M27,-215.697C27,-207.983 27,-198.712 27,-190.112\" fill=\"none\" stroke=\"black\"/>\n",
       "<polygon fill=\"black\" points=\"30.5001,-190.104 27,-180.104 23.5001,-190.104 30.5001,-190.104\" stroke=\"black\"/>\n",
       "</g>\n",
       "<!-- C -->\n",
       "<g class=\"node\" id=\"node5\"><title>C</title>\n",
       "<ellipse cx=\"99\" cy=\"-306\" fill=\"lightgrey\" rx=\"27\" ry=\"18\" stroke=\"black\"/>\n",
       "<text font-family=\"Times,serif\" font-size=\"14.00\" text-anchor=\"middle\" x=\"99\" y=\"-302.3\">C</text>\n",
       "</g>\n",
       "<!-- C&#45;&gt;M -->\n",
       "<g class=\"edge\" id=\"edge4\"><title>C-&gt;M</title>\n",
       "<path d=\"M84.4297,-290.834C74.2501,-280.938 60.4761,-267.546 48.9694,-256.359\" fill=\"none\" stroke=\"black\"/>\n",
       "<polygon fill=\"black\" points=\"51.4055,-253.846 41.7957,-249.385 46.5259,-258.865 51.4055,-253.846\" stroke=\"black\"/>\n",
       "</g>\n",
       "<!-- P -->\n",
       "<g class=\"node\" id=\"node6\"><title>P</title>\n",
       "<ellipse cx=\"99\" cy=\"-162\" fill=\"lightgrey\" rx=\"27\" ry=\"18\" stroke=\"black\"/>\n",
       "<text font-family=\"Times,serif\" font-size=\"14.00\" text-anchor=\"middle\" x=\"99\" y=\"-158.3\">P</text>\n",
       "</g>\n",
       "<!-- C&#45;&gt;P -->\n",
       "<g class=\"edge\" id=\"edge3\"><title>C-&gt;P</title>\n",
       "<path d=\"M99,-287.871C99,-263.67 99,-219.211 99,-190.393\" fill=\"none\" stroke=\"black\"/>\n",
       "<polygon fill=\"black\" points=\"102.5,-190.189 99,-180.189 95.5001,-190.189 102.5,-190.189\" stroke=\"black\"/>\n",
       "</g>\n",
       "<!-- P&#45;&gt;S -->\n",
       "<g class=\"edge\" id=\"edge5\"><title>P-&gt;S</title>\n",
       "<path d=\"M94.8476,-144.153C88.714,-119.268 77.1947,-72.5327 70.1003,-43.7497\" fill=\"none\" stroke=\"black\"/>\n",
       "<polygon fill=\"black\" points=\"73.4099,-42.5521 67.6184,-33.6803 66.6133,-44.2274 73.4099,-42.5521\" stroke=\"black\"/>\n",
       "</g>\n",
       "<!-- R&#45;&gt;B -->\n",
       "<g class=\"edge\" id=\"edge6\"><title>R-&gt;B</title>\n",
       "<path d=\"M28.9775,-143.697C29.8591,-135.983 30.9186,-126.712 31.9014,-118.112\" fill=\"none\" stroke=\"black\"/>\n",
       "<polygon fill=\"black\" points=\"35.387,-118.437 33.0452,-108.104 28.4323,-117.642 35.387,-118.437\" stroke=\"black\"/>\n",
       "</g>\n",
       "</g>\n",
       "</svg>"
      ],
      "text/plain": [
       "<IPython.core.display.HTML object>"
      ]
     },
     "metadata": {},
     "output_type": "display_data"
    }
   ],
   "source": [
    "gnb.showInfluenceDiagram(diag,size=\"6\",format=\"svg\") "
   ]
  },
  {
   "cell_type": "markdown",
   "metadata": {},
   "source": [
    "#### Now we need to define the probability distribution associated with each of the nodes.\n",
    "#### Traffic and Category are independent variables, hence they can be filled directly as below."
   ]
  },
  {
   "cell_type": "code",
   "execution_count": 8,
   "metadata": {},
   "outputs": [
    {
     "data": {
      "text/html": [
       "<table>\n",
       "<tr style='background-color:#AAAAAA'><th colspan='2'><center>T</center></th></tr>\n",
       "<tr><th style='background-color:#BBBBBB'><center>0</center></th><th style='background-color:#BBBBBB'><center>1</center></th></tr>\n",
       "<tr><td style='background-color:#b2cb64;text-align:right;'>0.6000</td><td style='background-color:#cbb264;text-align:right;'>0.4000</td></tr>\n",
       "</table>"
      ],
      "text/plain": [
       "(gum::Potential<double>@0x1ed2560) <T:0> :: 0.6 /<T:1> :: 0.4"
      ]
     },
     "execution_count": 8,
     "metadata": {},
     "output_type": "execute_result"
    }
   ],
   "source": [
    "diag.cpt(t).fillWith([0.6,0.4])"
   ]
  },
  {
   "cell_type": "code",
   "execution_count": 9,
   "metadata": {},
   "outputs": [
    {
     "data": {
      "text/html": [
       "<table>\n",
       "<tr style='background-color:#AAAAAA'><th colspan='2'><center>C</center></th></tr>\n",
       "<tr><th style='background-color:#BBBBBB'><center>0</center></th><th style='background-color:#BBBBBB'><center>1</center></th></tr>\n",
       "<tr><td style='background-color:#a5d864;text-align:right;'>0.7000</td><td style='background-color:#d8a564;text-align:right;'>0.3000</td></tr>\n",
       "</table>"
      ],
      "text/plain": [
       "(gum::Potential<double>@0x209a8a0) <C:0> :: 0.7 /<C:1> :: 0.3"
      ]
     },
     "execution_count": 9,
     "metadata": {},
     "output_type": "execute_result"
    }
   ],
   "source": [
    "diag.cpt(c).fillWith([0.7,0.3])"
   ]
  },
  {
   "cell_type": "code",
   "execution_count": 10,
   "metadata": {},
   "outputs": [
    {
     "data": {
      "text/plain": [
       "['C', 'T', 'M']"
      ]
     },
     "execution_count": 10,
     "metadata": {},
     "output_type": "execute_result"
    }
   ],
   "source": [
    " diag.cpt(m).var_names"
   ]
  },
  {
   "cell_type": "markdown",
   "metadata": {},
   "source": [
    "#### Mileage is dependent on category and traffic and hence we need to define the conditional probability distribution for each of these possibilities. Below the first line corresponds to the state where category takes the state 0 and traffic takes the state 0 and so on."
   ]
  },
  {
   "cell_type": "code",
   "execution_count": 11,
   "metadata": {},
   "outputs": [
    {
     "data": {
      "text/html": [
       "<table>\n",
       "<tr><th colspan='2'></th><th colspan='3' style='background-color:#AAAAAA'><center>M</center></th></tr>\n",
       "<tr><th style='background-color:#AAAAAA'><center>T</center></th><th style='background-color:#AAAAAA'><center>C</center></th><th style='background-color:#BBBBBB'><center>0</center></th><th style='background-color:#BBBBBB'><center>1</center></th><th style='background-color:#BBBBBB'><center>2</center></th></tr>\n",
       "<tr><th style='background-color:#BBBBBB'><center>0</center></th><th style='background-color:#BBBBBB;' rowspan = '2'><center>0</center></th><td style='background-color:#e59864;text-align:right;'>0.2000</td><td style='background-color:#b2cb64;text-align:right;'>0.6000</td><td style='background-color:#e59864;text-align:right;'>0.2000</td></tr>\n",
       "<tr><th style='background-color:#BBBBBB'><center>1</center></th><td style='background-color:#f88564;text-align:right;'>0.0500</td><td style='background-color:#df9f64;text-align:right;'>0.2500</td><td style='background-color:#a5d864;text-align:right;'>0.7000</td></tr>\n",
       "<tr><th style='background-color:#BBBBBB'><center>0</center></th><th style='background-color:#BBBBBB;' rowspan = '2'><center>1</center></th><td style='background-color:#8bf264;text-align:right;'>0.9000</td><td style='background-color:#f48964;text-align:right;'>0.0800</td><td style='background-color:#fc8164;text-align:right;'>0.0200</td></tr>\n",
       "<tr><th style='background-color:#BBBBBB'><center>1</center></th><td style='background-color:#d8a564;text-align:right;'>0.3000</td><td style='background-color:#bfbf64;text-align:right;'>0.5000</td><td style='background-color:#e59864;text-align:right;'>0.2000</td></tr>\n",
       "</table>"
      ],
      "text/plain": [
       "(gum::Potential<double>@0x216afe0) <M:0|T:0|C:0> :: 0.2 /<M:1|T:0|C:0> :: 0.6 /<M:2|T:0|C:0> :: 0.2 /<M:0|T:1|C:0> :: 0.05 /<M:1|T:1|C:0> :: 0.25 /<M:2|T:1|C:0> :: 0.7 /<M:0|T:0|C:1> :: 0.9 /<M:1|T:0|C:1> :: 0.08 /<M:2|T:0|C:1> :: 0.02 /<M:0|T:1|C:1> :: 0.3 /<M:1|T:1|C:1> :: 0.5 /<M:2|T:1|C:1> :: 0.2"
      ]
     },
     "execution_count": 11,
     "metadata": {},
     "output_type": "execute_result"
    }
   ],
   "source": [
    "diag.cpt(m)[0,0,:] = [0.2,0.6,0.2]\n",
    "diag.cpt(m)[0,1,:] = [0.05,0.25,0.7]\n",
    "diag.cpt(m)[1,0,:] = [0.9,0.08,0.02]\n",
    "diag.cpt(m)[ 1, 1,:] = [0.3,0.5,0.2]\n",
    "diag.cpt(m)"
   ]
  },
  {
   "cell_type": "markdown",
   "metadata": {},
   "source": [
    "#### Similarly we define the conditional probability distribution for review."
   ]
  },
  {
   "cell_type": "code",
   "execution_count": 12,
   "metadata": {},
   "outputs": [
    {
     "data": {
      "text/html": [
       "<table>\n",
       "<tr><th colspan='1'></th><th colspan='2' style='background-color:#AAAAAA'><center>R</center></th></tr>\n",
       "<tr><th style='background-color:#AAAAAA'><center>M</center></th><th style='background-color:#BBBBBB'><center>0</center></th><th style='background-color:#BBBBBB'><center>1</center></th></tr>\n",
       "<tr><th style='background-color:#BBBBBB'><center>0</center></th><td style='background-color:#8bf264;text-align:right;'>0.9000</td><td style='background-color:#f28b64;text-align:right;'>0.1000</td></tr>\n",
       "<tr><th style='background-color:#BBBBBB'><center>1</center></th><td style='background-color:#cbb264;text-align:right;'>0.4000</td><td style='background-color:#b2cb64;text-align:right;'>0.6000</td></tr>\n",
       "<tr><th style='background-color:#BBBBBB'><center>2</center></th><td style='background-color:#80fd64;text-align:right;'>0.9900</td><td style='background-color:#fd8064;text-align:right;'>0.0100</td></tr>\n",
       "</table>"
      ],
      "text/plain": [
       "(gum::Potential<double>@0x2042e50) <R:0|M:0> :: 0.9 /<R:1|M:0> :: 0.1 /<R:0|M:1> :: 0.4 /<R:1|M:1> :: 0.6 /<R:0|M:2> :: 0.99 /<R:1|M:2> :: 0.01"
      ]
     },
     "execution_count": 12,
     "metadata": {},
     "output_type": "execute_result"
    }
   ],
   "source": [
    "diag.cpt(r)[0,:]=[0.9,0.1]\n",
    "diag.cpt(r)[1,:]=[0.4,0.6]\n",
    "diag.cpt(r)[2,:]=[0.99,0.01]\n",
    "diag.cpt(r)"
   ]
  },
  {
   "cell_type": "code",
   "execution_count": 13,
   "metadata": {},
   "outputs": [
    {
     "data": {
      "text/html": [
       "<table>\n",
       "<tr><th colspan='1'></th><th colspan='2' style='background-color:#AAAAAA'><center>P</center></th></tr>\n",
       "<tr><th style='background-color:#AAAAAA'><center>C</center></th><th style='background-color:#BBBBBB'><center>0</center></th><th style='background-color:#BBBBBB'><center>1</center></th></tr>\n",
       "<tr><th style='background-color:#BBBBBB'><center>0</center></th><td style='background-color:#85f864;text-align:right;'>0.9500</td><td style='background-color:#f88564;text-align:right;'>0.0500</td></tr>\n",
       "<tr><th style='background-color:#BBBBBB'><center>1</center></th><td style='background-color:#e59864;text-align:right;'>0.2000</td><td style='background-color:#98e564;text-align:right;'>0.8000</td></tr>\n",
       "</table>"
      ],
      "text/plain": [
       "(gum::Potential<double>@0x1f4a560) <P:0|C:0> :: 0.95 /<P:1|C:0> :: 0.05 /<P:0|C:1> :: 0.2 /<P:1|C:1> :: 0.8"
      ]
     },
     "execution_count": 13,
     "metadata": {},
     "output_type": "execute_result"
    }
   ],
   "source": [
    "# Conditional distribution for performance.\n",
    "diag.cpt(p)[0,:]=[0.95,0.05]\n",
    "diag.cpt(p)[1,:]=[0.2,0.8]\n",
    "diag.cpt(p)"
   ]
  },
  {
   "cell_type": "markdown",
   "metadata": {},
   "source": [
    "#### Our utility function is also defined similar to conditional probability tables, but instead of a probability distribution, utility is a scalar value."
   ]
  },
  {
   "cell_type": "code",
   "execution_count": 14,
   "metadata": {},
   "outputs": [
    {
     "data": {
      "text/plain": [
       "['P', 'B', 'S']"
      ]
     },
     "execution_count": 14,
     "metadata": {},
     "output_type": "execute_result"
    }
   ],
   "source": [
    "diag.utility(s).var_names"
   ]
  },
  {
   "cell_type": "code",
   "execution_count": 15,
   "metadata": {},
   "outputs": [
    {
     "data": {
      "text/html": [
       "<table>\n",
       "<tr><th colspan='2'></th><th colspan='1' style='background-color:#AAAAAA'><center>S</center></th></tr>\n",
       "<tr><th style='background-color:#AAAAAA'><center>B</center></th><th style='background-color:#AAAAAA'><center>P</center></th><th style='background-color:#BBBBBB'><center>0</center></th></tr>\n",
       "<tr><th style='background-color:#BBBBBB'><center>0</center></th><th style='background-color:#BBBBBB;' rowspan = '2'><center>0</center></th><td style='text-align:right;'>3.0000</td></tr>\n",
       "<tr><th style='background-color:#BBBBBB'><center>1</center></th><td style='text-align:right;'>0.0000</td></tr>\n",
       "<tr><th style='background-color:#BBBBBB'><center>0</center></th><th style='background-color:#BBBBBB;' rowspan = '2'><center>1</center></th><td style='text-align:right;'>2.0000</td></tr>\n",
       "<tr><th style='background-color:#BBBBBB'><center>1</center></th><td style='text-align:right;'>4.0000</td></tr>\n",
       "</table>"
      ],
      "text/plain": [
       "(gum::Potential<double>@0x20b9710) <S:0|B:0|P:0> :: 3 /<S:0|B:1|P:0> :: 0 /<S:0|B:0|P:1> :: 2 /<S:0|B:1|P:1> :: 4"
      ]
     },
     "execution_count": 15,
     "metadata": {},
     "output_type": "execute_result"
    }
   ],
   "source": [
    "diag.utility(s)[0,0,:]=3\n",
    "diag.utility(s)[0,1,:]= 0\n",
    "diag.utility(s)[1,0,:]=2\n",
    "diag.utility(s)[1,1,:]=4\n",
    "diag.utility(s)"
   ]
  },
  {
   "cell_type": "markdown",
   "metadata": {},
   "source": [
    "#### Having defined the model now we are ready to make the inference."
   ]
  },
  {
   "cell_type": "code",
   "execution_count": 16,
   "metadata": {},
   "outputs": [],
   "source": [
    "ie=gum.InfluenceDiagramInference(diag)"
   ]
  },
  {
   "cell_type": "code",
   "execution_count": 17,
   "metadata": {},
   "outputs": [],
   "source": [
    "ie.makeInference()"
   ]
  },
  {
   "cell_type": "code",
   "execution_count": 18,
   "metadata": {},
   "outputs": [
    {
     "name": "stdout",
     "output_type": "stream",
     "text": [
      "Best decision for B : 0\n",
      "For a maxEU : 2.7249999999999996\n"
     ]
    }
   ],
   "source": [
    "print(\"Best decision for B : {0}\".format(ie.getBestDecisionChoice(diag.idFromName(\"B\"))))\n",
    "\n",
    "print(\"For a maxEU : {0}\".format(ie.getMEU()))"
   ]
  },
  {
   "cell_type": "markdown",
   "metadata": {},
   "source": [
    "#### It's also possible to fix some of the variables at a predefined state, lets try setting the performance at both possible states and observe what might be the best thing to do in each of those cases."
   ]
  },
  {
   "cell_type": "code",
   "execution_count": 19,
   "metadata": {},
   "outputs": [],
   "source": [
    "ie.eraseAllEvidence()\n",
    "ie.setEvidence({diag.idFromName('P'):1}) # setting the performance to high."
   ]
  },
  {
   "cell_type": "code",
   "execution_count": 20,
   "metadata": {},
   "outputs": [
    {
     "name": "stdout",
     "output_type": "stream",
     "text": [
      "Best decision for B : 1\n",
      "For a maxExpected Utility : 1.1\n"
     ]
    }
   ],
   "source": [
    "ie.makeInference()\n",
    "print(\"Best decision for B : {0}\".format(ie.getBestDecisionChoice(diag.idFromName(\"B\"))))\n",
    "\n",
    "print(\"For a maxExpected Utility : {0}\".format(ie.getMEU()))"
   ]
  },
  {
   "cell_type": "code",
   "execution_count": 21,
   "metadata": {},
   "outputs": [],
   "source": [
    "ie.eraseAllEvidence()\n",
    "ie.setEvidence({diag.idFromName('P'):0}) # setting the performance to low."
   ]
  },
  {
   "cell_type": "code",
   "execution_count": 22,
   "metadata": {},
   "outputs": [
    {
     "name": "stdout",
     "output_type": "stream",
     "text": [
      "Best decision for B : 0\n",
      "For a maxExpected Utility : 2.175\n"
     ]
    }
   ],
   "source": [
    "ie.makeInference()\n",
    "print(\"Best decision for B : {0}\".format(ie.getBestDecisionChoice(diag.idFromName(\"B\"))))\n",
    "\n",
    "print(\"For a maxExpected Utility : {0}\".format(ie.getMEU()))"
   ]
  },
  {
   "cell_type": "markdown",
   "metadata": {},
   "source": [
    "#### Thus we see its best to buy car when the performance is good(1) and best not to buy the car when the performance is low(0).\n",
    "\n",
    "#### We can also predefine both performance and mileage and let's see its impact below."
   ]
  },
  {
   "cell_type": "code",
   "execution_count": 23,
   "metadata": {},
   "outputs": [],
   "source": [
    "ie.eraseAllEvidence()\n",
    "ie.setEvidence({diag.idFromName('P'):0,diag.idFromName('M'):0})"
   ]
  },
  {
   "cell_type": "code",
   "execution_count": 24,
   "metadata": {},
   "outputs": [
    {
     "name": "stdout",
     "output_type": "stream",
     "text": [
      "Best decision for B : 0\n",
      "For a maxExpected Utility : 0.3981\n"
     ]
    }
   ],
   "source": [
    "ie.makeInference()\n",
    "print(\"Best decision for B : {0}\".format(ie.getBestDecisionChoice(diag.idFromName(\"B\"))))\n",
    "\n",
    "print(\"For a maxExpected Utility : {0}\".format(ie.getMEU()))"
   ]
  },
  {
   "cell_type": "code",
   "execution_count": 25,
   "metadata": {},
   "outputs": [],
   "source": [
    "ie.eraseAllEvidence()\n",
    "ie.setEvidence({diag.idFromName('P'):1,diag.idFromName('M'):2})"
   ]
  },
  {
   "cell_type": "code",
   "execution_count": 26,
   "metadata": {},
   "outputs": [
    {
     "name": "stdout",
     "output_type": "stream",
     "text": [
      "Best decision for B : 1\n",
      "For a maxExpected Utility : 0.14432\n"
     ]
    }
   ],
   "source": [
    "ie.makeInference()\n",
    "print(\"Best decision for B : {0}\".format(ie.getBestDecisionChoice(diag.idFromName(\"B\"))))\n",
    "\n",
    "print(\"For a maxExpected Utility : {0}\".format(ie.getMEU()))"
   ]
  },
  {
   "cell_type": "markdown",
   "metadata": {},
   "source": [
    "#### In this notebook we learnt how to construct influence diagram and make decisions."
   ]
  },
  {
   "cell_type": "code",
   "execution_count": null,
   "metadata": {},
   "outputs": [],
   "source": []
  }
 ],
 "metadata": {
  "kernelspec": {
   "display_name": "Python 3",
   "language": "python",
   "name": "python3"
  },
  "language_info": {
   "codemirror_mode": {
    "name": "ipython",
    "version": 3
   },
   "file_extension": ".py",
   "mimetype": "text/x-python",
   "name": "python",
   "nbconvert_exporter": "python",
   "pygments_lexer": "ipython3",
   "version": "3.6.7"
  }
 },
 "nbformat": 4,
 "nbformat_minor": 2
}
