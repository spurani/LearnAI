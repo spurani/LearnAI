{
 "cells": [
  {
   "cell_type": "code",
   "execution_count": 1,
   "metadata": {},
   "outputs": [
    {
     "name": "stdout",
     "output_type": "stream",
     "text": [
      "+-----+-----+------------+\n",
      "| A   | B   |   phi(A,B) |\n",
      "+=====+=====+============+\n",
      "| A_0 | B_0 |   100.0000 |\n",
      "+-----+-----+------------+\n",
      "| A_0 | B_1 |     1.0000 |\n",
      "+-----+-----+------------+\n",
      "| A_1 | B_0 |     5.0000 |\n",
      "+-----+-----+------------+\n",
      "| A_1 | B_1 |  1000.0000 |\n",
      "+-----+-----+------------+\n"
     ]
    }
   ],
   "source": [
    "from pgmpy.factors.discrete import DiscreteFactor\n",
    "from pgmpy.models import FactorGraph\n",
    "\n",
    "import networkx as nx\n",
    "%matplotlib inline\n",
    "phi = DiscreteFactor(['A', 'B'], [2,2], [100, 1, 5, 1000])\n",
    "print(phi)"
   ]
  },
  {
   "cell_type": "code",
   "execution_count": 2,
   "metadata": {},
   "outputs": [
    {
     "name": "stdout",
     "output_type": "stream",
     "text": [
      "['A', 'B']\n"
     ]
    }
   ],
   "source": [
    "print(phi.scope())"
   ]
  },
  {
   "cell_type": "code",
   "execution_count": 3,
   "metadata": {},
   "outputs": [],
   "source": [
    "G = FactorGraph()\n",
    "G.add_nodes_from(['A', 'B'])\n",
    "G.add_factors(phi)\n",
    "G.add_nodes_from([phi])\n",
    "G.add_edges_from([('A',phi),('B',phi)])\n",
    "mm = G.to_markov_model()"
   ]
  },
  {
   "cell_type": "code",
   "execution_count": 4,
   "metadata": {},
   "outputs": [
    {
     "name": "stderr",
     "output_type": "stream",
     "text": [
      "/opt/conda/lib/python3.6/site-packages/networkx/drawing/nx_pylab.py:611: MatplotlibDeprecationWarning: isinstance(..., numbers.Number)\n",
      "  if cb.is_numlike(alpha):\n"
     ]
    },
    {
     "data": {
      "image/png": "[encoded data removed]",
      "text/plain": [
       "<Figure size 432x288 with 1 Axes>"
      ]
     },
     "metadata": {
      "needs_background": "light"
     },
     "output_type": "display_data"
    }
   ],
   "source": [
    "nx.draw_networkx(G,pos=nx.spring_layout(G))"
   ]
  },
  {
   "cell_type": "code",
   "execution_count": 5,
   "metadata": {},
   "outputs": [
    {
     "data": {
      "image/png": "[encoded data removed]",
      "text/plain": [
       "<Figure size 432x288 with 1 Axes>"
      ]
     },
     "metadata": {
      "needs_background": "light"
     },
     "output_type": "display_data"
    }
   ],
   "source": [
    "nx.draw_networkx(mm)"
   ]
  },
  {
   "cell_type": "code",
   "execution_count": 6,
   "metadata": {},
   "outputs": [
    {
     "name": "stdout",
     "output_type": "stream",
     "text": [
      "1106.0\n"
     ]
    }
   ],
   "source": [
    "partition_function = G.get_partition_function()\n",
    "print(partition_function)"
   ]
  },
  {
   "cell_type": "markdown",
   "metadata": {},
   "source": [
    "### Marginalization"
   ]
  },
  {
   "cell_type": "code",
   "execution_count": 7,
   "metadata": {},
   "outputs": [
    {
     "name": "stdout",
     "output_type": "stream",
     "text": [
      "['A']\n"
     ]
    }
   ],
   "source": [
    "# Marginalize B: Reduce the scope X to X' = X - B \n",
    "phi_marginalized = phi.marginalize(['B'], inplace=False)\n",
    "print(phi_marginalized.scope())\n"
   ]
  },
  {
   "cell_type": "code",
   "execution_count": 8,
   "metadata": {},
   "outputs": [
    {
     "name": "stdout",
     "output_type": "stream",
     "text": [
      "+-----+-----------+\n",
      "| A   |    phi(A) |\n",
      "+=====+===========+\n",
      "| A_0 |  101.0000 |\n",
      "+-----+-----------+\n",
      "| A_1 | 1005.0000 |\n",
      "+-----+-----------+\n"
     ]
    }
   ],
   "source": [
    "print(phi_marginalized)"
   ]
  },
  {
   "cell_type": "code",
   "execution_count": 9,
   "metadata": {},
   "outputs": [
    {
     "name": "stdout",
     "output_type": "stream",
     "text": [
      "['B']\n"
     ]
    }
   ],
   "source": [
    "phi.marginalize(['A'])\n",
    "print(phi.scope())"
   ]
  },
  {
   "cell_type": "code",
   "execution_count": 10,
   "metadata": {},
   "outputs": [
    {
     "name": "stdout",
     "output_type": "stream",
     "text": [
      "+-----+-----------+\n",
      "| B   |    phi(B) |\n",
      "+=====+===========+\n",
      "| B_0 |  105.0000 |\n",
      "+-----+-----------+\n",
      "| B_1 | 1001.0000 |\n",
      "+-----+-----------+\n"
     ]
    }
   ],
   "source": [
    "print(phi)"
   ]
  },
  {
   "cell_type": "markdown",
   "metadata": {},
   "source": [
    "### Reduction"
   ]
  },
  {
   "cell_type": "code",
   "execution_count": 11,
   "metadata": {},
   "outputs": [
    {
     "name": "stdout",
     "output_type": "stream",
     "text": [
      "+-----+-----------+\n",
      "| A   |    phi(A) |\n",
      "+=====+===========+\n",
      "| A_0 | 1000.0000 |\n",
      "+-----+-----------+\n",
      "| A_1 |    5.0000 |\n",
      "+-----+-----------+\n"
     ]
    }
   ],
   "source": [
    "# This operation reduce the scope to X - Z, and \\phi no longer depends on Z.\n",
    "phi = DiscreteFactor(['A', 'B'], [2,2], [1000, 1, 5, 100])\n",
    "phi_reduced = phi.reduce([('B', 0)], inplace=False)\n",
    "print(phi_reduced)"
   ]
  },
  {
   "cell_type": "code",
   "execution_count": 12,
   "metadata": {},
   "outputs": [
    {
     "name": "stdout",
     "output_type": "stream",
     "text": [
      "['A']\n"
     ]
    }
   ],
   "source": [
    "print(phi_reduced.scope())"
   ]
  },
  {
   "cell_type": "code",
   "execution_count": 13,
   "metadata": {},
   "outputs": [
    {
     "name": "stdout",
     "output_type": "stream",
     "text": [
      "+-----+----------+\n",
      "| B   |   phi(B) |\n",
      "+=====+==========+\n",
      "| B_0 |   5.0000 |\n",
      "+-----+----------+\n",
      "| B_1 | 100.0000 |\n",
      "+-----+----------+\n"
     ]
    }
   ],
   "source": [
    "phi_reduced_a1 = phi.reduce([('A', 1)], inplace=False)\n",
    "print(phi_reduced_a1)"
   ]
  },
  {
   "cell_type": "code",
   "execution_count": 14,
   "metadata": {},
   "outputs": [
    {
     "name": "stdout",
     "output_type": "stream",
     "text": [
      "+-----+-----------+\n",
      "| A   |    phi(A) |\n",
      "+=====+===========+\n",
      "| A_0 | 1000.0000 |\n",
      "+-----+-----------+\n",
      "| A_1 |    5.0000 |\n",
      "+-----+-----------+\n"
     ]
    }
   ],
   "source": [
    "print(phi_reduced)"
   ]
  },
  {
   "cell_type": "code",
   "execution_count": 15,
   "metadata": {},
   "outputs": [
    {
     "name": "stdout",
     "output_type": "stream",
     "text": [
      "+-----+-----+------------+\n",
      "| A   | B   |   phi(A,B) |\n",
      "+=====+=====+============+\n",
      "| A_0 | B_0 |  1000.0000 |\n",
      "+-----+-----+------------+\n",
      "| A_0 | B_1 |     1.0000 |\n",
      "+-----+-----+------------+\n",
      "| A_1 | B_0 |     5.0000 |\n",
      "+-----+-----+------------+\n",
      "| A_1 | B_1 |   100.0000 |\n",
      "+-----+-----+------------+\n"
     ]
    }
   ],
   "source": [
    "print(phi)"
   ]
  },
  {
   "cell_type": "markdown",
   "metadata": {},
   "source": [
    "### Product"
   ]
  },
  {
   "cell_type": "code",
   "execution_count": 16,
   "metadata": {},
   "outputs": [],
   "source": [
    "#The product operation lets us define the factor graph for edges from the factor graph for nodes.\n",
    "phi1 = DiscreteFactor(['a', 'b'], [2, 2], [1000, 1, 5, 100])\n",
    "phi2 = DiscreteFactor(['b', 'c'], [2, 2], [1, 100,200, 5])\n"
   ]
  },
  {
   "cell_type": "code",
   "execution_count": 17,
   "metadata": {},
   "outputs": [
    {
     "name": "stdout",
     "output_type": "stream",
     "text": [
      "+-----+-----+------------+\n",
      "| a   | b   |   phi(a,b) |\n",
      "+=====+=====+============+\n",
      "| a_0 | b_0 |  1000.0000 |\n",
      "+-----+-----+------------+\n",
      "| a_0 | b_1 |     1.0000 |\n",
      "+-----+-----+------------+\n",
      "| a_1 | b_0 |     5.0000 |\n",
      "+-----+-----+------------+\n",
      "| a_1 | b_1 |   100.0000 |\n",
      "+-----+-----+------------+\n"
     ]
    }
   ],
   "source": [
    "print(phi1)"
   ]
  },
  {
   "cell_type": "code",
   "execution_count": 18,
   "metadata": {},
   "outputs": [
    {
     "name": "stdout",
     "output_type": "stream",
     "text": [
      "+-----+-----+------------+\n",
      "| b   | c   |   phi(b,c) |\n",
      "+=====+=====+============+\n",
      "| b_0 | c_0 |     1.0000 |\n",
      "+-----+-----+------------+\n",
      "| b_0 | c_1 |   100.0000 |\n",
      "+-----+-----+------------+\n",
      "| b_1 | c_0 |   200.0000 |\n",
      "+-----+-----+------------+\n",
      "| b_1 | c_1 |     5.0000 |\n",
      "+-----+-----+------------+\n"
     ]
    }
   ],
   "source": [
    "print(phi2)"
   ]
  },
  {
   "cell_type": "code",
   "execution_count": 19,
   "metadata": {},
   "outputs": [
    {
     "name": "stdout",
     "output_type": "stream",
     "text": [
      "+-----+-----+-----+--------------+\n",
      "| a   | b   | c   |   phi(a,b,c) |\n",
      "+=====+=====+=====+==============+\n",
      "| a_0 | b_0 | c_0 |    1000.0000 |\n",
      "+-----+-----+-----+--------------+\n",
      "| a_0 | b_0 | c_1 |  100000.0000 |\n",
      "+-----+-----+-----+--------------+\n",
      "| a_0 | b_1 | c_0 |     200.0000 |\n",
      "+-----+-----+-----+--------------+\n",
      "| a_0 | b_1 | c_1 |       5.0000 |\n",
      "+-----+-----+-----+--------------+\n",
      "| a_1 | b_0 | c_0 |       5.0000 |\n",
      "+-----+-----+-----+--------------+\n",
      "| a_1 | b_0 | c_1 |     500.0000 |\n",
      "+-----+-----+-----+--------------+\n",
      "| a_1 | b_1 | c_0 |   20000.0000 |\n",
      "+-----+-----+-----+--------------+\n",
      "| a_1 | b_1 | c_1 |     500.0000 |\n",
      "+-----+-----+-----+--------------+\n"
     ]
    }
   ],
   "source": [
    "phi = phi1 * phi2\n",
    "print(phi)\n"
   ]
  },
  {
   "cell_type": "code",
   "execution_count": 20,
   "metadata": {},
   "outputs": [
    {
     "name": "stdout",
     "output_type": "stream",
     "text": [
      "['a', 'b', 'c']\n"
     ]
    }
   ],
   "source": [
    "# The scope of the new factor contains all three friends.\n",
    "print(phi.scope())"
   ]
  },
  {
   "cell_type": "code",
   "execution_count": null,
   "metadata": {},
   "outputs": [],
   "source": []
  }
 ],
 "metadata": {
  "kernelspec": {
   "display_name": "Python 3",
   "language": "python",
   "name": "python3"
  },
  "language_info": {
   "codemirror_mode": {
    "name": "ipython",
    "version": 3
   },
   "file_extension": ".py",
   "mimetype": "text/x-python",
   "name": "python",
   "nbconvert_exporter": "python",
   "pygments_lexer": "ipython3",
   "version": "3.6.7"
  }
 },
 "nbformat": 4,
 "nbformat_minor": 2
}
