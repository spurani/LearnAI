{
 "cells": [
  {
   "cell_type": "code",
   "execution_count": 2,
   "metadata": {},
   "outputs": [],
   "source": [
    "from pgmpy.factors.discrete import TabularCPD"
   ]
  },
  {
   "cell_type": "code",
   "execution_count": 2,
   "metadata": {},
   "outputs": [
    {
     "name": "stdout",
     "output_type": "stream",
     "text": [
      "+---------------------+-----------+-----------+\n",
      "| Program             | Program_0 | Program_1 |\n",
      "+---------------------+-----------+-----------+\n",
      "| MarketPerformance_0 | 0.11      | 0.06      |\n",
      "+---------------------+-----------+-----------+\n",
      "| MarketPerformance_1 | 0.29      | 0.54      |\n",
      "+---------------------+-----------+-----------+\n"
     ]
    }
   ],
   "source": [
    "cpd = TabularCPD('MarketPerformance',2,[[0.11,0.06],[0.29,0.54]],evidence=['Program'],evidence_card=[2])\n",
    "print(cpd)"
   ]
  },
  {
   "cell_type": "markdown",
   "metadata": {},
   "source": [
    "### Understand the Joint Probability Distribution"
   ]
  },
  {
   "cell_type": "code",
   "execution_count": 3,
   "metadata": {},
   "outputs": [
    {
     "name": "stdout",
     "output_type": "stream",
     "text": [
      "+---------------------+-----------+-----------+\n",
      "| Program             | Program_0 | Program_1 |\n",
      "+---------------------+-----------+-----------+\n",
      "| MarketPerformance_0 | 0.11      | 0.06      |\n",
      "+---------------------+-----------+-----------+\n",
      "| MarketPerformance_1 | 0.29      | 0.54      |\n",
      "+---------------------+-----------+-----------+\n"
     ]
    }
   ],
   "source": [
    "print(cpd)"
   ]
  },
  {
   "cell_type": "markdown",
   "metadata": {},
   "source": [
    "Probability of Good performance by Fund Managers from Top 20 MBA Colleges is a Joint Probability\n",
    "#### i.e. Probability of MarketPerformace_0, Program_0\n",
    "##### P(MarketPerformance_1,Program_1) = 0.54 \n",
    "Probability of Good performance by Fund Managers from other Colleges\n",
    "#### i.e. Probability of MarketPerformace_0, Program_1 \n",
    "#### P(MarketPerformance_1,Program_0) = 0.29\n"
   ]
  },
  {
   "cell_type": "markdown",
   "metadata": {},
   "source": [
    "### Understand the Joint Probability Distribution"
   ]
  },
  {
   "cell_type": "code",
   "execution_count": 4,
   "metadata": {},
   "outputs": [
    {
     "name": "stdout",
     "output_type": "stream",
     "text": [
      "+---------------------+-----------+-----------+\n",
      "| Program             | Program_0 | Program_1 |\n",
      "+---------------------+-----------+-----------+\n",
      "| MarketPerformance_0 | 0.11      | 0.06      |\n",
      "+---------------------+-----------+-----------+\n",
      "| MarketPerformance_1 | 0.29      | 0.54      |\n",
      "+---------------------+-----------+-----------+\n"
     ]
    }
   ],
   "source": [
    "print(cpd)"
   ]
  },
  {
   "cell_type": "markdown",
   "metadata": {},
   "source": [
    "Probability on overall performance by Fund Mangers from Top 20 MBA Colleges is Marginal Probability\n",
    "#### i.e. Probabilty of Program_0\n",
    "#### P(Program_1) = 0.06+0.54 = 0.6\n",
    "\n",
    "Probability on overall performance by Fund Mangers from Other Colleges\n",
    "#### i.e. Probabilty of Program_1\n",
    "#### P(Program_0) = 0.11+0.29 = 0.4"
   ]
  },
  {
   "cell_type": "markdown",
   "metadata": {},
   "source": [
    "### Understanding Conditional Probability"
   ]
  },
  {
   "cell_type": "code",
   "execution_count": 5,
   "metadata": {},
   "outputs": [
    {
     "name": "stdout",
     "output_type": "stream",
     "text": [
      "+---------------------+-----------+-----------+\n",
      "| Program             | Program_0 | Program_1 |\n",
      "+---------------------+-----------+-----------+\n",
      "| MarketPerformance_0 | 0.11      | 0.06      |\n",
      "+---------------------+-----------+-----------+\n",
      "| MarketPerformance_1 | 0.29      | 0.54      |\n",
      "+---------------------+-----------+-----------+\n"
     ]
    }
   ],
   "source": [
    "print(cpd)"
   ]
  },
  {
   "cell_type": "markdown",
   "metadata": {},
   "source": [
    "Probability that a randomly selected fund is managed by a “Top 20 MBA Colleges”, given that it did not perform Good is Conditional Probability\n",
    "#### i.e. P(Program_1 | MarketPerformance_0)\n",
    "\n",
    "From chain rule we have,\n",
    "#### P(Program_1 | MarketPerformance_0) = P(Program_1, MarketPerformance_0) / P(MarketPerformance_0)\n",
    "#### P(Program_1 | MarketPerformance_0) = 0.06 / 0.17 "
   ]
  },
  {
   "cell_type": "markdown",
   "metadata": {},
   "source": [
    "### Understanding Conditional Probability Distribution Object of PGMPy"
   ]
  },
  {
   "cell_type": "code",
   "execution_count": 6,
   "metadata": {},
   "outputs": [],
   "source": [
    "cpd = TabularCPD('grade', 2,\n",
    "                        [[0.7, 0.6, 0.6, 0.2],[0.3, 0.4, 0.4, 0.8]],\n",
    "                        evidence = ['intel', 'diff'], evidence_card = [2, 2])"
   ]
  },
  {
   "cell_type": "code",
   "execution_count": 7,
   "metadata": {},
   "outputs": [
    {
     "data": {
      "text/plain": [
       "<TabularCPD representing P(grade:2 | intel:2, diff:2) at 0x7fcf60b843c8>"
      ]
     },
     "execution_count": 7,
     "metadata": {},
     "output_type": "execute_result"
    }
   ],
   "source": [
    "cpd"
   ]
  },
  {
   "cell_type": "code",
   "execution_count": 8,
   "metadata": {},
   "outputs": [
    {
     "name": "stdout",
     "output_type": "stream",
     "text": [
      "+---------+---------+---------+---------+---------+\n",
      "| intel   | intel_0 | intel_0 | intel_1 | intel_1 |\n",
      "+---------+---------+---------+---------+---------+\n",
      "| diff    | diff_0  | diff_1  | diff_0  | diff_1  |\n",
      "+---------+---------+---------+---------+---------+\n",
      "| grade_0 | 0.7     | 0.6     | 0.6     | 0.2     |\n",
      "+---------+---------+---------+---------+---------+\n",
      "| grade_1 | 0.3     | 0.4     | 0.4     | 0.8     |\n",
      "+---------+---------+---------+---------+---------+\n"
     ]
    }
   ],
   "source": [
    "print(cpd)"
   ]
  },
  {
   "cell_type": "code",
   "execution_count": 9,
   "metadata": {},
   "outputs": [
    {
     "name": "stdout",
     "output_type": "stream",
     "text": [
      "['grade', 'intel', 'diff']\n"
     ]
    }
   ],
   "source": [
    "print(cpd.variables)"
   ]
  },
  {
   "cell_type": "code",
   "execution_count": 10,
   "metadata": {},
   "outputs": [
    {
     "name": "stdout",
     "output_type": "stream",
     "text": [
      "[2 2 2]\n"
     ]
    }
   ],
   "source": [
    "print(cpd.cardinality)"
   ]
  },
  {
   "cell_type": "code",
   "execution_count": 11,
   "metadata": {},
   "outputs": [
    {
     "data": {
      "text/plain": [
       "<TabularCPD representing P(grade:2 | intel:2, diff:2) at 0x7fcf60b843c8>"
      ]
     },
     "execution_count": 11,
     "metadata": {},
     "output_type": "execute_result"
    }
   ],
   "source": [
    "cpd"
   ]
  },
  {
   "cell_type": "code",
   "execution_count": 12,
   "metadata": {},
   "outputs": [
    {
     "name": "stdout",
     "output_type": "stream",
     "text": [
      "+---------+---------+---------+---------+---------+\n",
      "| intel   | intel_0 | intel_0 | intel_1 | intel_1 |\n",
      "+---------+---------+---------+---------+---------+\n",
      "| diff    | diff_0  | diff_1  | diff_0  | diff_1  |\n",
      "+---------+---------+---------+---------+---------+\n",
      "| grade_0 | 0.7     | 0.6     | 0.6     | 0.2     |\n",
      "+---------+---------+---------+---------+---------+\n",
      "| grade_1 | 0.3     | 0.4     | 0.4     | 0.8     |\n",
      "+---------+---------+---------+---------+---------+\n"
     ]
    }
   ],
   "source": [
    "print(cpd)"
   ]
  },
  {
   "cell_type": "markdown",
   "metadata": {},
   "source": [
    "### Understanding Joint Probability Distribution Object of PGMPy"
   ]
  },
  {
   "cell_type": "code",
   "execution_count": 13,
   "metadata": {},
   "outputs": [],
   "source": [
    "from pgmpy.factors.discrete import JointProbabilityDistribution as JPD"
   ]
  },
  {
   "cell_type": "markdown",
   "metadata": {},
   "source": [
    "#### JPD is defined as follows:\n",
    "##### JPD(variables, cardinality, values)\n",
    "\n",
    "#### Parameters:\n",
    "##### variables: List of scope of Joint Probability Distribution\n",
    "##### cardinality: List of cardinality of each variable\n",
    "##### value: List or array of values of factor"
   ]
  },
  {
   "cell_type": "code",
   "execution_count": 14,
   "metadata": {},
   "outputs": [],
   "source": [
    "prob = JPD(['I','D','G'],[2,2,3],\n",
    "               [0.126,0.168,0.126,0.009,0.045,0.126,0.252,0.0224,0.0056,0.06,0.036,0.024])"
   ]
  },
  {
   "cell_type": "code",
   "execution_count": 15,
   "metadata": {},
   "outputs": [
    {
     "name": "stdout",
     "output_type": "stream",
     "text": [
      "+-----+-----+-----+------------+\n",
      "| I   | D   | G   |   P(I,D,G) |\n",
      "+=====+=====+=====+============+\n",
      "| I_0 | D_0 | G_0 |     0.1260 |\n",
      "+-----+-----+-----+------------+\n",
      "| I_0 | D_0 | G_1 |     0.1680 |\n",
      "+-----+-----+-----+------------+\n",
      "| I_0 | D_0 | G_2 |     0.1260 |\n",
      "+-----+-----+-----+------------+\n",
      "| I_0 | D_1 | G_0 |     0.0090 |\n",
      "+-----+-----+-----+------------+\n",
      "| I_0 | D_1 | G_1 |     0.0450 |\n",
      "+-----+-----+-----+------------+\n",
      "| I_0 | D_1 | G_2 |     0.1260 |\n",
      "+-----+-----+-----+------------+\n",
      "| I_1 | D_0 | G_0 |     0.2520 |\n",
      "+-----+-----+-----+------------+\n",
      "| I_1 | D_0 | G_1 |     0.0224 |\n",
      "+-----+-----+-----+------------+\n",
      "| I_1 | D_0 | G_2 |     0.0056 |\n",
      "+-----+-----+-----+------------+\n",
      "| I_1 | D_1 | G_0 |     0.0600 |\n",
      "+-----+-----+-----+------------+\n",
      "| I_1 | D_1 | G_1 |     0.0360 |\n",
      "+-----+-----+-----+------------+\n",
      "| I_1 | D_1 | G_2 |     0.0240 |\n",
      "+-----+-----+-----+------------+\n"
     ]
    }
   ],
   "source": [
    "print(prob)"
   ]
  },
  {
   "cell_type": "code",
   "execution_count": 16,
   "metadata": {},
   "outputs": [
    {
     "data": {
      "text/plain": [
       "True"
      ]
     },
     "execution_count": 16,
     "metadata": {},
     "output_type": "execute_result"
    }
   ],
   "source": [
    "prob.check_independence(['I'], ['D'])"
   ]
  },
  {
   "cell_type": "code",
   "execution_count": 17,
   "metadata": {},
   "outputs": [
    {
     "data": {
      "text/plain": [
       "False"
      ]
     },
     "execution_count": 17,
     "metadata": {},
     "output_type": "execute_result"
    }
   ],
   "source": [
    "prob.check_independence(['I'], ['D'], [('G', 1)])"
   ]
  },
  {
   "cell_type": "code",
   "execution_count": 18,
   "metadata": {},
   "outputs": [
    {
     "data": {
      "text/plain": [
       "(I _|_ D)"
      ]
     },
     "execution_count": 18,
     "metadata": {},
     "output_type": "execute_result"
    }
   ],
   "source": [
    "prob.get_independencies()"
   ]
  },
  {
   "cell_type": "code",
   "execution_count": null,
   "metadata": {},
   "outputs": [],
   "source": []
  }
 ],
 "metadata": {
  "kernelspec": {
   "display_name": "Python 3",
   "language": "python",
   "name": "python3"
  },
  "language_info": {
   "codemirror_mode": {
    "name": "ipython",
    "version": 3
   },
   "file_extension": ".py",
   "mimetype": "text/x-python",
   "name": "python",
   "nbconvert_exporter": "python",
   "pygments_lexer": "ipython3",
   "version": "3.8.3"
  }
 },
 "nbformat": 4,
 "nbformat_minor": 2
}
