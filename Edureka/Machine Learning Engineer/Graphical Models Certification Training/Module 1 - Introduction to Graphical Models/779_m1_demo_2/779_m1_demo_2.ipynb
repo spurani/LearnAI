{
 "cells": [
  {
   "cell_type": "markdown",
   "metadata": {},
   "source": [
    "# Module 1: Introduction to Graphical Model - Demo on Joint Probability Distribution"
   ]
  },
  {
   "cell_type": "code",
   "execution_count": 1,
   "metadata": {},
   "outputs": [
    {
     "data": {
      "text/html": [
       "<div>\n",
       "<style>\n",
       "    .dataframe thead tr:only-child th {\n",
       "        text-align: right;\n",
       "    }\n",
       "\n",
       "    .dataframe thead th {\n",
       "        text-align: left;\n",
       "    }\n",
       "\n",
       "    .dataframe tbody tr th {\n",
       "        vertical-align: top;\n",
       "    }\n",
       "</style>\n",
       "<table border=\"1\" class=\"dataframe\">\n",
       "  <thead>\n",
       "    <tr style=\"text-align: right;\">\n",
       "      <th></th>\n",
       "      <th>User ID</th>\n",
       "      <th>Gender</th>\n",
       "      <th>Age</th>\n",
       "      <th>EstimatedSalary</th>\n",
       "      <th>Purchased</th>\n",
       "    </tr>\n",
       "  </thead>\n",
       "  <tbody>\n",
       "    <tr>\n",
       "      <th>0</th>\n",
       "      <td>15624510</td>\n",
       "      <td>Male</td>\n",
       "      <td>19</td>\n",
       "      <td>19000</td>\n",
       "      <td>0</td>\n",
       "    </tr>\n",
       "    <tr>\n",
       "      <th>1</th>\n",
       "      <td>15810944</td>\n",
       "      <td>Male</td>\n",
       "      <td>35</td>\n",
       "      <td>20000</td>\n",
       "      <td>0</td>\n",
       "    </tr>\n",
       "    <tr>\n",
       "      <th>2</th>\n",
       "      <td>15668575</td>\n",
       "      <td>Female</td>\n",
       "      <td>26</td>\n",
       "      <td>43000</td>\n",
       "      <td>0</td>\n",
       "    </tr>\n",
       "    <tr>\n",
       "      <th>3</th>\n",
       "      <td>15603246</td>\n",
       "      <td>Female</td>\n",
       "      <td>27</td>\n",
       "      <td>57000</td>\n",
       "      <td>0</td>\n",
       "    </tr>\n",
       "    <tr>\n",
       "      <th>4</th>\n",
       "      <td>15804002</td>\n",
       "      <td>Male</td>\n",
       "      <td>19</td>\n",
       "      <td>76000</td>\n",
       "      <td>0</td>\n",
       "    </tr>\n",
       "  </tbody>\n",
       "</table>\n",
       "</div>"
      ],
      "text/plain": [
       "    User ID  Gender  Age  EstimatedSalary  Purchased\n",
       "0  15624510    Male   19            19000          0\n",
       "1  15810944    Male   35            20000          0\n",
       "2  15668575  Female   26            43000          0\n",
       "3  15603246  Female   27            57000          0\n",
       "4  15804002    Male   19            76000          0"
      ]
     },
     "execution_count": 1,
     "metadata": {},
     "output_type": "execute_result"
    }
   ],
   "source": [
    "# Reading the Data using pandas\n",
    "import pandas as pd\n",
    "data = pd.read_csv('Purchase Behavior.csv')\n",
    "data.head()"
   ]
  },
  {
   "cell_type": "code",
   "execution_count": 2,
   "metadata": {},
   "outputs": [
    {
     "name": "stdout",
     "output_type": "stream",
     "text": [
      "Joint Probability based on Gender \n",
      " Gender  Purchased\n",
      "Female  0            0.3175\n",
      "        1            0.1925\n",
      "Male    0            0.3250\n",
      "        1            0.1650\n",
      "dtype: float64\n"
     ]
    }
   ],
   "source": [
    "#Joint Probability\n",
    "joint_prob_Gender = data.groupby(['Gender','Purchased']).size()/400\n",
    "print(\"Joint Probability based on Gender \\n\", joint_prob_Gender, end=\"\\n\")\n"
   ]
  },
  {
   "cell_type": "code",
   "execution_count": 3,
   "metadata": {},
   "outputs": [
    {
     "name": "stdout",
     "output_type": "stream",
     "text": [
      "Joint Probability based on Age \n",
      "  Age  Purchased\n",
      "18   0            0.0125\n",
      "19   0            0.0175\n",
      "20   0            0.0175\n",
      "21   0            0.0100\n",
      "22   0            0.0125\n",
      "23   0            0.0150\n",
      "24   0            0.0225\n",
      "25   0            0.0150\n",
      "26   0            0.0400\n",
      "27   0            0.0275\n",
      "     1            0.0050\n",
      "28   0            0.0275\n",
      "     1            0.0025\n",
      "29   0            0.0225\n",
      "     1            0.0025\n",
      "30   0            0.0225\n",
      "     1            0.0050\n",
      "31   0            0.0250\n",
      "     1            0.0025\n",
      "32   0            0.0100\n",
      "     1            0.0125\n",
      "33   0            0.0200\n",
      "     1            0.0025\n",
      "34   0            0.0125\n",
      "     1            0.0025\n",
      "35   0            0.0725\n",
      "     1            0.0075\n",
      "36   0            0.0175\n",
      "     1            0.0125\n",
      "37   0            0.0325\n",
      "                   ...  \n",
      "42   1            0.0150\n",
      "43   0            0.0025\n",
      "     1            0.0050\n",
      "44   0            0.0025\n",
      "     1            0.0025\n",
      "45   0            0.0025\n",
      "     1            0.0150\n",
      "46   0            0.0125\n",
      "     1            0.0175\n",
      "47   0            0.0050\n",
      "     1            0.0300\n",
      "48   0            0.0025\n",
      "     1            0.0325\n",
      "49   0            0.0050\n",
      "     1            0.0200\n",
      "50   0            0.0025\n",
      "     1            0.0075\n",
      "51   0            0.0025\n",
      "     1            0.0050\n",
      "52   0            0.0025\n",
      "     1            0.0125\n",
      "53   1            0.0125\n",
      "54   1            0.0100\n",
      "55   1            0.0075\n",
      "56   1            0.0075\n",
      "57   1            0.0125\n",
      "58   1            0.0150\n",
      "59   0            0.0050\n",
      "     1            0.0125\n",
      "60   1            0.0175\n",
      "Length: 70, dtype: float64\n"
     ]
    }
   ],
   "source": [
    "#Joint Probability \n",
    "joint_prob_Age = data.groupby(['Age','Purchased']).size()/400\n",
    "print(\"Joint Probability based on Age \\n \", joint_prob_Age, end=\"\\n\")\n"
   ]
  },
  {
   "cell_type": "code",
   "execution_count": 4,
   "metadata": {},
   "outputs": [
    {
     "name": "stdout",
     "output_type": "stream",
     "text": [
      "Joint Probability based on Age, Gender \n",
      " Age  Gender  Purchased\n",
      "18   Female  0            0.0075\n",
      "     Male    0            0.0050\n",
      "19   Female  0            0.0050\n",
      "     Male    0            0.0125\n",
      "20   Female  0            0.0100\n",
      "     Male    0            0.0075\n",
      "21   Female  0            0.0050\n",
      "     Male    0            0.0050\n",
      "22   Female  0            0.0075\n",
      "     Male    0            0.0050\n",
      "23   Female  0            0.0100\n",
      "     Male    0            0.0050\n",
      "24   Female  0            0.0100\n",
      "     Male    0            0.0125\n",
      "25   Male    0            0.0150\n",
      "26   Female  0            0.0225\n",
      "     Male    0            0.0175\n",
      "27   Female  0            0.0150\n",
      "             1            0.0050\n",
      "     Male    0            0.0125\n",
      "28   Female  0            0.0175\n",
      "     Male    0            0.0100\n",
      "             1            0.0025\n",
      "29   Female  0            0.0100\n",
      "     Male    0            0.0125\n",
      "             1            0.0025\n",
      "30   Female  0            0.0075\n",
      "     Male    0            0.0150\n",
      "             1            0.0050\n",
      "31   Female  0            0.0125\n",
      "                           ...  \n",
      "48   Male    0            0.0025\n",
      "             1            0.0125\n",
      "49   Female  1            0.0075\n",
      "     Male    0            0.0050\n",
      "             1            0.0125\n",
      "50   Female  0            0.0025\n",
      "             1            0.0075\n",
      "51   Female  0            0.0025\n",
      "             1            0.0025\n",
      "     Male    1            0.0025\n",
      "52   Female  0            0.0025\n",
      "             1            0.0100\n",
      "     Male    1            0.0025\n",
      "53   Female  1            0.0100\n",
      "     Male    1            0.0025\n",
      "54   Female  1            0.0075\n",
      "     Male    1            0.0025\n",
      "55   Female  1            0.0050\n",
      "     Male    1            0.0025\n",
      "56   Female  1            0.0025\n",
      "     Male    1            0.0050\n",
      "57   Female  1            0.0075\n",
      "     Male    1            0.0050\n",
      "58   Female  1            0.0125\n",
      "     Male    1            0.0025\n",
      "59   Female  0            0.0050\n",
      "             1            0.0075\n",
      "     Male    1            0.0050\n",
      "60   Female  1            0.0050\n",
      "     Male    1            0.0125\n",
      "Length: 119, dtype: float64\n"
     ]
    }
   ],
   "source": [
    "#Joint Probability\n",
    "Joint_Prob_Age_Gender = data.groupby(['Age','Gender','Purchased']).size()/400\n",
    "print(\"Joint Probability based on Age, Gender \\n\", Joint_Prob_Age_Gender, end=\"\\n\")"
   ]
  },
  {
   "cell_type": "code",
   "execution_count": null,
   "metadata": {
    "collapsed": true
   },
   "outputs": [],
   "source": []
  }
 ],
 "metadata": {
  "kernelspec": {
   "display_name": "Python 3",
   "language": "python",
   "name": "python3"
  },
  "language_info": {
   "codemirror_mode": {
    "name": "ipython",
    "version": 3
   },
   "file_extension": ".py",
   "mimetype": "text/x-python",
   "name": "python",
   "nbconvert_exporter": "python",
   "pygments_lexer": "ipython3",
   "version": "3.8.3"
  }
 },
 "nbformat": 4,
 "nbformat_minor": 2
}
