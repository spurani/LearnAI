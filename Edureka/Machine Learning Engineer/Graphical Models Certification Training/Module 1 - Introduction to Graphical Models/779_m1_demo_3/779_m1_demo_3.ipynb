{
 "cells": [
  {
   "cell_type": "code",
   "execution_count": 1,
   "metadata": {},
   "outputs": [],
   "source": [
    "import numpy as np"
   ]
  },
  {
   "cell_type": "code",
   "execution_count": 2,
   "metadata": {},
   "outputs": [
    {
     "name": "stdout",
     "output_type": "stream",
     "text": [
      "{'cancer': 0.01, 'no_cancer': 0.99}\n",
      "{'cancer': 0.8, 'no_cancer': 0.2}\n",
      "{'cancer': 0.096, 'no_cancer': 0.904}\n"
     ]
    }
   ],
   "source": [
    "prior = {'cancer':0.01,'no_cancer':0.99}\n",
    "print (prior) \n",
    "test_given_cancer = {'cancer':0.8,'no_cancer':0.2}\n",
    "print(test_given_cancer)\n",
    "test_given_no_cancer = {'cancer':0.096,'no_cancer':0.904}\n",
    "print(test_given_no_cancer)"
   ]
  },
  {
   "cell_type": "code",
   "execution_count": 3,
   "metadata": {},
   "outputs": [
    {
     "data": {
      "text/plain": [
       "0.008"
      ]
     },
     "execution_count": 3,
     "metadata": {},
     "output_type": "execute_result"
    }
   ],
   "source": [
    "likelihood_cancer = test_given_cancer['cancer'] * prior['cancer']\n",
    "likelihood_cancer"
   ]
  },
  {
   "cell_type": "code",
   "execution_count": 4,
   "metadata": {},
   "outputs": [
    {
     "data": {
      "text/plain": [
       "0.09504"
      ]
     },
     "execution_count": 4,
     "metadata": {},
     "output_type": "execute_result"
    }
   ],
   "source": [
    "likelihood_no_cancer = test_given_no_cancer['cancer'] * prior['no_cancer']\n",
    "likelihood_no_cancer"
   ]
  },
  {
   "cell_type": "code",
   "execution_count": 5,
   "metadata": {},
   "outputs": [
    {
     "data": {
      "text/plain": [
       "0.10303999999999999"
      ]
     },
     "execution_count": 5,
     "metadata": {},
     "output_type": "execute_result"
    }
   ],
   "source": [
    "p_data = likelihood_cancer + likelihood_no_cancer\n",
    "p_data"
   ]
  },
  {
   "cell_type": "code",
   "execution_count": 6,
   "metadata": {},
   "outputs": [
    {
     "data": {
      "text/plain": [
       "0.07763975155279504"
      ]
     },
     "execution_count": 6,
     "metadata": {},
     "output_type": "execute_result"
    }
   ],
   "source": [
    "likelihood_cancer/p_data"
   ]
  },
  {
   "cell_type": "code",
   "execution_count": null,
   "metadata": {},
   "outputs": [],
   "source": []
  }
 ],
 "metadata": {
  "kernelspec": {
   "display_name": "Python 3",
   "language": "python",
   "name": "python3"
  },
  "language_info": {
   "codemirror_mode": {
    "name": "ipython",
    "version": 3
   },
   "file_extension": ".py",
   "mimetype": "text/x-python",
   "name": "python",
   "nbconvert_exporter": "python",
   "pygments_lexer": "ipython3",
   "version": "3.8.3"
  }
 },
 "nbformat": 4,
 "nbformat_minor": 2
}
