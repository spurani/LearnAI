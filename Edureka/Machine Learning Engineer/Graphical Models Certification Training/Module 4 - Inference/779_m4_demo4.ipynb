{
 "cells": [
  {
   "cell_type": "markdown",
   "metadata": {},
   "source": [
    "**Installation Setup:**<br>\n",
    "&emsp; If you are using anaconda conda install -c chaubold opengm <br>\n",
    "&emsp; If you are using Ubuntu  sudo apt-get install python-opengm <br>"
   ]
  },
  {
   "cell_type": "markdown",
   "metadata": {},
   "source": [
    "## Image Denoising using Loopy Belief propagation.\n",
    "\n",
    "In this demo ,let us go through a denoising problem that looks similar to image segmentation task. A Markov Random field is constructed to represent the neighborhood relationships in the image and we compute unary potentials for each of the nodes and binary potential for all the edges. Since this is a graph with loops, we run Loopy belief propagation to perform inference.\n",
    "\n",
    "\n",
    "In this demo we get introduced to [opengm](http://hciweb2.iwr.uni-heidelberg.de/opengm/) a powerful library for PGM with many inference routines.\n",
    "\n"
   ]
  },
  {
   "cell_type": "code",
   "execution_count": 1,
   "metadata": {},
   "outputs": [],
   "source": [
    "import numpy\n",
    "import opengm\n",
    "import scipy.io as sio\n",
    "\n",
    "import matplotlib.pyplot as plt\n",
    "%matplotlib inline"
   ]
  },
  {
   "cell_type": "code",
   "execution_count": 2,
   "metadata": {},
   "outputs": [
    {
     "data": {
      "text/plain": [
       "<module 'opengm' from '/opt/conda/envs/py27/lib/python2.7/site-packages/opengm/__init__.py'>"
      ]
     },
     "execution_count": 2,
     "metadata": {},
     "output_type": "execute_result"
    }
   ],
   "source": [
    "opengm"
   ]
  },
  {
   "cell_type": "markdown",
   "metadata": {},
   "source": [
    "Let's take a sample image and add gaussian noise to it. Our task is to retrieve the orginal image from the noisy image."
   ]
  },
  {
   "cell_type": "code",
   "execution_count": 3,
   "metadata": {},
   "outputs": [
    {
     "data": {
      "text/plain": [
       "<matplotlib.image.AxesImage at 0x7fcb310e4790>"
      ]
     },
     "execution_count": 3,
     "metadata": {},
     "output_type": "execute_result"
    },
    {
     "data": {
      "image/png": "[encoded data removed]",
      "text/plain": [
       "<Figure size 432x288 with 1 Axes>"
      ]
     },
     "metadata": {
      "needs_background": "light"
     },
     "output_type": "display_data"
    }
   ],
   "source": [
    "image = sio.loadmat(\"./X.mat\")['X']\n",
    "\n",
    "plt.imshow(image)"
   ]
  },
  {
   "cell_type": "markdown",
   "metadata": {},
   "source": [
    "Let's distort the image by adding gaussian noise."
   ]
  },
  {
   "cell_type": "code",
   "execution_count": 4,
   "metadata": {},
   "outputs": [
    {
     "name": "stdout",
     "output_type": "stream",
     "text": [
      "(32, 32)\n"
     ]
    },
    {
     "data": {
      "text/plain": [
       "<matplotlib.image.AxesImage at 0x7fcb31015990>"
      ]
     },
     "execution_count": 4,
     "metadata": {},
     "output_type": "execute_result"
    },
    {
     "data": {
      "image/png": "[encoded data removed]",
      "text/plain": [
       "<Figure size 432x288 with 1 Axes>"
      ]
     },
     "metadata": {
      "needs_background": "light"
     },
     "output_type": "display_data"
    }
   ],
   "source": [
    "print(image.shape)\n",
    "\n",
    "img = image +numpy.random.randn(image.shape[0],image.shape[1])/2\n",
    "plt.imshow(img)"
   ]
  },
  {
   "cell_type": "markdown",
   "metadata": {},
   "source": [
    "We take the above noisy image and construct a graph, where each pixel is connected to all its adjacent pixel. For example, a pixel in the interior of an image shares edges with top,bottom , right and left pixels around it.<br>\n",
    "\n",
    "This is a binary image and hence every pixel takes either a value of zero or one. We use opengm library to create a graphical model."
   ]
  },
  {
   "cell_type": "code",
   "execution_count": 5,
   "metadata": {},
   "outputs": [],
   "source": [
    "img = (img - numpy.mean(img)) / numpy.std(img)\n",
    "\n",
    "dimx=img.shape[0]\n",
    "dimy=img.shape[1]\n",
    "\n",
    "numVar=dimx*dimy\n",
    "numLabels=2\n",
    "beta =0.5\n",
    "numberOfStates = numVar * numLabels\n",
    "gm = opengm.graphicalModel([numLabels]*numVar, operator=\"adder\")"
   ]
  },
  {
   "cell_type": "markdown",
   "metadata": {},
   "source": [
    " For every pixel we add a node in the graph and also add unary potential corresponding to it. Currently we hardcode some parameters."
   ]
  },
  {
   "cell_type": "code",
   "execution_count": 6,
   "metadata": {},
   "outputs": [],
   "source": [
    "#Adding unary function and factors\n",
    "# f[0] represents the value of the factor when the node takes value 0\n",
    "# f[1] represents the value of the factor when the node takes value 1\n",
    "\n",
    "for y in range(dimy):\n",
    "    for x in range(dimx):\n",
    "        f=numpy.ones(2,dtype=numpy.float32)\n",
    "        f[0]= numpy.exp(-1-1.3*img[x,y])  \n",
    "        f[1]=1  \n",
    "        fid=gm.addFunction(f)\n",
    "        gm.addFactor(fid,(x*dimy+y,))"
   ]
  },
  {
   "cell_type": "markdown",
   "metadata": {},
   "source": [
    "Below we create a function to get binary potential of a edge that connects two nodes. If both the nodes take the same label, then we set the potential to be zero. When they take different labels,we keep the potential to one. Thus when we run inference to find minimum energy label assignments,it favors neighbhoring pixels to take same labels."
   ]
  },
  {
   "cell_type": "code",
   "execution_count": 7,
   "metadata": {},
   "outputs": [],
   "source": [
    "# For all the binary factors (Edges) there are four possible values.\n",
    "# When both the nodes have same values (both zero or both one) we set the factor to be zero\n",
    "# in cases where it takes different value we let the factor be one.\n",
    "# During energy minimisation, it favors neighboring labels to take same labels \n",
    "\n",
    "f=numpy.ones(pow(numLabels,2),dtype=numpy.float32).reshape(numLabels,numLabels)\n",
    "\n",
    "def get_potts_value(n1,n2):\n",
    "    #pot_same = -numpy.exp(1.8 + .3*1/(1+abs(n1-n2)))\n",
    "    pot_same=0\n",
    "    f=numpy.ones(pow(numLabels,2),dtype=numpy.float32).reshape(numLabels,numLabels)*beta\n",
    "    for l in range(numLabels):\n",
    "        f[l,l] = pot_same\n",
    "    fid = gm.addFunction(f)\n",
    "    return  fid"
   ]
  },
  {
   "cell_type": "code",
   "execution_count": 8,
   "metadata": {},
   "outputs": [],
   "source": [
    "#add binary factors\n",
    "for y in range(dimy):   \n",
    "    for x in range(dimx):\n",
    "        if(x+1<dimx):\n",
    "         #vi as tuple (list and numpy array can also be used as vi's)\n",
    "            fid = get_potts_value(img[x,y],img[x+1,y])\n",
    "            gm.addFactor(fid,numpy.array([x*dimy+y,(x+1)*dimy+y],dtype=opengm.index_type))\n",
    "        if(y+1<dimy):\n",
    "         #vi as list (tuple and numpy array can also be used as vi's)\n",
    "            fid = get_potts_value(img[x,y],img[x,y+1])\n",
    "            gm.addFactor(fid,[x*dimy+y,x*dimy+(y+1)])"
   ]
  },
  {
   "cell_type": "markdown",
   "metadata": {},
   "source": [
    "We run inference and observe the output."
   ]
  },
  {
   "cell_type": "code",
   "execution_count": 9,
   "metadata": {},
   "outputs": [],
   "source": [
    "inf=opengm.inference.BeliefPropagation(gm,parameter=opengm.InfParam(steps=10,damping=0.5,convergenceBound=0.001))\n",
    "inf.infer()\n",
    "argmin=inf.arg()\n",
    "res=argmin.reshape(dimx,dimy)"
   ]
  },
  {
   "cell_type": "code",
   "execution_count": 10,
   "metadata": {},
   "outputs": [
    {
     "data": {
      "text/plain": [
       "array([[0, 0, 0, ..., 0, 0, 0],\n",
       "       [0, 0, 0, ..., 0, 0, 0],\n",
       "       [0, 0, 0, ..., 0, 0, 0],\n",
       "       ...,\n",
       "       [0, 0, 0, ..., 0, 0, 0],\n",
       "       [0, 0, 0, ..., 0, 0, 0],\n",
       "       [0, 0, 0, ..., 0, 0, 0]], dtype=uint64)"
      ]
     },
     "execution_count": 10,
     "metadata": {},
     "output_type": "execute_result"
    }
   ],
   "source": [
    "res"
   ]
  },
  {
   "cell_type": "code",
   "execution_count": 11,
   "metadata": {},
   "outputs": [
    {
     "data": {
      "text/plain": [
       "<matplotlib.image.AxesImage at 0x7fcb30fa0310>"
      ]
     },
     "execution_count": 11,
     "metadata": {},
     "output_type": "execute_result"
    },
    {
     "data": {
      "image/png": "[encoded data removed]",
      "text/plain": [
       "<Figure size 432x288 with 1 Axes>"
      ]
     },
     "metadata": {
      "needs_background": "light"
     },
     "output_type": "display_data"
    }
   ],
   "source": [
    "plt.imshow(res)"
   ]
  },
  {
   "cell_type": "markdown",
   "metadata": {},
   "source": [
    "In this demo we learnt how to construct a MRF for an image. In the next module when we learn about inference in graphical models, we will revisit a similar example."
   ]
  },
  {
   "cell_type": "code",
   "execution_count": null,
   "metadata": {},
   "outputs": [],
   "source": []
  }
 ],
 "metadata": {
  "kernelspec": {
   "display_name": "Python [conda env:py27]",
   "language": "python",
   "name": "conda-env-py27-py"
  },
  "language_info": {
   "codemirror_mode": {
    "name": "ipython",
    "version": 2
   },
   "file_extension": ".py",
   "mimetype": "text/x-python",
   "name": "python",
   "nbconvert_exporter": "python",
   "pygments_lexer": "ipython2",
   "version": "2.7.15"
  }
 },
 "nbformat": 4,
 "nbformat_minor": 2
}
