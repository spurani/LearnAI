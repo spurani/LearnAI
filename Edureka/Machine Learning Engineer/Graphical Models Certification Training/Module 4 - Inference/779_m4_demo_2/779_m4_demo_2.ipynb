{
 "cells": [
  {
   "cell_type": "markdown",
   "metadata": {},
   "source": [
    "### Exact Inference\n",
    "#### In this notebook lets construct a bayesian model and do exact inference using variable elimination and belief propagation."
   ]
  },
  {
   "cell_type": "code",
   "execution_count": 1,
   "metadata": {},
   "outputs": [],
   "source": [
    "from pgmpy.models import BayesianModel\n",
    "from pgmpy.factors.discrete import TabularCPD\n",
    "import networkx as nx\n",
    "%matplotlib inline"
   ]
  },
  {
   "cell_type": "code",
   "execution_count": 2,
   "metadata": {},
   "outputs": [
    {
     "data": {
      "image/png": "[encoded data removed]",
      "text/plain": [
       "<Figure size 432x288 with 1 Axes>"
      ]
     },
     "metadata": {
      "needs_background": "light"
     },
     "output_type": "display_data"
    }
   ],
   "source": [
    "# Defining the model structure. We can define the network by just passing a list of edges.\n",
    "model = BayesianModel([('Traffic', 'Mileage'), ('Category', 'Mileage'), ('Mileage', 'Review'),\n",
    "                       ('Category', 'Performance')])\n",
    "nx.draw_networkx(model)"
   ]
  },
  {
   "cell_type": "markdown",
   "metadata": {},
   "source": [
    "#### Now let us create the Conditional probability distributions for each of the variables introduced."
   ]
  },
  {
   "cell_type": "code",
   "execution_count": 3,
   "metadata": {},
   "outputs": [],
   "source": [
    "cpd_t = TabularCPD(variable='Traffic', variable_card=2, values=[[0.6, 0.4]])\n",
    "cpd_c = TabularCPD(variable='Category', variable_card=2, values=[[0.7, 0.3]])"
   ]
  },
  {
   "cell_type": "code",
   "execution_count": 4,
   "metadata": {},
   "outputs": [],
   "source": [
    "cpd_m = TabularCPD(variable='Mileage', variable_card=3, \n",
    "                   values=[[0.2, 0.05, 0.9,  0.3],\n",
    "                           [0.6, 0.25, 0.08, 0.5],\n",
    "                           [0.2, 0.7,  0.02, 0.2]],\n",
    "                  evidence=['Category', 'Traffic'],\n",
    "                  evidence_card=[2, 2])"
   ]
  },
  {
   "cell_type": "code",
   "execution_count": 5,
   "metadata": {},
   "outputs": [],
   "source": [
    "cpd_r = TabularCPD(variable='Review', variable_card=2, \n",
    "                   values=[[0.1, 0.4, 0.99],\n",
    "                           [0.9, 0.6, 0.01]],\n",
    "                   evidence=['Mileage'],\n",
    "                   evidence_card=[3])"
   ]
  },
  {
   "cell_type": "code",
   "execution_count": 6,
   "metadata": {},
   "outputs": [],
   "source": [
    "cpd_p = TabularCPD(variable='Performance', variable_card=2,\n",
    "                   values=[[0.95, 0.2],\n",
    "                           [0.05, 0.8]],\n",
    "                   evidence=['Category'],\n",
    "                   evidence_card=[2])"
   ]
  },
  {
   "cell_type": "code",
   "execution_count": 7,
   "metadata": {},
   "outputs": [],
   "source": [
    "model.add_cpds(cpd_t, cpd_c, cpd_m, cpd_r, cpd_p)"
   ]
  },
  {
   "cell_type": "code",
   "execution_count": 8,
   "metadata": {},
   "outputs": [
    {
     "name": "stdout",
     "output_type": "stream",
     "text": [
      "+-----------+------------+------------+------------+------------+\n",
      "| Category  | Category_0 | Category_0 | Category_1 | Category_1 |\n",
      "+-----------+------------+------------+------------+------------+\n",
      "| Traffic   | Traffic_0  | Traffic_1  | Traffic_0  | Traffic_1  |\n",
      "+-----------+------------+------------+------------+------------+\n",
      "| Mileage_0 | 0.2        | 0.05       | 0.9        | 0.3        |\n",
      "+-----------+------------+------------+------------+------------+\n",
      "| Mileage_1 | 0.6        | 0.25       | 0.08       | 0.5        |\n",
      "+-----------+------------+------------+------------+------------+\n",
      "| Mileage_2 | 0.2        | 0.7        | 0.02       | 0.2        |\n",
      "+-----------+------------+------------+------------+------------+\n"
     ]
    }
   ],
   "source": [
    "print(model.get_cpds('Mileage'))"
   ]
  },
  {
   "cell_type": "markdown",
   "metadata": {},
   "source": [
    "### Inference using Variable Elimination\n",
    "#### Having constructed a model, now the process of inference is making queries about the variables in the model. In this demo we use variable elimination method."
   ]
  },
  {
   "cell_type": "code",
   "execution_count": 9,
   "metadata": {},
   "outputs": [],
   "source": [
    "from pgmpy.inference import VariableElimination\n",
    "infer = VariableElimination(model)"
   ]
  },
  {
   "cell_type": "code",
   "execution_count": 10,
   "metadata": {},
   "outputs": [
    {
     "name": "stdout",
     "output_type": "stream",
     "text": [
      "+-----------+----------------+\n",
      "| Mileage   |   phi(Mileage) |\n",
      "+===========+================+\n",
      "| Mileage_0 |         0.2960 |\n",
      "+-----------+----------------+\n",
      "| Mileage_1 |         0.3964 |\n",
      "+-----------+----------------+\n",
      "| Mileage_2 |         0.3076 |\n",
      "+-----------+----------------+\n"
     ]
    }
   ],
   "source": [
    "# To find the marginal distribution of  a variable , we need to construct a query as below.\n",
    "from pgmpy.factors.discrete import DiscreteFactor\n",
    "print(infer.query(['Mileage']))"
   ]
  },
  {
   "cell_type": "code",
   "execution_count": 11,
   "metadata": {},
   "outputs": [
    {
     "name": "stdout",
     "output_type": "stream",
     "text": [
      "+-----------+----------------+\n",
      "| Traffic   |   phi(Traffic) |\n",
      "+===========+================+\n",
      "| Traffic_0 |         0.6000 |\n",
      "+-----------+----------------+\n",
      "| Traffic_1 |         0.4000 |\n",
      "+-----------+----------------+\n"
     ]
    }
   ],
   "source": [
    "print(infer.query(['Traffic']))"
   ]
  },
  {
   "cell_type": "markdown",
   "metadata": {},
   "source": [
    "#### In above case we infer that the traffic is high with probability 0.4 and low with probability 0.6."
   ]
  },
  {
   "cell_type": "markdown",
   "metadata": {},
   "source": [
    "### Conditional queries\n",
    "\n",
    "#### We can also fix values for some variables and then query the model for another variable of interest. Let us fix the traffic to be low(T_O) and the car to be a sports car."
   ]
  },
  {
   "cell_type": "code",
   "execution_count": 12,
   "metadata": {},
   "outputs": [
    {
     "name": "stdout",
     "output_type": "stream",
     "text": [
      "+-----------+----------------+\n",
      "| Mileage   |   phi(Mileage) |\n",
      "+===========+================+\n",
      "| Mileage_0 |         0.9000 |\n",
      "+-----------+----------------+\n",
      "| Mileage_1 |         0.0800 |\n",
      "+-----------+----------------+\n",
      "| Mileage_2 |         0.0200 |\n",
      "+-----------+----------------+\n"
     ]
    }
   ],
   "source": [
    "print(infer.query(['Mileage'],evidence={'Traffic': 0, 'Category': 1}))"
   ]
  },
  {
   "cell_type": "markdown",
   "metadata": {},
   "source": [
    "#### We could see that the probability of mileage being high(M_0) increases now compared with the marginal distribution."
   ]
  },
  {
   "cell_type": "markdown",
   "metadata": {},
   "source": [
    "### Inference using Belief Propagation:\n",
    "#### Once the model is constructed different inference methods can be used to make queries. Let us use belief propagation to make queries."
   ]
  },
  {
   "cell_type": "code",
   "execution_count": 13,
   "metadata": {},
   "outputs": [],
   "source": [
    "from pgmpy.inference import BeliefPropagation"
   ]
  },
  {
   "cell_type": "code",
   "execution_count": 14,
   "metadata": {},
   "outputs": [],
   "source": [
    "infer = BeliefPropagation(model)"
   ]
  },
  {
   "cell_type": "code",
   "execution_count": 15,
   "metadata": {},
   "outputs": [
    {
     "name": "stdout",
     "output_type": "stream",
     "text": [
      "+-----------+----------------+\n",
      "| Mileage   |   phi(Mileage) |\n",
      "+===========+================+\n",
      "| Mileage_0 |         0.5400 |\n",
      "+-----------+----------------+\n",
      "| Mileage_1 |         0.0480 |\n",
      "+-----------+----------------+\n",
      "| Mileage_2 |         0.0120 |\n",
      "+-----------+----------------+\n"
     ]
    }
   ],
   "source": [
    "print(infer.query(['Mileage'],evidence={'Traffic': 0, 'Category': 1}))"
   ]
  },
  {
   "cell_type": "markdown",
   "metadata": {},
   "source": [
    "#### Let us change the traffic to be high (T_1) and compare its influence on mileage"
   ]
  },
  {
   "cell_type": "code",
   "execution_count": 16,
   "metadata": {},
   "outputs": [
    {
     "name": "stdout",
     "output_type": "stream",
     "text": [
      "+-----------+----------------+\n",
      "| Mileage   |   phi(Mileage) |\n",
      "+===========+================+\n",
      "| Mileage_0 |         0.1200 |\n",
      "+-----------+----------------+\n",
      "| Mileage_1 |         0.2000 |\n",
      "+-----------+----------------+\n",
      "| Mileage_2 |         0.0800 |\n",
      "+-----------+----------------+\n"
     ]
    }
   ],
   "source": [
    "print(infer.query(['Mileage'],evidence={'Traffic': 1, 'Category': 1}))"
   ]
  },
  {
   "cell_type": "markdown",
   "metadata": {},
   "source": [
    "### MAP queries\n",
    "#### MAP queries return the most probable values a variable might take.\n",
    "#### We can see now the probability of high mileage(M_0)goes down and the probability of medium mileage(M_1) goes up"
   ]
  },
  {
   "cell_type": "code",
   "execution_count": 17,
   "metadata": {},
   "outputs": [
    {
     "data": {
      "text/plain": [
       "{'Mileage': 1}"
      ]
     },
     "execution_count": 17,
     "metadata": {},
     "output_type": "execute_result"
    }
   ],
   "source": [
    "infer.map_query(variables=['Mileage'])"
   ]
  },
  {
   "cell_type": "markdown",
   "metadata": {},
   "source": [
    "#### If the traffic is high and we are travelling in a sports car, let us query for the review of the car. Evidence variables needs to be passed as a dictionary."
   ]
  },
  {
   "cell_type": "code",
   "execution_count": 18,
   "metadata": {},
   "outputs": [
    {
     "data": {
      "text/plain": [
       "{'Review': 1}"
      ]
     },
     "execution_count": 18,
     "metadata": {},
     "output_type": "execute_result"
    }
   ],
   "source": [
    "infer.map_query(variables=['Review'],evidence={'Traffic':1,'Category':1})"
   ]
  },
  {
   "cell_type": "markdown",
   "metadata": {},
   "source": [
    "#### Let us change the car to commuter car and see if it impacts the review"
   ]
  },
  {
   "cell_type": "code",
   "execution_count": 19,
   "metadata": {},
   "outputs": [
    {
     "data": {
      "text/plain": [
       "{'Review': 0}"
      ]
     },
     "execution_count": 19,
     "metadata": {},
     "output_type": "execute_result"
    }
   ],
   "source": [
    "infer.map_query(variables=['Review'],evidence={'Traffic':1,'Category':0})"
   ]
  },
  {
   "cell_type": "code",
   "execution_count": null,
   "metadata": {},
   "outputs": [],
   "source": []
  }
 ],
 "metadata": {
  "kernelspec": {
   "display_name": "Python 3",
   "language": "python",
   "name": "python3"
  },
  "language_info": {
   "codemirror_mode": {
    "name": "ipython",
    "version": 3
   },
   "file_extension": ".py",
   "mimetype": "text/x-python",
   "name": "python",
   "nbconvert_exporter": "python",
   "pygments_lexer": "ipython3",
   "version": "3.6.7"
  }
 },
 "nbformat": 4,
 "nbformat_minor": 2
}
