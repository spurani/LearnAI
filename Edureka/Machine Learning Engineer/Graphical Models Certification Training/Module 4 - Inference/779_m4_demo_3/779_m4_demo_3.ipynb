{
 "cells": [
  {
   "cell_type": "code",
   "execution_count": 1,
   "metadata": {},
   "outputs": [],
   "source": [
    "#import libraries\n",
    "from pgmpy.models import BayesianModel\n",
    "from pgmpy.factors.discrete import TabularCPD\n",
    "import networkx as nx\n",
    "%matplotlib inline"
   ]
  },
  {
   "cell_type": "code",
   "execution_count": 2,
   "metadata": {},
   "outputs": [
    {
     "data": {
      "image/png": "[encoded data removed]",
      "text/plain": [
       "<Figure size 432x288 with 1 Axes>"
      ]
     },
     "metadata": {
      "needs_background": "light"
     },
     "output_type": "display_data"
    }
   ],
   "source": [
    "#Defining the model structure. We can define the network by just passing a list of edges.\n",
    "model = BayesianModel([('Traffic', 'Mileage'), ('Category', 'Mileage'), ('Mileage', 'Review'), ('Category', 'Performance')])\n",
    "nx.draw_networkx(model)"
   ]
  },
  {
   "cell_type": "markdown",
   "metadata": {},
   "source": [
    "#### Now let us create the Conditional probability distributions for each of the variables introduced "
   ]
  },
  {
   "cell_type": "code",
   "execution_count": 3,
   "metadata": {},
   "outputs": [],
   "source": [
    "cpd_t = TabularCPD(variable='Traffic', variable_card=2, values=[[0.6, 0.4]])\n",
    "cpd_c = TabularCPD(variable='Category', variable_card=2, values=[[0.7, 0.3]])"
   ]
  },
  {
   "cell_type": "code",
   "execution_count": 4,
   "metadata": {},
   "outputs": [],
   "source": [
    "cpd_m = TabularCPD(variable='Mileage', variable_card=3, \n",
    "                   values=[[0.2, 0.05, 0.9,  0.3],\n",
    "                           [0.6, 0.25, 0.08, 0.5],\n",
    "                           [0.2, 0.7,  0.02, 0.2]],\n",
    "                  evidence=['Category', 'Traffic'],\n",
    "                  evidence_card=[2, 2])"
   ]
  },
  {
   "cell_type": "code",
   "execution_count": 5,
   "metadata": {},
   "outputs": [],
   "source": [
    "cpd_r = TabularCPD(variable='Review', variable_card=2, \n",
    "                   values=[[0.1, 0.4, 0.99],\n",
    "                           [0.9, 0.6, 0.01]],\n",
    "                   evidence=['Mileage'],\n",
    "                   evidence_card=[3])"
   ]
  },
  {
   "cell_type": "code",
   "execution_count": 6,
   "metadata": {},
   "outputs": [],
   "source": [
    "cpd_p = TabularCPD(variable='Performance', variable_card=2,\n",
    "                   values=[[0.95, 0.2],\n",
    "                           [0.05, 0.8]],\n",
    "                   evidence=['Category'],\n",
    "                   evidence_card=[2])"
   ]
  },
  {
   "cell_type": "code",
   "execution_count": 7,
   "metadata": {},
   "outputs": [],
   "source": [
    "model.add_cpds(cpd_t, cpd_c, cpd_m, cpd_r, cpd_p)"
   ]
  },
  {
   "cell_type": "code",
   "execution_count": 8,
   "metadata": {},
   "outputs": [
    {
     "name": "stdout",
     "output_type": "stream",
     "text": [
      "+-----------+------------+------------+------------+------------+\n",
      "| Category  | Category_0 | Category_0 | Category_1 | Category_1 |\n",
      "+-----------+------------+------------+------------+------------+\n",
      "| Traffic   | Traffic_0  | Traffic_1  | Traffic_0  | Traffic_1  |\n",
      "+-----------+------------+------------+------------+------------+\n",
      "| Mileage_0 | 0.2        | 0.05       | 0.9        | 0.3        |\n",
      "+-----------+------------+------------+------------+------------+\n",
      "| Mileage_1 | 0.6        | 0.25       | 0.08       | 0.5        |\n",
      "+-----------+------------+------------+------------+------------+\n",
      "| Mileage_2 | 0.2        | 0.7        | 0.02       | 0.2        |\n",
      "+-----------+------------+------------+------------+------------+\n"
     ]
    }
   ],
   "source": [
    "print(model.get_cpds('Mileage'))"
   ]
  },
  {
   "cell_type": "markdown",
   "metadata": {},
   "source": [
    "### Inference using Gibbs Sampler\n",
    "\n",
    "#### Having constructed a model, now the process of inference is making queries about the variables in the model. We use Gibbs sampler to sample from the model.\n",
    "\n"
   ]
  },
  {
   "cell_type": "code",
   "execution_count": 9,
   "metadata": {},
   "outputs": [],
   "source": [
    "from pgmpy.sampling import GibbsSampling\n",
    "infer = GibbsSampling(model)"
   ]
  },
  {
   "cell_type": "markdown",
   "metadata": {},
   "source": [
    "#### Lets now get few samples from our model.This method returns 'size' number of samples from the model"
   ]
  },
  {
   "cell_type": "code",
   "execution_count": 10,
   "metadata": {},
   "outputs": [],
   "source": [
    "samples =infer.generate_sample(size=10)"
   ]
  },
  {
   "cell_type": "code",
   "execution_count": 11,
   "metadata": {},
   "outputs": [
    {
     "name": "stdout",
     "output_type": "stream",
     "text": [
      "[State(var='Traffic', state=0), State(var='Mileage', state=1), State(var='Category', state=0), State(var='Review', state=1), State(var='Performance', state=0)]\n",
      "[State(var='Traffic', state=0), State(var='Mileage', state=1), State(var='Category', state=0), State(var='Review', state=1), State(var='Performance', state=0)]\n",
      "[State(var='Traffic', state=0), State(var='Mileage', state=1), State(var='Category', state=0), State(var='Review', state=0), State(var='Performance', state=0)]\n",
      "[State(var='Traffic', state=0), State(var='Mileage', state=2), State(var='Category', state=0), State(var='Review', state=0), State(var='Performance', state=1)]\n",
      "[State(var='Traffic', state=1), State(var='Mileage', state=2), State(var='Category', state=1), State(var='Review', state=0), State(var='Performance', state=1)]\n",
      "[State(var='Traffic', state=1), State(var='Mileage', state=1), State(var='Category', state=1), State(var='Review', state=1), State(var='Performance', state=1)]\n",
      "[State(var='Traffic', state=0), State(var='Mileage', state=0), State(var='Category', state=1), State(var='Review', state=1), State(var='Performance', state=0)]\n",
      "[State(var='Traffic', state=0), State(var='Mileage', state=0), State(var='Category', state=1), State(var='Review', state=1), State(var='Performance', state=1)]\n",
      "[State(var='Traffic', state=0), State(var='Mileage', state=0), State(var='Category', state=1), State(var='Review', state=1), State(var='Performance', state=1)]\n",
      "[State(var='Traffic', state=0), State(var='Mileage', state=0), State(var='Category', state=1), State(var='Review', state=1), State(var='Performance', state=1)]\n"
     ]
    }
   ],
   "source": [
    "for sample in samples:\n",
    "    print(sample)"
   ]
  },
  {
   "cell_type": "markdown",
   "metadata": {},
   "source": [
    "#### But to make marginal probability queries or MAP queries, we must derive the statistics from these samples. There is another method which can return a dataframe that will ease the process of computing probabilities"
   ]
  },
  {
   "cell_type": "code",
   "execution_count": 12,
   "metadata": {},
   "outputs": [
    {
     "data": {
      "text/html": [
       "<div>\n",
       "<style scoped>\n",
       "    .dataframe tbody tr th:only-of-type {\n",
       "        vertical-align: middle;\n",
       "    }\n",
       "\n",
       "    .dataframe tbody tr th {\n",
       "        vertical-align: top;\n",
       "    }\n",
       "\n",
       "    .dataframe thead th {\n",
       "        text-align: right;\n",
       "    }\n",
       "</style>\n",
       "<table border=\"1\" class=\"dataframe\">\n",
       "  <thead>\n",
       "    <tr style=\"text-align: right;\">\n",
       "      <th></th>\n",
       "      <th>Traffic</th>\n",
       "      <th>Mileage</th>\n",
       "      <th>Category</th>\n",
       "      <th>Review</th>\n",
       "      <th>Performance</th>\n",
       "    </tr>\n",
       "  </thead>\n",
       "  <tbody>\n",
       "    <tr>\n",
       "      <th>0</th>\n",
       "      <td>0</td>\n",
       "      <td>0</td>\n",
       "      <td>1</td>\n",
       "      <td>1</td>\n",
       "      <td>1</td>\n",
       "    </tr>\n",
       "    <tr>\n",
       "      <th>1</th>\n",
       "      <td>0</td>\n",
       "      <td>0</td>\n",
       "      <td>1</td>\n",
       "      <td>1</td>\n",
       "      <td>1</td>\n",
       "    </tr>\n",
       "    <tr>\n",
       "      <th>2</th>\n",
       "      <td>1</td>\n",
       "      <td>1</td>\n",
       "      <td>1</td>\n",
       "      <td>0</td>\n",
       "      <td>1</td>\n",
       "    </tr>\n",
       "    <tr>\n",
       "      <th>3</th>\n",
       "      <td>1</td>\n",
       "      <td>2</td>\n",
       "      <td>0</td>\n",
       "      <td>0</td>\n",
       "      <td>0</td>\n",
       "    </tr>\n",
       "    <tr>\n",
       "      <th>4</th>\n",
       "      <td>1</td>\n",
       "      <td>1</td>\n",
       "      <td>0</td>\n",
       "      <td>1</td>\n",
       "      <td>1</td>\n",
       "    </tr>\n",
       "  </tbody>\n",
       "</table>\n",
       "</div>"
      ],
      "text/plain": [
       "   Traffic  Mileage  Category  Review  Performance\n",
       "0        0        0         1       1            1\n",
       "1        0        0         1       1            1\n",
       "2        1        1         1       0            1\n",
       "3        1        2         0       0            0\n",
       "4        1        1         0       1            1"
      ]
     },
     "execution_count": 12,
     "metadata": {},
     "output_type": "execute_result"
    }
   ],
   "source": [
    "samples_df = infer.sample(size=100,return_type='dataframe')\n",
    "samples_df.head()"
   ]
  },
  {
   "cell_type": "code",
   "execution_count": 13,
   "metadata": {},
   "outputs": [
    {
     "data": {
      "text/plain": [
       "Traffic\n",
       "0    54\n",
       "1    46\n",
       "dtype: int64"
      ]
     },
     "execution_count": 13,
     "metadata": {},
     "output_type": "execute_result"
    }
   ],
   "source": [
    "t_df=samples_df.groupby('Traffic').size()\n",
    "t_df"
   ]
  },
  {
   "cell_type": "code",
   "execution_count": 14,
   "metadata": {},
   "outputs": [
    {
     "name": "stdout",
     "output_type": "stream",
     "text": [
      "Probability of T0: 0.54\n",
      "Probability of T1: 0.46\n"
     ]
    }
   ],
   "source": [
    "P_0= t_df[0]/len(samples_df)\n",
    "P_1 = t_df[1]/len(samples_df)\n",
    "\n",
    "print(\"Probability of T0:\",P_0)\n",
    "print(\"Probability of T1:\",P_1)"
   ]
  },
  {
   "cell_type": "code",
   "execution_count": 15,
   "metadata": {},
   "outputs": [
    {
     "data": {
      "text/plain": [
       "Mileage\n",
       "0    36\n",
       "1    27\n",
       "2    37\n",
       "dtype: int64"
      ]
     },
     "execution_count": 15,
     "metadata": {},
     "output_type": "execute_result"
    }
   ],
   "source": [
    "m_df=samples_df.groupby('Mileage').size()\n",
    "m_df"
   ]
  },
  {
   "cell_type": "code",
   "execution_count": 16,
   "metadata": {},
   "outputs": [
    {
     "name": "stdout",
     "output_type": "stream",
     "text": [
      "Probability of M0: 0.36\n",
      "Probability of M1: 0.27\n",
      "Probability of M2: 0.37\n"
     ]
    }
   ],
   "source": [
    "P_M0= m_df[0]/len(samples_df)\n",
    "P_M1 = m_df[1]/len(samples_df)\n",
    "P_M2 = m_df[2]/len(samples_df)\n",
    "\n",
    "print(\"Probability of M0:\",P_M0)\n",
    "print(\"Probability of M1:\",P_M1)\n",
    "print(\"Probability of M2:\",P_M2)"
   ]
  },
  {
   "cell_type": "markdown",
   "metadata": {},
   "source": [
    "#### You can compare these with the results obtained through exact inference in previous notebook and might observe that the marginal probability values are bit off. For sampling based methods, we need larger number of samples to ensure that the sampler reaches its stationary values.Lets increase the number of samples and recompute the values"
   ]
  },
  {
   "cell_type": "code",
   "execution_count": 17,
   "metadata": {},
   "outputs": [
    {
     "data": {
      "text/html": [
       "<div>\n",
       "<style scoped>\n",
       "    .dataframe tbody tr th:only-of-type {\n",
       "        vertical-align: middle;\n",
       "    }\n",
       "\n",
       "    .dataframe tbody tr th {\n",
       "        vertical-align: top;\n",
       "    }\n",
       "\n",
       "    .dataframe thead th {\n",
       "        text-align: right;\n",
       "    }\n",
       "</style>\n",
       "<table border=\"1\" class=\"dataframe\">\n",
       "  <thead>\n",
       "    <tr style=\"text-align: right;\">\n",
       "      <th></th>\n",
       "      <th>Traffic</th>\n",
       "      <th>Mileage</th>\n",
       "      <th>Category</th>\n",
       "      <th>Review</th>\n",
       "      <th>Performance</th>\n",
       "    </tr>\n",
       "  </thead>\n",
       "  <tbody>\n",
       "    <tr>\n",
       "      <th>0</th>\n",
       "      <td>0</td>\n",
       "      <td>1</td>\n",
       "      <td>0</td>\n",
       "      <td>1</td>\n",
       "      <td>0</td>\n",
       "    </tr>\n",
       "    <tr>\n",
       "      <th>1</th>\n",
       "      <td>0</td>\n",
       "      <td>1</td>\n",
       "      <td>0</td>\n",
       "      <td>1</td>\n",
       "      <td>0</td>\n",
       "    </tr>\n",
       "    <tr>\n",
       "      <th>2</th>\n",
       "      <td>0</td>\n",
       "      <td>1</td>\n",
       "      <td>0</td>\n",
       "      <td>1</td>\n",
       "      <td>1</td>\n",
       "    </tr>\n",
       "    <tr>\n",
       "      <th>3</th>\n",
       "      <td>0</td>\n",
       "      <td>1</td>\n",
       "      <td>1</td>\n",
       "      <td>0</td>\n",
       "      <td>1</td>\n",
       "    </tr>\n",
       "    <tr>\n",
       "      <th>4</th>\n",
       "      <td>1</td>\n",
       "      <td>1</td>\n",
       "      <td>1</td>\n",
       "      <td>0</td>\n",
       "      <td>1</td>\n",
       "    </tr>\n",
       "  </tbody>\n",
       "</table>\n",
       "</div>"
      ],
      "text/plain": [
       "   Traffic  Mileage  Category  Review  Performance\n",
       "0        0        1         0       1            0\n",
       "1        0        1         0       1            0\n",
       "2        0        1         0       1            1\n",
       "3        0        1         1       0            1\n",
       "4        1        1         1       0            1"
      ]
     },
     "execution_count": 17,
     "metadata": {},
     "output_type": "execute_result"
    }
   ],
   "source": [
    "samples_df = infer.sample(size=100000,return_type='dataframe')\n",
    "samples_df.head()"
   ]
  },
  {
   "cell_type": "code",
   "execution_count": 18,
   "metadata": {},
   "outputs": [
    {
     "data": {
      "text/plain": [
       "Mileage\n",
       "0    29712\n",
       "1    39250\n",
       "2    31038\n",
       "dtype: int64"
      ]
     },
     "execution_count": 18,
     "metadata": {},
     "output_type": "execute_result"
    }
   ],
   "source": [
    "m_df=samples_df.groupby('Mileage').size()\n",
    "m_df"
   ]
  },
  {
   "cell_type": "code",
   "execution_count": 19,
   "metadata": {},
   "outputs": [
    {
     "name": "stdout",
     "output_type": "stream",
     "text": [
      "Probability of M0: 0.29712\n",
      "Probability of M1: 0.3925\n",
      "Probability of M2: 0.31038\n"
     ]
    }
   ],
   "source": [
    "P_M0= m_df[0]/len(samples_df)\n",
    "P_M1 = m_df[1]/len(samples_df)\n",
    "P_M2 = m_df[2]/len(samples_df)\n",
    "\n",
    "print(\"Probability of M0:\",P_M0)\n",
    "print(\"Probability of M1:\",P_M1)\n",
    "print(\"Probability of M2:\",P_M2)"
   ]
  },
  {
   "cell_type": "markdown",
   "metadata": {},
   "source": [
    "### Conditional queries\n",
    "\n",
    "#### We can also fix values for some variables and then query the model for another variable of interest. Let us fix the traffic to be low(T_O) and the car to be a sports car(C_1)"
   ]
  },
  {
   "cell_type": "code",
   "execution_count": 20,
   "metadata": {},
   "outputs": [],
   "source": [
    "from pgmpy.sampling import BayesianModelSampling\n",
    "from pgmpy.factors.discrete import State"
   ]
  },
  {
   "cell_type": "code",
   "execution_count": 21,
   "metadata": {},
   "outputs": [],
   "source": [
    "inference = BayesianModelSampling(model)"
   ]
  },
  {
   "cell_type": "code",
   "execution_count": 22,
   "metadata": {},
   "outputs": [],
   "source": [
    "#Fixing the state of traffic and car category\n",
    "evidence =[State('Traffic', 0), State('Category',1)]"
   ]
  },
  {
   "cell_type": "code",
   "execution_count": 23,
   "metadata": {},
   "outputs": [],
   "source": [
    "query_df=inference.likelihood_weighted_sample(evidence=evidence, size=10000, return_type='dataframe')"
   ]
  },
  {
   "cell_type": "code",
   "execution_count": 24,
   "metadata": {},
   "outputs": [
    {
     "data": {
      "text/html": [
       "<div>\n",
       "<style scoped>\n",
       "    .dataframe tbody tr th:only-of-type {\n",
       "        vertical-align: middle;\n",
       "    }\n",
       "\n",
       "    .dataframe tbody tr th {\n",
       "        vertical-align: top;\n",
       "    }\n",
       "\n",
       "    .dataframe thead th {\n",
       "        text-align: right;\n",
       "    }\n",
       "</style>\n",
       "<table border=\"1\" class=\"dataframe\">\n",
       "  <thead>\n",
       "    <tr style=\"text-align: right;\">\n",
       "      <th></th>\n",
       "      <th>Category</th>\n",
       "      <th>Performance</th>\n",
       "      <th>Traffic</th>\n",
       "      <th>Mileage</th>\n",
       "      <th>Review</th>\n",
       "      <th>_weight</th>\n",
       "    </tr>\n",
       "  </thead>\n",
       "  <tbody>\n",
       "    <tr>\n",
       "      <th>0</th>\n",
       "      <td>1</td>\n",
       "      <td>0</td>\n",
       "      <td>0</td>\n",
       "      <td>0</td>\n",
       "      <td>1</td>\n",
       "      <td>0.18</td>\n",
       "    </tr>\n",
       "    <tr>\n",
       "      <th>1</th>\n",
       "      <td>1</td>\n",
       "      <td>0</td>\n",
       "      <td>0</td>\n",
       "      <td>0</td>\n",
       "      <td>1</td>\n",
       "      <td>0.18</td>\n",
       "    </tr>\n",
       "    <tr>\n",
       "      <th>2</th>\n",
       "      <td>1</td>\n",
       "      <td>1</td>\n",
       "      <td>0</td>\n",
       "      <td>0</td>\n",
       "      <td>1</td>\n",
       "      <td>0.18</td>\n",
       "    </tr>\n",
       "    <tr>\n",
       "      <th>3</th>\n",
       "      <td>1</td>\n",
       "      <td>0</td>\n",
       "      <td>0</td>\n",
       "      <td>0</td>\n",
       "      <td>1</td>\n",
       "      <td>0.18</td>\n",
       "    </tr>\n",
       "    <tr>\n",
       "      <th>4</th>\n",
       "      <td>1</td>\n",
       "      <td>1</td>\n",
       "      <td>0</td>\n",
       "      <td>0</td>\n",
       "      <td>1</td>\n",
       "      <td>0.18</td>\n",
       "    </tr>\n",
       "  </tbody>\n",
       "</table>\n",
       "</div>"
      ],
      "text/plain": [
       "   Category  Performance  Traffic  Mileage  Review  _weight\n",
       "0         1            0        0        0       1     0.18\n",
       "1         1            0        0        0       1     0.18\n",
       "2         1            1        0        0       1     0.18\n",
       "3         1            0        0        0       1     0.18\n",
       "4         1            1        0        0       1     0.18"
      ]
     },
     "execution_count": 24,
     "metadata": {},
     "output_type": "execute_result"
    }
   ],
   "source": [
    "query_df.head()"
   ]
  },
  {
   "cell_type": "code",
   "execution_count": 25,
   "metadata": {},
   "outputs": [
    {
     "data": {
      "text/plain": [
       "Mileage\n",
       "0    8997\n",
       "1     801\n",
       "2     202\n",
       "dtype: int64"
      ]
     },
     "execution_count": 25,
     "metadata": {},
     "output_type": "execute_result"
    }
   ],
   "source": [
    "m_df= query_df.groupby('Mileage').size()\n",
    "m_df"
   ]
  },
  {
   "cell_type": "code",
   "execution_count": 26,
   "metadata": {},
   "outputs": [
    {
     "name": "stdout",
     "output_type": "stream",
     "text": [
      "Probability of M0: 0.8997\n",
      "Probability of M1: 0.0801\n",
      "Probability of M2: 0.0202\n"
     ]
    }
   ],
   "source": [
    "P_M0= m_df[0]/len(query_df)\n",
    "P_M1 = m_df[1]/len(query_df)\n",
    "P_M2 = m_df[2]/len(query_df)\n",
    "\n",
    "print(\"Probability of M0:\",P_M0)\n",
    "print(\"Probability of M1:\",P_M1)\n",
    "print(\"Probability of M2:\",P_M2)"
   ]
  },
  {
   "cell_type": "markdown",
   "metadata": {},
   "source": [
    "#### The values obtained here must be closer to the ones obtained in exact inference, if not increase the number of samples.\n",
    "\n"
   ]
  }
 ],
 "metadata": {
  "kernelspec": {
   "display_name": "Python 3",
   "language": "python",
   "name": "python3"
  },
  "language_info": {
   "codemirror_mode": {
    "name": "ipython",
    "version": 3
   },
   "file_extension": ".py",
   "mimetype": "text/x-python",
   "name": "python",
   "nbconvert_exporter": "python",
   "pygments_lexer": "ipython3",
   "version": "3.6.7"
  }
 },
 "nbformat": 4,
 "nbformat_minor": 2
}
