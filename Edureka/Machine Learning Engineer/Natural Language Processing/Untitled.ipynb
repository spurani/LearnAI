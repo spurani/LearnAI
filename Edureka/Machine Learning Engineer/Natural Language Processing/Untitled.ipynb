{
 "cells": [
  {
   "cell_type": "code",
   "execution_count": 10,
   "metadata": {},
   "outputs": [],
   "source": [
    "review_1 = \"The movie was good and we really like it\"\n",
    "review_2 = \"the movie was good but the ending was boring\"\n",
    "review_3 = \"we did not like the movie as it was too lengthy\""
   ]
  },
  {
   "cell_type": "code",
   "execution_count": 28,
   "metadata": {},
   "outputs": [],
   "source": [
    "from nltk import word_tokenize\n",
    "import pandas as pd"
   ]
  },
  {
   "cell_type": "code",
   "execution_count": 12,
   "metadata": {},
   "outputs": [
    {
     "name": "stdout",
     "output_type": "stream",
     "text": [
      "['The', 'movie', 'was', 'good', 'and', 'we', 'really', 'like', 'it']\n",
      "['the', 'movie', 'was', 'good', 'but', 'the', 'ending', 'was', 'boring']\n",
      "['we', 'did', 'not', 'like', 'the', 'movie', 'as', 'it', 'was', 'too', 'lengthy']\n"
     ]
    }
   ],
   "source": [
    "r1w_t = word_tokenize(review_1)\n",
    "print(r1w_t)\n",
    "r2w_t = word_tokenize(review_2)\n",
    "print(r2w_t)\n",
    "r3w_t = word_tokenize(review_3)\n",
    "print(r3w_t)"
   ]
  },
  {
   "cell_type": "code",
   "execution_count": 24,
   "metadata": {},
   "outputs": [
    {
     "name": "stdout",
     "output_type": "stream",
     "text": [
      "{'lengthy', 'too', 'did', 'movie', 'like', 'The', 'but', 'it', 'not', 'we', 'ending', 'and', 'good', 'really', 'boring', 'was', 'as', 'the'}\n"
     ]
    }
   ],
   "source": [
    "reviews_tokens = set(r1w_t).union(set(r2w_t)).union(set(r3w_t))\n",
    "print(reviews_tokens)"
   ]
  },
  {
   "cell_type": "code",
   "execution_count": 40,
   "metadata": {},
   "outputs": [
    {
     "name": "stdout",
     "output_type": "stream",
     "text": [
      "{'lengthy': 0, 'too': 0, 'did': 0, 'movie': 0, 'like': 0, 'The': 0, 'but': 0, 'it': 0, 'not': 0, 'we': 0, 'ending': 0, 'and': 0, 'good': 0, 'really': 0, 'boring': 0, 'was': 0, 'as': 0, 'the': 0}\n",
      "{'lengthy': 0, 'too': 0, 'did': 0, 'movie': 0, 'like': 0, 'The': 0, 'but': 0, 'it': 0, 'not': 0, 'we': 0, 'ending': 0, 'and': 0, 'good': 0, 'really': 0, 'boring': 0, 'was': 0, 'as': 0, 'the': 0}\n",
      "{'lengthy': 0, 'too': 0, 'did': 0, 'movie': 0, 'like': 0, 'The': 0, 'but': 0, 'it': 0, 'not': 0, 'we': 0, 'ending': 0, 'and': 0, 'good': 0, 'really': 0, 'boring': 0, 'was': 0, 'as': 0, 'the': 0}\n"
     ]
    }
   ],
   "source": [
    "r1w_t_dict = dict.fromkeys(reviews_tokens,0)\n",
    "r2w_t_dict = dict.fromkeys(reviews_tokens,0)\n",
    "r3w_t_dict = dict.fromkeys(reviews_tokens,0)\n",
    "\n",
    "print(r1w_t_dict)\n",
    "print(r2w_t_dict)\n",
    "print(r3w_t_dict)"
   ]
  },
  {
   "cell_type": "code",
   "execution_count": 41,
   "metadata": {},
   "outputs": [
    {
     "name": "stdout",
     "output_type": "stream",
     "text": [
      "{'lengthy': 0, 'too': 0, 'did': 0, 'movie': 1, 'like': 1, 'The': 1, 'but': 0, 'it': 1, 'not': 0, 'we': 1, 'ending': 0, 'and': 1, 'good': 1, 'really': 1, 'boring': 0, 'was': 1, 'as': 0, 'the': 0}\n"
     ]
    }
   ],
   "source": [
    "for token_1 in r1w_t:\n",
    "    r1w_t_dict[token_1] += 1\n",
    "print(r1w_t_dict)"
   ]
  },
  {
   "cell_type": "code",
   "execution_count": 42,
   "metadata": {},
   "outputs": [
    {
     "name": "stdout",
     "output_type": "stream",
     "text": [
      "{'lengthy': 0, 'too': 0, 'did': 0, 'movie': 1, 'like': 0, 'The': 0, 'but': 1, 'it': 0, 'not': 0, 'we': 0, 'ending': 1, 'and': 0, 'good': 1, 'really': 0, 'boring': 1, 'was': 2, 'as': 0, 'the': 2}\n"
     ]
    }
   ],
   "source": [
    "for token_2 in r2w_t:\n",
    "    r2w_t_dict[token_2] += 1\n",
    "print(r2w_t_dict)"
   ]
  },
  {
   "cell_type": "code",
   "execution_count": 43,
   "metadata": {},
   "outputs": [
    {
     "name": "stdout",
     "output_type": "stream",
     "text": [
      "{'lengthy': 1, 'too': 1, 'did': 1, 'movie': 1, 'like': 1, 'The': 0, 'but': 0, 'it': 1, 'not': 1, 'we': 1, 'ending': 0, 'and': 0, 'good': 0, 'really': 0, 'boring': 0, 'was': 1, 'as': 1, 'the': 1}\n"
     ]
    }
   ],
   "source": [
    "for token_3 in r3w_t:\n",
    "    r3w_t_dict[token_3] += 1\n",
    "print(r3w_t_dict)"
   ]
  },
  {
   "cell_type": "code",
   "execution_count": 44,
   "metadata": {},
   "outputs": [
    {
     "data": {
      "text/html": [
       "<div>\n",
       "<style scoped>\n",
       "    .dataframe tbody tr th:only-of-type {\n",
       "        vertical-align: middle;\n",
       "    }\n",
       "\n",
       "    .dataframe tbody tr th {\n",
       "        vertical-align: top;\n",
       "    }\n",
       "\n",
       "    .dataframe thead th {\n",
       "        text-align: right;\n",
       "    }\n",
       "</style>\n",
       "<table border=\"1\" class=\"dataframe\">\n",
       "  <thead>\n",
       "    <tr style=\"text-align: right;\">\n",
       "      <th></th>\n",
       "      <th>The</th>\n",
       "      <th>and</th>\n",
       "      <th>as</th>\n",
       "      <th>boring</th>\n",
       "      <th>but</th>\n",
       "      <th>did</th>\n",
       "      <th>ending</th>\n",
       "      <th>good</th>\n",
       "      <th>it</th>\n",
       "      <th>lengthy</th>\n",
       "      <th>like</th>\n",
       "      <th>movie</th>\n",
       "      <th>not</th>\n",
       "      <th>really</th>\n",
       "      <th>the</th>\n",
       "      <th>too</th>\n",
       "      <th>was</th>\n",
       "      <th>we</th>\n",
       "    </tr>\n",
       "  </thead>\n",
       "  <tbody>\n",
       "    <tr>\n",
       "      <th>0</th>\n",
       "      <td>1</td>\n",
       "      <td>1</td>\n",
       "      <td>0</td>\n",
       "      <td>0</td>\n",
       "      <td>0</td>\n",
       "      <td>0</td>\n",
       "      <td>0</td>\n",
       "      <td>1</td>\n",
       "      <td>1</td>\n",
       "      <td>0</td>\n",
       "      <td>1</td>\n",
       "      <td>1</td>\n",
       "      <td>0</td>\n",
       "      <td>1</td>\n",
       "      <td>0</td>\n",
       "      <td>0</td>\n",
       "      <td>1</td>\n",
       "      <td>1</td>\n",
       "    </tr>\n",
       "    <tr>\n",
       "      <th>1</th>\n",
       "      <td>0</td>\n",
       "      <td>0</td>\n",
       "      <td>0</td>\n",
       "      <td>1</td>\n",
       "      <td>1</td>\n",
       "      <td>0</td>\n",
       "      <td>1</td>\n",
       "      <td>1</td>\n",
       "      <td>0</td>\n",
       "      <td>0</td>\n",
       "      <td>0</td>\n",
       "      <td>1</td>\n",
       "      <td>0</td>\n",
       "      <td>0</td>\n",
       "      <td>2</td>\n",
       "      <td>0</td>\n",
       "      <td>2</td>\n",
       "      <td>0</td>\n",
       "    </tr>\n",
       "    <tr>\n",
       "      <th>2</th>\n",
       "      <td>0</td>\n",
       "      <td>0</td>\n",
       "      <td>1</td>\n",
       "      <td>0</td>\n",
       "      <td>0</td>\n",
       "      <td>1</td>\n",
       "      <td>0</td>\n",
       "      <td>0</td>\n",
       "      <td>1</td>\n",
       "      <td>1</td>\n",
       "      <td>1</td>\n",
       "      <td>1</td>\n",
       "      <td>1</td>\n",
       "      <td>0</td>\n",
       "      <td>1</td>\n",
       "      <td>1</td>\n",
       "      <td>1</td>\n",
       "      <td>1</td>\n",
       "    </tr>\n",
       "  </tbody>\n",
       "</table>\n",
       "</div>"
      ],
      "text/plain": [
       "   The  and  as  boring  but  did  ending  good  it  lengthy  like  movie  \\\n",
       "0    1    1   0       0    0    0       0     1   1        0     1      1   \n",
       "1    0    0   0       1    1    0       1     1   0        0     0      1   \n",
       "2    0    0   1       0    0    1       0     0   1        1     1      1   \n",
       "\n",
       "   not  really  the  too  was  we  \n",
       "0    0       1    0    0    1   1  \n",
       "1    0       0    2    0    2   0  \n",
       "2    1       0    1    1    1   1  "
      ]
     },
     "execution_count": 44,
     "metadata": {},
     "output_type": "execute_result"
    }
   ],
   "source": [
    "reviews_Dict_df = pd.DataFrame([r1w_t_dict,r2w_t_dict,r3w_t_dict])\n",
    "reviews_Dict_df"
   ]
  },
  {
   "cell_type": "code",
   "execution_count": 55,
   "metadata": {},
   "outputs": [
    {
     "name": "stdout",
     "output_type": "stream",
     "text": [
      "['boring', 'did', 'ending', 'good', 'lengthy', 'like', 'movie', 'really']\n"
     ]
    }
   ],
   "source": [
    "from sklearn.feature_extraction.text import TfidfVectorizer\n",
    "tf_vect = TfidfVectorizer(min_df=1,lowercase=True,stop_words='english')\n",
    "tf_matrix = tf_vect.fit_transform([review_1,review_2,review_3])\n",
    "tf_names = tf_vect.get_feature_names()\n",
    "print(tf_names)"
   ]
  },
  {
   "cell_type": "code",
   "execution_count": 56,
   "metadata": {},
   "outputs": [
    {
     "data": {
      "text/html": [
       "<div>\n",
       "<style scoped>\n",
       "    .dataframe tbody tr th:only-of-type {\n",
       "        vertical-align: middle;\n",
       "    }\n",
       "\n",
       "    .dataframe tbody tr th {\n",
       "        vertical-align: top;\n",
       "    }\n",
       "\n",
       "    .dataframe thead th {\n",
       "        text-align: right;\n",
       "    }\n",
       "</style>\n",
       "<table border=\"1\" class=\"dataframe\">\n",
       "  <thead>\n",
       "    <tr style=\"text-align: right;\">\n",
       "      <th></th>\n",
       "      <th>boring</th>\n",
       "      <th>did</th>\n",
       "      <th>ending</th>\n",
       "      <th>good</th>\n",
       "      <th>lengthy</th>\n",
       "      <th>like</th>\n",
       "      <th>movie</th>\n",
       "      <th>really</th>\n",
       "    </tr>\n",
       "  </thead>\n",
       "  <tbody>\n",
       "    <tr>\n",
       "      <th>0</th>\n",
       "      <td>0.000000</td>\n",
       "      <td>0.000000</td>\n",
       "      <td>0.000000</td>\n",
       "      <td>0.480458</td>\n",
       "      <td>0.000000</td>\n",
       "      <td>0.480458</td>\n",
       "      <td>0.373119</td>\n",
       "      <td>0.631745</td>\n",
       "    </tr>\n",
       "    <tr>\n",
       "      <th>1</th>\n",
       "      <td>0.584483</td>\n",
       "      <td>0.000000</td>\n",
       "      <td>0.584483</td>\n",
       "      <td>0.444514</td>\n",
       "      <td>0.000000</td>\n",
       "      <td>0.000000</td>\n",
       "      <td>0.345205</td>\n",
       "      <td>0.000000</td>\n",
       "    </tr>\n",
       "    <tr>\n",
       "      <th>2</th>\n",
       "      <td>0.000000</td>\n",
       "      <td>0.584483</td>\n",
       "      <td>0.000000</td>\n",
       "      <td>0.000000</td>\n",
       "      <td>0.584483</td>\n",
       "      <td>0.444514</td>\n",
       "      <td>0.345205</td>\n",
       "      <td>0.000000</td>\n",
       "    </tr>\n",
       "  </tbody>\n",
       "</table>\n",
       "</div>"
      ],
      "text/plain": [
       "     boring       did    ending      good   lengthy      like     movie  \\\n",
       "0  0.000000  0.000000  0.000000  0.480458  0.000000  0.480458  0.373119   \n",
       "1  0.584483  0.000000  0.584483  0.444514  0.000000  0.000000  0.345205   \n",
       "2  0.000000  0.584483  0.000000  0.000000  0.584483  0.444514  0.345205   \n",
       "\n",
       "     really  \n",
       "0  0.631745  \n",
       "1  0.000000  \n",
       "2  0.000000  "
      ]
     },
     "execution_count": 56,
     "metadata": {},
     "output_type": "execute_result"
    }
   ],
   "source": [
    "tf_df = pd.DataFrame(tf_matrix.toarray(),columns=tf_names)\n",
    "tf_df"
   ]
  },
  {
   "cell_type": "code",
   "execution_count": null,
   "metadata": {},
   "outputs": [],
   "source": []
  }
 ],
 "metadata": {
  "kernelspec": {
   "display_name": "Python 3",
   "language": "python",
   "name": "python3"
  },
  "language_info": {
   "codemirror_mode": {
    "name": "ipython",
    "version": 3
   },
   "file_extension": ".py",
   "mimetype": "text/x-python",
   "name": "python",
   "nbconvert_exporter": "python",
   "pygments_lexer": "ipython3",
   "version": "3.6.5"
  }
 },
 "nbformat": 4,
 "nbformat_minor": 2
}
