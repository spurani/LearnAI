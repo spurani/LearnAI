{
 "cells": [
  {
   "cell_type": "code",
   "execution_count": 1,
   "metadata": {},
   "outputs": [],
   "source": [
    "import pandas as pd"
   ]
  },
  {
   "cell_type": "code",
   "execution_count": 2,
   "metadata": {},
   "outputs": [],
   "source": [
    "train = pd.read_csv('Tweets-train.csv')"
   ]
  },
  {
   "cell_type": "code",
   "execution_count": 3,
   "metadata": {},
   "outputs": [
    {
     "data": {
      "text/html": [
       "<div>\n",
       "<style scoped>\n",
       "    .dataframe tbody tr th:only-of-type {\n",
       "        vertical-align: middle;\n",
       "    }\n",
       "\n",
       "    .dataframe tbody tr th {\n",
       "        vertical-align: top;\n",
       "    }\n",
       "\n",
       "    .dataframe thead th {\n",
       "        text-align: right;\n",
       "    }\n",
       "</style>\n",
       "<table border=\"1\" class=\"dataframe\">\n",
       "  <thead>\n",
       "    <tr style=\"text-align: right;\">\n",
       "      <th></th>\n",
       "      <th>tweet_id</th>\n",
       "      <th>airline_sentiment</th>\n",
       "      <th>airline_sentiment_confidence</th>\n",
       "      <th>negativereason</th>\n",
       "      <th>negativereason_confidence</th>\n",
       "      <th>airline</th>\n",
       "      <th>airline_sentiment_gold</th>\n",
       "      <th>name</th>\n",
       "      <th>negativereason_gold</th>\n",
       "      <th>retweet_count</th>\n",
       "      <th>text</th>\n",
       "      <th>tweet_coord</th>\n",
       "      <th>tweet_created</th>\n",
       "      <th>tweet_location</th>\n",
       "      <th>user_timezone</th>\n",
       "    </tr>\n",
       "  </thead>\n",
       "  <tbody>\n",
       "    <tr>\n",
       "      <th>0</th>\n",
       "      <td>570301130888122368</td>\n",
       "      <td>positive</td>\n",
       "      <td>0.3486</td>\n",
       "      <td>NaN</td>\n",
       "      <td>0.0000</td>\n",
       "      <td>Virgin America</td>\n",
       "      <td>NaN</td>\n",
       "      <td>jnardino</td>\n",
       "      <td>NaN</td>\n",
       "      <td>0</td>\n",
       "      <td>@VirginAmerica plus you've added commercials t...</td>\n",
       "      <td>NaN</td>\n",
       "      <td>2015-02-24 11:15:59 -0800</td>\n",
       "      <td>NaN</td>\n",
       "      <td>Pacific Time (US &amp; Canada)</td>\n",
       "    </tr>\n",
       "    <tr>\n",
       "      <th>1</th>\n",
       "      <td>570301083672813571</td>\n",
       "      <td>neutral</td>\n",
       "      <td>0.6837</td>\n",
       "      <td>NaN</td>\n",
       "      <td>NaN</td>\n",
       "      <td>Virgin America</td>\n",
       "      <td>NaN</td>\n",
       "      <td>yvonnalynn</td>\n",
       "      <td>NaN</td>\n",
       "      <td>0</td>\n",
       "      <td>@VirginAmerica I didn't today... Must mean I n...</td>\n",
       "      <td>NaN</td>\n",
       "      <td>2015-02-24 11:15:48 -0800</td>\n",
       "      <td>Lets Play</td>\n",
       "      <td>Central Time (US &amp; Canada)</td>\n",
       "    </tr>\n",
       "    <tr>\n",
       "      <th>2</th>\n",
       "      <td>570301031407624196</td>\n",
       "      <td>negative</td>\n",
       "      <td>1.0000</td>\n",
       "      <td>Bad Flight</td>\n",
       "      <td>0.7033</td>\n",
       "      <td>Virgin America</td>\n",
       "      <td>NaN</td>\n",
       "      <td>jnardino</td>\n",
       "      <td>NaN</td>\n",
       "      <td>0</td>\n",
       "      <td>@VirginAmerica it's really aggressive to blast...</td>\n",
       "      <td>NaN</td>\n",
       "      <td>2015-02-24 11:15:36 -0800</td>\n",
       "      <td>NaN</td>\n",
       "      <td>Pacific Time (US &amp; Canada)</td>\n",
       "    </tr>\n",
       "    <tr>\n",
       "      <th>3</th>\n",
       "      <td>570300817074462722</td>\n",
       "      <td>negative</td>\n",
       "      <td>1.0000</td>\n",
       "      <td>Can't Tell</td>\n",
       "      <td>1.0000</td>\n",
       "      <td>Virgin America</td>\n",
       "      <td>NaN</td>\n",
       "      <td>jnardino</td>\n",
       "      <td>NaN</td>\n",
       "      <td>0</td>\n",
       "      <td>@VirginAmerica and it's a really big bad thing...</td>\n",
       "      <td>NaN</td>\n",
       "      <td>2015-02-24 11:14:45 -0800</td>\n",
       "      <td>NaN</td>\n",
       "      <td>Pacific Time (US &amp; Canada)</td>\n",
       "    </tr>\n",
       "    <tr>\n",
       "      <th>4</th>\n",
       "      <td>570300616901320704</td>\n",
       "      <td>positive</td>\n",
       "      <td>0.6745</td>\n",
       "      <td>NaN</td>\n",
       "      <td>0.0000</td>\n",
       "      <td>Virgin America</td>\n",
       "      <td>NaN</td>\n",
       "      <td>cjmcginnis</td>\n",
       "      <td>NaN</td>\n",
       "      <td>0</td>\n",
       "      <td>@VirginAmerica yes, nearly every time I fly VX...</td>\n",
       "      <td>NaN</td>\n",
       "      <td>2015-02-24 11:13:57 -0800</td>\n",
       "      <td>San Francisco CA</td>\n",
       "      <td>Pacific Time (US &amp; Canada)</td>\n",
       "    </tr>\n",
       "  </tbody>\n",
       "</table>\n",
       "</div>"
      ],
      "text/plain": [
       "             tweet_id airline_sentiment  airline_sentiment_confidence  \\\n",
       "0  570301130888122368          positive                        0.3486   \n",
       "1  570301083672813571           neutral                        0.6837   \n",
       "2  570301031407624196          negative                        1.0000   \n",
       "3  570300817074462722          negative                        1.0000   \n",
       "4  570300616901320704          positive                        0.6745   \n",
       "\n",
       "  negativereason  negativereason_confidence         airline  \\\n",
       "0            NaN                     0.0000  Virgin America   \n",
       "1            NaN                        NaN  Virgin America   \n",
       "2     Bad Flight                     0.7033  Virgin America   \n",
       "3     Can't Tell                     1.0000  Virgin America   \n",
       "4            NaN                     0.0000  Virgin America   \n",
       "\n",
       "  airline_sentiment_gold        name negativereason_gold  retweet_count  \\\n",
       "0                    NaN    jnardino                 NaN              0   \n",
       "1                    NaN  yvonnalynn                 NaN              0   \n",
       "2                    NaN    jnardino                 NaN              0   \n",
       "3                    NaN    jnardino                 NaN              0   \n",
       "4                    NaN  cjmcginnis                 NaN              0   \n",
       "\n",
       "                                                text tweet_coord  \\\n",
       "0  @VirginAmerica plus you've added commercials t...         NaN   \n",
       "1  @VirginAmerica I didn't today... Must mean I n...         NaN   \n",
       "2  @VirginAmerica it's really aggressive to blast...         NaN   \n",
       "3  @VirginAmerica and it's a really big bad thing...         NaN   \n",
       "4  @VirginAmerica yes, nearly every time I fly VX...         NaN   \n",
       "\n",
       "               tweet_created    tweet_location               user_timezone  \n",
       "0  2015-02-24 11:15:59 -0800               NaN  Pacific Time (US & Canada)  \n",
       "1  2015-02-24 11:15:48 -0800         Lets Play  Central Time (US & Canada)  \n",
       "2  2015-02-24 11:15:36 -0800               NaN  Pacific Time (US & Canada)  \n",
       "3  2015-02-24 11:14:45 -0800               NaN  Pacific Time (US & Canada)  \n",
       "4  2015-02-24 11:13:57 -0800  San Francisco CA  Pacific Time (US & Canada)  "
      ]
     },
     "execution_count": 3,
     "metadata": {},
     "output_type": "execute_result"
    }
   ],
   "source": [
    "train.head()"
   ]
  },
  {
   "cell_type": "code",
   "execution_count": 4,
   "metadata": {},
   "outputs": [],
   "source": [
    "train = train[['airline_sentiment', 'text']]"
   ]
  },
  {
   "cell_type": "code",
   "execution_count": 5,
   "metadata": {},
   "outputs": [
    {
     "data": {
      "text/html": [
       "<div>\n",
       "<style scoped>\n",
       "    .dataframe tbody tr th:only-of-type {\n",
       "        vertical-align: middle;\n",
       "    }\n",
       "\n",
       "    .dataframe tbody tr th {\n",
       "        vertical-align: top;\n",
       "    }\n",
       "\n",
       "    .dataframe thead th {\n",
       "        text-align: right;\n",
       "    }\n",
       "</style>\n",
       "<table border=\"1\" class=\"dataframe\">\n",
       "  <thead>\n",
       "    <tr style=\"text-align: right;\">\n",
       "      <th></th>\n",
       "      <th>airline_sentiment</th>\n",
       "      <th>text</th>\n",
       "    </tr>\n",
       "  </thead>\n",
       "  <tbody>\n",
       "    <tr>\n",
       "      <th>0</th>\n",
       "      <td>positive</td>\n",
       "      <td>@VirginAmerica plus you've added commercials t...</td>\n",
       "    </tr>\n",
       "    <tr>\n",
       "      <th>1</th>\n",
       "      <td>neutral</td>\n",
       "      <td>@VirginAmerica I didn't today... Must mean I n...</td>\n",
       "    </tr>\n",
       "    <tr>\n",
       "      <th>2</th>\n",
       "      <td>negative</td>\n",
       "      <td>@VirginAmerica it's really aggressive to blast...</td>\n",
       "    </tr>\n",
       "    <tr>\n",
       "      <th>3</th>\n",
       "      <td>negative</td>\n",
       "      <td>@VirginAmerica and it's a really big bad thing...</td>\n",
       "    </tr>\n",
       "    <tr>\n",
       "      <th>4</th>\n",
       "      <td>positive</td>\n",
       "      <td>@VirginAmerica yes, nearly every time I fly VX...</td>\n",
       "    </tr>\n",
       "  </tbody>\n",
       "</table>\n",
       "</div>"
      ],
      "text/plain": [
       "  airline_sentiment                                               text\n",
       "0          positive  @VirginAmerica plus you've added commercials t...\n",
       "1           neutral  @VirginAmerica I didn't today... Must mean I n...\n",
       "2          negative  @VirginAmerica it's really aggressive to blast...\n",
       "3          negative  @VirginAmerica and it's a really big bad thing...\n",
       "4          positive  @VirginAmerica yes, nearly every time I fly VX..."
      ]
     },
     "execution_count": 5,
     "metadata": {},
     "output_type": "execute_result"
    }
   ],
   "source": [
    "train.head()"
   ]
  },
  {
   "cell_type": "code",
   "execution_count": 8,
   "metadata": {},
   "outputs": [
    {
     "name": "stdout",
     "output_type": "stream",
     "text": [
      "@VirginAmerica plus you've added commercials to the experience... tacky.\n"
     ]
    }
   ],
   "source": [
    "print(train['text'][0])"
   ]
  },
  {
   "cell_type": "code",
   "execution_count": 17,
   "metadata": {},
   "outputs": [
    {
     "name": "stdout",
     "output_type": "stream",
     "text": [
      "@USAirways it was customer service like I have never seen before!  Kudos to your organization.\n",
      "@AmericanAir I love your company and your staff is amazing. They just made an uncomfortable situation comfortable\n",
      "@united I appreciate the follow up.\n",
      "@JetBlue boarding the back of the airplane first. Like a boss. #sosmart #jetblue #frequentflyerappreciates #alsoyayforsnacks\n",
      "@AmericanAir mission accomplished today, Thank you!\n",
      "@united thnx\n",
      "@united thank you for following up!\n",
      "@JetBlue thanks so much!! ❤️✨ very relaxing flight!\n",
      "@USAirways thanks for seating me next to 2 hot athletes. This flight is significantly better now!\n",
      "@united awesome new plane flight 1701\n"
     ]
    }
   ],
   "source": [
    "for each in train[train['airline_sentiment']=='positive'].sample(10, random_state=10)['text']:\n",
    "    print(each)"
   ]
  },
  {
   "cell_type": "code",
   "execution_count": 20,
   "metadata": {},
   "outputs": [
    {
     "name": "stdout",
     "output_type": "stream",
     "text": [
      "@AmericanAir continues to win: I've never missed a flight before, but a nice little quiet gate change made it possible. Sheesh.\n",
      "@united is that all that matters, not the fact that we're at a different destination, we were put through a tremendous amount of stress,\n",
      "@USAirways your lack of customer service has shined. I need you to step up and get my lost baggage to delta. So they can return it to me.\n",
      "@united Terribly disappointed. Confirmed reservation delayed and your cust. service staff was not helpful in finding an alternate solution.\n",
      "@united what is this subtlety gate changes? Are you kidding with me?\n",
      "@SouthwestAir and now no wifi??? Come on.\n",
      "@JetBlue is flight 51 on 4/24/15 moved back? When I booked it said we arrive 11:31 but now it says 12:08 😢\n",
      "@AmericanAir complt incompetence on flt 295.Lav delay from a pln that lnded last nite, no internet and poor svc. Not what I expect from u.\n",
      "@united @annricord 0162431184663.\r\n",
      "3 of your agents said we would be refunded. Agents said United should never have sold us the ticket.\n",
      "@united I'm checked in, agent wouldn't tag my bags at 7am. Now I'm standing in line hell.\n"
     ]
    }
   ],
   "source": [
    "for each in train[train['airline_sentiment']=='negative'].sample(10, random_state=10)['text']:\n",
    "    print(each)"
   ]
  },
  {
   "cell_type": "code",
   "execution_count": 21,
   "metadata": {},
   "outputs": [
    {
     "name": "stdout",
     "output_type": "stream",
     "text": [
      "@JetBlue you guys get rid of the hip hop stations on Sirius XM?\n",
      "@JetBlue deal!\n",
      "@united can I request a ticket change through twitter ?\n",
      "@united My mom left her Kindle on flight 1544 today. Burgundy case with a light. Seat 27D. Did anyone find it?\n",
      "@USAirways am 2. 1/2 hours from airport sure would like to talk to someone\n",
      "@JetBlue well I'm not sure I'm that bold! lol or are you saying you didn't believe me?? :P\n",
      "@united can you send me another confirmation email?\n",
      "@SouthwestAir first time flyer, scheduled a (round)trip. set on departure date not sure on returning date, policy/fees on changing Re Flight\n",
      "@SouthwestAir still haven't been able to get through, thanks for responding\n",
      "@USAirways we even offered to fly in to another airport and they said they couldn't do that. No explanation why they can't.\n"
     ]
    }
   ],
   "source": [
    "for each in train[train['airline_sentiment']=='neutral'].sample(10, random_state=10)['text']:\n",
    "    print(each)"
   ]
  },
  {
   "cell_type": "code",
   "execution_count": 24,
   "metadata": {},
   "outputs": [
    {
     "name": "stdout",
     "output_type": "stream",
     "text": [
      "@virginamerica Well, I didn't…but NOW I DO! :-D\n",
      "virginamerica Well, I didn't…but NOW I DO! :-D\n"
     ]
    }
   ],
   "source": [
    "import re\n",
    "print(train['text'][5])\n",
    "print(re.sub(r'@+', '', train['text'][5]))"
   ]
  },
  {
   "cell_type": "code",
   "execution_count": 26,
   "metadata": {},
   "outputs": [
    {
     "name": "stdout",
     "output_type": "stream",
     "text": [
      "@VirginAmerica @virginmedia I'm flying your #fabulous #Seductive skies again! U take all the #stress away from travel http://t.co/ahlXHhKiyn\n"
     ]
    },
    {
     "data": {
      "text/plain": [
       "\"@VirginAmerica @virginmedia I'm flying your #fabulous #Seductive skies again! U take all the #stress away from travel \""
      ]
     },
     "execution_count": 26,
     "metadata": {},
     "output_type": "execute_result"
    }
   ],
   "source": [
    "print(train['text'][10])\n",
    "re.sub('http?://[A-Za-z0-9./]+', '', train['text'][10])"
   ]
  },
  {
   "cell_type": "code",
   "execution_count": 27,
   "metadata": {},
   "outputs": [
    {
     "data": {
      "text/plain": [
       "\"@VirginAmerica amazing to me that we can't get any cold air from the vents. #VX358 #noair #worstflightever #roasted #SFOtoBOS\""
      ]
     },
     "execution_count": 27,
     "metadata": {},
     "output_type": "execute_result"
    }
   ],
   "source": [
    "train.text[22]"
   ]
  },
  {
   "cell_type": "code",
   "execution_count": 28,
   "metadata": {},
   "outputs": [
    {
     "data": {
      "text/plain": [
       "'@JetBlue thanks so much!! ❤️✨ very relaxing flight!'"
      ]
     },
     "execution_count": 28,
     "metadata": {},
     "output_type": "execute_result"
    }
   ],
   "source": [
    "train.text[5977]"
   ]
  },
  {
   "cell_type": "code",
   "execution_count": 29,
   "metadata": {},
   "outputs": [
    {
     "data": {
      "text/plain": [
       "' JetBlue thanks so much       very relaxing flight '"
      ]
     },
     "execution_count": 29,
     "metadata": {},
     "output_type": "execute_result"
    }
   ],
   "source": [
    "re.sub(\"[^a-zA-Z0-9]\", \" \", train.text[5977])"
   ]
  },
  {
   "cell_type": "code",
   "execution_count": 30,
   "metadata": {},
   "outputs": [],
   "source": [
    "from nltk.tokenize import WordPunctTokenizer\n",
    "tokenizer = WordPunctTokenizer()"
   ]
  },
  {
   "cell_type": "code",
   "execution_count": 31,
   "metadata": {},
   "outputs": [],
   "source": [
    "def tweet_cleaner(text):\n",
    "    text = re.sub(r'@+', '', text)\n",
    "    text = re.sub('http?://[A-Za-z0-9./]+', '',text)\n",
    "    text = re.sub(\"[^a-zA-Z0-9]\", \" \",text)\n",
    "    lower_case = text.lower()\n",
    "    words = tokenizer.tokenize(lower_case)\n",
    "    return (\" \".join(words)).strip()"
   ]
  },
  {
   "cell_type": "code",
   "execution_count": 32,
   "metadata": {},
   "outputs": [],
   "source": [
    "train['Cleaned-Text']=train['text'].apply(tweet_cleaner)"
   ]
  },
  {
   "cell_type": "code",
   "execution_count": 33,
   "metadata": {},
   "outputs": [
    {
     "data": {
      "text/html": [
       "<div>\n",
       "<style scoped>\n",
       "    .dataframe tbody tr th:only-of-type {\n",
       "        vertical-align: middle;\n",
       "    }\n",
       "\n",
       "    .dataframe tbody tr th {\n",
       "        vertical-align: top;\n",
       "    }\n",
       "\n",
       "    .dataframe thead th {\n",
       "        text-align: right;\n",
       "    }\n",
       "</style>\n",
       "<table border=\"1\" class=\"dataframe\">\n",
       "  <thead>\n",
       "    <tr style=\"text-align: right;\">\n",
       "      <th></th>\n",
       "      <th>airline_sentiment</th>\n",
       "      <th>text</th>\n",
       "      <th>Cleaned-Text</th>\n",
       "    </tr>\n",
       "  </thead>\n",
       "  <tbody>\n",
       "    <tr>\n",
       "      <th>0</th>\n",
       "      <td>positive</td>\n",
       "      <td>@VirginAmerica plus you've added commercials t...</td>\n",
       "      <td>virginamerica plus you ve added commercials to...</td>\n",
       "    </tr>\n",
       "    <tr>\n",
       "      <th>1</th>\n",
       "      <td>neutral</td>\n",
       "      <td>@VirginAmerica I didn't today... Must mean I n...</td>\n",
       "      <td>virginamerica i didn t today must mean i need ...</td>\n",
       "    </tr>\n",
       "    <tr>\n",
       "      <th>2</th>\n",
       "      <td>negative</td>\n",
       "      <td>@VirginAmerica it's really aggressive to blast...</td>\n",
       "      <td>virginamerica it s really aggressive to blast ...</td>\n",
       "    </tr>\n",
       "    <tr>\n",
       "      <th>3</th>\n",
       "      <td>negative</td>\n",
       "      <td>@VirginAmerica and it's a really big bad thing...</td>\n",
       "      <td>virginamerica and it s a really big bad thing ...</td>\n",
       "    </tr>\n",
       "    <tr>\n",
       "      <th>4</th>\n",
       "      <td>positive</td>\n",
       "      <td>@VirginAmerica yes, nearly every time I fly VX...</td>\n",
       "      <td>virginamerica yes nearly every time i fly vx t...</td>\n",
       "    </tr>\n",
       "    <tr>\n",
       "      <th>...</th>\n",
       "      <td>...</td>\n",
       "      <td>...</td>\n",
       "      <td>...</td>\n",
       "    </tr>\n",
       "    <tr>\n",
       "      <th>10635</th>\n",
       "      <td>positive</td>\n",
       "      <td>@AmericanAir Thanks! He is.</td>\n",
       "      <td>americanair thanks he is</td>\n",
       "    </tr>\n",
       "    <tr>\n",
       "      <th>10636</th>\n",
       "      <td>neutral</td>\n",
       "      <td>“@AmericanAir: @TilleyMonsta George, that does...</td>\n",
       "      <td>americanair tilleymonsta george that doesn t l...</td>\n",
       "    </tr>\n",
       "    <tr>\n",
       "      <th>10637</th>\n",
       "      <td>neutral</td>\n",
       "      <td>@AmericanAir Please bring American Airlines to...</td>\n",
       "      <td>americanair please bring american airlines to ...</td>\n",
       "    </tr>\n",
       "    <tr>\n",
       "      <th>10638</th>\n",
       "      <td>negative</td>\n",
       "      <td>@AmericanAir you have my money, you change my ...</td>\n",
       "      <td>americanair you have my money you change my fl...</td>\n",
       "    </tr>\n",
       "    <tr>\n",
       "      <th>10639</th>\n",
       "      <td>neutral</td>\n",
       "      <td>@AmericanAir we have 8 ppl so we need 2 know h...</td>\n",
       "      <td>americanair we have 8 ppl so we need 2 know ho...</td>\n",
       "    </tr>\n",
       "  </tbody>\n",
       "</table>\n",
       "<p>10640 rows × 3 columns</p>\n",
       "</div>"
      ],
      "text/plain": [
       "      airline_sentiment                                               text  \\\n",
       "0              positive  @VirginAmerica plus you've added commercials t...   \n",
       "1               neutral  @VirginAmerica I didn't today... Must mean I n...   \n",
       "2              negative  @VirginAmerica it's really aggressive to blast...   \n",
       "3              negative  @VirginAmerica and it's a really big bad thing...   \n",
       "4              positive  @VirginAmerica yes, nearly every time I fly VX...   \n",
       "...                 ...                                                ...   \n",
       "10635          positive                        @AmericanAir Thanks! He is.   \n",
       "10636           neutral  “@AmericanAir: @TilleyMonsta George, that does...   \n",
       "10637           neutral  @AmericanAir Please bring American Airlines to...   \n",
       "10638          negative  @AmericanAir you have my money, you change my ...   \n",
       "10639           neutral  @AmericanAir we have 8 ppl so we need 2 know h...   \n",
       "\n",
       "                                            Cleaned-Text  \n",
       "0      virginamerica plus you ve added commercials to...  \n",
       "1      virginamerica i didn t today must mean i need ...  \n",
       "2      virginamerica it s really aggressive to blast ...  \n",
       "3      virginamerica and it s a really big bad thing ...  \n",
       "4      virginamerica yes nearly every time i fly vx t...  \n",
       "...                                                  ...  \n",
       "10635                           americanair thanks he is  \n",
       "10636  americanair tilleymonsta george that doesn t l...  \n",
       "10637  americanair please bring american airlines to ...  \n",
       "10638  americanair you have my money you change my fl...  \n",
       "10639  americanair we have 8 ppl so we need 2 know ho...  \n",
       "\n",
       "[10640 rows x 3 columns]"
      ]
     },
     "execution_count": 33,
     "metadata": {},
     "output_type": "execute_result"
    }
   ],
   "source": [
    "train"
   ]
  },
  {
   "cell_type": "code",
   "execution_count": 34,
   "metadata": {},
   "outputs": [
    {
     "name": "stdout",
     "output_type": "stream",
     "text": [
      "negative\n",
      "[('to', 4325), ('i', 3313), ('the', 3021), ('a', 2315), ('flight', 2100), ('united', 2100), ('and', 2049), ('on', 2023), ('for', 1999), ('you', 1959), ('my', 1726), ('usairways', 1722), ('americanair', 1549), ('is', 1526), ('t', 1322)]\n",
      "\n",
      "neutral\n",
      "[('to', 1185), ('i', 1004), ('the', 730), ('a', 596), ('you', 561), ('jetblue', 540), ('united', 529), ('southwestair', 489), ('on', 478), ('for', 443), ('flight', 435), ('my', 390), ('is', 372), ('americanair', 363), ('in', 355)]\n",
      "\n",
      "positive\n",
      "[('the', 690), ('to', 675), ('you', 672), ('i', 555), ('for', 493), ('thanks', 448), ('jetblue', 443), ('southwestair', 424), ('a', 379), ('united', 376), ('thank', 336), ('and', 306), ('flight', 268), ('my', 263), ('americanair', 254)]\n",
      "\n"
     ]
    }
   ],
   "source": [
    "from collections import Counter\n",
    "\n",
    "for group_name, subset in train.groupby('airline_sentiment'):\n",
    "    sentimentData=subset['Cleaned-Text']\n",
    "    words=[]\n",
    "    for each in sentimentData:\n",
    "        words.extend(each.split(\" \"))\n",
    "    print(group_name)\n",
    "    print(Counter(words).most_common(15))\n",
    "    print()"
   ]
  },
  {
   "cell_type": "code",
   "execution_count": 35,
   "metadata": {},
   "outputs": [],
   "source": [
    "from nltk.corpus import stopwords"
   ]
  },
  {
   "cell_type": "code",
   "execution_count": 36,
   "metadata": {},
   "outputs": [
    {
     "name": "stdout",
     "output_type": "stream",
     "text": [
      "['i', 'me', 'my', 'myself', 'we', 'our', 'ours', 'ourselves', 'you', \"you're\", \"you've\", \"you'll\", \"you'd\", 'your', 'yours', 'yourself', 'yourselves', 'he', 'him', 'his', 'himself', 'she', \"she's\", 'her', 'hers', 'herself', 'it', \"it's\", 'its', 'itself', 'they', 'them', 'their', 'theirs', 'themselves', 'what', 'which', 'who', 'whom', 'this', 'that', \"that'll\", 'these', 'those', 'am', 'is', 'are', 'was', 'were', 'be', 'been', 'being', 'have', 'has', 'had', 'having', 'do', 'does', 'did', 'doing', 'a', 'an', 'the', 'and', 'but', 'if', 'or', 'because', 'as', 'until', 'while', 'of', 'at', 'by', 'for', 'with', 'about', 'against', 'between', 'into', 'through', 'during', 'before', 'after', 'above', 'below', 'to', 'from', 'up', 'down', 'in', 'out', 'on', 'off', 'over', 'under', 'again', 'further', 'then', 'once', 'here', 'there', 'when', 'where', 'why', 'how', 'all', 'any', 'both', 'each', 'few', 'more', 'most', 'other', 'some', 'such', 'no', 'nor', 'not', 'only', 'own', 'same', 'so', 'than', 'too', 'very', 's', 't', 'can', 'will', 'just', 'don', \"don't\", 'should', \"should've\", 'now', 'd', 'll', 'm', 'o', 're', 've', 'y', 'ain', 'aren', \"aren't\", 'couldn', \"couldn't\", 'didn', \"didn't\", 'doesn', \"doesn't\", 'hadn', \"hadn't\", 'hasn', \"hasn't\", 'haven', \"haven't\", 'isn', \"isn't\", 'ma', 'mightn', \"mightn't\", 'mustn', \"mustn't\", 'needn', \"needn't\", 'shan', \"shan't\", 'shouldn', \"shouldn't\", 'wasn', \"wasn't\", 'weren', \"weren't\", 'won', \"won't\", 'wouldn', \"wouldn't\"]\n"
     ]
    }
   ],
   "source": [
    "print(stopwords.words('english'))"
   ]
  },
  {
   "cell_type": "code",
   "execution_count": 37,
   "metadata": {},
   "outputs": [],
   "source": [
    "def RemoveStopWords(query):\n",
    "    from nltk.corpus import stopwords\n",
    "    stopwords = stopwords.words('english')\n",
    "    querywords = query.split()\n",
    "    resultwords = [word for word in querywords if word.lower() not in stopwords]\n",
    "    result = \" \".join(resultwords)\n",
    "    return result"
   ]
  },
  {
   "cell_type": "code",
   "execution_count": 38,
   "metadata": {},
   "outputs": [
    {
     "data": {
      "text/plain": [
       "'virginamerica plus you ve added commercials to the experience tacky'"
      ]
     },
     "execution_count": 38,
     "metadata": {},
     "output_type": "execute_result"
    }
   ],
   "source": [
    "train['Cleaned-Text'][0]"
   ]
  },
  {
   "cell_type": "code",
   "execution_count": 39,
   "metadata": {},
   "outputs": [
    {
     "data": {
      "text/plain": [
       "'virginamerica plus added commercials experience tacky'"
      ]
     },
     "execution_count": 39,
     "metadata": {},
     "output_type": "execute_result"
    }
   ],
   "source": [
    "RemoveStopWords(train['Cleaned-Text'][0])"
   ]
  },
  {
   "cell_type": "code",
   "execution_count": 40,
   "metadata": {},
   "outputs": [],
   "source": [
    "train['Clean-Text-StopWords-Removed'] = train['Cleaned-Text'].apply(RemoveStopWords)"
   ]
  },
  {
   "cell_type": "code",
   "execution_count": 41,
   "metadata": {},
   "outputs": [
    {
     "data": {
      "text/html": [
       "<div>\n",
       "<style scoped>\n",
       "    .dataframe tbody tr th:only-of-type {\n",
       "        vertical-align: middle;\n",
       "    }\n",
       "\n",
       "    .dataframe tbody tr th {\n",
       "        vertical-align: top;\n",
       "    }\n",
       "\n",
       "    .dataframe thead th {\n",
       "        text-align: right;\n",
       "    }\n",
       "</style>\n",
       "<table border=\"1\" class=\"dataframe\">\n",
       "  <thead>\n",
       "    <tr style=\"text-align: right;\">\n",
       "      <th></th>\n",
       "      <th>airline_sentiment</th>\n",
       "      <th>text</th>\n",
       "      <th>Cleaned-Text</th>\n",
       "      <th>Clean-Text-StopWords-Removed</th>\n",
       "    </tr>\n",
       "  </thead>\n",
       "  <tbody>\n",
       "    <tr>\n",
       "      <th>0</th>\n",
       "      <td>positive</td>\n",
       "      <td>@VirginAmerica plus you've added commercials t...</td>\n",
       "      <td>virginamerica plus you ve added commercials to...</td>\n",
       "      <td>virginamerica plus added commercials experienc...</td>\n",
       "    </tr>\n",
       "    <tr>\n",
       "      <th>1</th>\n",
       "      <td>neutral</td>\n",
       "      <td>@VirginAmerica I didn't today... Must mean I n...</td>\n",
       "      <td>virginamerica i didn t today must mean i need ...</td>\n",
       "      <td>virginamerica today must mean need take anothe...</td>\n",
       "    </tr>\n",
       "    <tr>\n",
       "      <th>2</th>\n",
       "      <td>negative</td>\n",
       "      <td>@VirginAmerica it's really aggressive to blast...</td>\n",
       "      <td>virginamerica it s really aggressive to blast ...</td>\n",
       "      <td>virginamerica really aggressive blast obnoxiou...</td>\n",
       "    </tr>\n",
       "    <tr>\n",
       "      <th>3</th>\n",
       "      <td>negative</td>\n",
       "      <td>@VirginAmerica and it's a really big bad thing...</td>\n",
       "      <td>virginamerica and it s a really big bad thing ...</td>\n",
       "      <td>virginamerica really big bad thing</td>\n",
       "    </tr>\n",
       "    <tr>\n",
       "      <th>4</th>\n",
       "      <td>positive</td>\n",
       "      <td>@VirginAmerica yes, nearly every time I fly VX...</td>\n",
       "      <td>virginamerica yes nearly every time i fly vx t...</td>\n",
       "      <td>virginamerica yes nearly every time fly vx ear...</td>\n",
       "    </tr>\n",
       "    <tr>\n",
       "      <th>...</th>\n",
       "      <td>...</td>\n",
       "      <td>...</td>\n",
       "      <td>...</td>\n",
       "      <td>...</td>\n",
       "    </tr>\n",
       "    <tr>\n",
       "      <th>10635</th>\n",
       "      <td>positive</td>\n",
       "      <td>@AmericanAir Thanks! He is.</td>\n",
       "      <td>americanair thanks he is</td>\n",
       "      <td>americanair thanks</td>\n",
       "    </tr>\n",
       "    <tr>\n",
       "      <th>10636</th>\n",
       "      <td>neutral</td>\n",
       "      <td>“@AmericanAir: @TilleyMonsta George, that does...</td>\n",
       "      <td>americanair tilleymonsta george that doesn t l...</td>\n",
       "      <td>americanair tilleymonsta george look good plea...</td>\n",
       "    </tr>\n",
       "    <tr>\n",
       "      <th>10637</th>\n",
       "      <td>neutral</td>\n",
       "      <td>@AmericanAir Please bring American Airlines to...</td>\n",
       "      <td>americanair please bring american airlines to ...</td>\n",
       "      <td>americanair please bring american airlines bla...</td>\n",
       "    </tr>\n",
       "    <tr>\n",
       "      <th>10638</th>\n",
       "      <td>negative</td>\n",
       "      <td>@AmericanAir you have my money, you change my ...</td>\n",
       "      <td>americanair you have my money you change my fl...</td>\n",
       "      <td>americanair money change flight answer phones ...</td>\n",
       "    </tr>\n",
       "    <tr>\n",
       "      <th>10639</th>\n",
       "      <td>neutral</td>\n",
       "      <td>@AmericanAir we have 8 ppl so we need 2 know h...</td>\n",
       "      <td>americanair we have 8 ppl so we need 2 know ho...</td>\n",
       "      <td>americanair 8 ppl need 2 know many seats next ...</td>\n",
       "    </tr>\n",
       "  </tbody>\n",
       "</table>\n",
       "<p>10640 rows × 4 columns</p>\n",
       "</div>"
      ],
      "text/plain": [
       "      airline_sentiment                                               text  \\\n",
       "0              positive  @VirginAmerica plus you've added commercials t...   \n",
       "1               neutral  @VirginAmerica I didn't today... Must mean I n...   \n",
       "2              negative  @VirginAmerica it's really aggressive to blast...   \n",
       "3              negative  @VirginAmerica and it's a really big bad thing...   \n",
       "4              positive  @VirginAmerica yes, nearly every time I fly VX...   \n",
       "...                 ...                                                ...   \n",
       "10635          positive                        @AmericanAir Thanks! He is.   \n",
       "10636           neutral  “@AmericanAir: @TilleyMonsta George, that does...   \n",
       "10637           neutral  @AmericanAir Please bring American Airlines to...   \n",
       "10638          negative  @AmericanAir you have my money, you change my ...   \n",
       "10639           neutral  @AmericanAir we have 8 ppl so we need 2 know h...   \n",
       "\n",
       "                                            Cleaned-Text  \\\n",
       "0      virginamerica plus you ve added commercials to...   \n",
       "1      virginamerica i didn t today must mean i need ...   \n",
       "2      virginamerica it s really aggressive to blast ...   \n",
       "3      virginamerica and it s a really big bad thing ...   \n",
       "4      virginamerica yes nearly every time i fly vx t...   \n",
       "...                                                  ...   \n",
       "10635                           americanair thanks he is   \n",
       "10636  americanair tilleymonsta george that doesn t l...   \n",
       "10637  americanair please bring american airlines to ...   \n",
       "10638  americanair you have my money you change my fl...   \n",
       "10639  americanair we have 8 ppl so we need 2 know ho...   \n",
       "\n",
       "                            Clean-Text-StopWords-Removed  \n",
       "0      virginamerica plus added commercials experienc...  \n",
       "1      virginamerica today must mean need take anothe...  \n",
       "2      virginamerica really aggressive blast obnoxiou...  \n",
       "3                     virginamerica really big bad thing  \n",
       "4      virginamerica yes nearly every time fly vx ear...  \n",
       "...                                                  ...  \n",
       "10635                                 americanair thanks  \n",
       "10636  americanair tilleymonsta george look good plea...  \n",
       "10637  americanair please bring american airlines bla...  \n",
       "10638  americanair money change flight answer phones ...  \n",
       "10639  americanair 8 ppl need 2 know many seats next ...  \n",
       "\n",
       "[10640 rows x 4 columns]"
      ]
     },
     "execution_count": 41,
     "metadata": {},
     "output_type": "execute_result"
    }
   ],
   "source": [
    "train"
   ]
  },
  {
   "cell_type": "code",
   "execution_count": 42,
   "metadata": {},
   "outputs": [
    {
     "name": "stdout",
     "output_type": "stream",
     "text": [
      "negative\n",
      "[('flight', 2100), ('united', 2100), ('usairways', 1722), ('americanair', 1549), ('southwestair', 884), ('jetblue', 754), ('get', 727), ('cancelled', 648), ('2', 547), ('service', 530), ('hours', 496), ('help', 443), ('customer', 428), ('time', 426), ('hold', 424)]\n",
      "\n",
      "neutral\n",
      "[('jetblue', 540), ('united', 529), ('southwestair', 489), ('flight', 435), ('americanair', 363), ('usairways', 302), ('get', 173), ('please', 132), ('virginamerica', 130), ('flights', 130), ('help', 121), ('thanks', 115), ('need', 114), ('would', 92), ('dm', 91)]\n",
      "\n",
      "positive\n",
      "[('thanks', 448), ('jetblue', 443), ('southwestair', 424), ('united', 376), ('thank', 336), ('flight', 268), ('americanair', 254), ('usairways', 199), ('great', 165), ('service', 120), ('virginamerica', 114), ('love', 105), ('best', 85), ('customer', 85), ('good', 82)]\n",
      "\n"
     ]
    }
   ],
   "source": [
    "from collections import Counter\n",
    "\n",
    "for group_name, subset in train.groupby('airline_sentiment'):\n",
    "    sentimentData=subset['Clean-Text-StopWords-Removed']\n",
    "    words=[]\n",
    "    for each in sentimentData:\n",
    "        words.extend(each.split(\" \"))\n",
    "    print(group_name)\n",
    "    print(Counter(words).most_common(15))\n",
    "    print()"
   ]
  },
  {
   "cell_type": "code",
   "execution_count": 44,
   "metadata": {},
   "outputs": [],
   "source": [
    "def RemoveExplicitlyMentionedWords(string):\n",
    "    listofwordstoremove = ['americanair', 'united', 'delta', 'southwestair', 'jetblue', 'virginamerica', 'usairways', 'flight', 'plane']\n",
    "    listofallwords = string.split(\" \")\n",
    "    listofwords = [x for x in listofallwords if x not in listofwordstoremove]\n",
    "    return (\" \".join(listofwords)).strip()"
   ]
  },
  {
   "cell_type": "code",
   "execution_count": 45,
   "metadata": {},
   "outputs": [],
   "source": [
    "train['Final-Wranlged-Text'] = train['Clean-Text-StopWords-Removed'].apply(RemoveExplicitlyMentionedWords)"
   ]
  },
  {
   "cell_type": "code",
   "execution_count": 46,
   "metadata": {},
   "outputs": [
    {
     "data": {
      "text/html": [
       "<div>\n",
       "<style scoped>\n",
       "    .dataframe tbody tr th:only-of-type {\n",
       "        vertical-align: middle;\n",
       "    }\n",
       "\n",
       "    .dataframe tbody tr th {\n",
       "        vertical-align: top;\n",
       "    }\n",
       "\n",
       "    .dataframe thead th {\n",
       "        text-align: right;\n",
       "    }\n",
       "</style>\n",
       "<table border=\"1\" class=\"dataframe\">\n",
       "  <thead>\n",
       "    <tr style=\"text-align: right;\">\n",
       "      <th></th>\n",
       "      <th>airline_sentiment</th>\n",
       "      <th>text</th>\n",
       "      <th>Cleaned-Text</th>\n",
       "      <th>Clean-Text-StopWords-Removed</th>\n",
       "      <th>Final-Wranlged-Text</th>\n",
       "    </tr>\n",
       "  </thead>\n",
       "  <tbody>\n",
       "    <tr>\n",
       "      <th>0</th>\n",
       "      <td>positive</td>\n",
       "      <td>@VirginAmerica plus you've added commercials t...</td>\n",
       "      <td>virginamerica plus you ve added commercials to...</td>\n",
       "      <td>virginamerica plus added commercials experienc...</td>\n",
       "      <td>plus added commercials experience tacky</td>\n",
       "    </tr>\n",
       "    <tr>\n",
       "      <th>1</th>\n",
       "      <td>neutral</td>\n",
       "      <td>@VirginAmerica I didn't today... Must mean I n...</td>\n",
       "      <td>virginamerica i didn t today must mean i need ...</td>\n",
       "      <td>virginamerica today must mean need take anothe...</td>\n",
       "      <td>today must mean need take another trip</td>\n",
       "    </tr>\n",
       "    <tr>\n",
       "      <th>2</th>\n",
       "      <td>negative</td>\n",
       "      <td>@VirginAmerica it's really aggressive to blast...</td>\n",
       "      <td>virginamerica it s really aggressive to blast ...</td>\n",
       "      <td>virginamerica really aggressive blast obnoxiou...</td>\n",
       "      <td>really aggressive blast obnoxious entertainmen...</td>\n",
       "    </tr>\n",
       "    <tr>\n",
       "      <th>3</th>\n",
       "      <td>negative</td>\n",
       "      <td>@VirginAmerica and it's a really big bad thing...</td>\n",
       "      <td>virginamerica and it s a really big bad thing ...</td>\n",
       "      <td>virginamerica really big bad thing</td>\n",
       "      <td>really big bad thing</td>\n",
       "    </tr>\n",
       "    <tr>\n",
       "      <th>4</th>\n",
       "      <td>positive</td>\n",
       "      <td>@VirginAmerica yes, nearly every time I fly VX...</td>\n",
       "      <td>virginamerica yes nearly every time i fly vx t...</td>\n",
       "      <td>virginamerica yes nearly every time fly vx ear...</td>\n",
       "      <td>yes nearly every time fly vx ear worm go away</td>\n",
       "    </tr>\n",
       "    <tr>\n",
       "      <th>...</th>\n",
       "      <td>...</td>\n",
       "      <td>...</td>\n",
       "      <td>...</td>\n",
       "      <td>...</td>\n",
       "      <td>...</td>\n",
       "    </tr>\n",
       "    <tr>\n",
       "      <th>10635</th>\n",
       "      <td>positive</td>\n",
       "      <td>@AmericanAir Thanks! He is.</td>\n",
       "      <td>americanair thanks he is</td>\n",
       "      <td>americanair thanks</td>\n",
       "      <td>thanks</td>\n",
       "    </tr>\n",
       "    <tr>\n",
       "      <th>10636</th>\n",
       "      <td>neutral</td>\n",
       "      <td>“@AmericanAir: @TilleyMonsta George, that does...</td>\n",
       "      <td>americanair tilleymonsta george that doesn t l...</td>\n",
       "      <td>americanair tilleymonsta george look good plea...</td>\n",
       "      <td>tilleymonsta george look good please follow li...</td>\n",
       "    </tr>\n",
       "    <tr>\n",
       "      <th>10637</th>\n",
       "      <td>neutral</td>\n",
       "      <td>@AmericanAir Please bring American Airlines to...</td>\n",
       "      <td>americanair please bring american airlines to ...</td>\n",
       "      <td>americanair please bring american airlines bla...</td>\n",
       "      <td>please bring american airlines blackberry10</td>\n",
       "    </tr>\n",
       "    <tr>\n",
       "      <th>10638</th>\n",
       "      <td>negative</td>\n",
       "      <td>@AmericanAir you have my money, you change my ...</td>\n",
       "      <td>americanair you have my money you change my fl...</td>\n",
       "      <td>americanair money change flight answer phones ...</td>\n",
       "      <td>money change answer phones suggestions make co...</td>\n",
       "    </tr>\n",
       "    <tr>\n",
       "      <th>10639</th>\n",
       "      <td>neutral</td>\n",
       "      <td>@AmericanAir we have 8 ppl so we need 2 know h...</td>\n",
       "      <td>americanair we have 8 ppl so we need 2 know ho...</td>\n",
       "      <td>americanair 8 ppl need 2 know many seats next ...</td>\n",
       "      <td>8 ppl need 2 know many seats next plz put us s...</td>\n",
       "    </tr>\n",
       "  </tbody>\n",
       "</table>\n",
       "<p>10640 rows × 5 columns</p>\n",
       "</div>"
      ],
      "text/plain": [
       "      airline_sentiment                                               text  \\\n",
       "0              positive  @VirginAmerica plus you've added commercials t...   \n",
       "1               neutral  @VirginAmerica I didn't today... Must mean I n...   \n",
       "2              negative  @VirginAmerica it's really aggressive to blast...   \n",
       "3              negative  @VirginAmerica and it's a really big bad thing...   \n",
       "4              positive  @VirginAmerica yes, nearly every time I fly VX...   \n",
       "...                 ...                                                ...   \n",
       "10635          positive                        @AmericanAir Thanks! He is.   \n",
       "10636           neutral  “@AmericanAir: @TilleyMonsta George, that does...   \n",
       "10637           neutral  @AmericanAir Please bring American Airlines to...   \n",
       "10638          negative  @AmericanAir you have my money, you change my ...   \n",
       "10639           neutral  @AmericanAir we have 8 ppl so we need 2 know h...   \n",
       "\n",
       "                                            Cleaned-Text  \\\n",
       "0      virginamerica plus you ve added commercials to...   \n",
       "1      virginamerica i didn t today must mean i need ...   \n",
       "2      virginamerica it s really aggressive to blast ...   \n",
       "3      virginamerica and it s a really big bad thing ...   \n",
       "4      virginamerica yes nearly every time i fly vx t...   \n",
       "...                                                  ...   \n",
       "10635                           americanair thanks he is   \n",
       "10636  americanair tilleymonsta george that doesn t l...   \n",
       "10637  americanair please bring american airlines to ...   \n",
       "10638  americanair you have my money you change my fl...   \n",
       "10639  americanair we have 8 ppl so we need 2 know ho...   \n",
       "\n",
       "                            Clean-Text-StopWords-Removed  \\\n",
       "0      virginamerica plus added commercials experienc...   \n",
       "1      virginamerica today must mean need take anothe...   \n",
       "2      virginamerica really aggressive blast obnoxiou...   \n",
       "3                     virginamerica really big bad thing   \n",
       "4      virginamerica yes nearly every time fly vx ear...   \n",
       "...                                                  ...   \n",
       "10635                                 americanair thanks   \n",
       "10636  americanair tilleymonsta george look good plea...   \n",
       "10637  americanair please bring american airlines bla...   \n",
       "10638  americanair money change flight answer phones ...   \n",
       "10639  americanair 8 ppl need 2 know many seats next ...   \n",
       "\n",
       "                                     Final-Wranlged-Text  \n",
       "0                plus added commercials experience tacky  \n",
       "1                 today must mean need take another trip  \n",
       "2      really aggressive blast obnoxious entertainmen...  \n",
       "3                                   really big bad thing  \n",
       "4          yes nearly every time fly vx ear worm go away  \n",
       "...                                                  ...  \n",
       "10635                                             thanks  \n",
       "10636  tilleymonsta george look good please follow li...  \n",
       "10637        please bring american airlines blackberry10  \n",
       "10638  money change answer phones suggestions make co...  \n",
       "10639  8 ppl need 2 know many seats next plz put us s...  \n",
       "\n",
       "[10640 rows x 5 columns]"
      ]
     },
     "execution_count": 46,
     "metadata": {},
     "output_type": "execute_result"
    }
   ],
   "source": [
    "train"
   ]
  },
  {
   "cell_type": "code",
   "execution_count": 47,
   "metadata": {},
   "outputs": [
    {
     "name": "stdout",
     "output_type": "stream",
     "text": [
      "negative\n",
      "[('get', 727), ('cancelled', 648), ('2', 547), ('service', 530), ('hours', 496), ('help', 443), ('customer', 428), ('time', 426), ('hold', 424), ('delayed', 371), ('amp', 368), ('still', 363), ('us', 348), ('call', 334), ('one', 322)]\n",
      "\n",
      "neutral\n",
      "[('get', 173), ('please', 132), ('flights', 130), ('help', 121), ('thanks', 115), ('need', 114), ('would', 92), ('dm', 91), ('2', 86), ('time', 80), ('tomorrow', 76), ('cancelled', 74), ('amp', 73), ('know', 72), ('us', 70)]\n",
      "\n",
      "positive\n",
      "[('thanks', 448), ('thank', 336), ('great', 165), ('service', 120), ('love', 105), ('best', 85), ('customer', 85), ('good', 82), ('guys', 81), ('much', 77), ('get', 76), ('awesome', 71), ('got', 71), ('help', 65), ('time', 64)]\n",
      "\n"
     ]
    }
   ],
   "source": [
    "from collections import Counter\n",
    "\n",
    "for group_name, subset in train.groupby('airline_sentiment'):\n",
    "    sentimentData=subset['Final-Wranlged-Text']\n",
    "    words=[]\n",
    "    for each in sentimentData:\n",
    "        words.extend(each.split(\" \"))\n",
    "    print(group_name)\n",
    "    print(Counter(words).most_common(15))\n",
    "    print()"
   ]
  },
  {
   "cell_type": "code",
   "execution_count": 48,
   "metadata": {},
   "outputs": [],
   "source": [
    "from sklearn.preprocessing import LabelEncoder"
   ]
  },
  {
   "cell_type": "code",
   "execution_count": 49,
   "metadata": {},
   "outputs": [],
   "source": [
    "l = LabelEncoder()"
   ]
  },
  {
   "cell_type": "code",
   "execution_count": 50,
   "metadata": {},
   "outputs": [],
   "source": [
    "train['SentimentLabel'] = l.fit_transform(train['airline_sentiment'])"
   ]
  },
  {
   "cell_type": "code",
   "execution_count": 51,
   "metadata": {},
   "outputs": [
    {
     "data": {
      "text/html": [
       "<div>\n",
       "<style scoped>\n",
       "    .dataframe tbody tr th:only-of-type {\n",
       "        vertical-align: middle;\n",
       "    }\n",
       "\n",
       "    .dataframe tbody tr th {\n",
       "        vertical-align: top;\n",
       "    }\n",
       "\n",
       "    .dataframe thead th {\n",
       "        text-align: right;\n",
       "    }\n",
       "</style>\n",
       "<table border=\"1\" class=\"dataframe\">\n",
       "  <thead>\n",
       "    <tr style=\"text-align: right;\">\n",
       "      <th></th>\n",
       "      <th>airline_sentiment</th>\n",
       "      <th>text</th>\n",
       "      <th>Cleaned-Text</th>\n",
       "      <th>Clean-Text-StopWords-Removed</th>\n",
       "      <th>Final-Wranlged-Text</th>\n",
       "      <th>SentimentLabel</th>\n",
       "    </tr>\n",
       "  </thead>\n",
       "  <tbody>\n",
       "    <tr>\n",
       "      <th>0</th>\n",
       "      <td>positive</td>\n",
       "      <td>@VirginAmerica plus you've added commercials t...</td>\n",
       "      <td>virginamerica plus you ve added commercials to...</td>\n",
       "      <td>virginamerica plus added commercials experienc...</td>\n",
       "      <td>plus added commercials experience tacky</td>\n",
       "      <td>2</td>\n",
       "    </tr>\n",
       "    <tr>\n",
       "      <th>1</th>\n",
       "      <td>neutral</td>\n",
       "      <td>@VirginAmerica I didn't today... Must mean I n...</td>\n",
       "      <td>virginamerica i didn t today must mean i need ...</td>\n",
       "      <td>virginamerica today must mean need take anothe...</td>\n",
       "      <td>today must mean need take another trip</td>\n",
       "      <td>1</td>\n",
       "    </tr>\n",
       "    <tr>\n",
       "      <th>2</th>\n",
       "      <td>negative</td>\n",
       "      <td>@VirginAmerica it's really aggressive to blast...</td>\n",
       "      <td>virginamerica it s really aggressive to blast ...</td>\n",
       "      <td>virginamerica really aggressive blast obnoxiou...</td>\n",
       "      <td>really aggressive blast obnoxious entertainmen...</td>\n",
       "      <td>0</td>\n",
       "    </tr>\n",
       "    <tr>\n",
       "      <th>3</th>\n",
       "      <td>negative</td>\n",
       "      <td>@VirginAmerica and it's a really big bad thing...</td>\n",
       "      <td>virginamerica and it s a really big bad thing ...</td>\n",
       "      <td>virginamerica really big bad thing</td>\n",
       "      <td>really big bad thing</td>\n",
       "      <td>0</td>\n",
       "    </tr>\n",
       "    <tr>\n",
       "      <th>4</th>\n",
       "      <td>positive</td>\n",
       "      <td>@VirginAmerica yes, nearly every time I fly VX...</td>\n",
       "      <td>virginamerica yes nearly every time i fly vx t...</td>\n",
       "      <td>virginamerica yes nearly every time fly vx ear...</td>\n",
       "      <td>yes nearly every time fly vx ear worm go away</td>\n",
       "      <td>2</td>\n",
       "    </tr>\n",
       "    <tr>\n",
       "      <th>...</th>\n",
       "      <td>...</td>\n",
       "      <td>...</td>\n",
       "      <td>...</td>\n",
       "      <td>...</td>\n",
       "      <td>...</td>\n",
       "      <td>...</td>\n",
       "    </tr>\n",
       "    <tr>\n",
       "      <th>10635</th>\n",
       "      <td>positive</td>\n",
       "      <td>@AmericanAir Thanks! He is.</td>\n",
       "      <td>americanair thanks he is</td>\n",
       "      <td>americanair thanks</td>\n",
       "      <td>thanks</td>\n",
       "      <td>2</td>\n",
       "    </tr>\n",
       "    <tr>\n",
       "      <th>10636</th>\n",
       "      <td>neutral</td>\n",
       "      <td>“@AmericanAir: @TilleyMonsta George, that does...</td>\n",
       "      <td>americanair tilleymonsta george that doesn t l...</td>\n",
       "      <td>americanair tilleymonsta george look good plea...</td>\n",
       "      <td>tilleymonsta george look good please follow li...</td>\n",
       "      <td>1</td>\n",
       "    </tr>\n",
       "    <tr>\n",
       "      <th>10637</th>\n",
       "      <td>neutral</td>\n",
       "      <td>@AmericanAir Please bring American Airlines to...</td>\n",
       "      <td>americanair please bring american airlines to ...</td>\n",
       "      <td>americanair please bring american airlines bla...</td>\n",
       "      <td>please bring american airlines blackberry10</td>\n",
       "      <td>1</td>\n",
       "    </tr>\n",
       "    <tr>\n",
       "      <th>10638</th>\n",
       "      <td>negative</td>\n",
       "      <td>@AmericanAir you have my money, you change my ...</td>\n",
       "      <td>americanair you have my money you change my fl...</td>\n",
       "      <td>americanair money change flight answer phones ...</td>\n",
       "      <td>money change answer phones suggestions make co...</td>\n",
       "      <td>0</td>\n",
       "    </tr>\n",
       "    <tr>\n",
       "      <th>10639</th>\n",
       "      <td>neutral</td>\n",
       "      <td>@AmericanAir we have 8 ppl so we need 2 know h...</td>\n",
       "      <td>americanair we have 8 ppl so we need 2 know ho...</td>\n",
       "      <td>americanair 8 ppl need 2 know many seats next ...</td>\n",
       "      <td>8 ppl need 2 know many seats next plz put us s...</td>\n",
       "      <td>1</td>\n",
       "    </tr>\n",
       "  </tbody>\n",
       "</table>\n",
       "<p>10640 rows × 6 columns</p>\n",
       "</div>"
      ],
      "text/plain": [
       "      airline_sentiment                                               text  \\\n",
       "0              positive  @VirginAmerica plus you've added commercials t...   \n",
       "1               neutral  @VirginAmerica I didn't today... Must mean I n...   \n",
       "2              negative  @VirginAmerica it's really aggressive to blast...   \n",
       "3              negative  @VirginAmerica and it's a really big bad thing...   \n",
       "4              positive  @VirginAmerica yes, nearly every time I fly VX...   \n",
       "...                 ...                                                ...   \n",
       "10635          positive                        @AmericanAir Thanks! He is.   \n",
       "10636           neutral  “@AmericanAir: @TilleyMonsta George, that does...   \n",
       "10637           neutral  @AmericanAir Please bring American Airlines to...   \n",
       "10638          negative  @AmericanAir you have my money, you change my ...   \n",
       "10639           neutral  @AmericanAir we have 8 ppl so we need 2 know h...   \n",
       "\n",
       "                                            Cleaned-Text  \\\n",
       "0      virginamerica plus you ve added commercials to...   \n",
       "1      virginamerica i didn t today must mean i need ...   \n",
       "2      virginamerica it s really aggressive to blast ...   \n",
       "3      virginamerica and it s a really big bad thing ...   \n",
       "4      virginamerica yes nearly every time i fly vx t...   \n",
       "...                                                  ...   \n",
       "10635                           americanair thanks he is   \n",
       "10636  americanair tilleymonsta george that doesn t l...   \n",
       "10637  americanair please bring american airlines to ...   \n",
       "10638  americanair you have my money you change my fl...   \n",
       "10639  americanair we have 8 ppl so we need 2 know ho...   \n",
       "\n",
       "                            Clean-Text-StopWords-Removed  \\\n",
       "0      virginamerica plus added commercials experienc...   \n",
       "1      virginamerica today must mean need take anothe...   \n",
       "2      virginamerica really aggressive blast obnoxiou...   \n",
       "3                     virginamerica really big bad thing   \n",
       "4      virginamerica yes nearly every time fly vx ear...   \n",
       "...                                                  ...   \n",
       "10635                                 americanair thanks   \n",
       "10636  americanair tilleymonsta george look good plea...   \n",
       "10637  americanair please bring american airlines bla...   \n",
       "10638  americanair money change flight answer phones ...   \n",
       "10639  americanair 8 ppl need 2 know many seats next ...   \n",
       "\n",
       "                                     Final-Wranlged-Text  SentimentLabel  \n",
       "0                plus added commercials experience tacky               2  \n",
       "1                 today must mean need take another trip               1  \n",
       "2      really aggressive blast obnoxious entertainmen...               0  \n",
       "3                                   really big bad thing               0  \n",
       "4          yes nearly every time fly vx ear worm go away               2  \n",
       "...                                                  ...             ...  \n",
       "10635                                             thanks               2  \n",
       "10636  tilleymonsta george look good please follow li...               1  \n",
       "10637        please bring american airlines blackberry10               1  \n",
       "10638  money change answer phones suggestions make co...               0  \n",
       "10639  8 ppl need 2 know many seats next plz put us s...               1  \n",
       "\n",
       "[10640 rows x 6 columns]"
      ]
     },
     "execution_count": 51,
     "metadata": {},
     "output_type": "execute_result"
    }
   ],
   "source": [
    "train"
   ]
  },
  {
   "cell_type": "code",
   "execution_count": 52,
   "metadata": {},
   "outputs": [
    {
     "data": {
      "text/plain": [
       "array(['negative', 'neutral', 'positive'], dtype=object)"
      ]
     },
     "execution_count": 52,
     "metadata": {},
     "output_type": "execute_result"
    }
   ],
   "source": [
    "l.classes_"
   ]
  },
  {
   "cell_type": "code",
   "execution_count": 53,
   "metadata": {},
   "outputs": [],
   "source": [
    "from sklearn.feature_extraction.text import CountVectorizer"
   ]
  },
  {
   "cell_type": "code",
   "execution_count": 54,
   "metadata": {},
   "outputs": [],
   "source": [
    "vectorizer = CountVectorizer()"
   ]
  },
  {
   "cell_type": "code",
   "execution_count": 55,
   "metadata": {},
   "outputs": [],
   "source": [
    "trainx = vectorizer.fit_transform(train['Final-Wranlged-Text'])"
   ]
  },
  {
   "cell_type": "code",
   "execution_count": 56,
   "metadata": {},
   "outputs": [
    {
     "data": {
      "text/plain": [
       "<10640x11628 sparse matrix of type '<class 'numpy.int64'>'\n",
       "\twith 89521 stored elements in Compressed Sparse Row format>"
      ]
     },
     "execution_count": 56,
     "metadata": {},
     "output_type": "execute_result"
    }
   ],
   "source": [
    "trainx"
   ]
  },
  {
   "cell_type": "code",
   "execution_count": 57,
   "metadata": {},
   "outputs": [
    {
     "data": {
      "text/plain": [
       "(10640, 11628)"
      ]
     },
     "execution_count": 57,
     "metadata": {},
     "output_type": "execute_result"
    }
   ],
   "source": [
    "trainx.shape"
   ]
  },
  {
   "cell_type": "code",
   "execution_count": 58,
   "metadata": {},
   "outputs": [],
   "source": [
    "y_train = train['SentimentLabel']"
   ]
  },
  {
   "cell_type": "code",
   "execution_count": 59,
   "metadata": {},
   "outputs": [],
   "source": [
    "from sklearn.naive_bayes import MultinomialNB"
   ]
  },
  {
   "cell_type": "code",
   "execution_count": 60,
   "metadata": {},
   "outputs": [],
   "source": [
    "clf = MultinomialNB()"
   ]
  },
  {
   "cell_type": "code",
   "execution_count": 61,
   "metadata": {},
   "outputs": [
    {
     "data": {
      "text/plain": [
       "MultinomialNB()"
      ]
     },
     "execution_count": 61,
     "metadata": {},
     "output_type": "execute_result"
    }
   ],
   "source": [
    "clf.fit(trainx, y_train)"
   ]
  },
  {
   "cell_type": "code",
   "execution_count": 62,
   "metadata": {},
   "outputs": [],
   "source": [
    "test = pd.read_csv('Tweets-test.csv')\n",
    "test = test[['airline_sentiment', 'text']]"
   ]
  },
  {
   "cell_type": "code",
   "execution_count": 63,
   "metadata": {},
   "outputs": [
    {
     "data": {
      "text/html": [
       "<div>\n",
       "<style scoped>\n",
       "    .dataframe tbody tr th:only-of-type {\n",
       "        vertical-align: middle;\n",
       "    }\n",
       "\n",
       "    .dataframe tbody tr th {\n",
       "        vertical-align: top;\n",
       "    }\n",
       "\n",
       "    .dataframe thead th {\n",
       "        text-align: right;\n",
       "    }\n",
       "</style>\n",
       "<table border=\"1\" class=\"dataframe\">\n",
       "  <thead>\n",
       "    <tr style=\"text-align: right;\">\n",
       "      <th></th>\n",
       "      <th>airline_sentiment</th>\n",
       "      <th>text</th>\n",
       "    </tr>\n",
       "  </thead>\n",
       "  <tbody>\n",
       "    <tr>\n",
       "      <th>0</th>\n",
       "      <td>negative</td>\n",
       "      <td>@AmericanAir why did you drop my call. Why don...</td>\n",
       "    </tr>\n",
       "    <tr>\n",
       "      <th>1</th>\n",
       "      <td>negative</td>\n",
       "      <td>@USAirways thanks for the seat that doesn't re...</td>\n",
       "    </tr>\n",
       "    <tr>\n",
       "      <th>2</th>\n",
       "      <td>negative</td>\n",
       "      <td>@AmericanAir wasn't just a delay. Your counter...</td>\n",
       "    </tr>\n",
       "    <tr>\n",
       "      <th>3</th>\n",
       "      <td>positive</td>\n",
       "      <td>@united social media team is on point on #Osca...</td>\n",
       "    </tr>\n",
       "    <tr>\n",
       "      <th>4</th>\n",
       "      <td>neutral</td>\n",
       "      <td>@AmericanAir These birds could fly to South Am...</td>\n",
       "    </tr>\n",
       "    <tr>\n",
       "      <th>...</th>\n",
       "      <td>...</td>\n",
       "      <td>...</td>\n",
       "    </tr>\n",
       "    <tr>\n",
       "      <th>3995</th>\n",
       "      <td>negative</td>\n",
       "      <td>@united ANOTHER F*CKING DELAY IN THE PAST 32 H...</td>\n",
       "    </tr>\n",
       "    <tr>\n",
       "      <th>3996</th>\n",
       "      <td>neutral</td>\n",
       "      <td>@SouthwestAir thanks!!</td>\n",
       "    </tr>\n",
       "    <tr>\n",
       "      <th>3997</th>\n",
       "      <td>negative</td>\n",
       "      <td>@JetBlue 4 hr delay on flight to JFK via Tampa...</td>\n",
       "    </tr>\n",
       "    <tr>\n",
       "      <th>3998</th>\n",
       "      <td>negative</td>\n",
       "      <td>@USAirways My family, friends and colleagues w...</td>\n",
       "    </tr>\n",
       "    <tr>\n",
       "      <th>3999</th>\n",
       "      <td>negative</td>\n",
       "      <td>@USAirways you guys have to be the worst. We a...</td>\n",
       "    </tr>\n",
       "  </tbody>\n",
       "</table>\n",
       "<p>4000 rows × 2 columns</p>\n",
       "</div>"
      ],
      "text/plain": [
       "     airline_sentiment                                               text\n",
       "0             negative  @AmericanAir why did you drop my call. Why don...\n",
       "1             negative  @USAirways thanks for the seat that doesn't re...\n",
       "2             negative  @AmericanAir wasn't just a delay. Your counter...\n",
       "3             positive  @united social media team is on point on #Osca...\n",
       "4              neutral  @AmericanAir These birds could fly to South Am...\n",
       "...                ...                                                ...\n",
       "3995          negative  @united ANOTHER F*CKING DELAY IN THE PAST 32 H...\n",
       "3996           neutral                             @SouthwestAir thanks!!\n",
       "3997          negative  @JetBlue 4 hr delay on flight to JFK via Tampa...\n",
       "3998          negative  @USAirways My family, friends and colleagues w...\n",
       "3999          negative  @USAirways you guys have to be the worst. We a...\n",
       "\n",
       "[4000 rows x 2 columns]"
      ]
     },
     "execution_count": 63,
     "metadata": {},
     "output_type": "execute_result"
    }
   ],
   "source": [
    "test"
   ]
  },
  {
   "cell_type": "code",
   "execution_count": 64,
   "metadata": {},
   "outputs": [],
   "source": [
    "test['Cleaned-Text'] = test['text'].apply(tweet_cleaner)"
   ]
  },
  {
   "cell_type": "code",
   "execution_count": 65,
   "metadata": {},
   "outputs": [],
   "source": [
    "test['Clean-Text-stopwords-removed'] = test['Cleaned-Text'].apply(RemoveStopWords)"
   ]
  },
  {
   "cell_type": "code",
   "execution_count": null,
   "metadata": {},
   "outputs": [],
   "source": []
  },
  {
   "cell_type": "code",
   "execution_count": 66,
   "metadata": {},
   "outputs": [],
   "source": [
    "test['Final-wrangled-text'] = test['Clean-Text-stopwords-removed'].apply(RemoveExplicitlyMentionedWords)"
   ]
  },
  {
   "cell_type": "code",
   "execution_count": 67,
   "metadata": {},
   "outputs": [],
   "source": [
    "x_test = vectorizer.transform(test['Final-wrangled-text'])"
   ]
  },
  {
   "cell_type": "code",
   "execution_count": 68,
   "metadata": {},
   "outputs": [],
   "source": [
    "test['SentimentLabel']=l.transform(test['airline_sentiment'])"
   ]
  },
  {
   "cell_type": "code",
   "execution_count": 69,
   "metadata": {},
   "outputs": [],
   "source": [
    "y_test = test['SentimentLabel']"
   ]
  },
  {
   "cell_type": "code",
   "execution_count": 70,
   "metadata": {},
   "outputs": [
    {
     "data": {
      "text/plain": [
       "<4000x11628 sparse matrix of type '<class 'numpy.int64'>'\n",
       "\twith 31586 stored elements in Compressed Sparse Row format>"
      ]
     },
     "execution_count": 70,
     "metadata": {},
     "output_type": "execute_result"
    }
   ],
   "source": [
    "x_test"
   ]
  },
  {
   "cell_type": "code",
   "execution_count": 71,
   "metadata": {},
   "outputs": [],
   "source": [
    "y_pred = clf.predict(x_test)"
   ]
  },
  {
   "cell_type": "code",
   "execution_count": 72,
   "metadata": {},
   "outputs": [
    {
     "data": {
      "text/plain": [
       "array([0, 0, 0, ..., 0, 0, 0])"
      ]
     },
     "execution_count": 72,
     "metadata": {},
     "output_type": "execute_result"
    }
   ],
   "source": [
    "y_pred"
   ]
  },
  {
   "cell_type": "code",
   "execution_count": 73,
   "metadata": {},
   "outputs": [],
   "source": [
    "from sklearn.metrics import accuracy_score"
   ]
  },
  {
   "cell_type": "code",
   "execution_count": 74,
   "metadata": {},
   "outputs": [
    {
     "data": {
      "text/plain": [
       "0.77225"
      ]
     },
     "execution_count": 74,
     "metadata": {},
     "output_type": "execute_result"
    }
   ],
   "source": [
    "accuracy_score(y_test, y_pred)"
   ]
  },
  {
   "cell_type": "code",
   "execution_count": null,
   "metadata": {},
   "outputs": [],
   "source": []
  }
 ],
 "metadata": {
  "kernelspec": {
   "display_name": "Python 3",
   "language": "python",
   "name": "python3"
  },
  "language_info": {
   "codemirror_mode": {
    "name": "ipython",
    "version": 3
   },
   "file_extension": ".py",
   "mimetype": "text/x-python",
   "name": "python",
   "nbconvert_exporter": "python",
   "pygments_lexer": "ipython3",
   "version": "3.6.5"
  }
 },
 "nbformat": 4,
 "nbformat_minor": 4
}
