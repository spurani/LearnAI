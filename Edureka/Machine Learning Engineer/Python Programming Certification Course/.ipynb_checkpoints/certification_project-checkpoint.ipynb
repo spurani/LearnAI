{
 "cells": [
  {
   "cell_type": "code",
   "execution_count": 3,
   "metadata": {},
   "outputs": [],
   "source": [
    "import folium\n",
    "import pandas as pd\n",
    "import numpy as np\n",
    "import matplotlib.pyplot as plt\n",
    "import seaborn as sns\n",
    "\n",
    "table = pd.read_csv('mew2ktykm4.csv',na_values = [])"
   ]
  },
  {
   "cell_type": "code",
   "execution_count": 4,
   "metadata": {},
   "outputs": [
    {
     "name": "stdout",
     "output_type": "stream",
     "text": [
      "(266543, 9)\n",
      "lat          float64\n",
      "lng          float64\n",
      "desc          object\n",
      "zip          float64\n",
      "title         object\n",
      "timeStamp     object\n",
      "twp           object\n",
      "addr          object\n",
      "e              int64\n",
      "dtype: object\n",
      "-----FIND NULL VALUES-----------\n",
      "True\n",
      "-----SUM OF NULL VALUES---------\n",
      "lat              0\n",
      "lng              0\n",
      "desc             0\n",
      "zip          32494\n",
      "title            0\n",
      "timeStamp        0\n",
      "twp             95\n",
      "addr             0\n",
      "e                0\n",
      "dtype: int64\n",
      "-----TOTAL SUM OF NULL VALUES---\n",
      "32589\n",
      "--------------------------------\n"
     ]
    }
   ],
   "source": [
    "print(table.shape) ##Shapes gives information about number rows and coloumns respectively(r,c)\n",
    "print(table.dtypes) ##List all datatypes in dataframe\n",
    "\n",
    "print(\"-----FIND NULL VALUES-----------\")\n",
    "print(table.isnull().values.any())\n",
    "print(\"-----SUM OF NULL VALUES---------\")\n",
    "print(table.isnull().sum())\n",
    "print(\"-----TOTAL SUM OF NULL VALUES---\")\n",
    "print(table.isnull().sum().sum())\n",
    "print(\"--------------------------------\")"
   ]
  },
  {
   "cell_type": "code",
   "execution_count": 5,
   "metadata": {},
   "outputs": [
    {
     "name": "stdout",
     "output_type": "stream",
     "text": [
      "19401.0    18401\n",
      "19464.0    17937\n",
      "19403.0    13366\n",
      "19446.0    12828\n",
      "19406.0     8820\n",
      "19002.0     8367\n",
      "19468.0     7860\n",
      "19046.0     7340\n",
      "19454.0     7274\n",
      "19090.0     6999\n",
      "Name: zip, dtype: int64\n"
     ]
    }
   ],
   "source": [
    "''' Compute -- What are the top 10 Zipcodes for 911 & \n",
    "Question 1: Are Zipcodes 19446 and 19090 present ?\n",
    "'''\n",
    "\n",
    "table1 = table['zip'].dropna()\n",
    "zip_code = table1.value_counts().head(10)\n",
    "print(zip_code)"
   ]
  },
  {
   "cell_type": "code",
   "execution_count": 6,
   "metadata": {},
   "outputs": [
    {
     "name": "stdout",
     "output_type": "stream",
     "text": [
      "LOWER MERION    22886\n",
      "ABINGTON        16379\n",
      "NORRISTOWN      15421\n",
      "UPPER MERION    14015\n",
      "Name: twp, dtype: int64\n"
     ]
    }
   ],
   "source": [
    "'''\n",
    "Compute --What are the top 4 townships (twp) for 911 calls  \n",
    "& Question 2: Which  of the following township are  not present? \n",
    "--LOWER POTTSGROVE, NORRISTOWN, HORSHAM, ABINGTON\n",
    "'''\n",
    "\n",
    "table2 = table['twp'].dropna()\n",
    "twp = table2.value_counts().head(4)\n",
    "print(twp)"
   ]
  },
  {
   "cell_type": "code",
   "execution_count": 7,
   "metadata": {},
   "outputs": [
    {
     "name": "stdout",
     "output_type": "stream",
     "text": [
      "EMS        133234\n",
      "Traffic     93400\n",
      "Fire        39909\n",
      "Name: department, dtype: int64\n"
     ]
    }
   ],
   "source": [
    "'''\n",
    "Compute --Create new features & Question 3: What is the most common \n",
    "Reason for a 911 call based on Reason Column? Which comes second\n",
    "'''\n",
    "\n",
    "table3 = table\n",
    "table3[['department','reason']] = table['title'].str.split(\":\",expand=True)\n",
    "department = table3['department'].value_counts()\n",
    "reason = table3['reason'].value_counts()\n",
    "print(department)\n",
    "#print(reason)"
   ]
  },
  {
   "cell_type": "code",
   "execution_count": 10,
   "metadata": {},
   "outputs": [
    {
     "data": {
      "text/plain": [
       "<matplotlib.axes._subplots.AxesSubplot at 0x1ceebfc46d8>"
      ]
     },
     "execution_count": 10,
     "metadata": {},
     "output_type": "execute_result"
    },
    {
     "data": {
      "image/png": "[encoded data removed]",
      "text/plain": [
       "<matplotlib.figure.Figure at 0x1ceebe59438>"
      ]
     },
     "metadata": {},
     "output_type": "display_data"
    }
   ],
   "source": [
    "'''\n",
    "Compute --Plot barchart using matplot for 911 calls by Reason \n",
    "& Question 4: How can you plot the bars horizontally ?\n",
    "'''\n",
    "\n",
    "department.plot(kind='barh',title=\"911 Calls By Reason\",legend=True)"
   ]
  },
  {
   "cell_type": "code",
   "execution_count": 11,
   "metadata": {},
   "outputs": [
    {
     "name": "stdout",
     "output_type": "stream",
     "text": [
      "Friday       19938\n",
      "Tuesday      19575\n",
      "Wednesday    19422\n",
      "Monday       19389\n",
      "Thursday     19297\n",
      "Saturday     18229\n",
      "Sunday       17384\n",
      "Name: timeStamp, dtype: int64\n"
     ]
    }
   ],
   "source": [
    "'''\n",
    "Do data manipulation & Question 5: Which day got maximum calls \n",
    "for EMS and how many?\n",
    "'''\n",
    "ems_timestamp = table.loc[table['department'] == 'EMS','timeStamp']\n",
    "print(pd.to_datetime(ems_timestamp).dt.weekday_name.value_counts())\n",
    "\n",
    "# Two other ways this question can be solved - First one works for Spyder only while second one works for both Spyder and Jupyter\n",
    "# print(pd.to_datetime(ems_timestamp).dt.day_name().value_counts())\n",
    "# print(pd.to_datetime(ems_timestamp).dt.strftime('%A').value_counts())\n"
   ]
  },
  {
   "cell_type": "code",
   "execution_count": 12,
   "metadata": {},
   "outputs": [
    {
     "data": {
      "image/png": "[encoded data removed]",
      "text/plain": [
       "<matplotlib.figure.Figure at 0x1ceebe59358>"
      ]
     },
     "metadata": {},
     "output_type": "display_data"
    }
   ],
   "source": [
    "'''\n",
    "Compute --Create a countplot of the Day of Week column with the \n",
    "hue based of the Reason column & Question 6: On which day \n",
    "traffic calls were lowest?\n",
    "'''\n",
    "\n",
    "#method - 1 - works fro Spyder only\n",
    "#table3['Day of Week'] = pd.to_datetime(table['timeStamp']).dt.day_name()\n",
    "# sns.countplot(x=\"Day of Week\",hue=\"department\",data=table3[table3['department'] == \"Traffic\"])\n",
    "\n",
    "#method - 2 - works for both Spyder and Jupyter\n",
    "table3['Day of Week'] = pd.to_datetime(table['timeStamp']).dt.weekday_name\n",
    "sns.countplot(x=\"Day of Week\",hue=\"department\",data=table3[table3['department'] == \"Traffic\"]).set_title(\"Lowest Traffic calls based on Weekday\")\n",
    "sns.set(rc={'figure.figsize':(10,15)})"
   ]
  },
  {
   "cell_type": "code",
   "execution_count": 13,
   "metadata": {},
   "outputs": [
    {
     "data": {
      "image/png": "[encoded data removed]",
      "text/plain": [
       "<matplotlib.figure.Figure at 0x1cee2f99c88>"
      ]
     },
     "metadata": {},
     "output_type": "display_data"
    }
   ],
   "source": [
    "'''\n",
    "Compute --Create a countplot month wise \n",
    "--Question 7: Which month saw highest calls for fire?\n",
    "'''\n",
    "\n",
    "#table3['Month of Year'] = pd.to_datetime(table['timeStamp']).dt.month_name()\n",
    "# sns.countplot(x=\"Month of Year\",hue=\"department\",data=table3[table3['department'] == \"Fire\"])\n",
    "\n",
    "table3['Month of Year'] = pd.to_datetime(table['timeStamp']).dt.strftime('%B')\n",
    "sns.countplot(x=\"Month of Year\",hue=\"department\",data=table3[table3['department'] == \"Fire\"]).set_title(\"Highest calls of Fire based on Month\")\n",
    "sns.set(rc={'figure.figsize':(5,25)})"
   ]
  },
  {
   "cell_type": "code",
   "execution_count": 14,
   "metadata": {},
   "outputs": [
    {
     "name": "stdout",
     "output_type": "stream",
     "text": [
      "(266543, 13)\n",
      "lat              float64\n",
      "lng              float64\n",
      "desc              object\n",
      "zip              float64\n",
      "title             object\n",
      "timeStamp         object\n",
      "twp               object\n",
      "addr              object\n",
      "e                  int64\n",
      "department        object\n",
      "reason            object\n",
      "Day of Week       object\n",
      "Month of Year     object\n",
      "dtype: object\n",
      "-------------\n",
      "False\n",
      "-----\n",
      "lat              0\n",
      "lng              0\n",
      "desc             0\n",
      "zip              0\n",
      "title            0\n",
      "timeStamp        0\n",
      "twp              0\n",
      "addr             0\n",
      "e                0\n",
      "department       0\n",
      "reason           0\n",
      "Day of Week      0\n",
      "Month of Year    0\n",
      "dtype: int64\n",
      "---------\n",
      "0\n",
      "-------------\n"
     ]
    }
   ],
   "source": [
    "'''\n",
    "Compute --Create Web Map for Traffic Calls & \n",
    "Question 8: Why some areas seem to have lower or almost zero \n",
    "traffic calls? Hint: Zoom the map\n",
    "'''\n",
    "print(table3.shape)\n",
    "print(table3.dtypes)\n",
    "table3 = table3.dropna()\n",
    "print(\"-------------\")\n",
    "print(table3.isnull().values.any())\n",
    "print(\"-----\")\n",
    "print(table3.isnull().sum())\n",
    "print(\"---------\")\n",
    "print(table3.isnull().sum().sum())\n",
    "print(\"-------------\")\n",
    "lon = table3.loc[table3['department']==\"Traffic\",\"lng\"]\n",
    "lat = table3.loc[table3['department']==\"Traffic\",\"lat\"]\n",
    "\n",
    "map=folium.Map(location=[lat.mean(),lon.mean()],zoom_start=6,tiles=\"MapBox Bright\")\n",
    "map=folium.Map(location=[32.58,-99.09],zoom_start=6,tiles=\"MapBox Bright\")\n",
    "fg=folium.FeatureGroup(name=\"Traffic Calls\")\n",
    "\n",
    "for lt,ln in zip(lat,lon):\n",
    "       fg.add_child(folium.Marker(location=(lt,ln),popup=\"Traffic Call\",icon=folium.Icon(color=\"blue\")))\n",
    "\n",
    "map.add_child(fg)\n",
    "map.save(\"folium_1.html\")\n"
   ]
  },
  {
   "cell_type": "code",
   "execution_count": null,
   "metadata": {},
   "outputs": [],
   "source": []
  }
 ],
 "metadata": {
  "kernelspec": {
   "display_name": "Python 3",
   "language": "python",
   "name": "python3"
  },
  "language_info": {
   "codemirror_mode": {
    "name": "ipython",
    "version": 3
   },
   "file_extension": ".py",
   "mimetype": "text/x-python",
   "name": "python",
   "nbconvert_exporter": "python",
   "pygments_lexer": "ipython3",
   "version": "3.6.4"
  }
 },
 "nbformat": 4,
 "nbformat_minor": 2
}
