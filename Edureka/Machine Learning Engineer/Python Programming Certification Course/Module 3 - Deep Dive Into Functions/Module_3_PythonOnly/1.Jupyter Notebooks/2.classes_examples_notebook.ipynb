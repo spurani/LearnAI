{
 "cells": [
  {
   "cell_type": "markdown",
   "metadata": {},
   "source": [
    "# How to create a class"
   ]
  },
  {
   "cell_type": "code",
   "execution_count": 47,
   "metadata": {},
   "outputs": [
    {
     "name": "stdout",
     "output_type": "stream",
     "text": [
      "<__main__.EdurekaUser object at 0x10ab2ccc0>\n"
     ]
    }
   ],
   "source": [
    "class EdurekaUser:\n",
    "    pass\n",
    "\n",
    "# instantiating\n",
    "obj = EdurekaUser()\n",
    "print(obj)"
   ]
  },
  {
   "cell_type": "markdown",
   "metadata": {},
   "source": [
    "# What is a method ?\n",
    "1.method is a function with self as first arg\n",
    "2. defined within class"
   ]
  },
  {
   "cell_type": "code",
   "execution_count": 48,
   "metadata": {},
   "outputs": [
    {
     "name": "stdout",
     "output_type": "stream",
     "text": [
      "Welcome in the course\n",
      "None\n"
     ]
    }
   ],
   "source": [
    "class EdurekaUser:\n",
    "    # this is a method\n",
    "    def hello(self):\n",
    "        print(\"Welcome in the course\")\n",
    "\n",
    "\n",
    "# creating an instance/object of a class OR instantiation\n",
    "\n",
    "obj = EdurekaUser()\n",
    "print(obj.hello()) # calling a method"
   ]
  },
  {
   "cell_type": "markdown",
   "metadata": {},
   "source": [
    "# what is self\n",
    "- it is a reference to the object that is being used to call the method\n",
    "- outside the class object is used to call a method and also to access \n",
    "an attribute(or variable) defined within a class, SELF does the same thing\n",
    "within the class.\n",
    "- It is not a keyword, the first parameter to any method(except static and\n",
    "class method) would be treated as a reference to the object."
   ]
  },
  {
   "cell_type": "code",
   "execution_count": 49,
   "metadata": {},
   "outputs": [
    {
     "name": "stdout",
     "output_type": "stream",
     "text": [
      "inside <__main__.EdurekaUser object at 0x10ab380f0>\n",
      "Python rocks\n",
      "outside: <__main__.EdurekaUser object at 0x10ab380f0>\n"
     ]
    }
   ],
   "source": [
    "class EdurekaUser:\n",
    "    def hello(self):\n",
    "        print(\"inside\",self)\n",
    "        print(\"Python rocks\")\n",
    "\n",
    "obj = EdurekaUser()\n",
    "obj.hello()  # obj.hello(obj)\n",
    "print(\"outside:\", obj)"
   ]
  },
  {
   "cell_type": "code",
   "execution_count": 50,
   "metadata": {},
   "outputs": [
    {
     "name": "stdout",
     "output_type": "stream",
     "text": [
      "inside <__main__.EdurekaUser object at 0x10ab38278>\n",
      "10\n",
      "outside: <__main__.EdurekaUser object at 0x10ab38278>\n"
     ]
    }
   ],
   "source": [
    "#It is not a keyword, the first parameter to any method(except static and\n",
    "#..class method) would be treated as a reference to the object.\n",
    "class EdurekaUser:\n",
    "    def hello(sweta, a):\n",
    "        print(\"inside\",sweta)\n",
    "        print(a)\n",
    "\n",
    "obj = EdurekaUser()\n",
    "obj.hello(10)  # obj.hello(obj)\n",
    "print(\"outside:\", obj)"
   ]
  },
  {
   "cell_type": "markdown",
   "metadata": {},
   "source": [
    "# why is self passed as a first parameter ?\n",
    "Ans: you cannot use any attribute(except Class variable) or any method(except static or class) without the object , so withing the class\n",
    "if you wish to use any attribute or method then you need the object, so that's why self is passed automatically so that you can use it\n"
   ]
  },
  {
   "cell_type": "code",
   "execution_count": 51,
   "metadata": {},
   "outputs": [
    {
     "name": "stdout",
     "output_type": "stream",
     "text": [
      "200\n"
     ]
    },
    {
     "data": {
      "text/plain": [
       "144"
      ]
     },
     "execution_count": 51,
     "metadata": {},
     "output_type": "execute_result"
    }
   ],
   "source": [
    "class EdurekaUser:\n",
    "    def add(self, a):\n",
    "        return a**2\n",
    "    \n",
    "    def my_api(self, b):\n",
    "        print(self.add(b) + 100)\n",
    "\n",
    "obj = EdurekaUser()\n",
    "obj.my_api(10) # obj.my_api(obj, 10)\n",
    "obj.add(12)"
   ]
  },
  {
   "cell_type": "markdown",
   "metadata": {},
   "source": [
    "# Built-in Class attributes"
   ]
  },
  {
   "cell_type": "code",
   "execution_count": 52,
   "metadata": {},
   "outputs": [
    {
     "name": "stdout",
     "output_type": "stream",
     "text": [
      "{'__module__': '__main__', '__doc__': '\\n    this is a edureka class\\n    ', 'a': 12, 'hello': <function Edureka.hello at 0x10ab32ea0>, '__dict__': <attribute '__dict__' of 'Edureka' objects>, '__weakref__': <attribute '__weakref__' of 'Edureka' objects>}\n"
     ]
    }
   ],
   "source": [
    "class Edureka:\n",
    "    \"\"\"\n",
    "    this is a edureka class\n",
    "    \"\"\"\n",
    "    a = 12  # user defined variable\n",
    "    def hello(self):\n",
    "        pass\n",
    "\n",
    "print(Edureka.__dict__) # returns the namespace of class"
   ]
  },
  {
   "cell_type": "code",
   "execution_count": 53,
   "metadata": {},
   "outputs": [
    {
     "name": "stdout",
     "output_type": "stream",
     "text": [
      "\n",
      "    this is a edureka class\n",
      "    \n",
      "Edureka\n",
      "__main__\n",
      "(<class 'object'>,)\n"
     ]
    }
   ],
   "source": [
    "#2 :doc string\n",
    "print(Edureka.__doc__)\n",
    "#3.class name\n",
    "print(Edureka.__name__)\n",
    "#4. module\n",
    "print(Edureka.__module__)\n",
    "#5: bases\n",
    "print(Edureka.__bases__)\n"
   ]
  },
  {
   "cell_type": "markdown",
   "metadata": {},
   "source": [
    "# What is a '__init__' method\n",
    "\n",
    "- It is something close to a constructor\n",
    "- __init__ method gets called automatically when we instantiate the class\n",
    "\n",
    "Attributes starting with 'self' ex: self.last_name , are called user-defined attribute\n",
    "\n"
   ]
  },
  {
   "cell_type": "code",
   "execution_count": 54,
   "metadata": {},
   "outputs": [
    {
     "name": "stdout",
     "output_type": "stream",
     "text": [
      "kaveri\n",
      "sharma\n",
      "Python\n",
      "kaveri sharma\n"
     ]
    }
   ],
   "source": [
    "class EdurekaUser:\n",
    "    def __init__(self, fname, lname, course):\n",
    "        self.first_name = fname\n",
    "        self.last_name = lname\n",
    "        self.course = course\n",
    "    \n",
    "    def show_name(self):\n",
    "        print(self.first_name + ' '+ self.last_name)\n",
    "    \n",
    "    def show_course(self):\n",
    "        print(self.course)\n",
    "\n",
    "# if i wish to use the class then I have to create an object/instance of the class\n",
    "kaveri = EdurekaUser(\"kaveri\",\"sharma\", \"Python\")\n",
    "lalit = EdurekaUser(\"Lalit\", 'singh', 'Django')\n",
    "\n",
    "# how to acces the attributes\n",
    "print(kaveri.first_name)\n",
    "print(kaveri.last_name)\n",
    "print(kaveri.course)\n",
    "\n",
    "# how to call a method\n",
    "kaveri.show_name()\n",
    "        "
   ]
  },
  {
   "cell_type": "markdown",
   "metadata": {},
   "source": [
    "# Public, protected and private attributes\n",
    "This public, private and protected topic is only in the context when we are using the attributes outside the class , inside the class everything can be used without any issues.\n",
    "- public attribute are allowed to be accessed and modified outside and inside the class\n",
    "- protected attribute should not be used by anyone other than the person who is maintaining the class(developer of the class code), as protected attribute is used for some internal logic which class used should not be meddling with.\n",
    "- private attribute, since protected attribute does not add any layer of restriction in private one layer is added that prevents user from accessing it.\n",
    "- public: access and modify at will.\n",
    "- protected: should not access also shouldn't modify\n",
    "    It can be accessed with the exact name.\n",
    "- private: should not access also shouldn't modify\n",
    "   It can't be accessed by exact name, name mangling has to be done to access it\n",
    "    "
   ]
  },
  {
   "cell_type": "code",
   "execution_count": 55,
   "metadata": {},
   "outputs": [
    {
     "name": "stdout",
     "output_type": "stream",
     "text": [
      "Public attr\n",
      "protected attr\n"
     ]
    }
   ],
   "source": [
    "class Edureka:\n",
    "    def __init__(self):\n",
    "        self.pub = \"Public attr\"\n",
    "        self._pro = \"protected attr\"\n",
    "        self.__pri = \"Private attr\"\n",
    "\n",
    "###### user code ######\n",
    "obj = Edureka()\n",
    "print(obj.pub)\n",
    "print(obj._pro)"
   ]
  },
  {
   "cell_type": "code",
   "execution_count": 56,
   "metadata": {},
   "outputs": [
    {
     "ename": "AttributeError",
     "evalue": "'Edureka' object has no attribute '__pri'",
     "output_type": "error",
     "traceback": [
      "\u001b[0;31m---------------------------------------------------------------------------\u001b[0m",
      "\u001b[0;31mAttributeError\u001b[0m                            Traceback (most recent call last)",
      "\u001b[0;32m<ipython-input-56-7dbceb328a30>\u001b[0m in \u001b[0;36m<module>\u001b[0;34m()\u001b[0m\n\u001b[1;32m      1\u001b[0m \u001b[0;31m#private\u001b[0m\u001b[0;34m\u001b[0m\u001b[0;34m\u001b[0m\u001b[0m\n\u001b[0;32m----> 2\u001b[0;31m \u001b[0mobj\u001b[0m\u001b[0;34m.\u001b[0m\u001b[0m__pri\u001b[0m\u001b[0;34m\u001b[0m\u001b[0m\n\u001b[0m",
      "\u001b[0;31mAttributeError\u001b[0m: 'Edureka' object has no attribute '__pri'"
     ]
    }
   ],
   "source": [
    "#private\n",
    "obj.__pri"
   ]
  },
  {
   "cell_type": "code",
   "execution_count": 57,
   "metadata": {},
   "outputs": [
    {
     "data": {
      "text/plain": [
       "'Private attr'"
      ]
     },
     "execution_count": 57,
     "metadata": {},
     "output_type": "execute_result"
    }
   ],
   "source": [
    "# using Name Mangling we can use the private attr also.\n",
    "# Syntax: obj._ClassName__privateAttrname\n",
    "\n",
    "obj._Edureka__pri"
   ]
  },
  {
   "cell_type": "markdown",
   "metadata": {},
   "source": [
    "## private method\n",
    "method that starts with double underscore but does not end with it"
   ]
  },
  {
   "cell_type": "code",
   "execution_count": 58,
   "metadata": {},
   "outputs": [
    {
     "ename": "AttributeError",
     "evalue": "'Edureka' object has no attribute '__hello'",
     "output_type": "error",
     "traceback": [
      "\u001b[0;31m---------------------------------------------------------------------------\u001b[0m",
      "\u001b[0;31mAttributeError\u001b[0m                            Traceback (most recent call last)",
      "\u001b[0;32m<ipython-input-58-dcb14a2770c0>\u001b[0m in \u001b[0;36m<module>\u001b[0;34m()\u001b[0m\n\u001b[1;32m      4\u001b[0m \u001b[0;34m\u001b[0m\u001b[0m\n\u001b[1;32m      5\u001b[0m \u001b[0mobj\u001b[0m \u001b[0;34m=\u001b[0m \u001b[0mEdureka\u001b[0m\u001b[0;34m(\u001b[0m\u001b[0;34m)\u001b[0m\u001b[0;34m\u001b[0m\u001b[0m\n\u001b[0;32m----> 6\u001b[0;31m \u001b[0mobj\u001b[0m\u001b[0;34m.\u001b[0m\u001b[0m__hello\u001b[0m\u001b[0;34m(\u001b[0m\u001b[0;34m)\u001b[0m\u001b[0;34m\u001b[0m\u001b[0m\n\u001b[0m",
      "\u001b[0;31mAttributeError\u001b[0m: 'Edureka' object has no attribute '__hello'"
     ]
    }
   ],
   "source": [
    "class Edureka:\n",
    "    def __hello(self):\n",
    "        print(\"I am private method\")\n",
    "\n",
    "obj = Edureka()\n",
    "obj.__hello()"
   ]
  },
  {
   "cell_type": "code",
   "execution_count": 59,
   "metadata": {},
   "outputs": [
    {
     "name": "stdout",
     "output_type": "stream",
     "text": [
      "I am private method\n"
     ]
    }
   ],
   "source": [
    "# name mangling\n",
    "obj._Edureka__hello()"
   ]
  },
  {
   "cell_type": "markdown",
   "metadata": {},
   "source": [
    "# class variable and instance(object) variable\n",
    "- variable(attribute) starting with self are called instance var\n",
    "- class variable are like global variable within the class.\n",
    "- class var are created outside all the method but inside the class\n",
    "- instance variable means every instance(object)n would have a separate copy of it however class variable would be shared by all the instances.\n",
    "- class var can be accessed via both class name and object, but it should be accessed via class name.\n",
    "- class variable cannot be modified via object it must be modified by the class."
   ]
  },
  {
   "cell_type": "code",
   "execution_count": 60,
   "metadata": {},
   "outputs": [
    {
     "name": "stdout",
     "output_type": "stream",
     "text": [
      "Dinesh\n",
      "ramesh\n",
      "class variable\n",
      "Data science\n",
      "Data science\n",
      "Data science\n",
      "Modified value\n",
      "Django\n",
      "Django\n",
      "Django\n"
     ]
    }
   ],
   "source": [
    "class EdurekaUser:\n",
    "    course = \"Data science\" # class variable\n",
    "    def __init__(self, fname, lname):\n",
    "        self.first_name = fname  # instance var\n",
    "        self.last_name = lname  # instance var\n",
    "\n",
    "dinesh = EdurekaUser(\"Dinesh\", 'sharma')\n",
    "ramesh = EdurekaUser(\"ramesh\", 'singh')\n",
    "print(dinesh.first_name)\n",
    "print(ramesh.first_name)\n",
    "\n",
    "# class variable would be same for all the objects\n",
    "print(\"class variable\")\n",
    "print(dinesh.course)\n",
    "print(ramesh.course)\n",
    "print(EdurekaUser.course) \n",
    "\n",
    "EdurekaUser.course = \"Django\"\n",
    "print(\"Modified value\")\n",
    "print(dinesh.course)\n",
    "print(ramesh.course)\n",
    "print(EdurekaUser.course) \n"
   ]
  },
  {
   "cell_type": "code",
   "execution_count": null,
   "metadata": {},
   "outputs": [],
   "source": []
  }
 ],
 "metadata": {
  "kernelspec": {
   "display_name": "Python 3",
   "language": "python",
   "name": "python3"
  },
  "language_info": {
   "codemirror_mode": {
    "name": "ipython",
    "version": 3
   },
   "file_extension": ".py",
   "mimetype": "text/x-python",
   "name": "python",
   "nbconvert_exporter": "python",
   "pygments_lexer": "ipython3",
   "version": "3.6.4"
  }
 },
 "nbformat": 4,
 "nbformat_minor": 2
}
