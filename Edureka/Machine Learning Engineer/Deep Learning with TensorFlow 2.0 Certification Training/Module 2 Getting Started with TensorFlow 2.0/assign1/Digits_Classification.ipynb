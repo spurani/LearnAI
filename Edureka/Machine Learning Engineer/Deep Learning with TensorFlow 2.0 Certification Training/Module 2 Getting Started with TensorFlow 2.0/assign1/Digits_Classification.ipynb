{
 "cells": [
  {
   "cell_type": "code",
   "execution_count": 1,
   "metadata": {},
   "outputs": [
    {
     "name": "stderr",
     "output_type": "stream",
     "text": [
      "C:\\Users\\SP.000\\Anaconda3\\lib\\site-packages\\tensorflow\\python\\framework\\dtypes.py:526: FutureWarning: Passing (type, 1) or '1type' as a synonym of type is deprecated; in a future version of numpy, it will be understood as (type, (1,)) / '(1,)type'.\n",
      "  _np_qint8 = np.dtype([(\"qint8\", np.int8, 1)])\n",
      "C:\\Users\\SP.000\\Anaconda3\\lib\\site-packages\\tensorflow\\python\\framework\\dtypes.py:527: FutureWarning: Passing (type, 1) or '1type' as a synonym of type is deprecated; in a future version of numpy, it will be understood as (type, (1,)) / '(1,)type'.\n",
      "  _np_quint8 = np.dtype([(\"quint8\", np.uint8, 1)])\n",
      "C:\\Users\\SP.000\\Anaconda3\\lib\\site-packages\\tensorflow\\python\\framework\\dtypes.py:528: FutureWarning: Passing (type, 1) or '1type' as a synonym of type is deprecated; in a future version of numpy, it will be understood as (type, (1,)) / '(1,)type'.\n",
      "  _np_qint16 = np.dtype([(\"qint16\", np.int16, 1)])\n",
      "C:\\Users\\SP.000\\Anaconda3\\lib\\site-packages\\tensorflow\\python\\framework\\dtypes.py:529: FutureWarning: Passing (type, 1) or '1type' as a synonym of type is deprecated; in a future version of numpy, it will be understood as (type, (1,)) / '(1,)type'.\n",
      "  _np_quint16 = np.dtype([(\"quint16\", np.uint16, 1)])\n",
      "C:\\Users\\SP.000\\Anaconda3\\lib\\site-packages\\tensorflow\\python\\framework\\dtypes.py:530: FutureWarning: Passing (type, 1) or '1type' as a synonym of type is deprecated; in a future version of numpy, it will be understood as (type, (1,)) / '(1,)type'.\n",
      "  _np_qint32 = np.dtype([(\"qint32\", np.int32, 1)])\n",
      "C:\\Users\\SP.000\\Anaconda3\\lib\\site-packages\\tensorflow\\python\\framework\\dtypes.py:535: FutureWarning: Passing (type, 1) or '1type' as a synonym of type is deprecated; in a future version of numpy, it will be understood as (type, (1,)) / '(1,)type'.\n",
      "  np_resource = np.dtype([(\"resource\", np.ubyte, 1)])\n"
     ]
    }
   ],
   "source": [
    "import tensorflow as tf\n",
    "from tensorflow import keras"
   ]
  },
  {
   "cell_type": "code",
   "execution_count": 2,
   "metadata": {},
   "outputs": [],
   "source": [
    "mnist = keras.datasets.mnist"
   ]
  },
  {
   "cell_type": "code",
   "execution_count": 3,
   "metadata": {},
   "outputs": [],
   "source": [
    "(train_X, train_Y),(test_X,test_Y) = mnist.load_data()"
   ]
  },
  {
   "cell_type": "code",
   "execution_count": 7,
   "metadata": {},
   "outputs": [
    {
     "name": "stdout",
     "output_type": "stream",
     "text": [
      "[[[0 0 0 ... 0 0 0]\n",
      "  [0 0 0 ... 0 0 0]\n",
      "  [0 0 0 ... 0 0 0]\n",
      "  ...\n",
      "  [0 0 0 ... 0 0 0]\n",
      "  [0 0 0 ... 0 0 0]\n",
      "  [0 0 0 ... 0 0 0]]\n",
      "\n",
      " [[0 0 0 ... 0 0 0]\n",
      "  [0 0 0 ... 0 0 0]\n",
      "  [0 0 0 ... 0 0 0]\n",
      "  ...\n",
      "  [0 0 0 ... 0 0 0]\n",
      "  [0 0 0 ... 0 0 0]\n",
      "  [0 0 0 ... 0 0 0]]\n",
      "\n",
      " [[0 0 0 ... 0 0 0]\n",
      "  [0 0 0 ... 0 0 0]\n",
      "  [0 0 0 ... 0 0 0]\n",
      "  ...\n",
      "  [0 0 0 ... 0 0 0]\n",
      "  [0 0 0 ... 0 0 0]\n",
      "  [0 0 0 ... 0 0 0]]\n",
      "\n",
      " ...\n",
      "\n",
      " [[0 0 0 ... 0 0 0]\n",
      "  [0 0 0 ... 0 0 0]\n",
      "  [0 0 0 ... 0 0 0]\n",
      "  ...\n",
      "  [0 0 0 ... 0 0 0]\n",
      "  [0 0 0 ... 0 0 0]\n",
      "  [0 0 0 ... 0 0 0]]\n",
      "\n",
      " [[0 0 0 ... 0 0 0]\n",
      "  [0 0 0 ... 0 0 0]\n",
      "  [0 0 0 ... 0 0 0]\n",
      "  ...\n",
      "  [0 0 0 ... 0 0 0]\n",
      "  [0 0 0 ... 0 0 0]\n",
      "  [0 0 0 ... 0 0 0]]\n",
      "\n",
      " [[0 0 0 ... 0 0 0]\n",
      "  [0 0 0 ... 0 0 0]\n",
      "  [0 0 0 ... 0 0 0]\n",
      "  ...\n",
      "  [0 0 0 ... 0 0 0]\n",
      "  [0 0 0 ... 0 0 0]\n",
      "  [0 0 0 ... 0 0 0]]]\n"
     ]
    }
   ],
   "source": [
    "print(train_X)"
   ]
  },
  {
   "cell_type": "code",
   "execution_count": 8,
   "metadata": {},
   "outputs": [
    {
     "name": "stdout",
     "output_type": "stream",
     "text": [
      "uint8\n"
     ]
    }
   ],
   "source": [
    "print(train_X.dtype)"
   ]
  },
  {
   "cell_type": "code",
   "execution_count": 5,
   "metadata": {},
   "outputs": [
    {
     "name": "stdout",
     "output_type": "stream",
     "text": [
      "[5 0 4 ... 5 6 8]\n"
     ]
    }
   ],
   "source": [
    "print(train_Y)"
   ]
  },
  {
   "cell_type": "code",
   "execution_count": 4,
   "metadata": {},
   "outputs": [
    {
     "name": "stdout",
     "output_type": "stream",
     "text": [
      "(60000, 28, 28)\n",
      "(60000,)\n"
     ]
    }
   ],
   "source": [
    "print(train_X.shape)\n",
    "print(train_Y.shape)"
   ]
  },
  {
   "cell_type": "code",
   "execution_count": 5,
   "metadata": {},
   "outputs": [
    {
     "name": "stdout",
     "output_type": "stream",
     "text": [
      "(10000, 28, 28)\n",
      "(10000,)\n"
     ]
    }
   ],
   "source": [
    "print(test_X.shape)\n",
    "print(test_Y.shape)"
   ]
  },
  {
   "cell_type": "code",
   "execution_count": 6,
   "metadata": {},
   "outputs": [
    {
     "name": "stdout",
     "output_type": "stream",
     "text": [
      "(60000, 28, 28)\n",
      "(10000, 28, 28)\n"
     ]
    }
   ],
   "source": [
    "print(train_X.shape)\n",
    "print(test_X.shape)"
   ]
  },
  {
   "cell_type": "code",
   "execution_count": 7,
   "metadata": {},
   "outputs": [],
   "source": [
    "train_X = train_X.astype('float32')\n",
    "test_X = test_X.astype('float32')"
   ]
  },
  {
   "cell_type": "code",
   "execution_count": 8,
   "metadata": {},
   "outputs": [],
   "source": [
    "train_X = train_X.reshape(60000,784)\n",
    "test_X = test_X.reshape(10000,784)"
   ]
  },
  {
   "cell_type": "code",
   "execution_count": 9,
   "metadata": {},
   "outputs": [
    {
     "name": "stdout",
     "output_type": "stream",
     "text": [
      "60000 train samples\n",
      "10000 test samples\n"
     ]
    }
   ],
   "source": [
    "train_X /= 255\n",
    "test_X /= 255\n",
    "print(train_X.shape[0], 'train samples') \n",
    "print(test_X.shape[0], 'test samples') "
   ]
  },
  {
   "cell_type": "code",
   "execution_count": 10,
   "metadata": {},
   "outputs": [],
   "source": [
    "train_Y = tf.keras.utils.to_categorical(train_Y,10)\n",
    "test_Y = tf.keras.utils.to_categorical(test_Y,10)"
   ]
  },
  {
   "cell_type": "code",
   "execution_count": 11,
   "metadata": {},
   "outputs": [],
   "source": [
    "from tensorflow.keras.layers import Dense\n",
    "from tensorflow.keras import Sequential"
   ]
  },
  {
   "cell_type": "code",
   "execution_count": 12,
   "metadata": {},
   "outputs": [
    {
     "name": "stdout",
     "output_type": "stream",
     "text": [
      "WARNING:tensorflow:From C:\\Users\\SP.000\\Anaconda3\\lib\\site-packages\\tensorflow\\python\\ops\\resource_variable_ops.py:435: colocate_with (from tensorflow.python.framework.ops) is deprecated and will be removed in a future version.\n",
      "Instructions for updating:\n",
      "Colocations handled automatically by placer.\n"
     ]
    }
   ],
   "source": [
    "model = Sequential()\n",
    "model.add(Dense(10,input_shape=(784,),name=\"dense_layer\",activation=\"softmax\"))"
   ]
  },
  {
   "cell_type": "code",
   "execution_count": 13,
   "metadata": {},
   "outputs": [],
   "source": [
    "model.compile(optimizer=\"SGD\",loss=\"categorical_crossentropy\",metrics=[\"accuracy\"])"
   ]
  },
  {
   "cell_type": "code",
   "execution_count": 17,
   "metadata": {},
   "outputs": [
    {
     "name": "stdout",
     "output_type": "stream",
     "text": [
      "Train on 48000 samples, validate on 12000 samples\n",
      "Epoch 1/70\n",
      "48000/48000 [==============================] - 2s 34us/sample - loss: 0.2855 - acc: 0.9207 - val_loss: 0.2809 - val_acc: 0.9218\n",
      "Epoch 2/70\n",
      "48000/48000 [==============================] - 2s 32us/sample - loss: 0.2851 - acc: 0.9207 - val_loss: 0.2803 - val_acc: 0.9219\n",
      "Epoch 3/70\n",
      "48000/48000 [==============================] - 2s 34us/sample - loss: 0.2847 - acc: 0.9207 - val_loss: 0.2803 - val_acc: 0.9217\n",
      "Epoch 4/70\n",
      "48000/48000 [==============================] - 2s 33us/sample - loss: 0.2844 - acc: 0.9211 - val_loss: 0.2800 - val_acc: 0.9218\n",
      "Epoch 5/70\n",
      "48000/48000 [==============================] - 2s 34us/sample - loss: 0.2840 - acc: 0.9210 - val_loss: 0.2799 - val_acc: 0.9222\n",
      "Epoch 6/70\n",
      "48000/48000 [==============================] - 2s 32us/sample - loss: 0.2837 - acc: 0.9217 - val_loss: 0.2795 - val_acc: 0.9223\n",
      "Epoch 7/70\n",
      "48000/48000 [==============================] - 2s 33us/sample - loss: 0.2833 - acc: 0.9217 - val_loss: 0.2793 - val_acc: 0.9226\n",
      "Epoch 8/70\n",
      "48000/48000 [==============================] - 2s 33us/sample - loss: 0.2829 - acc: 0.9213 - val_loss: 0.2794 - val_acc: 0.9229\n",
      "Epoch 9/70\n",
      "48000/48000 [==============================] - 2s 46us/sample - loss: 0.2826 - acc: 0.9213 - val_loss: 0.2789 - val_acc: 0.9224\n",
      "Epoch 10/70\n",
      "48000/48000 [==============================] - 2s 38us/sample - loss: 0.2823 - acc: 0.9218 - val_loss: 0.2787 - val_acc: 0.9227\n",
      "Epoch 11/70\n",
      "48000/48000 [==============================] - 2s 45us/sample - loss: 0.2819 - acc: 0.9218 - val_loss: 0.2788 - val_acc: 0.9233\n",
      "Epoch 12/70\n",
      "48000/48000 [==============================] - 2s 39us/sample - loss: 0.2816 - acc: 0.9216 - val_loss: 0.2783 - val_acc: 0.9227\n",
      "Epoch 13/70\n",
      "48000/48000 [==============================] - 2s 38us/sample - loss: 0.2813 - acc: 0.9220 - val_loss: 0.2785 - val_acc: 0.9218\n",
      "Epoch 14/70\n",
      "48000/48000 [==============================] - 2s 37us/sample - loss: 0.2810 - acc: 0.9218 - val_loss: 0.2778 - val_acc: 0.9228\n",
      "Epoch 15/70\n",
      "48000/48000 [==============================] - 2s 32us/sample - loss: 0.2807 - acc: 0.9220 - val_loss: 0.2776 - val_acc: 0.9222\n",
      "Epoch 16/70\n",
      "48000/48000 [==============================] - 2s 32us/sample - loss: 0.2804 - acc: 0.9219 - val_loss: 0.2777 - val_acc: 0.9231\n",
      "Epoch 17/70\n",
      "48000/48000 [==============================] - 2s 33us/sample - loss: 0.2801 - acc: 0.9222 - val_loss: 0.2773 - val_acc: 0.9222\n",
      "Epoch 18/70\n",
      "48000/48000 [==============================] - 2s 32us/sample - loss: 0.2798 - acc: 0.9221 - val_loss: 0.2772 - val_acc: 0.9227\n",
      "Epoch 19/70\n",
      "48000/48000 [==============================] - 2s 33us/sample - loss: 0.2795 - acc: 0.9223 - val_loss: 0.2769 - val_acc: 0.9230\n",
      "Epoch 20/70\n",
      "48000/48000 [==============================] - 2s 33us/sample - loss: 0.2792 - acc: 0.9222 - val_loss: 0.2769 - val_acc: 0.9225\n",
      "Epoch 21/70\n",
      "48000/48000 [==============================] - 2s 32us/sample - loss: 0.2789 - acc: 0.9223 - val_loss: 0.2766 - val_acc: 0.9230\n",
      "Epoch 22/70\n",
      "48000/48000 [==============================] - 2s 32us/sample - loss: 0.2787 - acc: 0.9227 - val_loss: 0.2764 - val_acc: 0.9230\n",
      "Epoch 23/70\n",
      "48000/48000 [==============================] - 2s 32us/sample - loss: 0.2784 - acc: 0.9227 - val_loss: 0.2764 - val_acc: 0.9230\n",
      "Epoch 24/70\n",
      "48000/48000 [==============================] - 2s 33us/sample - loss: 0.2781 - acc: 0.9227 - val_loss: 0.2762 - val_acc: 0.9233\n",
      "Epoch 25/70\n",
      "48000/48000 [==============================] - 2s 33us/sample - loss: 0.2779 - acc: 0.9224 - val_loss: 0.2759 - val_acc: 0.9227\n",
      "Epoch 26/70\n",
      "48000/48000 [==============================] - 2s 36us/sample - loss: 0.2776 - acc: 0.9227 - val_loss: 0.2759 - val_acc: 0.9229 0s - loss: 0.2831 - ac\n",
      "Epoch 27/70\n",
      "48000/48000 [==============================] - 2s 38us/sample - loss: 0.2774 - acc: 0.9229 - val_loss: 0.2756 - val_acc: 0.9237\n",
      "Epoch 28/70\n",
      "48000/48000 [==============================] - 2s 34us/sample - loss: 0.2771 - acc: 0.9228 - val_loss: 0.2758 - val_acc: 0.9234\n",
      "Epoch 29/70\n",
      "48000/48000 [==============================] - 2s 35us/sample - loss: 0.2769 - acc: 0.9226 - val_loss: 0.2755 - val_acc: 0.9225\n",
      "Epoch 30/70\n",
      "48000/48000 [==============================] - 2s 33us/sample - loss: 0.2766 - acc: 0.9229 - val_loss: 0.2753 - val_acc: 0.9226\n",
      "Epoch 31/70\n",
      "48000/48000 [==============================] - 2s 34us/sample - loss: 0.2764 - acc: 0.9233 - val_loss: 0.2751 - val_acc: 0.9235\n",
      "Epoch 32/70\n",
      "48000/48000 [==============================] - 2s 35us/sample - loss: 0.2761 - acc: 0.9230 - val_loss: 0.2753 - val_acc: 0.9232\n",
      "Epoch 33/70\n",
      "48000/48000 [==============================] - 2s 40us/sample - loss: 0.2759 - acc: 0.9227 - val_loss: 0.2749 - val_acc: 0.9233\n",
      "Epoch 34/70\n",
      "48000/48000 [==============================] - 2s 33us/sample - loss: 0.2757 - acc: 0.9234 - val_loss: 0.2748 - val_acc: 0.9238\n",
      "Epoch 35/70\n",
      "48000/48000 [==============================] - 1s 30us/sample - loss: 0.2755 - acc: 0.9233 - val_loss: 0.2746 - val_acc: 0.9236\n",
      "Epoch 36/70\n",
      "48000/48000 [==============================] - 1s 31us/sample - loss: 0.2752 - acc: 0.9232 - val_loss: 0.2746 - val_acc: 0.9232\n",
      "Epoch 37/70\n",
      "48000/48000 [==============================] - 1s 31us/sample - loss: 0.2750 - acc: 0.9232 - val_loss: 0.2744 - val_acc: 0.9245\n",
      "Epoch 38/70\n",
      "48000/48000 [==============================] - 2s 32us/sample - loss: 0.2748 - acc: 0.9235 - val_loss: 0.2743 - val_acc: 0.9238\n",
      "Epoch 39/70\n",
      "48000/48000 [==============================] - 2s 32us/sample - loss: 0.2746 - acc: 0.9235 - val_loss: 0.2743 - val_acc: 0.9235\n",
      "Epoch 40/70\n",
      "48000/48000 [==============================] - 2s 32us/sample - loss: 0.2743 - acc: 0.9237 - val_loss: 0.2744 - val_acc: 0.9238\n",
      "Epoch 41/70\n",
      "48000/48000 [==============================] - 2s 32us/sample - loss: 0.2741 - acc: 0.9235 - val_loss: 0.2741 - val_acc: 0.9235\n",
      "Epoch 42/70\n",
      "48000/48000 [==============================] - 2s 32us/sample - loss: 0.2739 - acc: 0.9235 - val_loss: 0.2738 - val_acc: 0.9244\n",
      "Epoch 43/70\n",
      "48000/48000 [==============================] - 2s 32us/sample - loss: 0.2737 - acc: 0.9238 - val_loss: 0.2738 - val_acc: 0.9238\n",
      "Epoch 44/70\n",
      "48000/48000 [==============================] - 2s 32us/sample - loss: 0.2735 - acc: 0.9235 - val_loss: 0.2736 - val_acc: 0.9241\n",
      "Epoch 45/70\n",
      "48000/48000 [==============================] - 2s 37us/sample - loss: 0.2734 - acc: 0.9232 - val_loss: 0.2735 - val_acc: 0.9243\n",
      "Epoch 46/70\n",
      "48000/48000 [==============================] - 2s 35us/sample - loss: 0.2731 - acc: 0.9237 - val_loss: 0.2737 - val_acc: 0.9241\n",
      "Epoch 47/70\n",
      "48000/48000 [==============================] - 2s 32us/sample - loss: 0.2729 - acc: 0.9239 - val_loss: 0.2732 - val_acc: 0.9244\n",
      "Epoch 48/70\n",
      "48000/48000 [==============================] - 2s 32us/sample - loss: 0.2727 - acc: 0.9241 - val_loss: 0.2731 - val_acc: 0.9243\n",
      "Epoch 49/70\n",
      "48000/48000 [==============================] - 2s 32us/sample - loss: 0.2725 - acc: 0.9238 - val_loss: 0.2730 - val_acc: 0.9240\n",
      "Epoch 50/70\n",
      "48000/48000 [==============================] - 2s 32us/sample - loss: 0.2724 - acc: 0.9241 - val_loss: 0.2728 - val_acc: 0.9244\n",
      "Epoch 51/70\n",
      "48000/48000 [==============================] - 2s 32us/sample - loss: 0.2721 - acc: 0.9243 - val_loss: 0.2728 - val_acc: 0.9245\n",
      "Epoch 52/70\n",
      "48000/48000 [==============================] - 2s 32us/sample - loss: 0.2720 - acc: 0.9241 - val_loss: 0.2728 - val_acc: 0.9237\n",
      "Epoch 53/70\n",
      "48000/48000 [==============================] - 2s 31us/sample - loss: 0.2718 - acc: 0.9243 - val_loss: 0.2727 - val_acc: 0.9240\n",
      "Epoch 54/70\n",
      "48000/48000 [==============================] - 2s 31us/sample - loss: 0.2715 - acc: 0.9244 - val_loss: 0.2727 - val_acc: 0.9245\n",
      "Epoch 55/70\n",
      "48000/48000 [==============================] - 1s 31us/sample - loss: 0.2714 - acc: 0.9243 - val_loss: 0.2726 - val_acc: 0.9249\n",
      "Epoch 56/70\n",
      "48000/48000 [==============================] - 2s 31us/sample - loss: 0.2712 - acc: 0.9245 - val_loss: 0.2725 - val_acc: 0.9241\n",
      "Epoch 57/70\n",
      "48000/48000 [==============================] - 2s 35us/sample - loss: 0.2710 - acc: 0.9245 - val_loss: 0.2724 - val_acc: 0.9242\n",
      "Epoch 58/70\n",
      "48000/48000 [==============================] - 1s 31us/sample - loss: 0.2709 - acc: 0.9245 - val_loss: 0.2724 - val_acc: 0.9247\n",
      "Epoch 59/70\n"
     ]
    },
    {
     "name": "stdout",
     "output_type": "stream",
     "text": [
      "48000/48000 [==============================] - 1s 31us/sample - loss: 0.2707 - acc: 0.9246 - val_loss: 0.2721 - val_acc: 0.9248\n",
      "Epoch 60/70\n",
      "48000/48000 [==============================] - 1s 31us/sample - loss: 0.2704 - acc: 0.9244 - val_loss: 0.2724 - val_acc: 0.9243\n",
      "Epoch 61/70\n",
      "48000/48000 [==============================] - 1s 31us/sample - loss: 0.2703 - acc: 0.9245 - val_loss: 0.2719 - val_acc: 0.9247\n",
      "Epoch 62/70\n",
      "48000/48000 [==============================] - 2s 31us/sample - loss: 0.2701 - acc: 0.9249 - val_loss: 0.2722 - val_acc: 0.9257\n",
      "Epoch 63/70\n",
      "48000/48000 [==============================] - 1s 30us/sample - loss: 0.2701 - acc: 0.9249 - val_loss: 0.2717 - val_acc: 0.9247\n",
      "Epoch 64/70\n",
      "48000/48000 [==============================] - 2s 32us/sample - loss: 0.2698 - acc: 0.9246 - val_loss: 0.2718 - val_acc: 0.9246\n",
      "Epoch 65/70\n",
      "48000/48000 [==============================] - 2s 36us/sample - loss: 0.2697 - acc: 0.9249 - val_loss: 0.2717 - val_acc: 0.9247\n",
      "Epoch 66/70\n",
      "48000/48000 [==============================] - 2s 43us/sample - loss: 0.2695 - acc: 0.9247 - val_loss: 0.2715 - val_acc: 0.9247\n",
      "Epoch 67/70\n",
      "48000/48000 [==============================] - 2s 39us/sample - loss: 0.2694 - acc: 0.9251 - val_loss: 0.2715 - val_acc: 0.9250\n",
      "Epoch 68/70\n",
      "48000/48000 [==============================] - 2s 36us/sample - loss: 0.2692 - acc: 0.9253 - val_loss: 0.2714 - val_acc: 0.9250\n",
      "Epoch 69/70\n",
      "48000/48000 [==============================] - 2s 35us/sample - loss: 0.2690 - acc: 0.9251 - val_loss: 0.2717 - val_acc: 0.9253\n",
      "Epoch 70/70\n",
      "48000/48000 [==============================] - 2s 40us/sample - loss: 0.2689 - acc: 0.9248 - val_loss: 0.2714 - val_acc: 0.9248\n"
     ]
    }
   ],
   "source": [
    "training = model.fit(train_X, train_Y, batch_size=64, epochs=70, validation_split=0.2)"
   ]
  },
  {
   "cell_type": "code",
   "execution_count": 16,
   "metadata": {},
   "outputs": [
    {
     "name": "stdout",
     "output_type": "stream",
     "text": [
      "10000/10000 [==============================] - 0s 28us/sample - loss: 0.2826 - acc: 0.9211\n",
      "Test accuracy:  0.9211\n"
     ]
    }
   ],
   "source": [
    "test_loss, test_accu = model.evaluate(test_X,test_Y)\n",
    "print('Test accuracy: ',test_accu)"
   ]
  },
  {
   "cell_type": "code",
   "execution_count": 30,
   "metadata": {},
   "outputs": [
    {
     "name": "stdout",
     "output_type": "stream",
     "text": [
      "_________________________________________________________________\n",
      "Layer (type)                 Output Shape              Param #   \n",
      "=================================================================\n",
      "dense_layer (Dense)          (None, 10)                7850      \n",
      "=================================================================\n",
      "Total params: 7,850\n",
      "Trainable params: 7,850\n",
      "Non-trainable params: 0\n",
      "_________________________________________________________________\n"
     ]
    }
   ],
   "source": [
    "model.summary()"
   ]
  },
  {
   "cell_type": "code",
   "execution_count": 31,
   "metadata": {},
   "outputs": [
    {
     "data": {
      "text/plain": [
       "{'name': 'sequential',\n",
       " 'layers': [{'class_name': 'Dense',\n",
       "   'config': {'name': 'dense_layer',\n",
       "    'trainable': True,\n",
       "    'batch_input_shape': (None, 784),\n",
       "    'dtype': 'float32',\n",
       "    'units': 10,\n",
       "    'activation': 'softmax',\n",
       "    'use_bias': True,\n",
       "    'kernel_initializer': {'class_name': 'GlorotUniform',\n",
       "     'config': {'seed': None, 'dtype': 'float32'}},\n",
       "    'bias_initializer': {'class_name': 'Zeros',\n",
       "     'config': {'dtype': 'float32'}},\n",
       "    'kernel_regularizer': None,\n",
       "    'bias_regularizer': None,\n",
       "    'activity_regularizer': None,\n",
       "    'kernel_constraint': None,\n",
       "    'bias_constraint': None}}]}"
      ]
     },
     "execution_count": 31,
     "metadata": {},
     "output_type": "execute_result"
    }
   ],
   "source": [
    "model.get_config()"
   ]
  },
  {
   "cell_type": "code",
   "execution_count": 33,
   "metadata": {},
   "outputs": [
    {
     "name": "stdout",
     "output_type": "stream",
     "text": [
      "dict_keys(['loss', 'acc', 'val_loss', 'val_acc'])\n"
     ]
    },
    {
     "data": {
      "image/png": "[encoded data removed]",
      "text/plain": [
       "<Figure size 432x288 with 1 Axes>"
      ]
     },
     "metadata": {
      "needs_background": "light"
     },
     "output_type": "display_data"
    },
    {
     "data": {
      "image/png": "[encoded data removed]",
      "text/plain": [
       "<Figure size 432x288 with 1 Axes>"
      ]
     },
     "metadata": {
      "needs_background": "light"
     },
     "output_type": "display_data"
    }
   ],
   "source": [
    "import matplotlib.pyplot as plt\n",
    "%matplotlib inline\n",
    "# list all data in training\n",
    "print(training.history.keys())\n",
    "# summarize training for accuracy\n",
    "plt.plot(training.history['acc'])\n",
    "plt.plot(training.history['val_acc'])\n",
    "plt.title('model accuracy')\n",
    "plt.ylabel('accuracy')\n",
    "plt.xlabel('epoch')\n",
    "plt.legend(['train', 'test'], loc='upper left')\n",
    "plt.show()\n",
    "# summarize traning for loss\n",
    "plt.plot(training.history['loss'])\n",
    "plt.plot(training.history['val_loss'])\n",
    "plt.title('model loss')\n",
    "plt.ylabel('loss')\n",
    "plt.xlabel('epoch')\n",
    "plt.legend(['train', 'test'], loc='upper left')\n",
    "plt.show()"
   ]
  },
  {
   "cell_type": "code",
   "execution_count": 27,
   "metadata": {},
   "outputs": [],
   "source": [
    "model0 = Sequential()\n",
    "N_hidden = 128\n",
    "model0.add(Dense(N_hidden,name='dense_layer', input_shape=(784,),activation='relu'))\n",
    "model0.add(Dense(N_hidden,name=\"dense_layer_0\",activation='relu'))\n",
    "model0.add(Dense(10,name=\"dense_layer_1\",activation='softmax'))"
   ]
  },
  {
   "cell_type": "code",
   "execution_count": 28,
   "metadata": {},
   "outputs": [
    {
     "name": "stdout",
     "output_type": "stream",
     "text": [
      "Train on 48000 samples, validate on 12000 samples\n",
      "Epoch 1/70\n",
      "48000/48000 [==============================] - 4s 82us/sample - loss: 1.5082 - acc: 0.6133 - val_loss: 0.7775 - val_acc: 0.8323\n",
      "Epoch 2/70\n",
      "48000/48000 [==============================] - 3s 52us/sample - loss: 0.6085 - acc: 0.8505 - val_loss: 0.4575 - val_acc: 0.8832\n",
      "Epoch 3/70\n",
      "48000/48000 [==============================] - 3s 53us/sample - loss: 0.4380 - acc: 0.8814 - val_loss: 0.3738 - val_acc: 0.8996\n",
      "Epoch 4/70\n",
      "48000/48000 [==============================] - 2s 49us/sample - loss: 0.3765 - acc: 0.8949 - val_loss: 0.3344 - val_acc: 0.9061\n",
      "Epoch 5/70\n",
      "48000/48000 [==============================] - 2s 48us/sample - loss: 0.3425 - acc: 0.9032 - val_loss: 0.3105 - val_acc: 0.9106\n",
      "Epoch 6/70\n",
      "48000/48000 [==============================] - 2s 49us/sample - loss: 0.3193 - acc: 0.9093 - val_loss: 0.2943 - val_acc: 0.9149\n",
      "Epoch 7/70\n",
      "48000/48000 [==============================] - 4s 74us/sample - loss: 0.3017 - acc: 0.9135 - val_loss: 0.2790 - val_acc: 0.9198\n",
      "Epoch 8/70\n",
      "48000/48000 [==============================] - 3s 69us/sample - loss: 0.2871 - acc: 0.9178 - val_loss: 0.2675 - val_acc: 0.9226\n",
      "Epoch 9/70\n",
      "48000/48000 [==============================] - 3s 57us/sample - loss: 0.2744 - acc: 0.9214 - val_loss: 0.2573 - val_acc: 0.9260\n",
      "Epoch 10/70\n",
      "48000/48000 [==============================] - 2s 45us/sample - loss: 0.2632 - acc: 0.9246 - val_loss: 0.2481 - val_acc: 0.9299\n",
      "Epoch 11/70\n",
      "48000/48000 [==============================] - 2s 40us/sample - loss: 0.2531 - acc: 0.9279 - val_loss: 0.2403 - val_acc: 0.9322\n",
      "Epoch 12/70\n",
      "48000/48000 [==============================] - 2s 39us/sample - loss: 0.2440 - acc: 0.9311 - val_loss: 0.2325 - val_acc: 0.9342\n",
      "Epoch 13/70\n",
      "48000/48000 [==============================] - 2s 38us/sample - loss: 0.2353 - acc: 0.9333 - val_loss: 0.2249 - val_acc: 0.9372\n",
      "Epoch 14/70\n",
      "48000/48000 [==============================] - 2s 39us/sample - loss: 0.2274 - acc: 0.9352 - val_loss: 0.2203 - val_acc: 0.9394\n",
      "Epoch 15/70\n",
      "48000/48000 [==============================] - 2s 38us/sample - loss: 0.2201 - acc: 0.9375 - val_loss: 0.2126 - val_acc: 0.9421\n",
      "Epoch 16/70\n",
      "48000/48000 [==============================] - 2s 39us/sample - loss: 0.2128 - acc: 0.9396 - val_loss: 0.2070 - val_acc: 0.9438\n",
      "Epoch 17/70\n",
      "48000/48000 [==============================] - 2s 40us/sample - loss: 0.2064 - acc: 0.9411 - val_loss: 0.2022 - val_acc: 0.9445\n",
      "Epoch 18/70\n",
      "48000/48000 [==============================] - 2s 39us/sample - loss: 0.2003 - acc: 0.9432 - val_loss: 0.1969 - val_acc: 0.9457\n",
      "Epoch 19/70\n",
      "48000/48000 [==============================] - 2s 39us/sample - loss: 0.1944 - acc: 0.9442 - val_loss: 0.1923 - val_acc: 0.9476\n",
      "Epoch 20/70\n",
      "48000/48000 [==============================] - 2s 42us/sample - loss: 0.1889 - acc: 0.9462 - val_loss: 0.1888 - val_acc: 0.9478\n",
      "Epoch 21/70\n",
      "48000/48000 [==============================] - 2s 42us/sample - loss: 0.1836 - acc: 0.9477 - val_loss: 0.1860 - val_acc: 0.9482\n",
      "Epoch 22/70\n",
      "48000/48000 [==============================] - 2s 43us/sample - loss: 0.1788 - acc: 0.9492 - val_loss: 0.1811 - val_acc: 0.9507\n",
      "Epoch 23/70\n",
      "48000/48000 [==============================] - 2s 40us/sample - loss: 0.1740 - acc: 0.9499 - val_loss: 0.1768 - val_acc: 0.9516\n",
      "Epoch 24/70\n",
      "48000/48000 [==============================] - 2s 41us/sample - loss: 0.1693 - acc: 0.9517 - val_loss: 0.1735 - val_acc: 0.9527\n",
      "Epoch 25/70\n",
      "48000/48000 [==============================] - 2s 43us/sample - loss: 0.1651 - acc: 0.9525 - val_loss: 0.1704 - val_acc: 0.9527\n",
      "Epoch 26/70\n",
      "48000/48000 [==============================] - 2s 41us/sample - loss: 0.1611 - acc: 0.9540 - val_loss: 0.1682 - val_acc: 0.9529\n",
      "Epoch 27/70\n",
      "48000/48000 [==============================] - 2s 42us/sample - loss: 0.1572 - acc: 0.9551 - val_loss: 0.1643 - val_acc: 0.9538\n",
      "Epoch 28/70\n",
      "48000/48000 [==============================] - 2s 40us/sample - loss: 0.1536 - acc: 0.9562 - val_loss: 0.1615 - val_acc: 0.9541\n",
      "Epoch 29/70\n",
      "48000/48000 [==============================] - 2s 39us/sample - loss: 0.1499 - acc: 0.9568 - val_loss: 0.1587 - val_acc: 0.9547\n",
      "Epoch 30/70\n",
      "48000/48000 [==============================] - 2s 39us/sample - loss: 0.1464 - acc: 0.9580 - val_loss: 0.1562 - val_acc: 0.9541\n",
      "Epoch 31/70\n",
      "48000/48000 [==============================] - 2s 41us/sample - loss: 0.1432 - acc: 0.9591 - val_loss: 0.1542 - val_acc: 0.9553\n",
      "Epoch 32/70\n",
      "48000/48000 [==============================] - 2s 42us/sample - loss: 0.1399 - acc: 0.9599 - val_loss: 0.1523 - val_acc: 0.9558\n",
      "Epoch 33/70\n",
      "48000/48000 [==============================] - 2s 43us/sample - loss: 0.1371 - acc: 0.9607 - val_loss: 0.1496 - val_acc: 0.9568\n",
      "Epoch 34/70\n",
      "48000/48000 [==============================] - 2s 41us/sample - loss: 0.1342 - acc: 0.9615 - val_loss: 0.1476 - val_acc: 0.9571\n",
      "Epoch 35/70\n",
      "48000/48000 [==============================] - 2s 41us/sample - loss: 0.1313 - acc: 0.9624 - val_loss: 0.1464 - val_acc: 0.9588\n",
      "Epoch 36/70\n",
      "48000/48000 [==============================] - 2s 41us/sample - loss: 0.1285 - acc: 0.9630 - val_loss: 0.1447 - val_acc: 0.9588\n",
      "Epoch 37/70\n",
      "48000/48000 [==============================] - 2s 42us/sample - loss: 0.1258 - acc: 0.9636 - val_loss: 0.1424 - val_acc: 0.9597\n",
      "Epoch 38/70\n",
      "48000/48000 [==============================] - 2s 41us/sample - loss: 0.1236 - acc: 0.9649 - val_loss: 0.1406 - val_acc: 0.9595\n",
      "Epoch 39/70\n",
      "48000/48000 [==============================] - 2s 40us/sample - loss: 0.1209 - acc: 0.9656 - val_loss: 0.1388 - val_acc: 0.9596\n",
      "Epoch 40/70\n",
      "48000/48000 [==============================] - 2s 41us/sample - loss: 0.1186 - acc: 0.9665 - val_loss: 0.1378 - val_acc: 0.9604\n",
      "Epoch 41/70\n",
      "48000/48000 [==============================] - 2s 43us/sample - loss: 0.1163 - acc: 0.9673 - val_loss: 0.1359 - val_acc: 0.9606\n",
      "Epoch 42/70\n",
      "48000/48000 [==============================] - 2s 42us/sample - loss: 0.1142 - acc: 0.9674 - val_loss: 0.1340 - val_acc: 0.9612\n",
      "Epoch 43/70\n",
      "48000/48000 [==============================] - 2s 40us/sample - loss: 0.1121 - acc: 0.9683 - val_loss: 0.1339 - val_acc: 0.9620\n",
      "Epoch 44/70\n",
      "48000/48000 [==============================] - 2s 40us/sample - loss: 0.1100 - acc: 0.9685 - val_loss: 0.1315 - val_acc: 0.9622\n",
      "Epoch 45/70\n",
      "48000/48000 [==============================] - 2s 40us/sample - loss: 0.1080 - acc: 0.9691 - val_loss: 0.1303 - val_acc: 0.9632\n",
      "Epoch 46/70\n",
      "48000/48000 [==============================] - 2s 42us/sample - loss: 0.1063 - acc: 0.9697 - val_loss: 0.1285 - val_acc: 0.9627\n",
      "Epoch 47/70\n",
      "48000/48000 [==============================] - 2s 40us/sample - loss: 0.1043 - acc: 0.9708 - val_loss: 0.1279 - val_acc: 0.9638\n",
      "Epoch 48/70\n",
      "48000/48000 [==============================] - 2s 41us/sample - loss: 0.1025 - acc: 0.9712 - val_loss: 0.1263 - val_acc: 0.9643\n",
      "Epoch 49/70\n",
      "48000/48000 [==============================] - 2s 41us/sample - loss: 0.1008 - acc: 0.9719 - val_loss: 0.1250 - val_acc: 0.9643\n",
      "Epoch 50/70\n",
      "48000/48000 [==============================] - 2s 44us/sample - loss: 0.0990 - acc: 0.9722 - val_loss: 0.1239 - val_acc: 0.9647\n",
      "Epoch 51/70\n",
      "48000/48000 [==============================] - 2s 42us/sample - loss: 0.0973 - acc: 0.9729 - val_loss: 0.1231 - val_acc: 0.9646\n",
      "Epoch 52/70\n",
      "48000/48000 [==============================] - 2s 42us/sample - loss: 0.0958 - acc: 0.9732 - val_loss: 0.1227 - val_acc: 0.9655\n",
      "Epoch 53/70\n",
      "48000/48000 [==============================] - 2s 42us/sample - loss: 0.0941 - acc: 0.9733 - val_loss: 0.1214 - val_acc: 0.9647\n",
      "Epoch 54/70\n",
      "48000/48000 [==============================] - 2s 44us/sample - loss: 0.0925 - acc: 0.9745 - val_loss: 0.1205 - val_acc: 0.9653\n",
      "Epoch 55/70\n",
      "48000/48000 [==============================] - 2s 44us/sample - loss: 0.0911 - acc: 0.9747 - val_loss: 0.1204 - val_acc: 0.9647\n",
      "Epoch 56/70\n",
      "48000/48000 [==============================] - 2s 44us/sample - loss: 0.0897 - acc: 0.9746 - val_loss: 0.1189 - val_acc: 0.9653\n",
      "Epoch 57/70\n",
      "48000/48000 [==============================] - 2s 44us/sample - loss: 0.0884 - acc: 0.9754 - val_loss: 0.1175 - val_acc: 0.9653\n",
      "Epoch 58/70\n",
      "48000/48000 [==============================] - 2s 45us/sample - loss: 0.0869 - acc: 0.9758 - val_loss: 0.1169 - val_acc: 0.9659\n",
      "Epoch 59/70\n",
      "48000/48000 [==============================] - 2s 41us/sample - loss: 0.0856 - acc: 0.9761 - val_loss: 0.1157 - val_acc: 0.9665\n",
      "Epoch 60/70\n",
      "48000/48000 [==============================] - 2s 42us/sample - loss: 0.0842 - acc: 0.9765 - val_loss: 0.1157 - val_acc: 0.9661\n",
      "Epoch 61/70\n",
      "48000/48000 [==============================] - 2s 43us/sample - loss: 0.0831 - acc: 0.9769 - val_loss: 0.1153 - val_acc: 0.9665\n",
      "Epoch 62/70\n",
      "48000/48000 [==============================] - 2s 43us/sample - loss: 0.0818 - acc: 0.9772 - val_loss: 0.1132 - val_acc: 0.9663\n",
      "Epoch 63/70\n",
      "48000/48000 [==============================] - 2s 43us/sample - loss: 0.0805 - acc: 0.9778 - val_loss: 0.1145 - val_acc: 0.9672\n",
      "Epoch 64/70\n",
      "48000/48000 [==============================] - 2s 44us/sample - loss: 0.0792 - acc: 0.9784 - val_loss: 0.1126 - val_acc: 0.9668\n",
      "Epoch 65/70\n",
      "48000/48000 [==============================] - 2s 43us/sample - loss: 0.0781 - acc: 0.9785 - val_loss: 0.1120 - val_acc: 0.9669\n",
      "Epoch 66/70\n",
      "48000/48000 [==============================] - 2s 43us/sample - loss: 0.0770 - acc: 0.9783 - val_loss: 0.1109 - val_acc: 0.9670\n",
      "Epoch 67/70\n",
      "48000/48000 [==============================] - 2s 42us/sample - loss: 0.0758 - acc: 0.9790 - val_loss: 0.1103 - val_acc: 0.9679\n",
      "Epoch 68/70\n",
      "48000/48000 [==============================] - 2s 42us/sample - loss: 0.0746 - acc: 0.9793 - val_loss: 0.1111 - val_acc: 0.9676\n",
      "Epoch 69/70\n",
      "48000/48000 [==============================] - 2s 42us/sample - loss: 0.0736 - acc: 0.9797 - val_loss: 0.1098 - val_acc: 0.9678\n",
      "Epoch 70/70\n",
      "48000/48000 [==============================] - 2s 43us/sample - loss: 0.0726 - acc: 0.9801 - val_loss: 0.1089 - val_acc: 0.9678\n"
     ]
    }
   ],
   "source": [
    "model0.compile(optimizer=\"SGD\",loss=\"categorical_crossentropy\",metrics=[\"accuracy\"])\n",
    "training = model0.fit(train_X,train_Y,batch_size=128,epochs=70,validation_split=0.2)"
   ]
  },
  {
   "cell_type": "code",
   "execution_count": 36,
   "metadata": {},
   "outputs": [
    {
     "name": "stdout",
     "output_type": "stream",
     "text": [
      "dict_keys(['loss', 'acc', 'val_loss', 'val_acc'])\n"
     ]
    },
    {
     "data": {
      "image/png": "[encoded data removed]",
      "text/plain": [
       "<Figure size 432x288 with 1 Axes>"
      ]
     },
     "metadata": {
      "needs_background": "light"
     },
     "output_type": "display_data"
    },
    {
     "data": {
      "image/png": "[encoded data removed]",
      "text/plain": [
       "<Figure size 432x288 with 1 Axes>"
      ]
     },
     "metadata": {
      "needs_background": "light"
     },
     "output_type": "display_data"
    }
   ],
   "source": [
    "import matplotlib.pyplot as plt\n",
    "%matplotlib inline\n",
    "# list all data in training\n",
    "print(training.history.keys())\n",
    "# summarize training for accuracy\n",
    "plt.plot(training.history['acc'])\n",
    "plt.plot(training.history['val_acc'])\n",
    "plt.title('model accuracy')\n",
    "plt.ylabel('accuracy')\n",
    "plt.xlabel('epoch')\n",
    "plt.legend(['train', 'test'], loc='upper left')\n",
    "plt.show()\n",
    "# summarize traning for loss\n",
    "plt.plot(training.history['loss'])\n",
    "plt.plot(training.history['val_loss'])\n",
    "plt.title('model loss')\n",
    "plt.ylabel('loss')\n",
    "plt.xlabel('epoch')\n",
    "plt.legend(['train', 'test'], loc='upper left')\n",
    "plt.show()"
   ]
  },
  {
   "cell_type": "code",
   "execution_count": 37,
   "metadata": {},
   "outputs": [
    {
     "name": "stdout",
     "output_type": "stream",
     "text": [
      "_________________________________________________________________\n",
      "Layer (type)                 Output Shape              Param #   \n",
      "=================================================================\n",
      "dense_layer (Dense)          (None, 128)               100480    \n",
      "_________________________________________________________________\n",
      "dense_layer_0 (Dense)        (None, 128)               16512     \n",
      "_________________________________________________________________\n",
      "dense_layer_1 (Dense)        (None, 10)                1290      \n",
      "=================================================================\n",
      "Total params: 118,282\n",
      "Trainable params: 118,282\n",
      "Non-trainable params: 0\n",
      "_________________________________________________________________\n"
     ]
    }
   ],
   "source": [
    "model0.summary()"
   ]
  },
  {
   "cell_type": "code",
   "execution_count": 38,
   "metadata": {},
   "outputs": [
    {
     "data": {
      "text/plain": [
       "{'name': 'sequential_2',\n",
       " 'layers': [{'class_name': 'Dense',\n",
       "   'config': {'name': 'dense_layer',\n",
       "    'trainable': True,\n",
       "    'batch_input_shape': (None, 784),\n",
       "    'dtype': 'float32',\n",
       "    'units': 128,\n",
       "    'activation': 'relu',\n",
       "    'use_bias': True,\n",
       "    'kernel_initializer': {'class_name': 'GlorotUniform',\n",
       "     'config': {'seed': None, 'dtype': 'float32'}},\n",
       "    'bias_initializer': {'class_name': 'Zeros',\n",
       "     'config': {'dtype': 'float32'}},\n",
       "    'kernel_regularizer': None,\n",
       "    'bias_regularizer': None,\n",
       "    'activity_regularizer': None,\n",
       "    'kernel_constraint': None,\n",
       "    'bias_constraint': None}},\n",
       "  {'class_name': 'Dense',\n",
       "   'config': {'name': 'dense_layer_0',\n",
       "    'trainable': True,\n",
       "    'dtype': 'float32',\n",
       "    'units': 128,\n",
       "    'activation': 'relu',\n",
       "    'use_bias': True,\n",
       "    'kernel_initializer': {'class_name': 'GlorotUniform',\n",
       "     'config': {'seed': None, 'dtype': 'float32'}},\n",
       "    'bias_initializer': {'class_name': 'Zeros',\n",
       "     'config': {'dtype': 'float32'}},\n",
       "    'kernel_regularizer': None,\n",
       "    'bias_regularizer': None,\n",
       "    'activity_regularizer': None,\n",
       "    'kernel_constraint': None,\n",
       "    'bias_constraint': None}},\n",
       "  {'class_name': 'Dense',\n",
       "   'config': {'name': 'dense_layer_1',\n",
       "    'trainable': True,\n",
       "    'dtype': 'float32',\n",
       "    'units': 10,\n",
       "    'activation': 'softmax',\n",
       "    'use_bias': True,\n",
       "    'kernel_initializer': {'class_name': 'GlorotUniform',\n",
       "     'config': {'seed': None, 'dtype': 'float32'}},\n",
       "    'bias_initializer': {'class_name': 'Zeros',\n",
       "     'config': {'dtype': 'float32'}},\n",
       "    'kernel_regularizer': None,\n",
       "    'bias_regularizer': None,\n",
       "    'activity_regularizer': None,\n",
       "    'kernel_constraint': None,\n",
       "    'bias_constraint': None}}]}"
      ]
     },
     "execution_count": 38,
     "metadata": {},
     "output_type": "execute_result"
    }
   ],
   "source": [
    "model0.get_config()"
   ]
  },
  {
   "cell_type": "code",
   "execution_count": null,
   "metadata": {},
   "outputs": [],
   "source": [
    "test_loss, test_accu = model0.evaluate(test_X,test_Y)\n",
    "print('Test accuracy: ',test_accu)"
   ]
  },
  {
   "cell_type": "code",
   "execution_count": 39,
   "metadata": {},
   "outputs": [
    {
     "name": "stdout",
     "output_type": "stream",
     "text": [
      "Train on 48000 samples, validate on 12000 samples\n",
      "Epoch 1/70\n",
      "48000/48000 [==============================] - 1s 29us/sample - loss: 0.7467 - acc: 0.8190 - val_loss: 0.4102 - val_acc: 0.8959\n",
      "Epoch 2/70\n",
      "48000/48000 [==============================] - 1s 22us/sample - loss: 0.3905 - acc: 0.8970 - val_loss: 0.3351 - val_acc: 0.9099\n",
      "Epoch 3/70\n",
      "48000/48000 [==============================] - 1s 22us/sample - loss: 0.3389 - acc: 0.9074 - val_loss: 0.3081 - val_acc: 0.9158\n",
      "Epoch 4/70\n",
      "48000/48000 [==============================] - 1s 21us/sample - loss: 0.3150 - acc: 0.9139 - val_loss: 0.2945 - val_acc: 0.9197\n",
      "Epoch 5/70\n",
      "48000/48000 [==============================] - 1s 22us/sample - loss: 0.3007 - acc: 0.9168 - val_loss: 0.2841 - val_acc: 0.9218\n",
      "Epoch 6/70\n",
      "48000/48000 [==============================] - 1s 21us/sample - loss: 0.2908 - acc: 0.9191 - val_loss: 0.2783 - val_acc: 0.9233\n",
      "Epoch 7/70\n",
      "48000/48000 [==============================] - 1s 21us/sample - loss: 0.2833 - acc: 0.9205 - val_loss: 0.2748 - val_acc: 0.9225\n",
      "Epoch 8/70\n",
      "48000/48000 [==============================] - 1s 23us/sample - loss: 0.2780 - acc: 0.9223 - val_loss: 0.2690 - val_acc: 0.9271\n",
      "Epoch 9/70\n",
      "48000/48000 [==============================] - 1s 21us/sample - loss: 0.2734 - acc: 0.9236 - val_loss: 0.2694 - val_acc: 0.9260\n",
      "Epoch 10/70\n",
      "48000/48000 [==============================] - 1s 23us/sample - loss: 0.2698 - acc: 0.9242 - val_loss: 0.2657 - val_acc: 0.9274\n",
      "Epoch 11/70\n",
      "48000/48000 [==============================] - 1s 25us/sample - loss: 0.2668 - acc: 0.9255 - val_loss: 0.2671 - val_acc: 0.9258\n",
      "Epoch 12/70\n",
      "48000/48000 [==============================] - 1s 25us/sample - loss: 0.2639 - acc: 0.9262 - val_loss: 0.2647 - val_acc: 0.9262\n",
      "Epoch 13/70\n",
      "48000/48000 [==============================] - 1s 23us/sample - loss: 0.2616 - acc: 0.9268 - val_loss: 0.2628 - val_acc: 0.9273\n",
      "Epoch 14/70\n",
      "48000/48000 [==============================] - 1s 24us/sample - loss: 0.2593 - acc: 0.9281 - val_loss: 0.2612 - val_acc: 0.9289\n",
      "Epoch 15/70\n",
      "48000/48000 [==============================] - 1s 25us/sample - loss: 0.2572 - acc: 0.9280 - val_loss: 0.2609 - val_acc: 0.9293\n",
      "Epoch 16/70\n",
      "48000/48000 [==============================] - 1s 24us/sample - loss: 0.2560 - acc: 0.9279 - val_loss: 0.2614 - val_acc: 0.9302\n",
      "Epoch 17/70\n",
      "48000/48000 [==============================] - 1s 22us/sample - loss: 0.2543 - acc: 0.9285 - val_loss: 0.2604 - val_acc: 0.9300\n",
      "Epoch 18/70\n",
      "48000/48000 [==============================] - 1s 21us/sample - loss: 0.2528 - acc: 0.9291 - val_loss: 0.2592 - val_acc: 0.9298\n",
      "Epoch 19/70\n",
      "48000/48000 [==============================] - 1s 22us/sample - loss: 0.2512 - acc: 0.9304 - val_loss: 0.2603 - val_acc: 0.9288\n",
      "Epoch 20/70\n",
      "48000/48000 [==============================] - 1s 23us/sample - loss: 0.2499 - acc: 0.9303 - val_loss: 0.2594 - val_acc: 0.9306\n",
      "Epoch 21/70\n",
      "48000/48000 [==============================] - 2s 40us/sample - loss: 0.2490 - acc: 0.9299 - val_loss: 0.2595 - val_acc: 0.9294\n",
      "Epoch 22/70\n",
      "48000/48000 [==============================] - 1s 29us/sample - loss: 0.2480 - acc: 0.9306 - val_loss: 0.2588 - val_acc: 0.9305\n",
      "Epoch 23/70\n",
      "48000/48000 [==============================] - 1s 30us/sample - loss: 0.2468 - acc: 0.9307 - val_loss: 0.2584 - val_acc: 0.9308\n",
      "Epoch 24/70\n",
      "48000/48000 [==============================] - 1s 22us/sample - loss: 0.2459 - acc: 0.9315 - val_loss: 0.2606 - val_acc: 0.9297\n",
      "Epoch 25/70\n",
      "48000/48000 [==============================] - 1s 29us/sample - loss: 0.2450 - acc: 0.9318 - val_loss: 0.2631 - val_acc: 0.9284\n",
      "Epoch 26/70\n",
      "48000/48000 [==============================] - 1s 29us/sample - loss: 0.2442 - acc: 0.9317 - val_loss: 0.2573 - val_acc: 0.9305\n",
      "Epoch 27/70\n",
      "48000/48000 [==============================] - 2s 32us/sample - loss: 0.2435 - acc: 0.9323 - val_loss: 0.2590 - val_acc: 0.9306\n",
      "Epoch 28/70\n",
      "48000/48000 [==============================] - 1s 25us/sample - loss: 0.2426 - acc: 0.9325 - val_loss: 0.2592 - val_acc: 0.9317\n",
      "Epoch 29/70\n",
      "48000/48000 [==============================] - 1s 21us/sample - loss: 0.2417 - acc: 0.9325 - val_loss: 0.2582 - val_acc: 0.9311\n",
      "Epoch 30/70\n",
      "48000/48000 [==============================] - 1s 20us/sample - loss: 0.2410 - acc: 0.9322 - val_loss: 0.2600 - val_acc: 0.9314\n",
      "Epoch 31/70\n",
      "48000/48000 [==============================] - 1s 20us/sample - loss: 0.2406 - acc: 0.9332 - val_loss: 0.2590 - val_acc: 0.9311\n",
      "Epoch 32/70\n",
      "48000/48000 [==============================] - 1s 20us/sample - loss: 0.2395 - acc: 0.9337 - val_loss: 0.2609 - val_acc: 0.9296\n",
      "Epoch 33/70\n",
      "48000/48000 [==============================] - 1s 20us/sample - loss: 0.2393 - acc: 0.9335 - val_loss: 0.2606 - val_acc: 0.9301\n",
      "Epoch 34/70\n",
      "48000/48000 [==============================] - 1s 26us/sample - loss: 0.2390 - acc: 0.9327 - val_loss: 0.2589 - val_acc: 0.9297\n",
      "Epoch 35/70\n",
      "48000/48000 [==============================] - 2s 32us/sample - loss: 0.2380 - acc: 0.9341 - val_loss: 0.2604 - val_acc: 0.9299\n",
      "Epoch 36/70\n",
      "48000/48000 [==============================] - 2s 33us/sample - loss: 0.2373 - acc: 0.9344 - val_loss: 0.2591 - val_acc: 0.9302\n",
      "Epoch 37/70\n",
      "48000/48000 [==============================] - 2s 33us/sample - loss: 0.2370 - acc: 0.9342 - val_loss: 0.2598 - val_acc: 0.9315\n",
      "Epoch 38/70\n",
      "48000/48000 [==============================] - 1s 31us/sample - loss: 0.2362 - acc: 0.9346 - val_loss: 0.2600 - val_acc: 0.9306\n",
      "Epoch 39/70\n",
      "48000/48000 [==============================] - 2s 34us/sample - loss: 0.2358 - acc: 0.9349 - val_loss: 0.2597 - val_acc: 0.9308\n",
      "Epoch 40/70\n",
      "48000/48000 [==============================] - 2s 39us/sample - loss: 0.2353 - acc: 0.9339 - val_loss: 0.2599 - val_acc: 0.9309\n",
      "Epoch 41/70\n",
      "48000/48000 [==============================] - 1s 28us/sample - loss: 0.2351 - acc: 0.9350 - val_loss: 0.2630 - val_acc: 0.9306\n",
      "Epoch 42/70\n",
      "48000/48000 [==============================] - 1s 23us/sample - loss: 0.2344 - acc: 0.9348 - val_loss: 0.2587 - val_acc: 0.9318\n",
      "Epoch 43/70\n",
      "48000/48000 [==============================] - 1s 21us/sample - loss: 0.2341 - acc: 0.9348 - val_loss: 0.2616 - val_acc: 0.9311\n",
      "Epoch 44/70\n",
      "48000/48000 [==============================] - 1s 22us/sample - loss: 0.2338 - acc: 0.9345 - val_loss: 0.2604 - val_acc: 0.9312\n",
      "Epoch 45/70\n",
      "48000/48000 [==============================] - ETA: 0s - loss: 0.2337 - acc: 0.935 - 1s 25us/sample - loss: 0.2331 - acc: 0.9354 - val_loss: 0.2610 - val_acc: 0.9312\n",
      "Epoch 46/70\n",
      "48000/48000 [==============================] - 1s 23us/sample - loss: 0.2333 - acc: 0.9354 - val_loss: 0.2614 - val_acc: 0.9307\n",
      "Epoch 47/70\n",
      "48000/48000 [==============================] - 1s 29us/sample - loss: 0.2326 - acc: 0.9358 - val_loss: 0.2626 - val_acc: 0.9299\n",
      "Epoch 48/70\n",
      "48000/48000 [==============================] - 1s 28us/sample - loss: 0.2323 - acc: 0.9350 - val_loss: 0.2624 - val_acc: 0.9297\n",
      "Epoch 49/70\n",
      "48000/48000 [==============================] - 1s 22us/sample - loss: 0.2318 - acc: 0.9353 - val_loss: 0.2628 - val_acc: 0.9319\n",
      "Epoch 50/70\n",
      "48000/48000 [==============================] - 1s 21us/sample - loss: 0.2315 - acc: 0.9355 - val_loss: 0.2624 - val_acc: 0.9302\n",
      "Epoch 51/70\n",
      "48000/48000 [==============================] - 1s 21us/sample - loss: 0.2311 - acc: 0.9358 - val_loss: 0.2636 - val_acc: 0.9298\n",
      "Epoch 52/70\n",
      "48000/48000 [==============================] - 1s 23us/sample - loss: 0.2310 - acc: 0.9352 - val_loss: 0.2623 - val_acc: 0.9312\n",
      "Epoch 53/70\n",
      "48000/48000 [==============================] - 1s 20us/sample - loss: 0.2304 - acc: 0.9361 - val_loss: 0.2626 - val_acc: 0.9306\n",
      "Epoch 54/70\n",
      "48000/48000 [==============================] - 1s 20us/sample - loss: 0.2300 - acc: 0.9363 - val_loss: 0.2619 - val_acc: 0.9308\n",
      "Epoch 55/70\n",
      "48000/48000 [==============================] - 1s 26us/sample - loss: 0.2297 - acc: 0.9357 - val_loss: 0.2632 - val_acc: 0.9301\n",
      "Epoch 56/70\n",
      "48000/48000 [==============================] - 1s 21us/sample - loss: 0.2294 - acc: 0.9364 - val_loss: 0.2641 - val_acc: 0.9306\n",
      "Epoch 57/70\n",
      "48000/48000 [==============================] - 2s 33us/sample - loss: 0.2294 - acc: 0.9364 - val_loss: 0.2646 - val_acc: 0.9311\n",
      "Epoch 58/70\n",
      "48000/48000 [==============================] - 1s 25us/sample - loss: 0.2287 - acc: 0.9357 - val_loss: 0.2627 - val_acc: 0.9316\n"
     ]
    },
    {
     "name": "stdout",
     "output_type": "stream",
     "text": [
      "Epoch 59/70\n",
      "48000/48000 [==============================] - 1s 21us/sample - loss: 0.2286 - acc: 0.9358 - val_loss: 0.2637 - val_acc: 0.9307\n",
      "Epoch 60/70\n",
      "48000/48000 [==============================] - 1s 20us/sample - loss: 0.2284 - acc: 0.9367 - val_loss: 0.2632 - val_acc: 0.9309\n",
      "Epoch 61/70\n",
      "48000/48000 [==============================] - 1s 20us/sample - loss: 0.2286 - acc: 0.9368 - val_loss: 0.2644 - val_acc: 0.9308\n",
      "Epoch 62/70\n",
      "48000/48000 [==============================] - 1s 23us/sample - loss: 0.2278 - acc: 0.9368 - val_loss: 0.2626 - val_acc: 0.9312\n",
      "Epoch 63/70\n",
      "48000/48000 [==============================] - 1s 20us/sample - loss: 0.2275 - acc: 0.9366 - val_loss: 0.2638 - val_acc: 0.9317\n",
      "Epoch 64/70\n",
      "48000/48000 [==============================] - 1s 20us/sample - loss: 0.2275 - acc: 0.9362 - val_loss: 0.2653 - val_acc: 0.9308\n",
      "Epoch 65/70\n",
      "48000/48000 [==============================] - 1s 20us/sample - loss: 0.2271 - acc: 0.9368 - val_loss: 0.2648 - val_acc: 0.9295\n",
      "Epoch 66/70\n",
      "48000/48000 [==============================] - 1s 24us/sample - loss: 0.2266 - acc: 0.9370 - val_loss: 0.2657 - val_acc: 0.9305\n",
      "Epoch 67/70\n",
      "48000/48000 [==============================] - 1s 21us/sample - loss: 0.2268 - acc: 0.9371 - val_loss: 0.2665 - val_acc: 0.9303\n",
      "Epoch 68/70\n",
      "48000/48000 [==============================] - 1s 24us/sample - loss: 0.2268 - acc: 0.9371 - val_loss: 0.2643 - val_acc: 0.9302\n",
      "Epoch 69/70\n",
      "48000/48000 [==============================] - 1s 26us/sample - loss: 0.2261 - acc: 0.9373 - val_loss: 0.2648 - val_acc: 0.9298\n",
      "Epoch 70/70\n",
      "48000/48000 [==============================] - 1s 21us/sample - loss: 0.2260 - acc: 0.9371 - val_loss: 0.2643 - val_acc: 0.9311\n"
     ]
    },
    {
     "data": {
      "text/plain": [
       "<tensorflow.python.keras.callbacks.History at 0x28bad01e390>"
      ]
     },
     "execution_count": 39,
     "metadata": {},
     "output_type": "execute_result"
    }
   ],
   "source": [
    "model1 = Sequential()\n",
    "model1.add(Dense(10,input_shape=(784,),activation=\"softmax\"))\n",
    "model1.compile(optimizer=\"adam\",loss=\"categorical_crossentropy\",metrics=[\"accuracy\"])"
   ]
  },
  {
   "cell_type": "code",
   "execution_count": 43,
   "metadata": {},
   "outputs": [
    {
     "name": "stdout",
     "output_type": "stream",
     "text": [
      "Train on 48000 samples, validate on 12000 samples\n",
      "Epoch 1/70\n",
      "48000/48000 [==============================] - 1s 23us/sample - loss: 0.2257 - acc: 0.9375 - val_loss: 0.2652 - val_acc: 0.9317\n",
      "Epoch 2/70\n",
      "48000/48000 [==============================] - 1s 21us/sample - loss: 0.2255 - acc: 0.9373 - val_loss: 0.2655 - val_acc: 0.9307\n",
      "Epoch 3/70\n",
      "48000/48000 [==============================] - 1s 22us/sample - loss: 0.2253 - acc: 0.9375 - val_loss: 0.2649 - val_acc: 0.9309\n",
      "Epoch 4/70\n",
      "48000/48000 [==============================] - 1s 21us/sample - loss: 0.2250 - acc: 0.9377 - val_loss: 0.2662 - val_acc: 0.9299\n",
      "Epoch 5/70\n",
      "48000/48000 [==============================] - 1s 21us/sample - loss: 0.2244 - acc: 0.9376 - val_loss: 0.2664 - val_acc: 0.9302\n",
      "Epoch 6/70\n",
      "48000/48000 [==============================] - 1s 21us/sample - loss: 0.2246 - acc: 0.9369 - val_loss: 0.2656 - val_acc: 0.9300\n",
      "Epoch 7/70\n",
      "48000/48000 [==============================] - 1s 21us/sample - loss: 0.2244 - acc: 0.9374 - val_loss: 0.2670 - val_acc: 0.9309\n",
      "Epoch 8/70\n",
      "48000/48000 [==============================] - 1s 22us/sample - loss: 0.2242 - acc: 0.9372 - val_loss: 0.2667 - val_acc: 0.9298\n",
      "Epoch 9/70\n",
      "48000/48000 [==============================] - 1s 21us/sample - loss: 0.2240 - acc: 0.9379 - val_loss: 0.2656 - val_acc: 0.9307\n",
      "Epoch 10/70\n",
      "48000/48000 [==============================] - 1s 23us/sample - loss: 0.2238 - acc: 0.9373 - val_loss: 0.2672 - val_acc: 0.9310\n",
      "Epoch 11/70\n",
      "48000/48000 [==============================] - 1s 23us/sample - loss: 0.2237 - acc: 0.9385 - val_loss: 0.2693 - val_acc: 0.9298\n",
      "Epoch 12/70\n",
      "48000/48000 [==============================] - 1s 21us/sample - loss: 0.2236 - acc: 0.9377 - val_loss: 0.2665 - val_acc: 0.9309\n",
      "Epoch 13/70\n",
      "48000/48000 [==============================] - 1s 21us/sample - loss: 0.2234 - acc: 0.9380 - val_loss: 0.2674 - val_acc: 0.9291\n",
      "Epoch 14/70\n",
      "48000/48000 [==============================] - 1s 23us/sample - loss: 0.2233 - acc: 0.9371 - val_loss: 0.2668 - val_acc: 0.9308\n",
      "Epoch 15/70\n",
      "48000/48000 [==============================] - 1s 22us/sample - loss: 0.2229 - acc: 0.9375 - val_loss: 0.2701 - val_acc: 0.9300\n",
      "Epoch 16/70\n",
      "48000/48000 [==============================] - 1s 22us/sample - loss: 0.2226 - acc: 0.9378 - val_loss: 0.2674 - val_acc: 0.9303\n",
      "Epoch 17/70\n",
      "48000/48000 [==============================] - 1s 22us/sample - loss: 0.2227 - acc: 0.9381 - val_loss: 0.2688 - val_acc: 0.9298\n",
      "Epoch 18/70\n",
      "48000/48000 [==============================] - 1s 23us/sample - loss: 0.2226 - acc: 0.9379 - val_loss: 0.2690 - val_acc: 0.9298\n",
      "Epoch 19/70\n",
      "48000/48000 [==============================] - 1s 21us/sample - loss: 0.2219 - acc: 0.9385 - val_loss: 0.2687 - val_acc: 0.9302\n",
      "Epoch 20/70\n",
      "48000/48000 [==============================] - 1s 21us/sample - loss: 0.2219 - acc: 0.9387 - val_loss: 0.2679 - val_acc: 0.9293\n",
      "Epoch 21/70\n",
      "48000/48000 [==============================] - 1s 21us/sample - loss: 0.2219 - acc: 0.9387 - val_loss: 0.2679 - val_acc: 0.9297\n",
      "Epoch 22/70\n",
      "48000/48000 [==============================] - 1s 21us/sample - loss: 0.2216 - acc: 0.9386 - val_loss: 0.2702 - val_acc: 0.9296\n",
      "Epoch 23/70\n",
      "48000/48000 [==============================] - 1s 21us/sample - loss: 0.2218 - acc: 0.9383 - val_loss: 0.2696 - val_acc: 0.9298\n",
      "Epoch 24/70\n",
      "48000/48000 [==============================] - 1s 21us/sample - loss: 0.2215 - acc: 0.9385 - val_loss: 0.2706 - val_acc: 0.9302\n",
      "Epoch 25/70\n",
      "48000/48000 [==============================] - 1s 21us/sample - loss: 0.2213 - acc: 0.9385 - val_loss: 0.2708 - val_acc: 0.9286\n",
      "Epoch 26/70\n",
      "48000/48000 [==============================] - 1s 21us/sample - loss: 0.2211 - acc: 0.9385 - val_loss: 0.2695 - val_acc: 0.9296\n",
      "Epoch 27/70\n",
      "48000/48000 [==============================] - 1s 22us/sample - loss: 0.2211 - acc: 0.9386 - val_loss: 0.2698 - val_acc: 0.9303\n",
      "Epoch 28/70\n",
      "48000/48000 [==============================] - 1s 21us/sample - loss: 0.2210 - acc: 0.9383 - val_loss: 0.2709 - val_acc: 0.9295\n",
      "Epoch 29/70\n",
      "48000/48000 [==============================] - 1s 24us/sample - loss: 0.2209 - acc: 0.9386 - val_loss: 0.2694 - val_acc: 0.9304\n",
      "Epoch 30/70\n",
      "48000/48000 [==============================] - 1s 24us/sample - loss: 0.2207 - acc: 0.9386 - val_loss: 0.2716 - val_acc: 0.9296\n",
      "Epoch 31/70\n",
      "48000/48000 [==============================] - 1s 22us/sample - loss: 0.2206 - acc: 0.9387 - val_loss: 0.2690 - val_acc: 0.9302\n",
      "Epoch 32/70\n",
      "48000/48000 [==============================] - 1s 25us/sample - loss: 0.2202 - acc: 0.9389 - val_loss: 0.2708 - val_acc: 0.9298\n",
      "Epoch 33/70\n",
      "48000/48000 [==============================] - 1s 22us/sample - loss: 0.2199 - acc: 0.9387 - val_loss: 0.2701 - val_acc: 0.9292\n",
      "Epoch 34/70\n",
      "48000/48000 [==============================] - 1s 22us/sample - loss: 0.2202 - acc: 0.9387 - val_loss: 0.2699 - val_acc: 0.9298\n",
      "Epoch 35/70\n",
      "48000/48000 [==============================] - 1s 22us/sample - loss: 0.2197 - acc: 0.9390 - val_loss: 0.2720 - val_acc: 0.9283\n",
      "Epoch 36/70\n",
      "48000/48000 [==============================] - 1s 21us/sample - loss: 0.2196 - acc: 0.9391 - val_loss: 0.2721 - val_acc: 0.9293\n",
      "Epoch 37/70\n",
      "48000/48000 [==============================] - 1s 24us/sample - loss: 0.2198 - acc: 0.9388 - val_loss: 0.2700 - val_acc: 0.9299\n",
      "Epoch 38/70\n",
      "48000/48000 [==============================] - 1s 24us/sample - loss: 0.2194 - acc: 0.9390 - val_loss: 0.2716 - val_acc: 0.9302\n",
      "Epoch 39/70\n",
      "48000/48000 [==============================] - 1s 21us/sample - loss: 0.2192 - acc: 0.9395 - val_loss: 0.2724 - val_acc: 0.9287\n",
      "Epoch 40/70\n",
      "48000/48000 [==============================] - 1s 23us/sample - loss: 0.2193 - acc: 0.9389 - val_loss: 0.2707 - val_acc: 0.9291\n",
      "Epoch 41/70\n",
      "48000/48000 [==============================] - 1s 21us/sample - loss: 0.2188 - acc: 0.9385 - val_loss: 0.2724 - val_acc: 0.9288\n",
      "Epoch 42/70\n",
      "48000/48000 [==============================] - 1s 22us/sample - loss: 0.2193 - acc: 0.9386 - val_loss: 0.2742 - val_acc: 0.9288\n",
      "Epoch 43/70\n",
      "48000/48000 [==============================] - 1s 22us/sample - loss: 0.2193 - acc: 0.9387 - val_loss: 0.2732 - val_acc: 0.9289\n",
      "Epoch 44/70\n",
      "48000/48000 [==============================] - 1s 22us/sample - loss: 0.2191 - acc: 0.9389 - val_loss: 0.2727 - val_acc: 0.9290\n",
      "Epoch 45/70\n",
      "48000/48000 [==============================] - 1s 22us/sample - loss: 0.2190 - acc: 0.9390 - val_loss: 0.2727 - val_acc: 0.9296\n",
      "Epoch 46/70\n",
      "48000/48000 [==============================] - 1s 23us/sample - loss: 0.2190 - acc: 0.9386 - val_loss: 0.2723 - val_acc: 0.9293\n",
      "Epoch 47/70\n",
      "48000/48000 [==============================] - 1s 24us/sample - loss: 0.2186 - acc: 0.9385 - val_loss: 0.2732 - val_acc: 0.9298\n",
      "Epoch 48/70\n",
      "48000/48000 [==============================] - 1s 22us/sample - loss: 0.2181 - acc: 0.9395 - val_loss: 0.2728 - val_acc: 0.9293\n",
      "Epoch 49/70\n",
      "48000/48000 [==============================] - 1s 22us/sample - loss: 0.2182 - acc: 0.9395 - val_loss: 0.2716 - val_acc: 0.9294\n",
      "Epoch 50/70\n",
      "48000/48000 [==============================] - 1s 22us/sample - loss: 0.2181 - acc: 0.9394 - val_loss: 0.2727 - val_acc: 0.9291\n",
      "Epoch 51/70\n",
      "48000/48000 [==============================] - 1s 22us/sample - loss: 0.2183 - acc: 0.9389 - val_loss: 0.2757 - val_acc: 0.9283\n",
      "Epoch 52/70\n",
      "48000/48000 [==============================] - 1s 25us/sample - loss: 0.2180 - acc: 0.9397 - val_loss: 0.2732 - val_acc: 0.9292\n",
      "Epoch 53/70\n",
      "48000/48000 [==============================] - 1s 29us/sample - loss: 0.2180 - acc: 0.9390 - val_loss: 0.2728 - val_acc: 0.9292\n",
      "Epoch 54/70\n",
      "48000/48000 [==============================] - 1s 24us/sample - loss: 0.2178 - acc: 0.9392 - val_loss: 0.2728 - val_acc: 0.9288\n",
      "Epoch 55/70\n",
      "48000/48000 [==============================] - 1s 25us/sample - loss: 0.2175 - acc: 0.9397 - val_loss: 0.2745 - val_acc: 0.9283\n",
      "Epoch 56/70\n",
      "48000/48000 [==============================] - 1s 26us/sample - loss: 0.2173 - acc: 0.9393 - val_loss: 0.2737 - val_acc: 0.9283\n",
      "Epoch 57/70\n",
      "48000/48000 [==============================] - 1s 26us/sample - loss: 0.2175 - acc: 0.9392 - val_loss: 0.2748 - val_acc: 0.9295\n",
      "Epoch 58/70\n",
      "48000/48000 [==============================] - 2s 33us/sample - loss: 0.2175 - acc: 0.9390 - val_loss: 0.2779 - val_acc: 0.9278\n",
      "Epoch 59/70\n",
      "48000/48000 [==============================] - 1s 31us/sample - loss: 0.2171 - acc: 0.9394 - val_loss: 0.2754 - val_acc: 0.9286\n",
      "Epoch 60/70\n",
      "48000/48000 [==============================] - 2s 35us/sample - loss: 0.2170 - acc: 0.9399 - val_loss: 0.2761 - val_acc: 0.9283\n",
      "Epoch 61/70\n",
      "48000/48000 [==============================] - 2s 34us/sample - loss: 0.2170 - acc: 0.9396 - val_loss: 0.2747 - val_acc: 0.9288\n",
      "Epoch 62/70\n",
      "48000/48000 [==============================] - 2s 33us/sample - loss: 0.2169 - acc: 0.9392 - val_loss: 0.2769 - val_acc: 0.9277\n",
      "Epoch 63/70\n",
      "48000/48000 [==============================] - 2s 33us/sample - loss: 0.2171 - acc: 0.9395 - val_loss: 0.2760 - val_acc: 0.9290\n",
      "Epoch 64/70\n",
      "48000/48000 [==============================] - 1s 29us/sample - loss: 0.2167 - acc: 0.9391 - val_loss: 0.2765 - val_acc: 0.9288\n",
      "Epoch 65/70\n",
      "48000/48000 [==============================] - 1s 29us/sample - loss: 0.2169 - acc: 0.9392 - val_loss: 0.2750 - val_acc: 0.9284\n",
      "Epoch 66/70\n",
      "48000/48000 [==============================] - 1s 29us/sample - loss: 0.2166 - acc: 0.9392 - val_loss: 0.2744 - val_acc: 0.9296\n",
      "Epoch 67/70\n",
      "48000/48000 [==============================] - 1s 23us/sample - loss: 0.2165 - acc: 0.9389 - val_loss: 0.2758 - val_acc: 0.9286\n",
      "Epoch 68/70\n",
      "48000/48000 [==============================] - 1s 21us/sample - loss: 0.2161 - acc: 0.9400 - val_loss: 0.2755 - val_acc: 0.9292\n",
      "Epoch 69/70\n",
      "48000/48000 [==============================] - 1s 21us/sample - loss: 0.2161 - acc: 0.9396 - val_loss: 0.2774 - val_acc: 0.9285\n",
      "Epoch 70/70\n",
      "48000/48000 [==============================] - 1s 23us/sample - loss: 0.2160 - acc: 0.9392 - val_loss: 0.2763 - val_acc: 0.9291\n"
     ]
    }
   ],
   "source": [
    "training1 = model1.fit(train_X,train_Y,batch_size=128,epochs=70,validation_split=0.2)"
   ]
  },
  {
   "cell_type": "code",
   "execution_count": 40,
   "metadata": {},
   "outputs": [
    {
     "data": {
      "text/plain": [
       "{'name': 'sequential_3',\n",
       " 'layers': [{'class_name': 'Dense',\n",
       "   'config': {'name': 'dense',\n",
       "    'trainable': True,\n",
       "    'batch_input_shape': (None, 784),\n",
       "    'dtype': 'float32',\n",
       "    'units': 10,\n",
       "    'activation': 'softmax',\n",
       "    'use_bias': True,\n",
       "    'kernel_initializer': {'class_name': 'GlorotUniform',\n",
       "     'config': {'seed': None, 'dtype': 'float32'}},\n",
       "    'bias_initializer': {'class_name': 'Zeros',\n",
       "     'config': {'dtype': 'float32'}},\n",
       "    'kernel_regularizer': None,\n",
       "    'bias_regularizer': None,\n",
       "    'activity_regularizer': None,\n",
       "    'kernel_constraint': None,\n",
       "    'bias_constraint': None}}]}"
      ]
     },
     "execution_count": 40,
     "metadata": {},
     "output_type": "execute_result"
    }
   ],
   "source": [
    "model1.get_config()"
   ]
  },
  {
   "cell_type": "code",
   "execution_count": 41,
   "metadata": {},
   "outputs": [
    {
     "name": "stdout",
     "output_type": "stream",
     "text": [
      "_________________________________________________________________\n",
      "Layer (type)                 Output Shape              Param #   \n",
      "=================================================================\n",
      "dense (Dense)                (None, 10)                7850      \n",
      "=================================================================\n",
      "Total params: 7,850\n",
      "Trainable params: 7,850\n",
      "Non-trainable params: 0\n",
      "_________________________________________________________________\n"
     ]
    }
   ],
   "source": [
    "model1.summary()"
   ]
  },
  {
   "cell_type": "code",
   "execution_count": null,
   "metadata": {},
   "outputs": [],
   "source": [
    "test_loss, test_accu = model1.evaluate(test_X,test_Y)\n",
    "print('Test accuracy: ',test_accu)"
   ]
  },
  {
   "cell_type": "code",
   "execution_count": 55,
   "metadata": {},
   "outputs": [
    {
     "name": "stdout",
     "output_type": "stream",
     "text": [
      "dict_keys(['loss', 'acc', 'val_loss', 'val_acc'])\n"
     ]
    },
    {
     "data": {
      "text/plain": [
       "<matplotlib.legend.Legend at 0x28bad397518>"
      ]
     },
     "execution_count": 55,
     "metadata": {},
     "output_type": "execute_result"
    },
    {
     "data": {
      "image/png": "[encoded data removed]",
      "text/plain": [
       "<Figure size 432x288 with 1 Axes>"
      ]
     },
     "metadata": {
      "needs_background": "light"
     },
     "output_type": "display_data"
    }
   ],
   "source": [
    "from matplotlib import pyplot as plt\n",
    "%matplotlib inline\n",
    "print(training1.history.keys())\n",
    "plt.plot(training1.history[\"acc\"])\n",
    "plt.plot(training1.history[\"val_acc\"])\n",
    "plt.ylabel(\"accuracy\")\n",
    "plt.xlabel(\"epoch\")\n",
    "plt.title(\"model accuracy\")\n",
    "plt.legend([\"train\",\"test\"])"
   ]
  },
  {
   "cell_type": "code",
   "execution_count": 56,
   "metadata": {},
   "outputs": [
    {
     "data": {
      "image/png": "[encoded data removed]",
      "text/plain": [
       "<Figure size 432x288 with 1 Axes>"
      ]
     },
     "metadata": {
      "needs_background": "light"
     },
     "output_type": "display_data"
    }
   ],
   "source": [
    "# summarize traning for loss\n",
    "plt.plot(training1.history['loss'])\n",
    "plt.plot(training1.history['val_loss'])\n",
    "plt.title('model loss')\n",
    "plt.ylabel('loss')\n",
    "plt.xlabel('epoch')\n",
    "plt.legend(['train', 'test'], loc='upper left')\n",
    "plt.show()"
   ]
  },
  {
   "cell_type": "code",
   "execution_count": 12,
   "metadata": {},
   "outputs": [
    {
     "name": "stdout",
     "output_type": "stream",
     "text": [
      "WARNING:tensorflow:From C:\\Users\\SP.000\\Anaconda3\\lib\\site-packages\\tensorflow\\python\\ops\\resource_variable_ops.py:435: colocate_with (from tensorflow.python.framework.ops) is deprecated and will be removed in a future version.\n",
      "Instructions for updating:\n",
      "Colocations handled automatically by placer.\n",
      "Train on 48000 samples, validate on 12000 samples\n",
      "WARNING:tensorflow:From C:\\Users\\SP.000\\Anaconda3\\lib\\site-packages\\tensorflow\\python\\ops\\math_ops.py:3066: to_int32 (from tensorflow.python.ops.math_ops) is deprecated and will be removed in a future version.\n",
      "Instructions for updating:\n",
      "Use tf.cast instead.\n",
      "Epoch 1/70\n",
      "48000/48000 [==============================] - 3s 54us/sample - loss: 0.3520 - acc: 0.9025 - val_loss: 0.1724 - val_acc: 0.9482\n",
      "Epoch 2/70\n",
      "48000/48000 [==============================] - 2s 45us/sample - loss: 0.1424 - acc: 0.9579 - val_loss: 0.1357 - val_acc: 0.9619\n",
      "Epoch 3/70\n",
      "48000/48000 [==============================] - 2s 46us/sample - loss: 0.0980 - acc: 0.9698 - val_loss: 0.1049 - val_acc: 0.9685\n",
      "Epoch 4/70\n",
      "48000/48000 [==============================] - 2s 44us/sample - loss: 0.0728 - acc: 0.9779 - val_loss: 0.1001 - val_acc: 0.9693\n",
      "Epoch 5/70\n",
      "48000/48000 [==============================] - 2s 45us/sample - loss: 0.0565 - acc: 0.9828 - val_loss: 0.0958 - val_acc: 0.9729\n",
      "Epoch 6/70\n",
      "48000/48000 [==============================] - 2s 43us/sample - loss: 0.0439 - acc: 0.9867 - val_loss: 0.0837 - val_acc: 0.9754\n",
      "Epoch 7/70\n",
      "48000/48000 [==============================] - 2s 46us/sample - loss: 0.0366 - acc: 0.9891 - val_loss: 0.0941 - val_acc: 0.9731\n",
      "Epoch 8/70\n",
      "48000/48000 [==============================] - 2s 48us/sample - loss: 0.0287 - acc: 0.9910 - val_loss: 0.0903 - val_acc: 0.9742\n",
      "Epoch 9/70\n",
      "48000/48000 [==============================] - 2s 48us/sample - loss: 0.0242 - acc: 0.9927 - val_loss: 0.0888 - val_acc: 0.9755\n",
      "Epoch 10/70\n",
      "48000/48000 [==============================] - 2s 48us/sample - loss: 0.0185 - acc: 0.9945 - val_loss: 0.0989 - val_acc: 0.9757\n",
      "Epoch 11/70\n",
      "48000/48000 [==============================] - 2s 45us/sample - loss: 0.0182 - acc: 0.9944 - val_loss: 0.0898 - val_acc: 0.9768\n",
      "Epoch 12/70\n",
      "48000/48000 [==============================] - 2s 51us/sample - loss: 0.0157 - acc: 0.9952 - val_loss: 0.0998 - val_acc: 0.9758\n",
      "Epoch 13/70\n",
      "48000/48000 [==============================] - 3s 52us/sample - loss: 0.0138 - acc: 0.9955 - val_loss: 0.0912 - val_acc: 0.9771\n",
      "Epoch 14/70\n",
      "48000/48000 [==============================] - 2s 51us/sample - loss: 0.0096 - acc: 0.9971 - val_loss: 0.0987 - val_acc: 0.9770\n",
      "Epoch 15/70\n",
      "48000/48000 [==============================] - 2s 45us/sample - loss: 0.0119 - acc: 0.9961 - val_loss: 0.1171 - val_acc: 0.9731\n",
      "Epoch 16/70\n",
      "48000/48000 [==============================] - 2s 46us/sample - loss: 0.0070 - acc: 0.9976 - val_loss: 0.1137 - val_acc: 0.9761\n",
      "Epoch 17/70\n",
      "48000/48000 [==============================] - 2s 49us/sample - loss: 0.0118 - acc: 0.9960 - val_loss: 0.1226 - val_acc: 0.9732\n",
      "Epoch 18/70\n",
      "48000/48000 [==============================] - 3s 58us/sample - loss: 0.0106 - acc: 0.9967 - val_loss: 0.1076 - val_acc: 0.9772\n",
      "Epoch 19/70\n",
      "48000/48000 [==============================] - 2s 48us/sample - loss: 0.0059 - acc: 0.9982 - val_loss: 0.1414 - val_acc: 0.9716\n",
      "Epoch 20/70\n",
      "48000/48000 [==============================] - 2s 46us/sample - loss: 0.0099 - acc: 0.9964 - val_loss: 0.1265 - val_acc: 0.9744\n",
      "Epoch 21/70\n",
      "48000/48000 [==============================] - 2s 46us/sample - loss: 0.0043 - acc: 0.9986 - val_loss: 0.1027 - val_acc: 0.9803\n",
      "Epoch 22/70\n",
      "48000/48000 [==============================] - 2s 46us/sample - loss: 8.8031e-04 - acc: 0.9999 - val_loss: 0.1038 - val_acc: 0.9807\n",
      "Epoch 23/70\n",
      "48000/48000 [==============================] - 2s 46us/sample - loss: 6.4500e-04 - acc: 0.9999 - val_loss: 0.1056 - val_acc: 0.9798\n",
      "Epoch 24/70\n",
      "48000/48000 [==============================] - 2s 46us/sample - loss: 4.1374e-04 - acc: 1.0000 - val_loss: 0.1069 - val_acc: 0.9806\n",
      "Epoch 25/70\n",
      "48000/48000 [==============================] - 2s 46us/sample - loss: 5.5237e-04 - acc: 0.9999 - val_loss: 0.1082 - val_acc: 0.9808\n",
      "Epoch 26/70\n",
      "48000/48000 [==============================] - 2s 47us/sample - loss: 0.0220 - acc: 0.9934 - val_loss: 0.1448 - val_acc: 0.9706\n",
      "Epoch 27/70\n",
      "48000/48000 [==============================] - 2s 51us/sample - loss: 0.0157 - acc: 0.9949 - val_loss: 0.1216 - val_acc: 0.9754\n",
      "Epoch 28/70\n",
      "48000/48000 [==============================] - 3s 66us/sample - loss: 0.0046 - acc: 0.9986 - val_loss: 0.1222 - val_acc: 0.9765\n",
      "Epoch 29/70\n",
      "48000/48000 [==============================] - 3s 63us/sample - loss: 0.0017 - acc: 0.9996 - val_loss: 0.1210 - val_acc: 0.9774\n",
      "Epoch 30/70\n",
      "48000/48000 [==============================] - 3s 66us/sample - loss: 0.0065 - acc: 0.9978 - val_loss: 0.1321 - val_acc: 0.9763\n",
      "Epoch 31/70\n",
      "48000/48000 [==============================] - 3s 64us/sample - loss: 0.0060 - acc: 0.9979 - val_loss: 0.1321 - val_acc: 0.9773\n",
      "Epoch 32/70\n",
      "48000/48000 [==============================] - 3s 61us/sample - loss: 0.0068 - acc: 0.9980 - val_loss: 0.1304 - val_acc: 0.9766\n",
      "Epoch 33/70\n",
      "48000/48000 [==============================] - 3s 64us/sample - loss: 0.0043 - acc: 0.9986 - val_loss: 0.1599 - val_acc: 0.9732\n",
      "Epoch 34/70\n",
      "48000/48000 [==============================] - 3s 69us/sample - loss: 0.0049 - acc: 0.9983 - val_loss: 0.1444 - val_acc: 0.9747\n",
      "Epoch 35/70\n",
      "48000/48000 [==============================] - 3s 68us/sample - loss: 0.0039 - acc: 0.9988 - val_loss: 0.1271 - val_acc: 0.9787\n",
      "Epoch 36/70\n",
      "48000/48000 [==============================] - 3s 66us/sample - loss: 0.0084 - acc: 0.9971 - val_loss: 0.1430 - val_acc: 0.9753\n",
      "Epoch 37/70\n",
      "48000/48000 [==============================] - 3s 64us/sample - loss: 0.0066 - acc: 0.9980 - val_loss: 0.1365 - val_acc: 0.9776\n",
      "Epoch 38/70\n",
      "48000/48000 [==============================] - 3s 65us/sample - loss: 0.0037 - acc: 0.9989 - val_loss: 0.1192 - val_acc: 0.9796\n",
      "Epoch 39/70\n",
      "48000/48000 [==============================] - 3s 64us/sample - loss: 0.0042 - acc: 0.9988 - val_loss: 0.1441 - val_acc: 0.9770\n",
      "Epoch 40/70\n",
      "48000/48000 [==============================] - 3s 68us/sample - loss: 0.0058 - acc: 0.9980 - val_loss: 0.1380 - val_acc: 0.9765\n",
      "Epoch 41/70\n",
      "48000/48000 [==============================] - 3s 71us/sample - loss: 0.0089 - acc: 0.9972 - val_loss: 0.1360 - val_acc: 0.9772\n",
      "Epoch 42/70\n",
      "48000/48000 [==============================] - 3s 63us/sample - loss: 8.5171e-04 - acc: 0.9998 - val_loss: 0.1217 - val_acc: 0.9796\n",
      "Epoch 43/70\n",
      "48000/48000 [==============================] - 3s 57us/sample - loss: 1.5182e-04 - acc: 1.0000 - val_loss: 0.1175 - val_acc: 0.9802\n",
      "Epoch 44/70\n",
      "48000/48000 [==============================] - 3s 57us/sample - loss: 6.5298e-05 - acc: 1.0000 - val_loss: 0.1175 - val_acc: 0.9810\n",
      "Epoch 45/70\n",
      "48000/48000 [==============================] - 3s 58us/sample - loss: 4.9608e-05 - acc: 1.0000 - val_loss: 0.1177 - val_acc: 0.9812\n",
      "Epoch 46/70\n",
      "48000/48000 [==============================] - 3s 62us/sample - loss: 4.0563e-05 - acc: 1.0000 - val_loss: 0.1185 - val_acc: 0.9814\n",
      "Epoch 47/70\n",
      "48000/48000 [==============================] - 3s 62us/sample - loss: 3.4374e-05 - acc: 1.0000 - val_loss: 0.1188 - val_acc: 0.9815\n",
      "Epoch 48/70\n",
      "48000/48000 [==============================] - 3s 65us/sample - loss: 2.9155e-05 - acc: 1.0000 - val_loss: 0.1196 - val_acc: 0.9819\n",
      "Epoch 49/70\n",
      "48000/48000 [==============================] - 3s 60us/sample - loss: 2.4793e-05 - acc: 1.0000 - val_loss: 0.1202 - val_acc: 0.9817\n",
      "Epoch 50/70\n",
      "48000/48000 [==============================] - 3s 65us/sample - loss: 2.1454e-05 - acc: 1.0000 - val_loss: 0.1212 - val_acc: 0.9818\n",
      "Epoch 51/70\n",
      "48000/48000 [==============================] - 3s 66us/sample - loss: 1.8310e-05 - acc: 1.0000 - val_loss: 0.1216 - val_acc: 0.9817\n",
      "Epoch 52/70\n",
      "48000/48000 [==============================] - 3s 66us/sample - loss: 1.5997e-05 - acc: 1.0000 - val_loss: 0.1224 - val_acc: 0.9817\n",
      "Epoch 53/70\n",
      "48000/48000 [==============================] - 3s 63us/sample - loss: 1.3665e-05 - acc: 1.0000 - val_loss: 0.1231 - val_acc: 0.9817\n",
      "Epoch 54/70\n",
      "48000/48000 [==============================] - 3s 61us/sample - loss: 1.1720e-05 - acc: 1.0000 - val_loss: 0.1239 - val_acc: 0.9818\n"
     ]
    },
    {
     "name": "stdout",
     "output_type": "stream",
     "text": [
      "Epoch 55/70\n",
      "48000/48000 [==============================] - 2s 51us/sample - loss: 1.0059e-05 - acc: 1.0000 - val_loss: 0.1249 - val_acc: 0.9818\n",
      "Epoch 56/70\n",
      "48000/48000 [==============================] - 2s 51us/sample - loss: 8.6146e-06 - acc: 1.0000 - val_loss: 0.1254 - val_acc: 0.9816\n",
      "Epoch 57/70\n",
      "48000/48000 [==============================] - 3s 57us/sample - loss: 7.4943e-06 - acc: 1.0000 - val_loss: 0.1263 - val_acc: 0.9813\n",
      "Epoch 58/70\n",
      "48000/48000 [==============================] - 3s 55us/sample - loss: 6.4740e-06 - acc: 1.0000 - val_loss: 0.1270 - val_acc: 0.9815\n",
      "Epoch 59/70\n",
      "48000/48000 [==============================] - 2s 52us/sample - loss: 5.4219e-06 - acc: 1.0000 - val_loss: 0.1278 - val_acc: 0.9809\n",
      "Epoch 60/70\n",
      "48000/48000 [==============================] - 2s 51us/sample - loss: 4.7681e-06 - acc: 1.0000 - val_loss: 0.1283 - val_acc: 0.9809\n",
      "Epoch 61/70\n",
      "48000/48000 [==============================] - 3s 53us/sample - loss: 4.0227e-06 - acc: 1.0000 - val_loss: 0.1302 - val_acc: 0.9812\n",
      "Epoch 62/70\n",
      "48000/48000 [==============================] - 2s 50us/sample - loss: 3.5306e-06 - acc: 1.0000 - val_loss: 0.1306 - val_acc: 0.9811\n",
      "Epoch 63/70\n",
      "48000/48000 [==============================] - 3s 52us/sample - loss: 3.0392e-06 - acc: 1.0000 - val_loss: 0.1312 - val_acc: 0.9813\n",
      "Epoch 64/70\n",
      "48000/48000 [==============================] - 2s 51us/sample - loss: 2.5811e-06 - acc: 1.0000 - val_loss: 0.1324 - val_acc: 0.9811\n",
      "Epoch 65/70\n",
      "48000/48000 [==============================] - 2s 50us/sample - loss: 2.2303e-06 - acc: 1.0000 - val_loss: 0.1332 - val_acc: 0.9810\n",
      "Epoch 66/70\n",
      "48000/48000 [==============================] - 2s 51us/sample - loss: 1.8854e-06 - acc: 1.0000 - val_loss: 0.1346 - val_acc: 0.9812\n",
      "Epoch 67/70\n",
      "48000/48000 [==============================] - 2s 51us/sample - loss: 1.7238e-06 - acc: 1.0000 - val_loss: 0.1347 - val_acc: 0.9814\n",
      "Epoch 68/70\n",
      "48000/48000 [==============================] - 2s 50us/sample - loss: 1.3609e-06 - acc: 1.0000 - val_loss: 0.1357 - val_acc: 0.9810\n",
      "Epoch 69/70\n",
      "48000/48000 [==============================] - 3s 53us/sample - loss: 1.1611e-06 - acc: 1.0000 - val_loss: 0.1369 - val_acc: 0.9808\n",
      "Epoch 70/70\n",
      "48000/48000 [==============================] - 2s 51us/sample - loss: 0.0296 - acc: 0.9938 - val_loss: 0.1637 - val_acc: 0.9717\n"
     ]
    }
   ],
   "source": [
    "model2 = Sequential()\n",
    "N_hidden = 128\n",
    "model2.add(Dense(N_hidden,name=\"dense_layer_0\",input_shape=(784,),activation=\"relu\"))\n",
    "model2.add(Dense(N_hidden,name=\"dense_layer_1\",activation=\"relu\"))\n",
    "model2.add(Dense(10,name=\"dense_layer_2\",activation=\"softmax\"))\n",
    "model2.compile(optimizer=\"adam\",loss=\"categorical_crossentropy\",metrics=[\"accuracy\"])\n",
    "training2=model2.fit(train_X,train_Y,batch_size=128,epochs=70,validation_split=0.2)"
   ]
  },
  {
   "cell_type": "code",
   "execution_count": 14,
   "metadata": {},
   "outputs": [
    {
     "name": "stdout",
     "output_type": "stream",
     "text": [
      "10000/10000 [==============================] - 0s 44us/sample - loss: 0.1742 - acc: 0.9696\n",
      "Test accuracy:  0.9696\n"
     ]
    }
   ],
   "source": [
    "test_loss, test_accu = model2.evaluate(test_X,test_Y)\n",
    "print('Test accuracy: ',test_accu)"
   ]
  },
  {
   "cell_type": "code",
   "execution_count": 60,
   "metadata": {},
   "outputs": [
    {
     "name": "stdout",
     "output_type": "stream",
     "text": [
      "dict_keys(['loss', 'acc'])\n"
     ]
    },
    {
     "ename": "KeyError",
     "evalue": "'val_acc'",
     "output_type": "error",
     "traceback": [
      "\u001b[1;31m---------------------------------------------------------------------------\u001b[0m",
      "\u001b[1;31mKeyError\u001b[0m                                  Traceback (most recent call last)",
      "\u001b[1;32m<ipython-input-60-ffcfa178c157>\u001b[0m in \u001b[0;36m<module>\u001b[1;34m\u001b[0m\n\u001b[0;32m      5\u001b[0m \u001b[1;31m# summarize training for accuracy\u001b[0m\u001b[1;33m\u001b[0m\u001b[1;33m\u001b[0m\u001b[0m\n\u001b[0;32m      6\u001b[0m \u001b[0mplt\u001b[0m\u001b[1;33m.\u001b[0m\u001b[0mplot\u001b[0m\u001b[1;33m(\u001b[0m\u001b[0mtraining2\u001b[0m\u001b[1;33m.\u001b[0m\u001b[0mhistory\u001b[0m\u001b[1;33m[\u001b[0m\u001b[1;34m'acc'\u001b[0m\u001b[1;33m]\u001b[0m\u001b[1;33m)\u001b[0m\u001b[1;33m\u001b[0m\u001b[0m\n\u001b[1;32m----> 7\u001b[1;33m \u001b[0mplt\u001b[0m\u001b[1;33m.\u001b[0m\u001b[0mplot\u001b[0m\u001b[1;33m(\u001b[0m\u001b[0mtraining2\u001b[0m\u001b[1;33m.\u001b[0m\u001b[0mhistory\u001b[0m\u001b[1;33m[\u001b[0m\u001b[1;34m'val_acc'\u001b[0m\u001b[1;33m]\u001b[0m\u001b[1;33m)\u001b[0m\u001b[1;33m\u001b[0m\u001b[0m\n\u001b[0m\u001b[0;32m      8\u001b[0m \u001b[0mplt\u001b[0m\u001b[1;33m.\u001b[0m\u001b[0mtitle\u001b[0m\u001b[1;33m(\u001b[0m\u001b[1;34m'model accuracy'\u001b[0m\u001b[1;33m)\u001b[0m\u001b[1;33m\u001b[0m\u001b[0m\n\u001b[0;32m      9\u001b[0m \u001b[0mplt\u001b[0m\u001b[1;33m.\u001b[0m\u001b[0mylabel\u001b[0m\u001b[1;33m(\u001b[0m\u001b[1;34m'accuracy'\u001b[0m\u001b[1;33m)\u001b[0m\u001b[1;33m\u001b[0m\u001b[0m\n",
      "\u001b[1;31mKeyError\u001b[0m: 'val_acc'"
     ]
    },
    {
     "data": {
      "image/png": "[encoded data removed]",
      "text/plain": [
       "<Figure size 432x288 with 1 Axes>"
      ]
     },
     "metadata": {
      "needs_background": "light"
     },
     "output_type": "display_data"
    }
   ],
   "source": [
    "import matplotlib.pyplot as plt\n",
    "%matplotlib inline\n",
    "# list all data in training\n",
    "print(training2.history.keys())\n",
    "# summarize training for accuracy\n",
    "plt.plot(training2.history['acc'])\n",
    "plt.plot(training2.history['val_acc'])\n",
    "plt.title('model accuracy')\n",
    "plt.ylabel('accuracy')\n",
    "plt.xlabel('epoch')\n",
    "plt.legend(['train', 'test'], loc='upper left')\n",
    "plt.show()\n",
    "# summarize traning for loss\n",
    "plt.plot(training2.history['loss'])\n",
    "plt.plot(training2.history['val_loss'])\n",
    "plt.title('model loss')\n",
    "plt.ylabel('loss')\n",
    "plt.xlabel('epoch')\n",
    "plt.legend(['train', 'test'], loc='upper left')\n",
    "plt.show()"
   ]
  },
  {
   "cell_type": "code",
   "execution_count": 61,
   "metadata": {},
   "outputs": [
    {
     "data": {
      "text/plain": [
       "{'name': 'sequential_5',\n",
       " 'layers': [{'class_name': 'Dense',\n",
       "   'config': {'name': 'dense_layer_0',\n",
       "    'trainable': True,\n",
       "    'batch_input_shape': (None, 784),\n",
       "    'dtype': 'float32',\n",
       "    'units': 128,\n",
       "    'activation': 'relu',\n",
       "    'use_bias': True,\n",
       "    'kernel_initializer': {'class_name': 'GlorotUniform',\n",
       "     'config': {'seed': None, 'dtype': 'float32'}},\n",
       "    'bias_initializer': {'class_name': 'Zeros',\n",
       "     'config': {'dtype': 'float32'}},\n",
       "    'kernel_regularizer': None,\n",
       "    'bias_regularizer': None,\n",
       "    'activity_regularizer': None,\n",
       "    'kernel_constraint': None,\n",
       "    'bias_constraint': None}},\n",
       "  {'class_name': 'Dense',\n",
       "   'config': {'name': 'dense_layer_1',\n",
       "    'trainable': True,\n",
       "    'dtype': 'float32',\n",
       "    'units': 128,\n",
       "    'activation': 'relu',\n",
       "    'use_bias': True,\n",
       "    'kernel_initializer': {'class_name': 'GlorotUniform',\n",
       "     'config': {'seed': None, 'dtype': 'float32'}},\n",
       "    'bias_initializer': {'class_name': 'Zeros',\n",
       "     'config': {'dtype': 'float32'}},\n",
       "    'kernel_regularizer': None,\n",
       "    'bias_regularizer': None,\n",
       "    'activity_regularizer': None,\n",
       "    'kernel_constraint': None,\n",
       "    'bias_constraint': None}},\n",
       "  {'class_name': 'Dense',\n",
       "   'config': {'name': 'dense_layer_2',\n",
       "    'trainable': True,\n",
       "    'dtype': 'float32',\n",
       "    'units': 10,\n",
       "    'activation': 'softmax',\n",
       "    'use_bias': True,\n",
       "    'kernel_initializer': {'class_name': 'GlorotUniform',\n",
       "     'config': {'seed': None, 'dtype': 'float32'}},\n",
       "    'bias_initializer': {'class_name': 'Zeros',\n",
       "     'config': {'dtype': 'float32'}},\n",
       "    'kernel_regularizer': None,\n",
       "    'bias_regularizer': None,\n",
       "    'activity_regularizer': None,\n",
       "    'kernel_constraint': None,\n",
       "    'bias_constraint': None}}]}"
      ]
     },
     "execution_count": 61,
     "metadata": {},
     "output_type": "execute_result"
    }
   ],
   "source": [
    "model2.get_config()"
   ]
  },
  {
   "cell_type": "code",
   "execution_count": 62,
   "metadata": {},
   "outputs": [
    {
     "name": "stdout",
     "output_type": "stream",
     "text": [
      "_________________________________________________________________\n",
      "Layer (type)                 Output Shape              Param #   \n",
      "=================================================================\n",
      "dense_layer_0 (Dense)        (None, 128)               100480    \n",
      "_________________________________________________________________\n",
      "dense_layer_1 (Dense)        (None, 128)               16512     \n",
      "_________________________________________________________________\n",
      "dense_layer_2 (Dense)        (None, 10)                1290      \n",
      "=================================================================\n",
      "Total params: 118,282\n",
      "Trainable params: 118,282\n",
      "Non-trainable params: 0\n",
      "_________________________________________________________________\n"
     ]
    }
   ],
   "source": [
    "model2.summary()"
   ]
  },
  {
   "cell_type": "code",
   "execution_count": null,
   "metadata": {},
   "outputs": [],
   "source": [
    "'''Write up a summary explaining how your program works\n",
    "1) Load/Preprocess Dataset(change the datatype, reshape, normalise, to categorical) the MNIST Data\n",
    "2) Define a Sequential Model\n",
    "3) Add layers to the model(Dense) and its hyper parameters such as number of nuerons, input_shape, activation function(Sigmoid, relu, softmax, tanh)\n",
    "4) Compile model with hyperparameters such as optimizer(Adam(Adaptive momemt estimation),SGD(Sochastic Gradient Descent),RSMProp(Adaptive learning rate))\n",
    "5) Fit the model with Hyperparameters such as epochs, batch_size\n",
    "6) Evaluate the model on test data\n",
    "'''"
   ]
  }
 ],
 "metadata": {
  "kernelspec": {
   "display_name": "Python 3",
   "language": "python",
   "name": "python3"
  },
  "language_info": {
   "codemirror_mode": {
    "name": "ipython",
    "version": 3
   },
   "file_extension": ".py",
   "mimetype": "text/x-python",
   "name": "python",
   "nbconvert_exporter": "python",
   "pygments_lexer": "ipython3",
   "version": "3.6.5"
  }
 },
 "nbformat": 4,
 "nbformat_minor": 2
}
