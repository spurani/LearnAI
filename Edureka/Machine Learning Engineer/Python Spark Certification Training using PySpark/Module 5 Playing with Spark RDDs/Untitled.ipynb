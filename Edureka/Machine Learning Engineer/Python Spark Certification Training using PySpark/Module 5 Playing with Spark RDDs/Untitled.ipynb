{
 "cells": [
  {
   "cell_type": "code",
   "execution_count": 1,
   "metadata": {},
   "outputs": [],
   "source": [
    "import pyspark"
   ]
  },
  {
   "cell_type": "code",
   "execution_count": 2,
   "metadata": {},
   "outputs": [],
   "source": [
    "from pyspark import SparkContext\n",
    "sc = SparkContext()"
   ]
  },
  {
   "cell_type": "code",
   "execution_count": 3,
   "metadata": {},
   "outputs": [],
   "source": [
    "from pyspark.sql import SQLContext\n",
    "sqlContext = SQLContext(sc)"
   ]
  },
  {
   "cell_type": "code",
   "execution_count": 4,
   "metadata": {},
   "outputs": [],
   "source": [
    "from pyspark.sql import SparkSession, functions"
   ]
  },
  {
   "cell_type": "code",
   "execution_count": 5,
   "metadata": {},
   "outputs": [],
   "source": [
    "spark = SparkSession.builder.appName('abc').getOrCreate()"
   ]
  },
  {
   "cell_type": "code",
   "execution_count": 6,
   "metadata": {},
   "outputs": [],
   "source": [
    "data = spark.read.csv(\"appleStore_description.csv\",header=True)"
   ]
  },
  {
   "cell_type": "code",
   "execution_count": 7,
   "metadata": {},
   "outputs": [
    {
     "data": {
      "text/plain": [
       "pyspark.sql.dataframe.DataFrame"
      ]
     },
     "execution_count": 7,
     "metadata": {},
     "output_type": "execute_result"
    }
   ],
   "source": [
    "type(data)"
   ]
  },
  {
   "cell_type": "code",
   "execution_count": 63,
   "metadata": {},
   "outputs": [
    {
     "name": "stdout",
     "output_type": "stream",
     "text": [
      "+--------------------+--------------------+--------------------+--------------------+\n",
      "|                  id|          track_name|          size_bytes|            app_desc|\n",
      "+--------------------+--------------------+--------------------+--------------------+\n",
      "|           281656475|     PAC-MAN Premium|           100788224|SAVE 20%, now onl...|\n",
      "|One of the most p...|                null|                null|                null|\n",
      "|2015 World Video ...|                null|                null|                null|\n",
      "|Who can forget th...|                null|                null|                null|\n",
      "|Guide PAC-MAN thr...|    a MFi controller| or kick it old s...|                null|\n",
      "|Eat all of the do...| the leader of th...| and his fellow g...|                Inky|\n",
      "|9 NEW MAZES Inclu...|                null|                null|                null|\n",
      "|The game includes...|                null|                null|                null|\n",
      "|   HINTS and TIPS!!!|                null|                null|                null|\n",
      "|Insider pro-tips ...|                null|                null|                null|\n",
      "|           FEATURES:|                null|                null|                null|\n",
      "|   • New tournaments|                null|                null|                null|\n",
      "|• New Visual Hint...|                null|                null|                null|\n",
      "|• New mazes for a...|                null|                null|                null|\n",
      "|• Play an arcade ...|                null|                null|                null|\n",
      "|• Two different c...|                null|                null|                null|\n",
      "|• Three game diff...|                null|                null|                null|\n",
      "|• Retina display ...|                null|                null|                null|\n",
      "|• MFi controller ...|                null|                null|                null|\n",
      "|           281796108|Evernote - stay o...|           158578688|Let Evernote chan...|\n",
      "+--------------------+--------------------+--------------------+--------------------+\n",
      "only showing top 20 rows\n",
      "\n"
     ]
    }
   ],
   "source": [
    "data.show()"
   ]
  },
  {
   "cell_type": "code",
   "execution_count": 67,
   "metadata": {},
   "outputs": [],
   "source": [
    "df = data.withColumn(\"size_mb\", data['size_bytes'] * 1024)"
   ]
  },
  {
   "cell_type": "code",
   "execution_count": 103,
   "metadata": {
    "scrolled": true
   },
   "outputs": [
    {
     "name": "stdout",
     "output_type": "stream",
     "text": [
      "+--------------------+--------------------+--------------------+--------------------+----------------+\n",
      "|                  id|          track_name|          size_bytes|            app_desc|         size_mb|\n",
      "+--------------------+--------------------+--------------------+--------------------+----------------+\n",
      "|           281656475|     PAC-MAN Premium|           100788224|SAVE 20%, now onl...|1.03207141376E11|\n",
      "|One of the most p...|                null|                null|                null|            null|\n",
      "|2015 World Video ...|                null|                null|                null|            null|\n",
      "|Who can forget th...|                null|                null|                null|            null|\n",
      "|Guide PAC-MAN thr...|    a MFi controller| or kick it old s...|                null|            null|\n",
      "|Eat all of the do...| the leader of th...| and his fellow g...|                Inky|            null|\n",
      "|9 NEW MAZES Inclu...|                null|                null|                null|            null|\n",
      "|The game includes...|                null|                null|                null|            null|\n",
      "|   HINTS and TIPS!!!|                null|                null|                null|            null|\n",
      "|Insider pro-tips ...|                null|                null|                null|            null|\n",
      "|           FEATURES:|                null|                null|                null|            null|\n",
      "|   • New tournaments|                null|                null|                null|            null|\n",
      "|• New Visual Hint...|                null|                null|                null|            null|\n",
      "|• New mazes for a...|                null|                null|                null|            null|\n",
      "|• Play an arcade ...|                null|                null|                null|            null|\n",
      "|• Two different c...|                null|                null|                null|            null|\n",
      "|• Three game diff...|                null|                null|                null|            null|\n",
      "|• Retina display ...|                null|                null|                null|            null|\n",
      "|• MFi controller ...|                null|                null|                null|            null|\n",
      "|           281796108|Evernote - stay o...|           158578688|Let Evernote chan...|1.62384576512E11|\n",
      "+--------------------+--------------------+--------------------+--------------------+----------------+\n",
      "only showing top 20 rows\n",
      "\n"
     ]
    }
   ],
   "source": [
    "df.show()"
   ]
  },
  {
   "cell_type": "code",
   "execution_count": 145,
   "metadata": {},
   "outputs": [
    {
     "name": "stdout",
     "output_type": "stream",
     "text": [
      "+--------------------+-----------+\n",
      "|          track_name|user_rating|\n",
      "+--------------------+-----------+\n",
      "| King of Dragon Pass|          5|\n",
      "|Zappos: shop shoe...|          5|\n",
      "|TurboScan™ Pro - ...|          5|\n",
      "|The Photographer'...|          5|\n",
      "|      Infinity Blade|          5|\n",
      "|           ▻Sudoku +|          5|\n",
      "|  Plants vs. Zombies|          5|\n",
      "|        Flashlight Ⓞ|          5|\n",
      "|Plants vs. Zombie...|          5|\n",
      "|Learn to Speak Sp...|          5|\n",
      "+--------------------+-----------+\n",
      "\n"
     ]
    }
   ],
   "source": [
    "data1 = spark.read.csv(\"AppleStore.csv\",header=True)\n",
    "#data1.show()\n",
    "data1.registerTempTable('applestore')\n",
    "q= \"SELECT track_name,user_rating from applestore order by user_rating desc limit 10\"\n",
    "sqlContext.sql(q).show()"
   ]
  },
  {
   "cell_type": "code",
   "execution_count": 149,
   "metadata": {},
   "outputs": [
    {
     "name": "stdout",
     "output_type": "stream",
     "text": [
      "+----------------+----------------+--------------------------------+\n",
      "|min(user_rating)|max(user_rating)|avg(CAST(ipadSc_urls AS DOUBLE))|\n",
      "+----------------+----------------+--------------------------------+\n",
      "|               0|               5|              3.7071001806308184|\n",
      "+----------------+----------------+--------------------------------+\n",
      "\n"
     ]
    }
   ],
   "source": [
    "q1= \"SELECT min(user_rating),max(user_rating),avg(ipadSc_urls) from applestore\"\n",
    "sqlContext.sql(q1).show()"
   ]
  },
  {
   "cell_type": "code",
   "execution_count": 153,
   "metadata": {},
   "outputs": [
    {
     "name": "stdout",
     "output_type": "stream",
     "text": [
      "+--------------------+----+-----------+\n",
      "|          track_name|lang|user_rating|\n",
      "+--------------------+----+-----------+\n",
      "| King of Dragon Pass|   1|          5|\n",
      "|Zappos: shop shoe...|   1|          5|\n",
      "|TurboScan™ Pro - ...|   9|          5|\n",
      "|The Photographer'...|   1|          5|\n",
      "|      Infinity Blade|  13|          5|\n",
      "|           ▻Sudoku +|   7|          5|\n",
      "|  Plants vs. Zombies|   5|          5|\n",
      "|        Flashlight Ⓞ|  22|          5|\n",
      "|Plants vs. Zombie...|   5|          5|\n",
      "|Learn to Speak Sp...|   5|          5|\n",
      "+--------------------+----+-----------+\n",
      "\n"
     ]
    }
   ],
   "source": [
    "q2= \"SELECT track_name,lang,user_rating from applestore order by user_rating desc limit 10\"\n",
    "sqlContext.sql(q2).show()"
   ]
  },
  {
   "cell_type": "code",
   "execution_count": 11,
   "metadata": {},
   "outputs": [
    {
     "name": "stdout",
     "output_type": "stream",
     "text": [
      "+-------+--------------------+-----------------+--------------------+-----------------+\n",
      "|summary|                  id|       track_name|          size_bytes|         app_desc|\n",
      "+-------+--------------------+-----------------+--------------------+-----------------+\n",
      "|  count|              145893|            39268|               24385|            16606|\n",
      "|   mean| 8.601431446740515E8|670.0297619047619| 1.974608277887848E8|            740.1|\n",
      "| stddev|2.7547233643313813E8|984.8074764013477|3.5815575657227564E8|954.8355691440092|\n",
      "|    min|\t- 305 Sprints Wi...|                \t|                    |                 |\n",
      "|    max|￭ Instructions fo...|           ｗｗｗ| 顺手领个红包赢大奖!|￭ App Description|\n",
      "+-------+--------------------+-----------------+--------------------+-----------------+\n",
      "\n"
     ]
    }
   ],
   "source": [
    "data.describe().show()"
   ]
  },
  {
   "cell_type": "code",
   "execution_count": null,
   "metadata": {},
   "outputs": [],
   "source": []
  }
 ],
 "metadata": {
  "kernelspec": {
   "display_name": "Python 3",
   "language": "python",
   "name": "python3"
  },
  "language_info": {
   "codemirror_mode": {
    "name": "ipython",
    "version": 3
   },
   "file_extension": ".py",
   "mimetype": "text/x-python",
   "name": "python",
   "nbconvert_exporter": "python",
   "pygments_lexer": "ipython3",
   "version": "3.6.5"
  }
 },
 "nbformat": 4,
 "nbformat_minor": 2
}
