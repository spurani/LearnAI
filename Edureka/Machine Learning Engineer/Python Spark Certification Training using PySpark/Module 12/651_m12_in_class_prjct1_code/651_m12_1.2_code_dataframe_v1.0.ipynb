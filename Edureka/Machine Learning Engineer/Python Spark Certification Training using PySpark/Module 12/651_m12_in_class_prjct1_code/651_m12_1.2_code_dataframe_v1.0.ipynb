{
 "cells": [
  {
   "cell_type": "code",
   "execution_count": 8,
   "metadata": {
    "collapsed": true
   },
   "outputs": [],
   "source": [
    "from pyspark import SparkConf, SparkContext\n",
    "from pyspark.sql import SQLContext"
   ]
  },
  {
   "cell_type": "code",
   "execution_count": 9,
   "metadata": {
    "collapsed": true
   },
   "outputs": [],
   "source": [
    "# from pyspark import SparkContext, SparkConf\n",
    "conf=SparkConf().setMaster(\"local\").setAppName(\"Most Popular Movies\")\n",
    "sc=SparkContext(conf=conf)"
   ]
  },
  {
   "cell_type": "code",
   "execution_count": 10,
   "metadata": {
    "collapsed": true
   },
   "outputs": [],
   "source": [
    "sqlContext=SQLContext(sc)"
   ]
  },
  {
   "cell_type": "code",
   "execution_count": 11,
   "metadata": {},
   "outputs": [
    {
     "data": {
      "text/plain": [
       "<pyspark.context.SparkContext at 0x7fbea65a3e50>"
      ]
     },
     "execution_count": 11,
     "metadata": {},
     "output_type": "execute_result"
    }
   ],
   "source": [
    "sc"
   ]
  },
  {
   "cell_type": "code",
   "execution_count": 12,
   "metadata": {},
   "outputs": [
    {
     "data": {
      "text/plain": [
       "<pyspark.sql.context.SQLContext at 0x7fbea65b5f50>"
      ]
     },
     "execution_count": 12,
     "metadata": {},
     "output_type": "execute_result"
    }
   ],
   "source": [
    "sqlContext"
   ]
  },
  {
   "cell_type": "code",
   "execution_count": 13,
   "metadata": {},
   "outputs": [
    {
     "name": "stdout",
     "output_type": "stream",
     "text": [
      "+------+-------+------+----------+\n",
      "|userId|movieId|rating| timestamp|\n",
      "+------+-------+------+----------+\n",
      "|     1|     31|   2.5|1260759144|\n",
      "|     1|   1029|   3.0|1260759179|\n",
      "|     1|   1061|   3.0|1260759182|\n",
      "|     1|   1129|   2.0|1260759185|\n",
      "|     1|   1172|   4.0|1260759205|\n",
      "+------+-------+------+----------+\n",
      "only showing top 5 rows\n",
      "\n"
     ]
    }
   ],
   "source": [
    "# reading the csv file and saving it to dataframe using sqlContext\n",
    "ratings_df = sqlContext.read.csv(\"hdfs://nameservice1/user/edureka_294428/ratings.csv\", header=True)\n",
    "ratings_df.show(5)"
   ]
  },
  {
   "cell_type": "code",
   "execution_count": 14,
   "metadata": {},
   "outputs": [
    {
     "name": "stdout",
     "output_type": "stream",
     "text": [
      "root\n",
      " |-- userId: string (nullable = true)\n",
      " |-- movieId: string (nullable = true)\n",
      " |-- rating: string (nullable = true)\n",
      " |-- timestamp: string (nullable = true)\n",
      "\n"
     ]
    }
   ],
   "source": [
    "# BY default everything is stored as string, we need to save them into\n",
    "# appropriate schema types as later we might have to do the operations \n",
    "# accordingly\n",
    "ratings_df.printSchema()"
   ]
  },
  {
   "cell_type": "code",
   "execution_count": 15,
   "metadata": {
    "collapsed": true
   },
   "outputs": [],
   "source": [
    "from pyspark.sql.types import *\n",
    "columns = [StructField(\"userId\", IntegerType(), True),\n",
    "        StructField(\"movieId\", IntegerType(), True),\n",
    "        StructField(\"rating\", DoubleType(), True),\n",
    "        StructField(\"timestamp\", LongType(), True) ]"
   ]
  },
  {
   "cell_type": "code",
   "execution_count": 16,
   "metadata": {},
   "outputs": [
    {
     "name": "stdout",
     "output_type": "stream",
     "text": [
      "+------+-------+------+----------+\n",
      "|userId|movieId|rating| timestamp|\n",
      "+------+-------+------+----------+\n",
      "|     1|     31|   2.5|1260759144|\n",
      "|     1|   1029|   3.0|1260759179|\n",
      "|     1|   1061|   3.0|1260759182|\n",
      "|     1|   1129|   2.0|1260759185|\n",
      "|     1|   1172|   4.0|1260759205|\n",
      "+------+-------+------+----------+\n",
      "only showing top 5 rows\n",
      "\n"
     ]
    }
   ],
   "source": [
    "# Now reading the file again but with schema this time\n",
    "ratings_df = sqlContext.read.csv(\"hdfs://nameservice1/user/edureka_294428/ratings.csv\", header=True, \n",
    "                                 #inferSchema=True)\n",
    "                                 schema=StructType(columns))\n",
    "ratings_df.show(5)"
   ]
  },
  {
   "cell_type": "code",
   "execution_count": 17,
   "metadata": {},
   "outputs": [
    {
     "name": "stdout",
     "output_type": "stream",
     "text": [
      "root\n",
      " |-- userId: integer (nullable = true)\n",
      " |-- movieId: integer (nullable = true)\n",
      " |-- rating: double (nullable = true)\n",
      " |-- timestamp: long (nullable = true)\n",
      "\n"
     ]
    }
   ],
   "source": [
    "ratings_df.printSchema()"
   ]
  },
  {
   "cell_type": "code",
   "execution_count": 18,
   "metadata": {},
   "outputs": [
    {
     "data": {
      "text/plain": [
       "DataFrame[userId: int, movieId: int, rating: double, timestamp: bigint]"
      ]
     },
     "execution_count": 18,
     "metadata": {},
     "output_type": "execute_result"
    }
   ],
   "source": [
    "# we might have to refer to this ratings_df lots of time in our \n",
    "# analysis, why not persist it\n",
    "ratings_df.persist()"
   ]
  },
  {
   "cell_type": "code",
   "execution_count": 19,
   "metadata": {},
   "outputs": [
    {
     "name": "stdout",
     "output_type": "stream",
     "text": [
      "+-------+-----+\n",
      "|movieid|count|\n",
      "+-------+-----+\n",
      "|    356|  341|\n",
      "|    296|  324|\n",
      "|    318|  311|\n",
      "|    593|  304|\n",
      "|    260|  291|\n",
      "|    480|  274|\n",
      "|   2571|  259|\n",
      "|      1|  247|\n",
      "|    527|  244|\n",
      "|    589|  237|\n",
      "+-------+-----+\n",
      "only showing top 10 rows\n",
      "\n"
     ]
    }
   ],
   "source": [
    "# It makes sense to group the data by movie id and then get the number \n",
    "# of movies present there\n",
    "\n",
    "from pyspark.sql.functions import *\n",
    "movie_counts = ratings_df.groupBy(\"movieid\").count()\n",
    "# sort descending\n",
    "movie_counts = movie_counts.sort(desc(\"count\"))\n",
    "movie_counts.show(10)"
   ]
  },
  {
   "cell_type": "code",
   "execution_count": 20,
   "metadata": {},
   "outputs": [
    {
     "name": "stdout",
     "output_type": "stream",
     "text": [
      "+-------+----------+\n",
      "|movieid|avg_rating|\n",
      "+-------+----------+\n",
      "|   5427|       5.0|\n",
      "|  65037|       5.0|\n",
      "|    961|       5.0|\n",
      "|  32525|       5.0|\n",
      "|     53|       5.0|\n",
      "|   6598|       5.0|\n",
      "|  91690|       5.0|\n",
      "|  32460|       5.0|\n",
      "|  61250|       5.0|\n",
      "|   5071|       5.0|\n",
      "+-------+----------+\n",
      "only showing top 10 rows\n",
      "\n"
     ]
    }
   ],
   "source": [
    "# fetching average rating by movie_id\n",
    "avg_ratings = ratings_df.groupBy(\"movieid\").agg( {\"rating\":\"avg\"} )\n",
    "\n",
    "avg_ratings = avg_ratings.withColumnRenamed( \"avg(rating)\", \"avg_rating\" )\n",
    "avg_ratings = avg_ratings.sort( desc( \"avg_rating\" ) )\n",
    "avg_ratings.show( 10 )"
   ]
  },
  {
   "cell_type": "code",
   "execution_count": 21,
   "metadata": {},
   "outputs": [
    {
     "data": {
      "text/html": [
       "<style>\n",
       ".output {\n",
       "    flex-direction: column;\n",
       "}\n",
       "</style>"
      ],
      "text/plain": [
       "<IPython.core.display.HTML object>"
      ]
     },
     "execution_count": 21,
     "metadata": {},
     "output_type": "execute_result"
    }
   ],
   "source": [
    "import pandas as pd\n",
    "import numpy as np\n",
    "from IPython.display import display, HTML\n",
    "\n",
    "CSS = \"\"\"\n",
    ".output {\n",
    "    flex-direction: column;\n",
    "}\n",
    "\"\"\"\n",
    "\n",
    "HTML('<style>{}</style>'.format(CSS))"
   ]
  },
  {
   "cell_type": "code",
   "execution_count": 22,
   "metadata": {},
   "outputs": [
    {
     "name": "stdout",
     "output_type": "stream",
     "text": [
      "+-------+-----+\n",
      "|movieid|count|\n",
      "+-------+-----+\n",
      "|    356|  341|\n",
      "|    296|  324|\n",
      "|    318|  311|\n",
      "+-------+-----+\n",
      "only showing top 3 rows\n",
      "\n"
     ]
    },
    {
     "data": {
      "text/plain": [
       "None"
      ]
     },
     "metadata": {},
     "output_type": "display_data"
    },
    {
     "name": "stdout",
     "output_type": "stream",
     "text": [
      "+-------+----------+\n",
      "|movieid|avg_rating|\n",
      "+-------+----------+\n",
      "|   5071|       5.0|\n",
      "|  91690|       5.0|\n",
      "|  32460|       5.0|\n",
      "+-------+----------+\n",
      "only showing top 3 rows\n",
      "\n"
     ]
    },
    {
     "data": {
      "text/plain": [
       "None"
      ]
     },
     "metadata": {},
     "output_type": "display_data"
    }
   ],
   "source": [
    "display(movie_counts.show(3))\n",
    "display(avg_ratings.show(3))"
   ]
  },
  {
   "cell_type": "code",
   "execution_count": 23,
   "metadata": {},
   "outputs": [
    {
     "name": "stdout",
     "output_type": "stream",
     "text": [
      "+----------+-------+-----+\n",
      "|avg_rating|movieId|count|\n",
      "+----------+-------+-----+\n",
      "|       5.0|  32460|    1|\n",
      "|       5.0|  91690|    1|\n",
      "|       5.0|   5071|    1|\n",
      "|       5.0|  32525|    2|\n",
      "|       5.0|  61250|    1|\n",
      "+----------+-------+-----+\n",
      "only showing top 5 rows\n",
      "\n"
     ]
    }
   ],
   "source": [
    "# joining these two dataframes as they can provide both count and avg_ratings for movies\n",
    "avg_ratings_count = avg_ratings.join( movie_counts,\n",
    "                                   avg_ratings.movieid == movie_counts.movieid ,\n",
    "                                   'inner' ).drop(movie_counts.movieid)\n",
    "avg_ratings_count.show(5)"
   ]
  },
  {
   "cell_type": "code",
   "execution_count": 24,
   "metadata": {},
   "outputs": [
    {
     "name": "stdout",
     "output_type": "stream",
     "text": [
      "+------------------+-------+-----+\n",
      "|        avg_rating|movieId|count|\n",
      "+------------------+-------+-----+\n",
      "|            4.4875|    858|  200|\n",
      "| 4.487138263665595|    318|  311|\n",
      "| 4.387096774193548|    913|   62|\n",
      "| 4.385185185185185|   1221|  135|\n",
      "| 4.370646766169155|     50|  201|\n",
      "|4.3355263157894735|   1252|   76|\n",
      "| 4.315217391304348|    904|   92|\n",
      "| 4.304054054054054|   1203|   74|\n",
      "|  4.30327868852459|    527|  244|\n",
      "| 4.297101449275362|   6016|   69|\n",
      "+------------------+-------+-----+\n",
      "only showing top 10 rows\n",
      "\n"
     ]
    }
   ],
   "source": [
    "# To avoid any potential bias in the system , considering only records having count greater than \n",
    "# 50\n",
    "\n",
    "avg_ratings_count = avg_ratings_count.filter( avg_ratings_count[\"count\"] > 50 )\n",
    "# sort by rating first and then by count\n",
    "avg_ratings_count = avg_ratings_count.sort( desc( \"avg_rating\" ) , desc( \"count\") )\n",
    "avg_ratings_count.show( 10 )"
   ]
  },
  {
   "cell_type": "code",
   "execution_count": 25,
   "metadata": {},
   "outputs": [
    {
     "name": "stdout",
     "output_type": "stream",
     "text": [
      "+----------+-------+-----+\n",
      "|avg_rating|movieId|count|\n",
      "+----------+-------+-----+\n",
      "|      4.49|    318|  311|\n",
      "|      4.49|    858|  200|\n",
      "|      4.39|   1221|  135|\n",
      "|      4.39|    913|   62|\n",
      "|      4.37|     50|  201|\n",
      "|      4.34|   1252|   76|\n",
      "|      4.32|    904|   92|\n",
      "|       4.3|    527|  244|\n",
      "|       4.3|   1203|   74|\n",
      "|       4.3|   6016|   69|\n",
      "+----------+-------+-----+\n",
      "only showing top 10 rows\n",
      "\n"
     ]
    }
   ],
   "source": [
    "# Lets rounds the avg_rating to 2 decimal places, it doesn't looks good\n",
    "avg_ratings_count = avg_ratings_count.withColumn( \"avg_rating\",round( avg_ratings_count[\"avg_rating\"]\n",
    "                                    , 2 ) )\n",
    "avg_ratings_count = avg_ratings_count.sort( desc( \"avg_rating\" ) , desc( \"count\") )\n",
    "avg_ratings_count.show( 10 )"
   ]
  },
  {
   "cell_type": "code",
   "execution_count": 26,
   "metadata": {},
   "outputs": [
    {
     "name": "stdout",
     "output_type": "stream",
     "text": [
      "+-------+--------------------+--------------------+\n",
      "|movieId|               title|              genres|\n",
      "+-------+--------------------+--------------------+\n",
      "|      1|    Toy Story (1995)|Adventure|Animati...|\n",
      "|      2|      Jumanji (1995)|Adventure|Childre...|\n",
      "|      3|Grumpier Old Men ...|      Comedy|Romance|\n",
      "|      4|Waiting to Exhale...|Comedy|Drama|Romance|\n",
      "|      5|Father of the Bri...|              Comedy|\n",
      "+-------+--------------------+--------------------+\n",
      "only showing top 5 rows\n",
      "\n"
     ]
    }
   ],
   "source": [
    "movies_df = sqlContext.read.csv('hdfs://nameservice1/user/edureka_294428/movies.csv', header=True, inferSchema=True)\n",
    "movies_df.show(5)"
   ]
  },
  {
   "cell_type": "code",
   "execution_count": 27,
   "metadata": {},
   "outputs": [
    {
     "name": "stdout",
     "output_type": "stream",
     "text": [
      "root\n",
      " |-- movieId: integer (nullable = true)\n",
      " |-- title: string (nullable = true)\n",
      " |-- genres: string (nullable = true)\n",
      "\n"
     ]
    }
   ],
   "source": [
    "movies_df.printSchema()"
   ]
  },
  {
   "cell_type": "code",
   "execution_count": 28,
   "metadata": {},
   "outputs": [
    {
     "name": "stdout",
     "output_type": "stream",
     "text": [
      "+----------+-------+-----+-------+--------------------+--------------------+\n",
      "|avg_rating|movieId|count|movieId|               title|              genres|\n",
      "+----------+-------+-----+-------+--------------------+--------------------+\n",
      "|      4.49|    318|  311|    318|Shawshank Redempt...|         Crime|Drama|\n",
      "|      4.49|    858|  200|    858|Godfather, The (1...|         Crime|Drama|\n",
      "|      4.39|   1221|  135|   1221|Godfather: Part I...|         Crime|Drama|\n",
      "|      4.39|    913|   62|    913|Maltese Falcon, T...|   Film-Noir|Mystery|\n",
      "|      4.37|     50|  201|     50|Usual Suspects, T...|Crime|Mystery|Thr...|\n",
      "|      4.34|   1252|   76|   1252|    Chinatown (1974)|Crime|Film-Noir|M...|\n",
      "|      4.32|    904|   92|    904|  Rear Window (1954)|    Mystery|Thriller|\n",
      "|       4.3|    527|  244|    527|Schindler's List ...|           Drama|War|\n",
      "|       4.3|   1203|   74|   1203| 12 Angry Men (1957)|               Drama|\n",
      "|       4.3|   6016|   69|   6016|City of God (Cida...|Action|Adventure|...|\n",
      "+----------+-------+-----+-------+--------------------+--------------------+\n",
      "\n"
     ]
    }
   ],
   "source": [
    "top_rated_movies = avg_ratings_count.limit(10).join( movies_df,avg_ratings_count.movieId == movies_df.movieId,\n",
    "                \"inner\")\n",
    "top_rated_movies.show()"
   ]
  },
  {
   "cell_type": "code",
   "execution_count": 29,
   "metadata": {},
   "outputs": [
    {
     "name": "stdout",
     "output_type": "stream",
     "text": [
      "+--------------------+\n",
      "|               title|\n",
      "+--------------------+\n",
      "|Shawshank Redempt...|\n",
      "|Godfather, The (1...|\n",
      "|Godfather: Part I...|\n",
      "|Maltese Falcon, T...|\n",
      "|Usual Suspects, T...|\n",
      "|    Chinatown (1974)|\n",
      "|  Rear Window (1954)|\n",
      "|Schindler's List ...|\n",
      "| 12 Angry Men (1957)|\n",
      "|City of God (Cida...|\n",
      "+--------------------+\n",
      "\n"
     ]
    }
   ],
   "source": [
    "# OK , we need only movie id , along with the title\n",
    "\n",
    "top_rated_movies = top_rated_movies.select(\"title\")\n",
    "top_rated_movies.show()"
   ]
  },
  {
   "cell_type": "code",
   "execution_count": null,
   "metadata": {
    "collapsed": true
   },
   "outputs": [],
   "source": []
  }
 ],
 "metadata": {
  "kernelspec": {
   "display_name": "Python 3",
   "language": "python",
   "name": "python3"
  },
  "language_info": {
   "codemirror_mode": {
    "name": "ipython",
    "version": 3
   },
   "file_extension": ".py",
   "mimetype": "text/x-python",
   "name": "python",
   "nbconvert_exporter": "python",
   "pygments_lexer": "ipython3",
   "version": "3.6.5"
  }
 },
 "nbformat": 4,
 "nbformat_minor": 2
}
