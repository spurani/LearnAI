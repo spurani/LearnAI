{
 "cells": [
  {
   "cell_type": "code",
   "execution_count": 15,
   "metadata": {
    "collapsed": true
   },
   "outputs": [],
   "source": [
    "from pyspark import SparkConf, SparkContext\n",
    "from pyspark.sql import SQLContext"
   ]
  },
  {
   "cell_type": "code",
   "execution_count": 16,
   "metadata": {
    "collapsed": true
   },
   "outputs": [],
   "source": [
    "# from pyspark import SparkContext, SparkConf\n",
    "conf=SparkConf().setMaster(\"local\").setAppName(\"Most Popular Movies\")\n",
    "sc=SparkContext(conf=conf)"
   ]
  },
  {
   "cell_type": "code",
   "execution_count": 17,
   "metadata": {},
   "outputs": [],
   "source": [
    "# Creating movie_id and movie_name dictionary using pandas\n",
    "\n",
    "import pandas as pd\n",
    "df = pd.read_table(\"/mnt/home/edureka_294428/u.item\", sep=\"|\", encoding='ISO-8859-1', header=None)\n",
    "df = df[[0, 1]]\n",
    "movies_dict = dict(zip(df[0], df[1]))\n",
    "\n",
    "# Creating a broadcast variable of dictionary\n",
    "movies_lookup = sc.broadcast(movies_dict)"
   ]
  },
  {
   "cell_type": "code",
   "execution_count": 19,
   "metadata": {},
   "outputs": [
    {
     "name": "stdout",
     "output_type": "stream",
     "text": [
      "[u'196\\t242\\t3\\t881250949', u'186\\t302\\t3\\t891717742']\n"
     ]
    }
   ],
   "source": [
    "# Creating movie data rdd\n",
    "movie_rdd=sc.textFile(\"hdfs://nameservice1/user/edureka_294428/u.data\")\n",
    "\n",
    "print(movie_rdd.take(2))\n",
    "\n",
    "# Creating Key-Value paired rdd\n",
    "movies_kv_rdd=movie_rdd.map(lambda x:(int(x.split()[1]),1))"
   ]
  },
  {
   "cell_type": "code",
   "execution_count": 20,
   "metadata": {},
   "outputs": [
    {
     "data": {
      "text/plain": [
       "[(1, 452), (2, 131)]"
      ]
     },
     "execution_count": 20,
     "metadata": {},
     "output_type": "execute_result"
    }
   ],
   "source": [
    "# Putting reduce operation on Key-value pairs\n",
    "movies_count=movies_kv_rdd.reduceByKey(lambda x, y: x + y)\n",
    "movies_count.take(2)"
   ]
  },
  {
   "cell_type": "code",
   "execution_count": 21,
   "metadata": {},
   "outputs": [
    {
     "name": "stdout",
     "output_type": "stream",
     "text": [
      "[(50, 583), (258, 509), (100, 508), (181, 507), (294, 485)]\n"
     ]
    }
   ],
   "source": [
    "# Sorting the movie by keys\n",
    "sorted_pairs = movies_count.sortBy(lambda x: x[1], ascending=False)\n",
    "print(sorted_pairs.take(5))"
   ]
  },
  {
   "cell_type": "code",
   "execution_count": 22,
   "metadata": {},
   "outputs": [
    {
     "data": {
      "text/plain": [
       "[(u'Star Wars (1977)', 583), (u'Contact (1997)', 509), (u'Fargo (1996)', 508)]"
      ]
     },
     "execution_count": 22,
     "metadata": {},
     "output_type": "execute_result"
    }
   ],
   "source": [
    "# Above doesn't make much of a sense unless we replace movie ids by movie names\n",
    "# Here comes the use of Broadcast variable we created earlier\n",
    "\n",
    "sorted_names=sorted_pairs.map(lambda x:(movies_lookup.value[x[0]],x[1]))\n",
    "sorted_names.take(3)"
   ]
  },
  {
   "cell_type": "code",
   "execution_count": 23,
   "metadata": {},
   "outputs": [
    {
     "data": {
      "text/plain": [
       "[(u'Star Wars (1977)', 583),\n",
       " (u'Contact (1997)', 509),\n",
       " (u'Fargo (1996)', 508),\n",
       " (u'Return of the Jedi (1983)', 507),\n",
       " (u'Liar Liar (1997)', 485),\n",
       " (u'English Patient, The (1996)', 481),\n",
       " (u'Scream (1996)', 478),\n",
       " (u'Toy Story (1995)', 452),\n",
       " (u'Air Force One (1997)', 431),\n",
       " (u'Independence Day (ID4) (1996)', 429)]"
      ]
     },
     "execution_count": 23,
     "metadata": {},
     "output_type": "execute_result"
    }
   ],
   "source": [
    "#Top 10 Most Popular Movies\n",
    "sorted_names.take(10)"
   ]
  },
  {
   "cell_type": "code",
   "execution_count": 14,
   "metadata": {
    "collapsed": true
   },
   "outputs": [],
   "source": [
    "sc.stop()"
   ]
  },
  {
   "cell_type": "code",
   "execution_count": null,
   "metadata": {
    "collapsed": true
   },
   "outputs": [],
   "source": []
  }
 ],
 "metadata": {
  "kernelspec": {
   "display_name": "Python 3",
   "language": "python",
   "name": "python3"
  },
  "language_info": {
   "codemirror_mode": {
    "name": "ipython",
    "version": 3
   },
   "file_extension": ".py",
   "mimetype": "text/x-python",
   "name": "python",
   "nbconvert_exporter": "python",
   "pygments_lexer": "ipython3",
   "version": "3.6.5"
  }
 },
 "nbformat": 4,
 "nbformat_minor": 2
}
