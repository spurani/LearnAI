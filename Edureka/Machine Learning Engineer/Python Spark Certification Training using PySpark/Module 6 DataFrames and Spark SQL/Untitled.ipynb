{
 "cells": [
  {
   "cell_type": "code",
   "execution_count": 1,
   "metadata": {},
   "outputs": [],
   "source": [
    "import pyspark\n",
    "from pyspark import SparkContext, SQLContext\n",
    "from pyspark.sql import SparkSession"
   ]
  },
  {
   "cell_type": "code",
   "execution_count": 2,
   "metadata": {},
   "outputs": [],
   "source": [
    "sc = SparkContext()\n",
    "sqlcontext = SQLContext(sc)"
   ]
  },
  {
   "cell_type": "code",
   "execution_count": 3,
   "metadata": {},
   "outputs": [],
   "source": [
    "spark = SparkSession.builder.appName('abc').getOrCreate()"
   ]
  },
  {
   "cell_type": "code",
   "execution_count": 4,
   "metadata": {},
   "outputs": [],
   "source": [
    "aisles = spark.read.csv(\"aisles.csv\",header=True)\n",
    "order_products_train = spark.read.csv(\"order_products__train.csv\",header=True)\n",
    "order_products_prior = spark.read.csv(\"order_products__prior.csv\",header=True)\n",
    "orders = spark.read.csv(\"orders.csv\",header=True)\n",
    "products = spark.read.csv(\"products.csv\",header=True)\n",
    "departments = spark.read.csv(\"departments.csv\",header=True)\n",
    "sample_submission = spark.read.csv(\"sample_submission.csv\",header=True)"
   ]
  },
  {
   "cell_type": "code",
   "execution_count": 5,
   "metadata": {},
   "outputs": [],
   "source": [
    "aisles.createOrReplaceTempView('aisles')\n",
    "order_products_train.createOrReplaceTempView('order_products__train')\n",
    "order_products_prior.createOrReplaceTempView('order_products__prior')\n",
    "orders.createOrReplaceTempView('orders')\n",
    "products.createOrReplaceTempView('products')\n",
    "departments.createOrReplaceTempView('departments')\n",
    "sample_submission.createOrReplaceTempView('sample_submission')"
   ]
  },
  {
   "cell_type": "code",
   "execution_count": 6,
   "metadata": {},
   "outputs": [],
   "source": [
    "aisles_sql = sqlcontext.sql(\"Select * from aisles limit 10\")\n",
    "order_products_train_sql = sqlcontext.sql(\"Select * from order_products__train limit 10\")\n",
    "order_products_prior_sql = sqlcontext.sql(\"Select * from order_products__prior limit 10\")\n",
    "orders_sql = sqlcontext.sql(\"Select * from orders limit 10\")\n",
    "products_sql = sqlcontext.sql(\"Select * from products limit 10\")\n",
    "departments_sql = sqlcontext.sql(\"Select * from departments limit 10\")\n",
    "sample_submission_sql = sqlcontext.sql(\"Select * from sample_submission limit 10\")"
   ]
  },
  {
   "cell_type": "code",
   "execution_count": 7,
   "metadata": {},
   "outputs": [
    {
     "name": "stdout",
     "output_type": "stream",
     "text": [
      "+--------+-----------+\n",
      "|order_id|   products|\n",
      "+--------+-----------+\n",
      "|      17|39276 29259|\n",
      "|      34|39276 29259|\n",
      "|     137|39276 29259|\n",
      "|     182|39276 29259|\n",
      "|     257|39276 29259|\n",
      "|     313|39276 29259|\n",
      "|     353|39276 29259|\n",
      "|     386|39276 29259|\n",
      "|     414|39276 29259|\n",
      "|     418|39276 29259|\n",
      "+--------+-----------+\n",
      "\n"
     ]
    }
   ],
   "source": [
    "sample_submission_sql.show()"
   ]
  },
  {
   "cell_type": "code",
   "execution_count": 8,
   "metadata": {},
   "outputs": [
    {
     "name": "stdout",
     "output_type": "stream",
     "text": [
      "+-------+--------------------+----------+\n",
      "|counter|        product_name|product_id|\n",
      "+-------+--------------------+----------+\n",
      "|  18726|              Banana|     24852|\n",
      "|  15480|Bag of Organic Ba...|     13176|\n",
      "|  10894|Organic Strawberries|     21137|\n",
      "|   9784|Organic Baby Spinach|     21903|\n",
      "|   8135|         Large Lemon|     47626|\n",
      "|   7409|     Organic Avocado|     47766|\n",
      "|   7293|Organic Hass Avocado|     47209|\n",
      "|   6494|        Strawberries|     16797|\n",
      "|   6033|               Limes|     26209|\n",
      "|   5546| Organic Raspberries|     27966|\n",
      "|   4966| Organic Blueberries|     39275|\n",
      "|   4908|  Organic Whole Milk|     27845|\n",
      "|   4613|    Organic Cucumber|     30391|\n",
      "|   4589|    Organic Zucchini|     45007|\n",
      "|   4290|Organic Yellow Onion|     22935|\n",
      "|   4158|      Organic Garlic|     24964|\n",
      "|   4059| Seedless Red Grapes|      4920|\n",
      "|   3868|           Asparagus|     46979|\n",
      "|   3823|Organic Grape Tom...|     40706|\n",
      "|   3818|   Organic Red Onion|      8518|\n",
      "+-------+--------------------+----------+\n",
      "only showing top 20 rows\n",
      "\n"
     ]
    }
   ],
   "source": [
    "merged_sql_4 = sqlcontext.sql(\"SELECT COUNT(p.product_id) as counter,p.product_name,p.product_id from products as p JOIN order_products__train as t ON t.product_id = p.product_id group by p.product_id,p.product_name order by counter desc\").show()"
   ]
  },
  {
   "cell_type": "code",
   "execution_count": 20,
   "metadata": {},
   "outputs": [
    {
     "name": "stdout",
     "output_type": "stream",
     "text": [
      "+-------+--------------------+----------+\n",
      "|counter|        product_name|product_id|\n",
      "+-------+--------------------+----------+\n",
      "| 472565|              Banana|     24852|\n",
      "| 379450|Bag of Organic Ba...|     13176|\n",
      "| 264683|Organic Strawberries|     21137|\n",
      "| 241921|Organic Baby Spinach|     21903|\n",
      "| 213584|Organic Hass Avocado|     47209|\n",
      "| 176815|     Organic Avocado|     47766|\n",
      "| 152657|         Large Lemon|     47626|\n",
      "| 142951|        Strawberries|     16797|\n",
      "| 140627|               Limes|     26209|\n",
      "| 137905|  Organic Whole Milk|     27845|\n",
      "| 137057| Organic Raspberries|     27966|\n",
      "| 113426|Organic Yellow Onion|     22935|\n",
      "| 109778|      Organic Garlic|     24964|\n",
      "| 104823|    Organic Zucchini|     45007|\n",
      "| 100060| Organic Blueberries|     39275|\n",
      "|  97315|      Cucumber Kirby|     49683|\n",
      "|  89632|  Organic Fuji Apple|     28204|\n",
      "|  87746|       Organic Lemon|      5876|\n",
      "|  85020|Apple Honeycrisp ...|      8277|\n",
      "|  84255|Organic Grape Tom...|     40706|\n",
      "+-------+--------------------+----------+\n",
      "only showing top 20 rows\n",
      "\n"
     ]
    }
   ],
   "source": [
    "merged_sql_4_prior = sqlcontext.sql(\"SELECT COUNT(p.product_id) as counter,p.product_name,p.product_id as product_id from products as p JOIN order_products__prior as r on r.product_id = p.product_id group by p.product_id,p.product_name order by counter desc\").show()"
   ]
  },
  {
   "cell_type": "code",
   "execution_count": 25,
   "metadata": {},
   "outputs": [
    {
     "name": "stdout",
     "output_type": "stream",
     "text": [
      "+--------------------+-----+---------+\n",
      "|        product_name|count|reordered|\n",
      "+--------------------+-----+---------+\n",
      "|              Banana|16557|        1|\n",
      "|Bag of Organic Ba...|13362|        1|\n",
      "|Organic Strawberries| 8603|        1|\n",
      "|Organic Baby Spinach| 8055|        1|\n",
      "|     Organic Avocado| 6226|        1|\n",
      "|Organic Hass Avocado| 6042|        1|\n",
      "|         Large Lemon| 5923|        1|\n",
      "|        Strawberries| 4786|        1|\n",
      "| Organic Raspberries| 4279|        1|\n",
      "|               Limes| 4234|        1|\n",
      "|  Organic Whole Milk| 4174|        1|\n",
      "| Organic Blueberries| 3384|        1|\n",
      "|    Organic Zucchini| 3266|        1|\n",
      "|Organic Yellow Onion| 3094|        1|\n",
      "|      Organic Garlic| 3041|        1|\n",
      "|    Organic Cucumber| 3007|        1|\n",
      "| Seedless Red Grapes| 2869|        1|\n",
      "|Organic Grape Tom...| 2727|        1|\n",
      "|Sparkling Water G...| 2662|        1|\n",
      "|    Honeycrisp Apple| 2655|        1|\n",
      "+--------------------+-----+---------+\n",
      "only showing top 20 rows\n",
      "\n"
     ]
    }
   ],
   "source": [
    "merged_sql_5 = sqlcontext.sql(\"SELECT p.product_name,count(p.product_id) as count,t.reordered from products as p JOIN order_products__train as t ON t.product_id = p.product_id where t.reordered != 0 group by p.product_id,p.product_name,t.reordered order by count desc\").show()"
   ]
  },
  {
   "cell_type": "code",
   "execution_count": 8,
   "metadata": {},
   "outputs": [
    {
     "name": "stdout",
     "output_type": "stream",
     "text": [
      "+--------------------+------+---------+\n",
      "|        product_name| count|reordered|\n",
      "+--------------------+------+---------+\n",
      "|              Banana|398609|        1|\n",
      "|Bag of Organic Ba...|315913|        1|\n",
      "|Organic Strawberries|205845|        1|\n",
      "|Organic Baby Spinach|186884|        1|\n",
      "|Organic Hass Avocado|170131|        1|\n",
      "|     Organic Avocado|134044|        1|\n",
      "|  Organic Whole Milk|114510|        1|\n",
      "|         Large Lemon|106255|        1|\n",
      "| Organic Raspberries|105409|        1|\n",
      "|        Strawberries| 99802|        1|\n",
      "|               Limes| 95768|        1|\n",
      "|Organic Yellow Onion| 79072|        1|\n",
      "|      Organic Garlic| 74663|        1|\n",
      "|    Organic Zucchini| 72165|        1|\n",
      "|      Cucumber Kirby| 67313|        1|\n",
      "|  Organic Fuji Apple| 63811|        1|\n",
      "| Organic Blueberries| 62922|        1|\n",
      "|Apple Honeycrisp ...| 62510|        1|\n",
      "|       Organic Lemon| 60536|        1|\n",
      "| Organic Half & Half| 59672|        1|\n",
      "+--------------------+------+---------+\n",
      "only showing top 20 rows\n",
      "\n"
     ]
    }
   ],
   "source": [
    "merged_sql_5_prior = sqlcontext.sql(\"SELECT p.product_name,count(p.product_id) as count,r.reordered from products as p JOIN order_products__prior as r on r.product_id = p.product_id where r.reordered != 0 group by p.product_id,p.product_name,r.reordered order by count desc\").show()"
   ]
  },
  {
   "cell_type": "code",
   "execution_count": 17,
   "metadata": {},
   "outputs": [
    {
     "name": "stdout",
     "output_type": "stream",
     "text": [
      "+--------+-----------------+--------------------+----------+\n",
      "|order_id|order_hour_of_day|        product_name|product_id|\n",
      "+--------+-----------------+--------------------+----------+\n",
      "| 1015263|               10|Bag of Organic Ba...|     13176|\n",
      "| 1015263|               10|Organic Hass Avocado|     47209|\n",
      "| 1015263|               10|Organic Whole Mil...|     38544|\n",
      "| 1015263|               10|  Organic Whole Milk|     27845|\n",
      "| 1015263|               10|  Organic Fuji Apple|     28204|\n",
      "| 1015263|               10|Sweet Potato Littles|     27573|\n",
      "| 1015263|               10|Freeze Dried Mang...|      7854|\n",
      "| 1015263|               10|Gluten Free Spina...|     48182|\n",
      "| 1015263|               10|Total 2% All Natu...|     30169|\n",
      "| 1015263|               10|Hot Kid Toddler M...|     39442|\n",
      "| 1015263|               10| Multi Grain Waffles|     42404|\n",
      "| 1015263|               10|         Blueberries|      9076|\n",
      "| 1015263|               10| Honey Bunny Grahams|     14867|\n",
      "| 1015263|               10|        Organic Yams|     16349|\n",
      "| 1015263|               10|Organic Chopped S...|     18918|\n",
      "| 1015263|               10|All Natural Frenc...|      4600|\n",
      "| 1061929|               10|      Orange Chicken|     14114|\n",
      "| 1061929|               10|\"The \"\"World's Be...|      2002|\n",
      "| 1081542|               10|Whole Grain Organ...|     35715|\n",
      "| 1081542|               10|Almond Paleo Brea...|     38303|\n",
      "+--------+-----------------+--------------------+----------+\n",
      "only showing top 20 rows\n",
      "\n"
     ]
    }
   ],
   "source": [
    "merged_sql_9 = sqlcontext.sql(\"SELECT o.order_id,o.order_hour_of_day,p.product_name,p.product_id from products as p JOIN order_products__train as t ON t.product_id = p.product_id JOIN orders o on o.order_id = t.order_id where o.order_hour_of_day >=6 and o.order_hour_of_day <= 11\").show()"
   ]
  },
  {
   "cell_type": "code",
   "execution_count": null,
   "metadata": {},
   "outputs": [],
   "source": [
    "merged_sql_9_prior = sqlcontext.sql(\"SELECT p.product_name,p.product_id from products as p JOIN order_products__prior as r ON r.product_id = p.product_id JOIN orders o on o.order_id = r.order_id where o.order_hour_of_day >=6 and o.order_hour_of_day <= 11\").show()"
   ]
  },
  {
   "cell_type": "code",
   "execution_count": null,
   "metadata": {},
   "outputs": [],
   "source": []
  }
 ],
 "metadata": {
  "kernelspec": {
   "display_name": "Python 3",
   "language": "python",
   "name": "python3"
  },
  "language_info": {
   "codemirror_mode": {
    "name": "ipython",
    "version": 3
   },
   "file_extension": ".py",
   "mimetype": "text/x-python",
   "name": "python",
   "nbconvert_exporter": "python",
   "pygments_lexer": "ipython3",
   "version": "3.6.5"
  }
 },
 "nbformat": 4,
 "nbformat_minor": 2
}
