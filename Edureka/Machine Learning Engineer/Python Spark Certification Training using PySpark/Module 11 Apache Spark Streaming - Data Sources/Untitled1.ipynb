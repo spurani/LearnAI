{
 "cells": [
  {
   "cell_type": "code",
   "execution_count": 1,
   "metadata": {
    "collapsed": true
   },
   "outputs": [],
   "source": [
    "from pyspark.sql import SparkSession\n",
    "from pyspark.ml.feature import StringIndexer\n",
    "from pyspark.ml.classification import LogisticRegression\n",
    "from pyspark.streaming import StreamingContext"
   ]
  },
  {
   "cell_type": "code",
   "execution_count": 2,
   "metadata": {
    "collapsed": true
   },
   "outputs": [],
   "source": [
    "spark = SparkSession \\\n",
    "        .builder \\\n",
    "        .appName(\"FraudDetection\") \\\n",
    "        .getOrCreate()"
   ]
  },
  {
   "cell_type": "code",
   "execution_count": 3,
   "metadata": {
    "collapsed": true
   },
   "outputs": [],
   "source": [
    "data = spark.read.format(\"csv\").load(\"mobilelog.csv\",header=True, inferSchema=True)"
   ]
  },
  {
   "cell_type": "code",
   "execution_count": 4,
   "metadata": {},
   "outputs": [
    {
     "name": "stdout",
     "output_type": "stream",
     "text": [
      "root\n",
      " |-- step: integer (nullable = true)\n",
      " |-- type: string (nullable = true)\n",
      " |-- amount: double (nullable = true)\n",
      " |-- nameOrig: string (nullable = true)\n",
      " |-- oldbalanceOrg: double (nullable = true)\n",
      " |-- newbalanceOrig: double (nullable = true)\n",
      " |-- nameDest: string (nullable = true)\n",
      " |-- oldbalanceDest: double (nullable = true)\n",
      " |-- newbalanceDest: double (nullable = true)\n",
      " |-- isFraud: integer (nullable = true)\n",
      " |-- isFlaggedFraud: integer (nullable = true)\n",
      "\n"
     ]
    }
   ],
   "source": [
    "data.printSchema()"
   ]
  },
  {
   "cell_type": "code",
   "execution_count": 5,
   "metadata": {},
   "outputs": [
    {
     "name": "stdout",
     "output_type": "stream",
     "text": [
      "+----+--------+---------+-----------+-------------+--------------+-----------+--------------+--------------+-------+--------------+\n",
      "|step|    type|   amount|   nameOrig|oldbalanceOrg|newbalanceOrig|   nameDest|oldbalanceDest|newbalanceDest|isFraud|isFlaggedFraud|\n",
      "+----+--------+---------+-----------+-------------+--------------+-----------+--------------+--------------+-------+--------------+\n",
      "|   1| PAYMENT|  9839.64|C1231006815|     170136.0|     160296.36|M1979787155|           0.0|           0.0|      0|             0|\n",
      "|   1| PAYMENT|  1864.28|C1666544295|      21249.0|      19384.72|M2044282225|           0.0|           0.0|      0|             0|\n",
      "|   1|TRANSFER|    181.0|C1305486145|        181.0|           0.0| C553264065|           0.0|           0.0|      1|             0|\n",
      "|   1|CASH_OUT|    181.0| C840083671|        181.0|           0.0|  C38997010|       21182.0|           0.0|      1|             0|\n",
      "|   1| PAYMENT| 11668.14|C2048537720|      41554.0|      29885.86|M1230701703|           0.0|           0.0|      0|             0|\n",
      "|   1| PAYMENT|  7817.71|  C90045638|      53860.0|      46042.29| M573487274|           0.0|           0.0|      0|             0|\n",
      "|   1| PAYMENT|  7107.77| C154988899|     183195.0|     176087.23| M408069119|           0.0|           0.0|      0|             0|\n",
      "|   1| PAYMENT|  7861.64|C1912850431|    176087.23|     168225.59| M633326333|           0.0|           0.0|      0|             0|\n",
      "|   1| PAYMENT|  4024.36|C1265012928|       2671.0|           0.0|M1176932104|           0.0|           0.0|      0|             0|\n",
      "|   1|   DEBIT|  5337.77| C712410124|      41720.0|      36382.23| C195600860|       41898.0|      40348.79|      0|             0|\n",
      "|   1|   DEBIT|  9644.94|C1900366749|       4465.0|           0.0| C997608398|       10845.0|     157982.12|      0|             0|\n",
      "|   1| PAYMENT|  3099.97| C249177573|      20771.0|      17671.03|M2096539129|           0.0|           0.0|      0|             0|\n",
      "|   1| PAYMENT|  2560.74|C1648232591|       5070.0|       2509.26| M972865270|           0.0|           0.0|      0|             0|\n",
      "|   1| PAYMENT| 11633.76|C1716932897|      10127.0|           0.0| M801569151|           0.0|           0.0|      0|             0|\n",
      "|   1| PAYMENT|  4098.78|C1026483832|     503264.0|     499165.22|M1635378213|           0.0|           0.0|      0|             0|\n",
      "|   1|CASH_OUT|229133.94| C905080434|      15325.0|           0.0| C476402209|        5083.0|      51513.44|      0|             0|\n",
      "|   1| PAYMENT|  1563.82| C761750706|        450.0|           0.0|M1731217984|           0.0|           0.0|      0|             0|\n",
      "|   1| PAYMENT|  1157.86|C1237762639|      21156.0|      19998.14|M1877062907|           0.0|           0.0|      0|             0|\n",
      "|   1| PAYMENT|   671.64|C2033524545|      15123.0|      14451.36| M473053293|           0.0|           0.0|      0|             0|\n",
      "|   1|TRANSFER| 215310.3|C1670993182|        705.0|           0.0|C1100439041|       22425.0|           0.0|      0|             0|\n",
      "+----+--------+---------+-----------+-------------+--------------+-----------+--------------+--------------+-------+--------------+\n",
      "only showing top 20 rows\n",
      "\n"
     ]
    }
   ],
   "source": [
    "data.show()"
   ]
  },
  {
   "cell_type": "code",
   "execution_count": 6,
   "metadata": {
    "collapsed": true
   },
   "outputs": [],
   "source": [
    "indexer = StringIndexer(inputCol=\"type\",outputCol=\"typeindex\")\n",
    "indexed = indexer.fit(data).transform(data)"
   ]
  },
  {
   "cell_type": "code",
   "execution_count": 7,
   "metadata": {},
   "outputs": [
    {
     "name": "stdout",
     "output_type": "stream",
     "text": [
      "+--------+---------+\n",
      "|    type|typeindex|\n",
      "+--------+---------+\n",
      "|TRANSFER|      3.0|\n",
      "|CASH_OUT|      0.0|\n",
      "| CASH_IN|      2.0|\n",
      "| PAYMENT|      1.0|\n",
      "|   DEBIT|      4.0|\n",
      "+--------+---------+\n",
      "\n"
     ]
    }
   ],
   "source": [
    "indexed.select(\"type\",\"typeindex\").distinct().show()"
   ]
  },
  {
   "cell_type": "code",
   "execution_count": 8,
   "metadata": {},
   "outputs": [
    {
     "name": "stdout",
     "output_type": "stream",
     "text": [
      "+----+--------+---------+-----------+-------------+--------------+-----------+--------------+--------------+-------+--------------+---------+----------------+\n",
      "|step|    type|   amount|   nameOrig|oldbalanceOrg|newbalanceOrig|   nameDest|oldbalanceDest|newbalanceDest|isFraud|isFlaggedFraud|typeindex|typeindexencoded|\n",
      "+----+--------+---------+-----------+-------------+--------------+-----------+--------------+--------------+-------+--------------+---------+----------------+\n",
      "|   1| PAYMENT|  9839.64|C1231006815|     170136.0|     160296.36|M1979787155|           0.0|           0.0|      0|             0|      1.0|   (4,[1],[1.0])|\n",
      "|   1| PAYMENT|  1864.28|C1666544295|      21249.0|      19384.72|M2044282225|           0.0|           0.0|      0|             0|      1.0|   (4,[1],[1.0])|\n",
      "|   1|TRANSFER|    181.0|C1305486145|        181.0|           0.0| C553264065|           0.0|           0.0|      1|             0|      3.0|   (4,[3],[1.0])|\n",
      "|   1|CASH_OUT|    181.0| C840083671|        181.0|           0.0|  C38997010|       21182.0|           0.0|      1|             0|      0.0|   (4,[0],[1.0])|\n",
      "|   1| PAYMENT| 11668.14|C2048537720|      41554.0|      29885.86|M1230701703|           0.0|           0.0|      0|             0|      1.0|   (4,[1],[1.0])|\n",
      "|   1| PAYMENT|  7817.71|  C90045638|      53860.0|      46042.29| M573487274|           0.0|           0.0|      0|             0|      1.0|   (4,[1],[1.0])|\n",
      "|   1| PAYMENT|  7107.77| C154988899|     183195.0|     176087.23| M408069119|           0.0|           0.0|      0|             0|      1.0|   (4,[1],[1.0])|\n",
      "|   1| PAYMENT|  7861.64|C1912850431|    176087.23|     168225.59| M633326333|           0.0|           0.0|      0|             0|      1.0|   (4,[1],[1.0])|\n",
      "|   1| PAYMENT|  4024.36|C1265012928|       2671.0|           0.0|M1176932104|           0.0|           0.0|      0|             0|      1.0|   (4,[1],[1.0])|\n",
      "|   1|   DEBIT|  5337.77| C712410124|      41720.0|      36382.23| C195600860|       41898.0|      40348.79|      0|             0|      4.0|       (4,[],[])|\n",
      "|   1|   DEBIT|  9644.94|C1900366749|       4465.0|           0.0| C997608398|       10845.0|     157982.12|      0|             0|      4.0|       (4,[],[])|\n",
      "|   1| PAYMENT|  3099.97| C249177573|      20771.0|      17671.03|M2096539129|           0.0|           0.0|      0|             0|      1.0|   (4,[1],[1.0])|\n",
      "|   1| PAYMENT|  2560.74|C1648232591|       5070.0|       2509.26| M972865270|           0.0|           0.0|      0|             0|      1.0|   (4,[1],[1.0])|\n",
      "|   1| PAYMENT| 11633.76|C1716932897|      10127.0|           0.0| M801569151|           0.0|           0.0|      0|             0|      1.0|   (4,[1],[1.0])|\n",
      "|   1| PAYMENT|  4098.78|C1026483832|     503264.0|     499165.22|M1635378213|           0.0|           0.0|      0|             0|      1.0|   (4,[1],[1.0])|\n",
      "|   1|CASH_OUT|229133.94| C905080434|      15325.0|           0.0| C476402209|        5083.0|      51513.44|      0|             0|      0.0|   (4,[0],[1.0])|\n",
      "|   1| PAYMENT|  1563.82| C761750706|        450.0|           0.0|M1731217984|           0.0|           0.0|      0|             0|      1.0|   (4,[1],[1.0])|\n",
      "|   1| PAYMENT|  1157.86|C1237762639|      21156.0|      19998.14|M1877062907|           0.0|           0.0|      0|             0|      1.0|   (4,[1],[1.0])|\n",
      "|   1| PAYMENT|   671.64|C2033524545|      15123.0|      14451.36| M473053293|           0.0|           0.0|      0|             0|      1.0|   (4,[1],[1.0])|\n",
      "|   1|TRANSFER| 215310.3|C1670993182|        705.0|           0.0|C1100439041|       22425.0|           0.0|      0|             0|      3.0|   (4,[3],[1.0])|\n",
      "+----+--------+---------+-----------+-------------+--------------+-----------+--------------+--------------+-------+--------------+---------+----------------+\n",
      "only showing top 20 rows\n",
      "\n"
     ]
    }
   ],
   "source": [
    "from pyspark.ml.feature import OneHotEncoder\n",
    "encoder1 = OneHotEncoder(inputCol=\"typeindex\",\n",
    "                        outputCol=\"typeindexencoded\")\n",
    "encoded1 = encoder1.transform(indexed)\n",
    "encoded1.show()"
   ]
  },
  {
   "cell_type": "code",
   "execution_count": 9,
   "metadata": {},
   "outputs": [
    {
     "name": "stdout",
     "output_type": "stream",
     "text": [
      "+--------------------+\n",
      "|            features|\n",
      "+--------------------+\n",
      "|(11,[1,4,5,6,7],[...|\n",
      "|(11,[1,4,5,6,7],[...|\n",
      "|(11,[3,4,5,6],[1....|\n",
      "|(11,[0,4,5,6,8],[...|\n",
      "|(11,[1,4,5,6,7],[...|\n",
      "|(11,[1,4,5,6,7],[...|\n",
      "|(11,[1,4,5,6,7],[...|\n",
      "|(11,[1,4,5,6,7],[...|\n",
      "|(11,[1,4,5,6],[1....|\n",
      "|(11,[4,5,6,7,8,9]...|\n",
      "|(11,[4,5,6,8,9],[...|\n",
      "|(11,[1,4,5,6,7],[...|\n",
      "|(11,[1,4,5,6,7],[...|\n",
      "|(11,[1,4,5,6],[1....|\n",
      "|(11,[1,4,5,6,7],[...|\n",
      "|(11,[0,4,5,6,8,9]...|\n",
      "|(11,[1,4,5,6],[1....|\n",
      "|(11,[1,4,5,6,7],[...|\n",
      "|(11,[1,4,5,6,7],[...|\n",
      "|(11,[3,4,5,6,8],[...|\n",
      "+--------------------+\n",
      "only showing top 20 rows\n",
      "\n"
     ]
    }
   ],
   "source": [
    "from pyspark.ml.feature import VectorAssembler\n",
    "assembler = VectorAssembler(inputCols=[\"typeindexencoded\",\"step\",\"amount\",\"oldbalanceOrg\",\"newbalanceOrig\",\"oldbalanceDest\",\"newbalanceDest\",\"isFlaggedFraud\"],outputCol=\"features\")\n",
    "assembled = assembler.transform(encoded1)\n",
    "assembled[['features']].show()"
   ]
  },
  {
   "cell_type": "code",
   "execution_count": 10,
   "metadata": {
    "collapsed": true
   },
   "outputs": [],
   "source": [
    "train_data , test_data = assembled.randomSplit([0.7,0.3])"
   ]
  },
  {
   "cell_type": "code",
   "execution_count": 11,
   "metadata": {
    "collapsed": true
   },
   "outputs": [],
   "source": [
    "lr = LogisticRegression(featuresCol='features',labelCol='isFraud')\n",
    "model = lr.fit(train_data)"
   ]
  },
  {
   "cell_type": "code",
   "execution_count": 12,
   "metadata": {},
   "outputs": [
    {
     "name": "stdout",
     "output_type": "stream",
     "text": [
      "+-------+-------+----------+-----------+\n",
      "|   type|isFraud|prediction|probability|\n",
      "+-------+-------+----------+-----------+\n",
      "|CASH_IN|      0|       0.0|  [1.0,0.0]|\n",
      "|CASH_IN|      0|       0.0|  [1.0,0.0]|\n",
      "|CASH_IN|      0|       0.0|  [1.0,0.0]|\n",
      "|CASH_IN|      0|       0.0|  [1.0,0.0]|\n",
      "|CASH_IN|      0|       0.0|  [1.0,0.0]|\n",
      "|CASH_IN|      0|       0.0|  [1.0,0.0]|\n",
      "|CASH_IN|      0|       0.0|  [1.0,0.0]|\n",
      "|CASH_IN|      0|       0.0|  [1.0,0.0]|\n",
      "|CASH_IN|      0|       0.0|  [1.0,0.0]|\n",
      "|CASH_IN|      0|       0.0|  [1.0,0.0]|\n",
      "|CASH_IN|      0|       0.0|  [1.0,0.0]|\n",
      "|CASH_IN|      0|       0.0|  [1.0,0.0]|\n",
      "|CASH_IN|      0|       0.0|  [1.0,0.0]|\n",
      "|CASH_IN|      0|       0.0|  [1.0,0.0]|\n",
      "|CASH_IN|      0|       0.0|  [1.0,0.0]|\n",
      "|CASH_IN|      0|       0.0|  [1.0,0.0]|\n",
      "|CASH_IN|      0|       0.0|  [1.0,0.0]|\n",
      "|CASH_IN|      0|       0.0|  [1.0,0.0]|\n",
      "|CASH_IN|      0|       0.0|  [1.0,0.0]|\n",
      "|CASH_IN|      0|       0.0|  [1.0,0.0]|\n",
      "+-------+-------+----------+-----------+\n",
      "only showing top 20 rows\n",
      "\n"
     ]
    }
   ],
   "source": [
    "predict = model.transform(test_data)\n",
    "predict[['type','isFraud','prediction','probability']].show()"
   ]
  },
  {
   "cell_type": "code",
   "execution_count": 13,
   "metadata": {},
   "outputs": [
    {
     "name": "stdout",
     "output_type": "stream",
     "text": [
      "+--------+-------+----------+\n",
      "|    type|isFraud|prediction|\n",
      "+--------+-------+----------+\n",
      "|TRANSFER|      1|       1.0|\n",
      "|CASH_OUT|      1|       1.0|\n",
      "|CASH_OUT|      1|       1.0|\n",
      "|TRANSFER|      1|       1.0|\n",
      "|TRANSFER|      1|       1.0|\n",
      "|CASH_OUT|      1|       1.0|\n",
      "|TRANSFER|      0|       1.0|\n",
      "|CASH_OUT|      0|       1.0|\n",
      "|TRANSFER|      0|       1.0|\n",
      "|TRANSFER|      0|       1.0|\n",
      "|TRANSFER|      0|       1.0|\n",
      "|CASH_OUT|      0|       1.0|\n",
      "|CASH_OUT|      0|       1.0|\n",
      "|CASH_OUT|      0|       1.0|\n",
      "|CASH_OUT|      0|       1.0|\n",
      "|CASH_OUT|      0|       1.0|\n",
      "|CASH_OUT|      0|       1.0|\n",
      "|TRANSFER|      1|       1.0|\n",
      "|TRANSFER|      0|       1.0|\n",
      "|TRANSFER|      1|       1.0|\n",
      "|TRANSFER|      1|       1.0|\n",
      "|TRANSFER|      0|       1.0|\n",
      "|CASH_OUT|      0|       1.0|\n",
      "|CASH_OUT|      0|       1.0|\n",
      "|CASH_OUT|      0|       1.0|\n",
      "|TRANSFER|      1|       1.0|\n",
      "|TRANSFER|      0|       1.0|\n",
      "|TRANSFER|      0|       1.0|\n",
      "|TRANSFER|      0|       1.0|\n",
      "|TRANSFER|      0|       1.0|\n",
      "|TRANSFER|      0|       1.0|\n",
      "|CASH_OUT|      0|       1.0|\n",
      "|TRANSFER|      0|       1.0|\n",
      "|TRANSFER|      0|       1.0|\n",
      "|TRANSFER|      0|       1.0|\n",
      "|CASH_OUT|      0|       1.0|\n",
      "|TRANSFER|      0|       1.0|\n",
      "|TRANSFER|      0|       1.0|\n",
      "|TRANSFER|      0|       1.0|\n",
      "|TRANSFER|      1|       1.0|\n",
      "|CASH_OUT|      1|       1.0|\n",
      "|CASH_OUT|      1|       1.0|\n",
      "|TRANSFER|      0|       1.0|\n",
      "|TRANSFER|      1|       1.0|\n",
      "|TRANSFER|      0|       1.0|\n",
      "|TRANSFER|      0|       1.0|\n",
      "|CASH_OUT|      1|       1.0|\n",
      "|TRANSFER|      0|       1.0|\n",
      "|TRANSFER|      0|       1.0|\n",
      "|CASH_OUT|      1|       1.0|\n",
      "|CASH_OUT|      1|       1.0|\n",
      "|TRANSFER|      1|       1.0|\n",
      "|TRANSFER|      1|       1.0|\n",
      "|CASH_OUT|      1|       1.0|\n",
      "|TRANSFER|      1|       1.0|\n",
      "|CASH_OUT|      1|       1.0|\n",
      "|TRANSFER|      0|       1.0|\n",
      "|CASH_OUT|      1|       1.0|\n",
      "|TRANSFER|      1|       1.0|\n",
      "|CASH_OUT|      1|       1.0|\n",
      "|TRANSFER|      1|       1.0|\n",
      "|TRANSFER|      1|       1.0|\n",
      "|TRANSFER|      1|       1.0|\n",
      "|TRANSFER|      1|       1.0|\n",
      "|TRANSFER|      1|       1.0|\n",
      "|TRANSFER|      1|       1.0|\n",
      "|CASH_OUT|      1|       1.0|\n",
      "|CASH_OUT|      1|       1.0|\n",
      "|TRANSFER|      0|       1.0|\n",
      "|CASH_OUT|      1|       1.0|\n",
      "|TRANSFER|      1|       1.0|\n",
      "|CASH_OUT|      1|       1.0|\n",
      "|TRANSFER|      1|       1.0|\n",
      "|TRANSFER|      1|       1.0|\n",
      "|CASH_OUT|      1|       1.0|\n",
      "|CASH_OUT|      1|       1.0|\n",
      "|CASH_OUT|      1|       1.0|\n",
      "|CASH_OUT|      1|       1.0|\n",
      "|CASH_OUT|      1|       1.0|\n",
      "|TRANSFER|      0|       1.0|\n",
      "|TRANSFER|      1|       1.0|\n",
      "|TRANSFER|      1|       1.0|\n",
      "|TRANSFER|      1|       1.0|\n",
      "|TRANSFER|      1|       1.0|\n",
      "|TRANSFER|      1|       1.0|\n",
      "|TRANSFER|      1|       1.0|\n",
      "|CASH_OUT|      1|       1.0|\n",
      "|CASH_OUT|      1|       1.0|\n",
      "|TRANSFER|      1|       1.0|\n",
      "|TRANSFER|      1|       1.0|\n",
      "|TRANSFER|      1|       1.0|\n",
      "|TRANSFER|      1|       1.0|\n",
      "|CASH_OUT|      1|       1.0|\n",
      "|TRANSFER|      1|       1.0|\n",
      "|TRANSFER|      1|       1.0|\n",
      "|CASH_OUT|      1|       1.0|\n",
      "|TRANSFER|      1|       1.0|\n",
      "|TRANSFER|      1|       1.0|\n",
      "|TRANSFER|      1|       1.0|\n",
      "|TRANSFER|      1|       1.0|\n",
      "+--------+-------+----------+\n",
      "only showing top 100 rows\n",
      "\n"
     ]
    }
   ],
   "source": [
    "final = predict.select('type','isFraud','prediction').where(\"prediction = 1.0\").show(100)"
   ]
  },
  {
   "cell_type": "code",
   "execution_count": 14,
   "metadata": {},
   "outputs": [
    {
     "ename": "AnalysisException",
     "evalue": "u'path hdfs://nameservice1/user/edureka_1118556/FraudDetection already exists.;'",
     "output_type": "error",
     "traceback": [
      "\u001b[0;31m\u001b[0m",
      "\u001b[0;31mAnalysisException\u001b[0mTraceback (most recent call last)",
      "\u001b[0;32m<ipython-input-14-9810dbce3049>\u001b[0m in \u001b[0;36m<module>\u001b[0;34m()\u001b[0m\n\u001b[0;32m----> 1\u001b[0;31m \u001b[0mpredict\u001b[0m\u001b[0;34m.\u001b[0m\u001b[0mselect\u001b[0m\u001b[0;34m(\u001b[0m\u001b[0;34m'type'\u001b[0m\u001b[0;34m,\u001b[0m\u001b[0;34m'isFraud'\u001b[0m\u001b[0;34m,\u001b[0m\u001b[0;34m'prediction'\u001b[0m\u001b[0;34m)\u001b[0m\u001b[0;34m.\u001b[0m\u001b[0mwrite\u001b[0m\u001b[0;34m.\u001b[0m\u001b[0msave\u001b[0m\u001b[0;34m(\u001b[0m\u001b[0;34m\"hdfs://nameservice1/user/edureka_1118556/FraudDetection\"\u001b[0m\u001b[0;34m,\u001b[0m\u001b[0mformat\u001b[0m\u001b[0;34m=\u001b[0m\u001b[0;34m\"csv\"\u001b[0m\u001b[0;34m)\u001b[0m\u001b[0;34m\u001b[0m\u001b[0m\n\u001b[0m",
      "\u001b[0;32m/opt/cloudera/parcels/SPARK2/lib/spark2/python/pyspark/sql/readwriter.pyc\u001b[0m in \u001b[0;36msave\u001b[0;34m(self, path, format, mode, partitionBy, **options)\u001b[0m\n\u001b[1;32m    548\u001b[0m             \u001b[0mself\u001b[0m\u001b[0;34m.\u001b[0m\u001b[0m_jwrite\u001b[0m\u001b[0;34m.\u001b[0m\u001b[0msave\u001b[0m\u001b[0;34m(\u001b[0m\u001b[0;34m)\u001b[0m\u001b[0;34m\u001b[0m\u001b[0m\n\u001b[1;32m    549\u001b[0m         \u001b[0;32melse\u001b[0m\u001b[0;34m:\u001b[0m\u001b[0;34m\u001b[0m\u001b[0m\n\u001b[0;32m--> 550\u001b[0;31m             \u001b[0mself\u001b[0m\u001b[0;34m.\u001b[0m\u001b[0m_jwrite\u001b[0m\u001b[0;34m.\u001b[0m\u001b[0msave\u001b[0m\u001b[0;34m(\u001b[0m\u001b[0mpath\u001b[0m\u001b[0;34m)\u001b[0m\u001b[0;34m\u001b[0m\u001b[0m\n\u001b[0m\u001b[1;32m    551\u001b[0m \u001b[0;34m\u001b[0m\u001b[0m\n\u001b[1;32m    552\u001b[0m     \u001b[0;34m@\u001b[0m\u001b[0msince\u001b[0m\u001b[0;34m(\u001b[0m\u001b[0;36m1.4\u001b[0m\u001b[0;34m)\u001b[0m\u001b[0;34m\u001b[0m\u001b[0m\n",
      "\u001b[0;32m/opt/cloudera/parcels/SPARK2/lib/spark2/python/lib/py4j-0.10.4-src.zip/py4j/java_gateway.py\u001b[0m in \u001b[0;36m__call__\u001b[0;34m(self, *args)\u001b[0m\n\u001b[1;32m   1131\u001b[0m         \u001b[0manswer\u001b[0m \u001b[0;34m=\u001b[0m \u001b[0mself\u001b[0m\u001b[0;34m.\u001b[0m\u001b[0mgateway_client\u001b[0m\u001b[0;34m.\u001b[0m\u001b[0msend_command\u001b[0m\u001b[0;34m(\u001b[0m\u001b[0mcommand\u001b[0m\u001b[0;34m)\u001b[0m\u001b[0;34m\u001b[0m\u001b[0m\n\u001b[1;32m   1132\u001b[0m         return_value = get_return_value(\n\u001b[0;32m-> 1133\u001b[0;31m             answer, self.gateway_client, self.target_id, self.name)\n\u001b[0m\u001b[1;32m   1134\u001b[0m \u001b[0;34m\u001b[0m\u001b[0m\n\u001b[1;32m   1135\u001b[0m         \u001b[0;32mfor\u001b[0m \u001b[0mtemp_arg\u001b[0m \u001b[0;32min\u001b[0m \u001b[0mtemp_args\u001b[0m\u001b[0;34m:\u001b[0m\u001b[0;34m\u001b[0m\u001b[0m\n",
      "\u001b[0;32m/opt/cloudera/parcels/SPARK2/lib/spark2/python/pyspark/sql/utils.pyc\u001b[0m in \u001b[0;36mdeco\u001b[0;34m(*a, **kw)\u001b[0m\n\u001b[1;32m     67\u001b[0m                                              e.java_exception.getStackTrace()))\n\u001b[1;32m     68\u001b[0m             \u001b[0;32mif\u001b[0m \u001b[0ms\u001b[0m\u001b[0;34m.\u001b[0m\u001b[0mstartswith\u001b[0m\u001b[0;34m(\u001b[0m\u001b[0;34m'org.apache.spark.sql.AnalysisException: '\u001b[0m\u001b[0;34m)\u001b[0m\u001b[0;34m:\u001b[0m\u001b[0;34m\u001b[0m\u001b[0m\n\u001b[0;32m---> 69\u001b[0;31m                 \u001b[0;32mraise\u001b[0m \u001b[0mAnalysisException\u001b[0m\u001b[0;34m(\u001b[0m\u001b[0ms\u001b[0m\u001b[0;34m.\u001b[0m\u001b[0msplit\u001b[0m\u001b[0;34m(\u001b[0m\u001b[0;34m': '\u001b[0m\u001b[0;34m,\u001b[0m \u001b[0;36m1\u001b[0m\u001b[0;34m)\u001b[0m\u001b[0;34m[\u001b[0m\u001b[0;36m1\u001b[0m\u001b[0;34m]\u001b[0m\u001b[0;34m,\u001b[0m \u001b[0mstackTrace\u001b[0m\u001b[0;34m)\u001b[0m\u001b[0;34m\u001b[0m\u001b[0m\n\u001b[0m\u001b[1;32m     70\u001b[0m             \u001b[0;32mif\u001b[0m \u001b[0ms\u001b[0m\u001b[0;34m.\u001b[0m\u001b[0mstartswith\u001b[0m\u001b[0;34m(\u001b[0m\u001b[0;34m'org.apache.spark.sql.catalyst.analysis'\u001b[0m\u001b[0;34m)\u001b[0m\u001b[0;34m:\u001b[0m\u001b[0;34m\u001b[0m\u001b[0m\n\u001b[1;32m     71\u001b[0m                 \u001b[0;32mraise\u001b[0m \u001b[0mAnalysisException\u001b[0m\u001b[0;34m(\u001b[0m\u001b[0ms\u001b[0m\u001b[0;34m.\u001b[0m\u001b[0msplit\u001b[0m\u001b[0;34m(\u001b[0m\u001b[0;34m': '\u001b[0m\u001b[0;34m,\u001b[0m \u001b[0;36m1\u001b[0m\u001b[0;34m)\u001b[0m\u001b[0;34m[\u001b[0m\u001b[0;36m1\u001b[0m\u001b[0;34m]\u001b[0m\u001b[0;34m,\u001b[0m \u001b[0mstackTrace\u001b[0m\u001b[0;34m)\u001b[0m\u001b[0;34m\u001b[0m\u001b[0m\n",
      "\u001b[0;31mAnalysisException\u001b[0m: u'path hdfs://nameservice1/user/edureka_1118556/FraudDetection already exists.;'"
     ]
    }
   ],
   "source": [
    "#predict.select('type','isFraud','prediction').write.save(\"hdfs://nameservice1/user/edureka_1118556/FraudDetection\",format=\"csv\")"
   ]
  },
  {
   "cell_type": "code",
   "execution_count": 15,
   "metadata": {
    "collapsed": true
   },
   "outputs": [],
   "source": [
    "from pyspark.ml.evaluation import BinaryClassificationEvaluator\n",
    "my_eval = BinaryClassificationEvaluator(rawPredictionCol='prediction', labelCol='isFraud')\n",
    "AUC = my_eval.evaluate(predict)"
   ]
  },
  {
   "cell_type": "code",
   "execution_count": 16,
   "metadata": {},
   "outputs": [
    {
     "data": {
      "text/plain": [
       "0.7622510887884176"
      ]
     },
     "execution_count": 16,
     "metadata": {},
     "output_type": "execute_result"
    }
   ],
   "source": [
    "AUC"
   ]
  },
  {
   "cell_type": "code",
   "execution_count": 21,
   "metadata": {},
   "outputs": [],
   "source": [
    "streaming = StreamingContext(spark.sparkContext,60)"
   ]
  },
  {
   "cell_type": "code",
   "execution_count": 22,
   "metadata": {
    "collapsed": true
   },
   "outputs": [],
   "source": [
    "model.save(\"hdfs://nameservice1/user/edureka_1118556/FraudDetectiontrainedmodel\")"
   ]
  },
  {
   "cell_type": "code",
   "execution_count": null,
   "metadata": {
    "collapsed": true
   },
   "outputs": [],
   "source": []
  }
 ],
 "metadata": {
  "kernelspec": {
   "display_name": "PySpark",
   "language": "python",
   "name": "pyspark"
  },
  "language_info": {
   "codemirror_mode": {
    "name": "ipython",
    "version": 2
   },
   "file_extension": ".py",
   "mimetype": "text/x-python",
   "name": "python",
   "nbconvert_exporter": "python",
   "pygments_lexer": "ipython2",
   "version": "2.7.14"
  }
 },
 "nbformat": 4,
 "nbformat_minor": 2
}
