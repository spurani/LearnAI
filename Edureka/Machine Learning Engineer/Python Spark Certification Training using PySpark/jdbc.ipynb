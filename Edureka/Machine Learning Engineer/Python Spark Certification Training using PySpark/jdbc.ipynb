{
 "cells": [
  {
   "cell_type": "code",
   "execution_count": 6,
   "metadata": {
    "collapsed": true
   },
   "outputs": [],
   "source": [
    "from pyspark.sql import SQLContext\n",
    "from pyspark import SparkConf\n",
    "from pyspark import SparkContext\n",
    "import os\n"
   ]
  },
  {
   "cell_type": "code",
   "execution_count": 7,
   "metadata": {},
   "outputs": [],
   "source": [
    "conf = SparkConf().set(\"spark.jars\", \"/usr/share/java/mysql-connector-java.jar\")\n",
    "sc = SparkContext(appName=\"TestPySparkJDBC\", conf=conf)\n",
    "sqlContext = SQLContext(sc)\n"
   ]
  },
  {
   "cell_type": "code",
   "execution_count": 8,
   "metadata": {
    "collapsed": true
   },
   "outputs": [],
   "source": [
    "jdbcDF = sqlContext.read.format(\"jdbc\").option(\"url\", \"jdbc:mysql://dbserver.edu.cloudlab.com/labuser_database\").option(\"dbtable\", \"authors_test\").option(\"user\", \"edu_labuser\").option(\"password\", \"edureka\").option(\"driver\", 'com.mysql.jdbc.Driver').load()"
   ]
  },
  {
   "cell_type": "code",
   "execution_count": 9,
   "metadata": {},
   "outputs": [
    {
     "name": "stdout",
     "output_type": "stream",
     "text": [
      "+---+-----+-----------+\n",
      "| id| name|      email|\n",
      "+---+-----+-----------+\n",
      "|  1|Vivek|xuz@abc.com|\n",
      "+---+-----+-----------+\n",
      "\n"
     ]
    }
   ],
   "source": [
    "jdbcDF.show()\n"
   ]
  },
  {
   "cell_type": "code",
   "execution_count": 10,
   "metadata": {
    "collapsed": true
   },
   "outputs": [],
   "source": [
    "jdbcDF.write \\\n",
    "    .format(\"jdbc\") \\\n",
    "    .option(\"url\", \"jdbc:mysql://dbserver.edu.cloudlab.com/labuser_database\") \\\n",
    "    .option(\"dbtable\", \"authors_test1\") \\\n",
    "    .option(\"user\", \"edu_labuser\") \\\n",
    "    .option(\"password\", \"edureka\") \\\n",
    "    .option(\"driver\", 'com.mysql.jdbc.Driver') \\\n",
    "    .mode('Overwrite').save()"
   ]
  },
  {
   "cell_type": "code",
   "execution_count": 5,
   "metadata": {
    "collapsed": true
   },
   "outputs": [],
   "source": [
    "sc.stop()"
   ]
  },
  {
   "cell_type": "code",
   "execution_count": null,
   "metadata": {
    "collapsed": true
   },
   "outputs": [],
   "source": []
  }
 ],
 "metadata": {
  "kernelspec": {
   "display_name": "Python 3",
   "language": "python",
   "name": "python3"
  },
  "language_info": {
   "codemirror_mode": {
    "name": "ipython",
    "version": 3
   },
   "file_extension": ".py",
   "mimetype": "text/x-python",
   "name": "python",
   "nbconvert_exporter": "python",
   "pygments_lexer": "ipython3",
   "version": "3.6.5"
  }
 },
 "nbformat": 4,
 "nbformat_minor": 2
}
