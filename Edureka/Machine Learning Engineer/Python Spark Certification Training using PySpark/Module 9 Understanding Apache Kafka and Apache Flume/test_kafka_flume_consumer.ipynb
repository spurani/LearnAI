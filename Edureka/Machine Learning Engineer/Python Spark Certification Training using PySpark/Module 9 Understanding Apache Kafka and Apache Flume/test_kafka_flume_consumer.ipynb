{
 "cells": [
  {
   "cell_type": "code",
   "execution_count": 1,
   "metadata": {
    "collapsed": true
   },
   "outputs": [],
   "source": [
    "from kafka import KafkaProducer, KafkaConsumer\n",
    "import json\n"
   ]
  },
  {
   "cell_type": "code",
   "execution_count": 9,
   "metadata": {
    "collapsed": true
   },
   "outputs": [],
   "source": [
    "bootstraps = ['ip-20-0-31-210.ec2.internal:9092']"
   ]
  },
  {
   "cell_type": "code",
   "execution_count": 10,
   "metadata": {
    "collapsed": true
   },
   "outputs": [],
   "source": [
    "consumer = KafkaConsumer(bootstrap_servers=bootstraps,\n",
    "                              auto_offset_reset='earliest',\n",
    "                              api_version=(0, 10),\n",
    "                              consumer_timeout_ms=1000,\n",
    "                              value_deserializer=lambda m: json.dumps(m.decode('ascii')))"
   ]
  },
  {
   "cell_type": "code",
   "execution_count": 11,
   "metadata": {
    "collapsed": true
   },
   "outputs": [],
   "source": [
    "consumer.subscribe(\"test_kafka_flume\")"
   ]
  },
  {
   "cell_type": "code",
   "execution_count": 13,
   "metadata": {},
   "outputs": [
    {
     "name": "stdout",
     "output_type": "stream",
     "text": [
      "ConsumerRecord(topic=u'test_kafka_flume', partition=0, offset=13, timestamp=1613104314045, timestamp_type=0, key=None, value='\"[23.9975, 219.25]\"', headers=[], checksum=269829693, serialized_key_size=-1, serialized_value_size=17, serialized_header_size=-1)\n",
      "ConsumerRecord(topic=u'test_kafka_flume', partition=0, offset=14, timestamp=1613104314045, timestamp_type=0, key=None, value='\"[57.4925, 482.75]\"', headers=[], checksum=1680834591, serialized_key_size=-1, serialized_value_size=17, serialized_header_size=-1)\n",
      "ConsumerRecord(topic=u'test_kafka_flume', partition=0, offset=15, timestamp=1613104314045, timestamp_type=0, key=None, value='\"[16.99, 10.25]\"', headers=[], checksum=4268845239, serialized_key_size=-1, serialized_value_size=14, serialized_header_size=-1)\n",
      "ConsumerRecord(topic=u'test_kafka_flume', partition=0, offset=16, timestamp=1613104314045, timestamp_type=0, key=None, value='\"[38.0, 7.5]\"', headers=[], checksum=3455023016, serialized_key_size=-1, serialized_value_size=11, serialized_header_size=-1)\n",
      "ConsumerRecord(topic=u'test_kafka_flume', partition=0, offset=17, timestamp=1613104314045, timestamp_type=0, key=None, value='\"[55.23, 570.5]\"', headers=[], checksum=2832418054, serialized_key_size=-1, serialized_value_size=14, serialized_header_size=-1)\n",
      "ConsumerRecord(topic=u'test_kafka_flume', partition=0, offset=18, timestamp=1613104314046, timestamp_type=0, key=None, value='\"[82.275, 1312.25]\"', headers=[], checksum=2779204955, serialized_key_size=-1, serialized_value_size=17, serialized_header_size=-1)\n",
      "ConsumerRecord(topic=u'test_kafka_flume', partition=0, offset=19, timestamp=1613104314046, timestamp_type=0, key=None, value='\"[17.145, 0.0]\"', headers=[], checksum=2802351565, serialized_key_size=-1, serialized_value_size=13, serialized_header_size=-1)\n",
      "ConsumerRecord(topic=u'test_kafka_flume', partition=0, offset=20, timestamp=1613104314046, timestamp_type=0, key=None, value='\"[38.0525, 682.5]\"', headers=[], checksum=3102486829, serialized_key_size=-1, serialized_value_size=16, serialized_header_size=-1)\n",
      "ConsumerRecord(topic=u'test_kafka_flume', partition=0, offset=21, timestamp=1613104314046, timestamp_type=0, key=None, value='\"[97.3375, 1039.0]\"', headers=[], checksum=4144790450, serialized_key_size=-1, serialized_value_size=17, serialized_header_size=-1)\n",
      "ConsumerRecord(topic=u'test_kafka_flume', partition=0, offset=22, timestamp=1613104314046, timestamp_type=0, key=None, value='\"[31.6625, 25.5]\"', headers=[], checksum=1252882105, serialized_key_size=-1, serialized_value_size=15, serialized_header_size=-1)\n"
     ]
    }
   ],
   "source": [
    "for message in consumer:\n",
    "    print(message)"
   ]
  },
  {
   "cell_type": "code",
   "execution_count": 11,
   "metadata": {
    "collapsed": true
   },
   "outputs": [],
   "source": [
    "consumer.close()"
   ]
  },
  {
   "cell_type": "code",
   "execution_count": null,
   "metadata": {
    "collapsed": true
   },
   "outputs": [],
   "source": []
  }
 ],
 "metadata": {
  "kernelspec": {
   "display_name": "PySpark",
   "language": "python",
   "name": "pyspark"
  },
  "language_info": {
   "codemirror_mode": {
    "name": "ipython",
    "version": 2
   },
   "file_extension": ".py",
   "mimetype": "text/x-python",
   "name": "python",
   "nbconvert_exporter": "python",
   "pygments_lexer": "ipython2",
   "version": "2.7.14"
  }
 },
 "nbformat": 4,
 "nbformat_minor": 2
}
