{
 "cells": [
  {
   "cell_type": "code",
   "execution_count": 1,
   "metadata": {},
   "outputs": [],
   "source": [
    "import pyspark\n",
    "from pyspark import SparkContext\n",
    "from pyspark.sql import SparkSession, HiveContext\n",
    "from pyspark.ml.feature import Tokenizer, RegexTokenizer\n",
    "from pyspark.sql.functions import *\n",
    "from pyspark.sql.types import IntegerType\n",
    "from pyspark.ml.feature import StopWordsRemover"
   ]
  },
  {
   "cell_type": "code",
   "execution_count": 2,
   "metadata": {},
   "outputs": [],
   "source": [
    "spark = SparkSession.builder.enableHiveSupport().getOrCreate()"
   ]
  },
  {
   "cell_type": "code",
   "execution_count": 4,
   "metadata": {},
   "outputs": [
    {
     "ename": "IllegalArgumentException",
     "evalue": "java.net.UnknownHostException: nameservice1",
     "output_type": "error",
     "traceback": [
      "\u001b[1;31m---------------------------------------------------------------------------\u001b[0m",
      "\u001b[1;31mIllegalArgumentException\u001b[0m                  Traceback (most recent call last)",
      "\u001b[1;32m<ipython-input-4-4f0d75934445>\u001b[0m in \u001b[0;36m<module>\u001b[1;34m\u001b[0m\n\u001b[0;32m      7\u001b[0m \u001b[0mdata\u001b[0m \u001b[1;33m=\u001b[0m \u001b[0mspark\u001b[0m\u001b[1;33m.\u001b[0m\u001b[0mread\u001b[0m\u001b[1;33m.\u001b[0m\u001b[0mformat\u001b[0m\u001b[1;33m(\u001b[0m\u001b[1;34m'csv'\u001b[0m\u001b[1;33m)\u001b[0m\u001b[0;31m \u001b[0m\u001b[0;31m\\\u001b[0m\u001b[1;33m\u001b[0m\u001b[0m\n\u001b[0;32m      8\u001b[0m                 \u001b[1;33m.\u001b[0m\u001b[0moption\u001b[0m\u001b[1;33m(\u001b[0m\u001b[1;34m'delimiter'\u001b[0m\u001b[1;33m,\u001b[0m \u001b[1;34m\"\\t\"\u001b[0m\u001b[1;33m)\u001b[0m\u001b[0;31m \u001b[0m\u001b[0;31m\\\u001b[0m\u001b[1;33m\u001b[0m\u001b[0m\n\u001b[1;32m----> 9\u001b[1;33m                 \u001b[1;33m.\u001b[0m\u001b[0mload\u001b[0m\u001b[1;33m(\u001b[0m\u001b[1;34m\"hdfs://nameservice1/user/edureka_1118556/SMSSpamCollection\"\u001b[0m\u001b[1;33m)\u001b[0m\u001b[1;33m.\u001b[0m\u001b[0mtoDF\u001b[0m\u001b[1;33m(\u001b[0m\u001b[1;34m\"Spam\"\u001b[0m\u001b[1;33m,\u001b[0m\u001b[1;34m\"Message\"\u001b[0m\u001b[1;33m)\u001b[0m\u001b[1;33m\u001b[0m\u001b[0m\n\u001b[0m\u001b[0;32m     10\u001b[0m \u001b[0mdata\u001b[0m\u001b[1;33m.\u001b[0m\u001b[0mshow\u001b[0m\u001b[1;33m(\u001b[0m\u001b[1;33m)\u001b[0m\u001b[1;33m\u001b[0m\u001b[0m\n\u001b[0;32m     11\u001b[0m \u001b[0mprint\u001b[0m\u001b[1;33m(\u001b[0m\u001b[1;34mf'Record count is: {data.count()}'\u001b[0m\u001b[1;33m)\u001b[0m\u001b[1;33m\u001b[0m\u001b[0m\n",
      "\u001b[1;32m~\\Anaconda3\\lib\\site-packages\\pyspark\\sql\\readwriter.py\u001b[0m in \u001b[0;36mload\u001b[1;34m(self, path, format, schema, **options)\u001b[0m\n\u001b[0;32m    176\u001b[0m         \u001b[0mself\u001b[0m\u001b[1;33m.\u001b[0m\u001b[0moptions\u001b[0m\u001b[1;33m(\u001b[0m\u001b[1;33m**\u001b[0m\u001b[0moptions\u001b[0m\u001b[1;33m)\u001b[0m\u001b[1;33m\u001b[0m\u001b[0m\n\u001b[0;32m    177\u001b[0m         \u001b[1;32mif\u001b[0m \u001b[0misinstance\u001b[0m\u001b[1;33m(\u001b[0m\u001b[0mpath\u001b[0m\u001b[1;33m,\u001b[0m \u001b[0mbasestring\u001b[0m\u001b[1;33m)\u001b[0m\u001b[1;33m:\u001b[0m\u001b[1;33m\u001b[0m\u001b[0m\n\u001b[1;32m--> 178\u001b[1;33m             \u001b[1;32mreturn\u001b[0m \u001b[0mself\u001b[0m\u001b[1;33m.\u001b[0m\u001b[0m_df\u001b[0m\u001b[1;33m(\u001b[0m\u001b[0mself\u001b[0m\u001b[1;33m.\u001b[0m\u001b[0m_jreader\u001b[0m\u001b[1;33m.\u001b[0m\u001b[0mload\u001b[0m\u001b[1;33m(\u001b[0m\u001b[0mpath\u001b[0m\u001b[1;33m)\u001b[0m\u001b[1;33m)\u001b[0m\u001b[1;33m\u001b[0m\u001b[0m\n\u001b[0m\u001b[0;32m    179\u001b[0m         \u001b[1;32melif\u001b[0m \u001b[0mpath\u001b[0m \u001b[1;32mis\u001b[0m \u001b[1;32mnot\u001b[0m \u001b[1;32mNone\u001b[0m\u001b[1;33m:\u001b[0m\u001b[1;33m\u001b[0m\u001b[0m\n\u001b[0;32m    180\u001b[0m             \u001b[1;32mif\u001b[0m \u001b[0mtype\u001b[0m\u001b[1;33m(\u001b[0m\u001b[0mpath\u001b[0m\u001b[1;33m)\u001b[0m \u001b[1;33m!=\u001b[0m \u001b[0mlist\u001b[0m\u001b[1;33m:\u001b[0m\u001b[1;33m\u001b[0m\u001b[0m\n",
      "\u001b[1;32m~\\Anaconda3\\lib\\site-packages\\py4j\\java_gateway.py\u001b[0m in \u001b[0;36m__call__\u001b[1;34m(self, *args)\u001b[0m\n\u001b[0;32m   1303\u001b[0m         \u001b[0manswer\u001b[0m \u001b[1;33m=\u001b[0m \u001b[0mself\u001b[0m\u001b[1;33m.\u001b[0m\u001b[0mgateway_client\u001b[0m\u001b[1;33m.\u001b[0m\u001b[0msend_command\u001b[0m\u001b[1;33m(\u001b[0m\u001b[0mcommand\u001b[0m\u001b[1;33m)\u001b[0m\u001b[1;33m\u001b[0m\u001b[0m\n\u001b[0;32m   1304\u001b[0m         return_value = get_return_value(\n\u001b[1;32m-> 1305\u001b[1;33m             answer, self.gateway_client, self.target_id, self.name)\n\u001b[0m\u001b[0;32m   1306\u001b[0m \u001b[1;33m\u001b[0m\u001b[0m\n\u001b[0;32m   1307\u001b[0m         \u001b[1;32mfor\u001b[0m \u001b[0mtemp_arg\u001b[0m \u001b[1;32min\u001b[0m \u001b[0mtemp_args\u001b[0m\u001b[1;33m:\u001b[0m\u001b[1;33m\u001b[0m\u001b[0m\n",
      "\u001b[1;32m~\\Anaconda3\\lib\\site-packages\\pyspark\\sql\\utils.py\u001b[0m in \u001b[0;36mdeco\u001b[1;34m(*a, **kw)\u001b[0m\n\u001b[0;32m    132\u001b[0m                 \u001b[1;31m# Hide where the exception came from that shows a non-Pythonic\u001b[0m\u001b[1;33m\u001b[0m\u001b[1;33m\u001b[0m\u001b[0m\n\u001b[0;32m    133\u001b[0m                 \u001b[1;31m# JVM exception message.\u001b[0m\u001b[1;33m\u001b[0m\u001b[1;33m\u001b[0m\u001b[0m\n\u001b[1;32m--> 134\u001b[1;33m                 \u001b[0mraise_from\u001b[0m\u001b[1;33m(\u001b[0m\u001b[0mconverted\u001b[0m\u001b[1;33m)\u001b[0m\u001b[1;33m\u001b[0m\u001b[0m\n\u001b[0m\u001b[0;32m    135\u001b[0m             \u001b[1;32melse\u001b[0m\u001b[1;33m:\u001b[0m\u001b[1;33m\u001b[0m\u001b[0m\n\u001b[0;32m    136\u001b[0m                 \u001b[1;32mraise\u001b[0m\u001b[1;33m\u001b[0m\u001b[0m\n",
      "\u001b[1;32m~\\Anaconda3\\lib\\site-packages\\pyspark\\sql\\utils.py\u001b[0m in \u001b[0;36mraise_from\u001b[1;34m(e)\u001b[0m\n",
      "\u001b[1;31mIllegalArgumentException\u001b[0m: java.net.UnknownHostException: nameservice1"
     ]
    }
   ],
   "source": [
    "#data = spark.read.format('csv') \\\n",
    "#                .option('delimiter', \"\\t\") \\\n",
    "#                .load('SMSSpamCollection').toDF(\"Spam\",\"Message\")\n",
    "#data.show()\n",
    "#print(f'Record count is: {data.count()}')\n",
    "\n",
    "data = spark.read.format('csv') \\\n",
    "                .option('delimiter', \"\\t\") \\\n",
    "                .load(\"hdfs://nameservice1/user/edureka_1118556/SMSSpamCollection\").toDF(\"Spam\",\"Message\")\n",
    "data.show()\n",
    "print(f'Record count is: {data.count()}')\n"
   ]
  },
  {
   "cell_type": "code",
   "execution_count": 65,
   "metadata": {},
   "outputs": [
    {
     "name": "stdout",
     "output_type": "stream",
     "text": [
      "+----------------------------------------------------------------------------------------------------------------------------------------------------------------------------------------------------+------------------------------------------------------------------------------------------------------------------------------------------------------------------------------------------------------------------------------------------+------+\n",
      "|Message                                                                                                                                                                                             |words                                                                                                                                                                                                                                     |tokens|\n",
      "+----------------------------------------------------------------------------------------------------------------------------------------------------------------------------------------------------+------------------------------------------------------------------------------------------------------------------------------------------------------------------------------------------------------------------------------------------+------+\n",
      "|Go until jurong point, crazy.. Available only in bugis n great world la e buffet... Cine there got amore wat...                                                                                     |[go, until, jurong, point,, crazy.., available, only, in, bugis, n, great, world, la, e, buffet..., cine, there, got, amore, wat...]                                                                                                      |20    |\n",
      "|Ok lar... Joking wif u oni...                                                                                                                                                                       |[ok, lar..., joking, wif, u, oni...]                                                                                                                                                                                                      |6     |\n",
      "|Free entry in 2 a wkly comp to win FA Cup final tkts 21st May 2005. Text FA to 87121 to receive entry question(std txt rate)T&C's apply 08452810075over18's                                         |[free, entry, in, 2, a, wkly, comp, to, win, fa, cup, final, tkts, 21st, may, 2005., text, fa, to, 87121, to, receive, entry, question(std, txt, rate)t&c's, apply, 08452810075over18's]                                                  |28    |\n",
      "|U dun say so early hor... U c already then say...                                                                                                                                                   |[u, dun, say, so, early, hor..., u, c, already, then, say...]                                                                                                                                                                             |11    |\n",
      "|Nah I don't think he goes to usf, he lives around here though                                                                                                                                       |[nah, i, don't, think, he, goes, to, usf,, he, lives, around, here, though]                                                                                                                                                               |13    |\n",
      "|FreeMsg Hey there darling it's been 3 week's now and no word back! I'd like some fun you up for it still? Tb ok! XxX std chgs to send, £1.50 to rcv                                                 |[freemsg, hey, there, darling, it's, been, 3, week's, now, and, no, word, back!, i'd, like, some, fun, you, up, for, it, still?, tb, ok!, xxx, std, chgs, to, send,, £1.50, to, rcv]                                                      |32    |\n",
      "|Even my brother is not like to speak with me. They treat me like aids patent.                                                                                                                       |[even, my, brother, is, not, like, to, speak, with, me., they, treat, me, like, aids, patent.]                                                                                                                                            |16    |\n",
      "|As per your request 'Melle Melle (Oru Minnaminunginte Nurungu Vettam)' has been set as your callertune for all Callers. Press *9 to copy your friends Callertune                                    |[as, per, your, request, 'melle, melle, (oru, minnaminunginte, nurungu, vettam)', has, been, set, as, your, callertune, for, all, callers., press, *9, to, copy, your, friends, callertune]                                               |26    |\n",
      "|WINNER!! As a valued network customer you have been selected to receivea £900 prize reward! To claim call 09061701461. Claim code KL341. Valid 12 hours only.                                       |[winner!!, as, a, valued, network, customer, you, have, been, selected, to, receivea, £900, prize, reward!, to, claim, call, 09061701461., claim, code, kl341., valid, 12, hours, only.]                                                  |26    |\n",
      "|Had your mobile 11 months or more? U R entitled to Update to the latest colour mobiles with camera for Free! Call The Mobile Update Co FREE on 08002986030                                          |[had, your, mobile, 11, months, or, more?, u, r, entitled, to, update, to, the, latest, colour, mobiles, with, camera, for, free!, call, the, mobile, update, co, free, on, 08002986030]                                                  |29    |\n",
      "|I'm gonna be home soon and i don't want to talk about this stuff anymore tonight, k? I've cried enough today.                                                                                       |[i'm, gonna, be, home, soon, and, i, don't, want, to, talk, about, this, stuff, anymore, tonight,, k?, i've, cried, enough, today.]                                                                                                       |21    |\n",
      "|SIX chances to win CASH! From 100 to 20,000 pounds txt> CSH11 and send to 87575. Cost 150p/day, 6days, 16+ TsandCs apply Reply HL 4 info                                                            |[six, chances, to, win, cash!, from, 100, to, 20,000, pounds, txt>, csh11, and, send, to, 87575., cost, 150p/day,, 6days,, 16+, tsandcs, apply, reply, hl, 4, info]                                                                       |26    |\n",
      "|URGENT! You have won a 1 week FREE membership in our £100,000 Prize Jackpot! Txt the word: CLAIM to No: 81010 T&C www.dbuk.net LCCLTD POBOX 4403LDNW1A7RW18                                         |[urgent!, you, have, won, a, 1, week, free, membership, in, our, £100,000, prize, jackpot!, txt, the, word:, claim, to, no:, 81010, t&c, www.dbuk.net, lccltd, pobox, 4403ldnw1a7rw18]                                                    |26    |\n",
      "|I've been searching for the right words to thank you for this breather. I promise i wont take your help for granted and will fulfil my promise. You have been wonderful and a blessing at all times.|[i've, been, searching, for, the, right, words, to, thank, you, for, this, breather., i, promise, i, wont, take, your, help, for, granted, and, will, fulfil, my, promise., you, have, been, wonderful, and, a, blessing, at, all, times.]|37    |\n",
      "|I HAVE A DATE ON SUNDAY WITH WILL!!                                                                                                                                                                 |[i, have, a, date, on, sunday, with, will!!]                                                                                                                                                                                              |8     |\n",
      "|XXXMobileMovieClub: To use your credit, click the WAP link in the next txt message or click here>> http://wap. xxxmobilemovieclub.com?n=QJKGIGHJJGCBL                                               |[xxxmobilemovieclub:, to, use, your, credit,, click, the, wap, link, in, the, next, txt, message, or, click, here>>, http://wap., xxxmobilemovieclub.com?n=qjkgighjjgcbl]                                                                 |19    |\n",
      "|Oh k...i'm watching here:)                                                                                                                                                                          |[oh, k...i'm, watching, here:)]                                                                                                                                                                                                           |4     |\n",
      "|Eh u remember how 2 spell his name... Yes i did. He v naughty make until i v wet.                                                                                                                   |[eh, u, remember, how, 2, spell, his, name..., yes, i, did., he, v, naughty, make, until, i, v, wet.]                                                                                                                                     |19    |\n",
      "|Fine if thats the way u feel. Thats the way its gota b                                                                                                                                            |[fine, if, thats, the, way, u, feel., thats, the, way, its, gota, b]                                                                                                                                                                    |13    |\n",
      "|England v Macedonia - dont miss the goals/team news. Txt ur national team to 87077 eg ENGLAND to 87077 Try:WALES, SCOTLAND 4txt/ú1.20 POBOXox36504W45WQ 16+                                         |[england, v, macedonia, -, dont, miss, the, goals/team, news., txt, ur, national, team, to, 87077, eg, england, to, 87077, try:wales,, scotland, 4txt/ú1.20, poboxox36504w45wq, 16+]                                                      |24    |\n",
      "+----------------------------------------------------------------------------------------------------------------------------------------------------------------------------------------------------+------------------------------------------------------------------------------------------------------------------------------------------------------------------------------------------------------------------------------------------+------+\n",
      "only showing top 20 rows\n",
      "\n"
     ]
    },
    {
     "name": "stdout",
     "output_type": "stream",
     "text": [
      "+----------------------------------------------------------------------------------------------------------------------------------------------------------------------------------------------------+----------------------------------------------------------------------------------------------------------------------------------------------------------------------------------------------------------------------------------------+------+\n",
      "|Message                                                                                                                                                                                             |words                                                                                                                                                                                                                                   |tokens|\n",
      "+----------------------------------------------------------------------------------------------------------------------------------------------------------------------------------------------------+----------------------------------------------------------------------------------------------------------------------------------------------------------------------------------------------------------------------------------------+------+\n",
      "|Go until jurong point, crazy.. Available only in bugis n great world la e buffet... Cine there got amore wat...                                                                                     |[go, until, jurong, point, crazy, available, only, in, bugis, n, great, world, la, e, buffet, cine, there, got, amore, wat]                                                                                                             |20    |\n",
      "|Ok lar... Joking wif u oni...                                                                                                                                                                       |[ok, lar, joking, wif, u, oni]                                                                                                                                                                                                          |6     |\n",
      "|Free entry in 2 a wkly comp to win FA Cup final tkts 21st May 2005. Text FA to 87121 to receive entry question(std txt rate)T&C's apply 08452810075over18's                                         |[free, entry, in, 2, a, wkly, comp, to, win, fa, cup, final, tkts, 21st, may, 2005, text, fa, to, 87121, to, receive, entry, question, std, txt, rate, t, c, s, apply, 08452810075over18, s]                                            |33    |\n",
      "|U dun say so early hor... U c already then say...                                                                                                                                                   |[u, dun, say, so, early, hor, u, c, already, then, say]                                                                                                                                                                                 |11    |\n",
      "|Nah I don't think he goes to usf, he lives around here though                                                                                                                                       |[nah, i, don, t, think, he, goes, to, usf, he, lives, around, here, though]                                                                                                                                                             |14    |\n",
      "|FreeMsg Hey there darling it's been 3 week's now and no word back! I'd like some fun you up for it still? Tb ok! XxX std chgs to send, £1.50 to rcv                                                 |[freemsg, hey, there, darling, it, s, been, 3, week, s, now, and, no, word, back, i, d, like, some, fun, you, up, for, it, still, tb, ok, xxx, std, chgs, to, send, 1, 50, to, rcv]                                                     |36    |\n",
      "|Even my brother is not like to speak with me. They treat me like aids patent.                                                                                                                       |[even, my, brother, is, not, like, to, speak, with, me, they, treat, me, like, aids, patent]                                                                                                                                            |16    |\n",
      "|As per your request 'Melle Melle (Oru Minnaminunginte Nurungu Vettam)' has been set as your callertune for all Callers. Press *9 to copy your friends Callertune                                    |[as, per, your, request, melle, melle, oru, minnaminunginte, nurungu, vettam, has, been, set, as, your, callertune, for, all, callers, press, 9, to, copy, your, friends, callertune]                                                   |26    |\n",
      "|WINNER!! As a valued network customer you have been selected to receivea £900 prize reward! To claim call 09061701461. Claim code KL341. Valid 12 hours only.                                       |[winner, as, a, valued, network, customer, you, have, been, selected, to, receivea, 900, prize, reward, to, claim, call, 09061701461, claim, code, kl341, valid, 12, hours, only]                                                       |26    |\n",
      "|Had your mobile 11 months or more? U R entitled to Update to the latest colour mobiles with camera for Free! Call The Mobile Update Co FREE on 08002986030                                          |[had, your, mobile, 11, months, or, more, u, r, entitled, to, update, to, the, latest, colour, mobiles, with, camera, for, free, call, the, mobile, update, co, free, on, 08002986030]                                                  |29    |\n",
      "|I'm gonna be home soon and i don't want to talk about this stuff anymore tonight, k? I've cried enough today.                                                                                       |[i, m, gonna, be, home, soon, and, i, don, t, want, to, talk, about, this, stuff, anymore, tonight, k, i, ve, cried, enough, today]                                                                                                     |24    |\n",
      "|SIX chances to win CASH! From 100 to 20,000 pounds txt> CSH11 and send to 87575. Cost 150p/day, 6days, 16+ TsandCs apply Reply HL 4 info                                                            |[six, chances, to, win, cash, from, 100, to, 20, 000, pounds, txt, csh11, and, send, to, 87575, cost, 150p, day, 6days, 16, tsandcs, apply, reply, hl, 4, info]                                                                         |28    |\n",
      "|URGENT! You have won a 1 week FREE membership in our £100,000 Prize Jackpot! Txt the word: CLAIM to No: 81010 T&C www.dbuk.net LCCLTD POBOX 4403LDNW1A7RW18                                         |[urgent, you, have, won, a, 1, week, free, membership, in, our, 100, 000, prize, jackpot, txt, the, word, claim, to, no, 81010, t, c, www, dbuk, net, lccltd, pobox, 4403ldnw1a7rw18]                                                   |30    |\n",
      "|I've been searching for the right words to thank you for this breather. I promise i wont take your help for granted and will fulfil my promise. You have been wonderful and a blessing at all times.|[i, ve, been, searching, for, the, right, words, to, thank, you, for, this, breather, i, promise, i, wont, take, your, help, for, granted, and, will, fulfil, my, promise, you, have, been, wonderful, and, a, blessing, at, all, times]|38    |\n",
      "|I HAVE A DATE ON SUNDAY WITH WILL!!                                                                                                                                                                 |[i, have, a, date, on, sunday, with, will]                                                                                                                                                                                              |8     |\n",
      "|XXXMobileMovieClub: To use your credit, click the WAP link in the next txt message or click here>> http://wap. xxxmobilemovieclub.com?n=QJKGIGHJJGCBL                                               |[xxxmobilemovieclub, to, use, your, credit, click, the, wap, link, in, the, next, txt, message, or, click, here, http, wap, xxxmobilemovieclub, com, n, qjkgighjjgcbl]                                                                  |23    |\n",
      "|Oh k...i'm watching here:)                                                                                                                                                                          |[oh, k, i, m, watching, here]                                                                                                                                                                                                           |6     |\n",
      "|Eh u remember how 2 spell his name... Yes i did. He v naughty make until i v wet.                                                                                                                   |[eh, u, remember, how, 2, spell, his, name, yes, i, did, he, v, naughty, make, until, i, v, wet]                                                                                                                                        |19    |\n",
      "|Fine if thats the way u feel. Thats the way its gota b                                                                                                                                            |[fine, if, that, s, the, way, u, feel, that, s, the, way, its, gota, b]                                                                                                                                                                 |15    |\n",
      "|England v Macedonia - dont miss the goals/team news. Txt ur national team to 87077 eg ENGLAND to 87077 Try:WALES, SCOTLAND 4txt/ú1.20 POBOXox36504W45WQ 16+                                         |[england, v, macedonia, dont, miss, the, goals, team, news, txt, ur, national, team, to, 87077, eg, england, to, 87077, try, wales, scotland, 4txt, 1, 20, poboxox36504w45wq, 16]                                                       |27    |\n",
      "+----------------------------------------------------------------------------------------------------------------------------------------------------------------------------------------------------+----------------------------------------------------------------------------------------------------------------------------------------------------------------------------------------------------------------------------------------+------+\n",
      "only showing top 20 rows\n",
      "\n"
     ]
    }
   ],
   "source": [
    "tokenizer = Tokenizer(inputCol=\"Message\", outputCol=\"words\")\n",
    "\n",
    "regexTokenizer = RegexTokenizer(inputCol=\"Message\", outputCol=\"words\", pattern=\"\\\\W\")\n",
    "# alternatively, pattern=\"\\\\w+\", gaps(False)\n",
    "\n",
    "#countTokens = udf(lambda words: len(words), IntegerType())\n",
    "\n",
    "tokenized = tokenizer.transform(data)\n",
    "tokenized.select(\"Message\", \"words\")\\\n",
    "    .withColumn(\"tokens\", countTokens(col(\"words\"))).show(truncate=False)\n",
    "\n",
    "regexTokenized = regexTokenizer.transform(data)\n",
    "regexTokenized.select(\"Message\", \"words\") \\\n",
    "    .withColumn(\"tokens\", countTokens(col(\"words\"))).show(truncate=False)\n",
    "# $example off$"
   ]
  },
  {
   "cell_type": "code",
   "execution_count": 66,
   "metadata": {},
   "outputs": [
    {
     "name": "stdout",
     "output_type": "stream",
     "text": [
      "+----+--------------------+--------------------+\n",
      "|Spam|             Message|               words|\n",
      "+----+--------------------+--------------------+\n",
      "| ham|Go until jurong p...|[go, until, juron...|\n",
      "| ham|Ok lar... Joking ...|[ok, lar, joking,...|\n",
      "|spam|Free entry in 2 a...|[free, entry, in,...|\n",
      "| ham|U dun say so earl...|[u, dun, say, so,...|\n",
      "| ham|Nah I don't think...|[nah, i, don, t, ...|\n",
      "|spam|FreeMsg Hey there...|[freemsg, hey, th...|\n",
      "| ham|Even my brother i...|[even, my, brothe...|\n",
      "| ham|As per your reque...|[as, per, your, r...|\n",
      "|spam|WINNER!! As a val...|[winner, as, a, v...|\n",
      "|spam|Had your mobile 1...|[had, your, mobil...|\n",
      "| ham|I'm gonna be home...|[i, m, gonna, be,...|\n",
      "|spam|SIX chances to wi...|[six, chances, to...|\n",
      "|spam|URGENT! You have ...|[urgent, you, hav...|\n",
      "| ham|I've been searchi...|[i, ve, been, sea...|\n",
      "| ham|I HAVE A DATE ON ...|[i, have, a, date...|\n",
      "|spam|XXXMobileMovieClu...|[xxxmobilemoviecl...|\n",
      "| ham|Oh k...i'm watchi...|[oh, k, i, m, wat...|\n",
      "| ham|Eh u remember how...|[eh, u, remember,...|\n",
      "| ham|Fine if thats th...|[fine, if, that, ...|\n",
      "|spam|England v Macedon...|[england, v, mace...|\n",
      "+----+--------------------+--------------------+\n",
      "only showing top 20 rows\n",
      "\n"
     ]
    }
   ],
   "source": [
    "regexTokenized.show()"
   ]
  },
  {
   "cell_type": "code",
   "execution_count": 123,
   "metadata": {},
   "outputs": [],
   "source": [
    "stopwords = StopWordsRemover().getStopWords() + [\"-\"]\n",
    "remover = StopWordsRemover().setStopWords(stopwords).setInputCol(\"words\").setOutputCol(\"filtered\")\n",
    "cleaned = remover.transform(regexTokenized)"
   ]
  },
  {
   "cell_type": "code",
   "execution_count": 81,
   "metadata": {},
   "outputs": [
    {
     "data": {
      "text/plain": [
       "pyspark.sql.dataframe.DataFrame"
      ]
     },
     "execution_count": 81,
     "metadata": {},
     "output_type": "execute_result"
    }
   ],
   "source": [
    "type(cleaned)"
   ]
  },
  {
   "cell_type": "code",
   "execution_count": 82,
   "metadata": {},
   "outputs": [
    {
     "name": "stdout",
     "output_type": "stream",
     "text": [
      "+----+--------------------+--------------------+--------------------+--------------------+\n",
      "|Spam|             Message|               words|            filtered|         CountVector|\n",
      "+----+--------------------+--------------------+--------------------+--------------------+\n",
      "| ham|Go until jurong p...|[go, until, juron...|[go, jurong, poin...|           (3,[],[])|\n",
      "| ham|Ok lar... Joking ...|[ok, lar, joking,...|[ok, lar, joking,...|           (3,[],[])|\n",
      "|spam|Free entry in 2 a...|[free, entry, in,...|[free, entry, 2, ...|       (3,[1],[3.0])|\n",
      "| ham|U dun say so earl...|[u, dun, say, so,...|[u, dun, say, ear...|           (3,[],[])|\n",
      "| ham|Nah I don't think...|[nah, i, don, t, ...|[nah, think, goes...| (3,[0,1],[1.0,1.0])|\n",
      "|spam|FreeMsg Hey there...|[freemsg, hey, th...|[freemsg, hey, da...|(3,[0,1,2],[1.0,2...|\n",
      "| ham|Even my brother i...|[even, my, brothe...|[even, brother, l...|       (3,[1],[1.0])|\n",
      "| ham|As per your reque...|[as, per, your, r...|[per, request, me...|       (3,[1],[1.0])|\n",
      "|spam|WINNER!! As a val...|[winner, as, a, v...|[winner, valued, ...| (3,[1,2],[2.0,1.0])|\n",
      "|spam|Had your mobile 1...|[had, your, mobil...|[mobile, 11, mont...|       (3,[1],[2.0])|\n",
      "| ham|I'm gonna be home...|[i, m, gonna, be,...|[m, gonna, home, ...| (3,[0,1],[3.0,1.0])|\n",
      "|spam|SIX chances to wi...|[six, chances, to...|[six, chances, wi...|       (3,[1],[3.0])|\n",
      "|spam|URGENT! You have ...|[urgent, you, hav...|[urgent, won, 1, ...| (3,[1,2],[1.0,1.0])|\n",
      "| ham|I've been searchi...|[i, ve, been, sea...|[ve, searching, r...|(3,[0,1,2],[3.0,1...|\n",
      "| ham|I HAVE A DATE ON ...|[i, have, a, date...|      [date, sunday]|       (3,[0],[1.0])|\n",
      "|spam|XXXMobileMovieClu...|[xxxmobilemoviecl...|[xxxmobilemoviecl...|       (3,[1],[1.0])|\n",
      "| ham|Oh k...i'm watchi...|[oh, k, i, m, wat...|[oh, k, m, watching]|       (3,[0],[1.0])|\n",
      "| ham|Eh u remember how...|[eh, u, remember,...|[eh, u, remember,...|       (3,[0],[2.0])|\n",
      "| ham|Fine if thats th...|[fine, if, that, ...|[fine, way, u, fe...|           (3,[],[])|\n",
      "|spam|England v Macedon...|[england, v, mace...|[england, v, mace...|       (3,[1],[2.0])|\n",
      "+----+--------------------+--------------------+--------------------+--------------------+\n",
      "only showing top 20 rows\n",
      "\n"
     ]
    }
   ],
   "source": [
    "from pyspark.ml.feature import CountVectorizer\n",
    "cv = CountVectorizer(inputCol=\"words\",outputCol=\"CountVector\",vocabSize=3,minDF=2.0)\n",
    "model = cv.fit(cleaned)\n",
    "result = model.transform(cleaned)\n",
    "result.show()"
   ]
  },
  {
   "cell_type": "code",
   "execution_count": 103,
   "metadata": {},
   "outputs": [],
   "source": [
    "from pyspark.ml.feature import (VectorAssembler, VectorIndexer, OneHotEncoder, StringIndexer)\n",
    "spam_indexer = StringIndexer(inputCol='Spam',outputCol='SpamIndex')\n",
    "spam_encoder = OneHotEncoder(inputCol='SpamIndex',outputCol='SpamVec')\n",
    "assembler = VectorAssembler(inputCols=['CountVector'],outputCol='features')\n",
    "from pyspark.ml.classification import LogisticRegression, RandomForestClassifier\n",
    "from pyspark.ml import Pipeline\n",
    "log_reg_titanic = LogisticRegression(featuresCol='features',labelCol='SpamIndex')\n",
    "randomforest = RandomForestClassifier(featuresCol='features',labelCol='SpamIndex')\n",
    "pipeline = Pipeline(stages=[spam_indexer,spam_encoder,assembler,log_reg_titanic])\n",
    "pipeline_rf = Pipeline(stages=[spam_indexer,spam_encoder,assembler,randomforest])\n",
    "train_data , test_data = result.randomSplit([0.7,0.3])\n",
    "fit_model = pipeline.fit(train_data)\n",
    "fit_model_rf = pipeline_rf.fit(train_data)"
   ]
  },
  {
   "cell_type": "code",
   "execution_count": 104,
   "metadata": {},
   "outputs": [],
   "source": [
    "results = fit_model.transform(test_data)\n",
    "results_rf = fit_model_rf.transform(test_data)"
   ]
  },
  {
   "cell_type": "code",
   "execution_count": 99,
   "metadata": {},
   "outputs": [],
   "source": [
    "from pyspark.ml.evaluation import BinaryClassificationEvaluator, MulticlassClassificationEvaluator"
   ]
  },
  {
   "cell_type": "code",
   "execution_count": 96,
   "metadata": {},
   "outputs": [
    {
     "name": "stdout",
     "output_type": "stream",
     "text": [
      "+---------+----------+\n",
      "|SpamIndex|prediction|\n",
      "+---------+----------+\n",
      "|      0.0|       0.0|\n",
      "|      0.0|       0.0|\n",
      "|      0.0|       0.0|\n",
      "|      0.0|       0.0|\n",
      "|      0.0|       0.0|\n",
      "|      0.0|       0.0|\n",
      "|      0.0|       0.0|\n",
      "|      0.0|       0.0|\n",
      "|      0.0|       0.0|\n",
      "|      0.0|       0.0|\n",
      "|      0.0|       0.0|\n",
      "|      0.0|       0.0|\n",
      "|      0.0|       0.0|\n",
      "|      0.0|       0.0|\n",
      "|      0.0|       0.0|\n",
      "|      0.0|       0.0|\n",
      "|      0.0|       0.0|\n",
      "|      0.0|       0.0|\n",
      "|      0.0|       0.0|\n",
      "|      0.0|       0.0|\n",
      "+---------+----------+\n",
      "only showing top 20 rows\n",
      "\n"
     ]
    }
   ],
   "source": [
    "my_eval = BinaryClassificationEvaluator(rawPredictionCol='prediction', labelCol='SpamIndex')\n",
    "results.select('SpamIndex', 'prediction').show()"
   ]
  },
  {
   "cell_type": "code",
   "execution_count": 98,
   "metadata": {},
   "outputs": [
    {
     "data": {
      "text/plain": [
       "0.5847812510897028"
      ]
     },
     "execution_count": 98,
     "metadata": {},
     "output_type": "execute_result"
    }
   ],
   "source": [
    "AUC = my_eval.evaluate(results)\n",
    "AUC"
   ]
  },
  {
   "cell_type": "code",
   "execution_count": 106,
   "metadata": {},
   "outputs": [
    {
     "name": "stdout",
     "output_type": "stream",
     "text": [
      "Accuracy = 0.882494\n"
     ]
    }
   ],
   "source": [
    "my_eval_rf = MulticlassClassificationEvaluator(labelCol=\"SpamIndex\", predictionCol=\"prediction\", metricName=\"accuracy\")\n",
    "accuracy_rf = my_eval_rf.evaluate(results_rf)\n",
    "print(\"Accuracy = %g\" % accuracy_rf)"
   ]
  },
  {
   "cell_type": "code",
   "execution_count": 113,
   "metadata": {},
   "outputs": [],
   "source": [
    "from pyspark.ml.feature import NGram\n",
    "ngram = NGram(n=2, inputCol=\"words\", outputCol=\"bigrams\")\n",
    "bigramdata = ngram.transform(regexTokenized)"
   ]
  },
  {
   "cell_type": "code",
   "execution_count": 121,
   "metadata": {},
   "outputs": [
    {
     "name": "stdout",
     "output_type": "stream",
     "text": [
      "+----+--------------------+--------------------+--------------------+\n",
      "|Spam|             Message|               words|             bigrams|\n",
      "+----+--------------------+--------------------+--------------------+\n",
      "| ham|Go until jurong p...|[go, until, juron...|[go until, until ...|\n",
      "| ham|Ok lar... Joking ...|[ok, lar, joking,...|[ok lar, lar joki...|\n",
      "|spam|Free entry in 2 a...|[free, entry, in,...|[free entry, entr...|\n",
      "| ham|U dun say so earl...|[u, dun, say, so,...|[u dun, dun say, ...|\n",
      "| ham|Nah I don't think...|[nah, i, don, t, ...|[nah i, i don, do...|\n",
      "|spam|FreeMsg Hey there...|[freemsg, hey, th...|[freemsg hey, hey...|\n",
      "| ham|Even my brother i...|[even, my, brothe...|[even my, my brot...|\n",
      "| ham|As per your reque...|[as, per, your, r...|[as per, per your...|\n",
      "|spam|WINNER!! As a val...|[winner, as, a, v...|[winner as, as a,...|\n",
      "|spam|Had your mobile 1...|[had, your, mobil...|[had your, your m...|\n",
      "| ham|I'm gonna be home...|[i, m, gonna, be,...|[i m, m gonna, go...|\n",
      "|spam|SIX chances to wi...|[six, chances, to...|[six chances, cha...|\n",
      "|spam|URGENT! You have ...|[urgent, you, hav...|[urgent you, you ...|\n",
      "| ham|I've been searchi...|[i, ve, been, sea...|[i ve, ve been, b...|\n",
      "| ham|I HAVE A DATE ON ...|[i, have, a, date...|[i have, have a, ...|\n",
      "|spam|XXXMobileMovieClu...|[xxxmobilemoviecl...|[xxxmobilemoviecl...|\n",
      "| ham|Oh k...i'm watchi...|[oh, k, i, m, wat...|[oh k, k i, i m, ...|\n",
      "| ham|Eh u remember how...|[eh, u, remember,...|[eh u, u remember...|\n",
      "| ham|Fine if thats th...|[fine, if, that, ...|[fine if, if that...|\n",
      "|spam|England v Macedon...|[england, v, mace...|[england v, v mac...|\n",
      "+----+--------------------+--------------------+--------------------+\n",
      "only showing top 20 rows\n",
      "\n"
     ]
    }
   ],
   "source": [
    "bigramdata.show()"
   ]
  },
  {
   "cell_type": "code",
   "execution_count": 124,
   "metadata": {},
   "outputs": [],
   "source": [
    "stopwordsbigram = StopWordsRemover().getStopWords() + [\"-\"]\n",
    "removerbigrams = StopWordsRemover().setStopWords(stopwordsbigram).setInputCol(\"words\").setOutputCol(\"bigramsfiltered\")\n",
    "cleanedbigrams = removerbigrams.transform(bigramdata)"
   ]
  },
  {
   "cell_type": "code",
   "execution_count": 149,
   "metadata": {},
   "outputs": [
    {
     "name": "stdout",
     "output_type": "stream",
     "text": [
      "+----+--------------------+--------------------+--------------------+--------------------+-------------+\n",
      "|Spam|             Message|               words|             bigrams|     bigramsfiltered|     features|\n",
      "+----+--------------------+--------------------+--------------------+--------------------+-------------+\n",
      "| ham|Go until jurong p...|[go, until, juron...|[go until, until ...|[go, jurong, poin...|    (3,[],[])|\n",
      "| ham|Ok lar... Joking ...|[ok, lar, joking,...|[ok lar, lar joki...|[ok, lar, joking,...|    (3,[],[])|\n",
      "|spam|Free entry in 2 a...|[free, entry, in,...|[free entry, entr...|[free, entry, 2, ...|    (3,[],[])|\n",
      "| ham|U dun say so earl...|[u, dun, say, so,...|[u dun, dun say, ...|[u, dun, say, ear...|    (3,[],[])|\n",
      "| ham|Nah I don't think...|[nah, i, don, t, ...|[nah i, i don, do...|[nah, think, goes...|    (3,[],[])|\n",
      "|spam|FreeMsg Hey there...|[freemsg, hey, th...|[freemsg hey, hey...|[freemsg, hey, da...|    (3,[],[])|\n",
      "| ham|Even my brother i...|[even, my, brothe...|[even my, my brot...|[even, brother, l...|    (3,[],[])|\n",
      "| ham|As per your reque...|[as, per, your, r...|[as per, per your...|[per, request, me...|    (3,[],[])|\n",
      "|spam|WINNER!! As a val...|[winner, as, a, v...|[winner as, as a,...|[winner, valued, ...|    (3,[],[])|\n",
      "|spam|Had your mobile 1...|[had, your, mobil...|[had your, your m...|[mobile, 11, mont...|    (3,[],[])|\n",
      "| ham|I'm gonna be home...|[i, m, gonna, be,...|[i m, m gonna, go...|[m, gonna, home, ...|(3,[0],[1.0])|\n",
      "|spam|SIX chances to wi...|[six, chances, to...|[six chances, cha...|[six, chances, wi...|    (3,[],[])|\n",
      "|spam|URGENT! You have ...|[urgent, you, hav...|[urgent you, you ...|[urgent, won, 1, ...|    (3,[],[])|\n",
      "| ham|I've been searchi...|[i, ve, been, sea...|[i ve, ve been, b...|[ve, searching, r...|    (3,[],[])|\n",
      "| ham|I HAVE A DATE ON ...|[i, have, a, date...|[i have, have a, ...|      [date, sunday]|    (3,[],[])|\n",
      "|spam|XXXMobileMovieClu...|[xxxmobilemoviecl...|[xxxmobilemoviecl...|[xxxmobilemoviecl...|    (3,[],[])|\n",
      "| ham|Oh k...i'm watchi...|[oh, k, i, m, wat...|[oh k, k i, i m, ...|[oh, k, m, watching]|(3,[0],[1.0])|\n",
      "| ham|Eh u remember how...|[eh, u, remember,...|[eh u, u remember...|[eh, u, remember,...|    (3,[],[])|\n",
      "| ham|Fine if thats th...|[fine, if, that, ...|[fine if, if that...|[fine, way, u, fe...|    (3,[],[])|\n",
      "|spam|England v Macedon...|[england, v, mace...|[england v, v mac...|[england, v, mace...|    (3,[],[])|\n",
      "+----+--------------------+--------------------+--------------------+--------------------+-------------+\n",
      "only showing top 20 rows\n",
      "\n"
     ]
    }
   ],
   "source": [
    "cv_bigram = CountVectorizer(inputCol=\"bigrams\",outputCol=\"features\",vocabSize=3,minDF=2.0)\n",
    "model = cv_bigram.fit(cleanedbigrams)\n",
    "resultbigram = model.transform(cleanedbigrams)\n",
    "resultbigram.show()"
   ]
  },
  {
   "cell_type": "code",
   "execution_count": 153,
   "metadata": {},
   "outputs": [
    {
     "name": "stdout",
     "output_type": "stream",
     "text": [
      "+----+--------------------+--------------------+--------------------+--------------------+-------------+-----+\n",
      "|Spam|             Message|               words|             bigrams|     bigramsfiltered|     features|label|\n",
      "+----+--------------------+--------------------+--------------------+--------------------+-------------+-----+\n",
      "| ham|Go until jurong p...|[go, until, juron...|[go until, until ...|[go, jurong, poin...|    (3,[],[])|  0.0|\n",
      "| ham|Ok lar... Joking ...|[ok, lar, joking,...|[ok lar, lar joki...|[ok, lar, joking,...|    (3,[],[])|  0.0|\n",
      "|spam|Free entry in 2 a...|[free, entry, in,...|[free entry, entr...|[free, entry, 2, ...|    (3,[],[])|  1.0|\n",
      "| ham|U dun say so earl...|[u, dun, say, so,...|[u dun, dun say, ...|[u, dun, say, ear...|    (3,[],[])|  0.0|\n",
      "| ham|Nah I don't think...|[nah, i, don, t, ...|[nah i, i don, do...|[nah, think, goes...|    (3,[],[])|  0.0|\n",
      "|spam|FreeMsg Hey there...|[freemsg, hey, th...|[freemsg hey, hey...|[freemsg, hey, da...|    (3,[],[])|  1.0|\n",
      "| ham|Even my brother i...|[even, my, brothe...|[even my, my brot...|[even, brother, l...|    (3,[],[])|  0.0|\n",
      "| ham|As per your reque...|[as, per, your, r...|[as per, per your...|[per, request, me...|    (3,[],[])|  0.0|\n",
      "|spam|WINNER!! As a val...|[winner, as, a, v...|[winner as, as a,...|[winner, valued, ...|    (3,[],[])|  1.0|\n",
      "|spam|Had your mobile 1...|[had, your, mobil...|[had your, your m...|[mobile, 11, mont...|    (3,[],[])|  1.0|\n",
      "| ham|I'm gonna be home...|[i, m, gonna, be,...|[i m, m gonna, go...|[m, gonna, home, ...|(3,[0],[1.0])|  0.0|\n",
      "|spam|SIX chances to wi...|[six, chances, to...|[six chances, cha...|[six, chances, wi...|    (3,[],[])|  1.0|\n",
      "|spam|URGENT! You have ...|[urgent, you, hav...|[urgent you, you ...|[urgent, won, 1, ...|    (3,[],[])|  1.0|\n",
      "| ham|I've been searchi...|[i, ve, been, sea...|[i ve, ve been, b...|[ve, searching, r...|    (3,[],[])|  0.0|\n",
      "| ham|I HAVE A DATE ON ...|[i, have, a, date...|[i have, have a, ...|      [date, sunday]|    (3,[],[])|  0.0|\n",
      "|spam|XXXMobileMovieClu...|[xxxmobilemoviecl...|[xxxmobilemoviecl...|[xxxmobilemoviecl...|    (3,[],[])|  1.0|\n",
      "| ham|Oh k...i'm watchi...|[oh, k, i, m, wat...|[oh k, k i, i m, ...|[oh, k, m, watching]|(3,[0],[1.0])|  0.0|\n",
      "| ham|Eh u remember how...|[eh, u, remember,...|[eh u, u remember...|[eh, u, remember,...|    (3,[],[])|  0.0|\n",
      "| ham|Fine if thats th...|[fine, if, that, ...|[fine if, if that...|[fine, way, u, fe...|    (3,[],[])|  0.0|\n",
      "|spam|England v Macedon...|[england, v, mace...|[england v, v mac...|[england, v, mace...|    (3,[],[])|  1.0|\n",
      "+----+--------------------+--------------------+--------------------+--------------------+-------------+-----+\n",
      "only showing top 20 rows\n",
      "\n"
     ]
    }
   ],
   "source": [
    "ham_spam_encoded_data = StringIndexer(inputCol=\"Spam\",outputCol=\"label\").fit(resultbigram).transform(resultbigram)\n",
    "ham_spam_encoded_data.show()"
   ]
  },
  {
   "cell_type": "code",
   "execution_count": 154,
   "metadata": {},
   "outputs": [
    {
     "name": "stdout",
     "output_type": "stream",
     "text": [
      "+----+--------------------+--------------------+--------------------+--------------------+-------------+-----+\n",
      "|Spam|             Message|               words|             bigrams|     bigramsfiltered|     features|label|\n",
      "+----+--------------------+--------------------+--------------------+--------------------+-------------+-----+\n",
      "| ham| &lt;#&gt;  in mc...|[lt, gt, in, mca,...|[lt gt, gt in, in...|[lt, gt, mca, con...|(3,[1],[1.0])|  0.0|\n",
      "| ham| &lt;#&gt;  mins ...|[lt, gt, mins, bu...|[lt gt, gt mins, ...|[lt, gt, mins, st...|(3,[1],[1.0])|  0.0|\n",
      "| ham| &lt;DECIMAL&gt; ...|[lt, decimal, gt,...|[lt decimal, deci...|[lt, decimal, gt,...|(3,[2],[1.0])|  0.0|\n",
      "| ham| and  picking the...|[and, picking, th...|[and picking, pic...|[picking, various...|    (3,[],[])|  0.0|\n",
      "| ham| came to look at ...|[came, to, look, ...|[came to, to look...|[came, look, flat...|    (3,[],[])|  0.0|\n",
      "| ham| gonna let me kno...|[gonna, let, me, ...|[gonna let, let m...|[gonna, let, know...|    (3,[],[])|  0.0|\n",
      "| ham| says that he's q...|[says, that, he, ...|[says that, that ...|[says, quitting, ...|    (3,[],[])|  0.0|\n",
      "| ham| what number do u...|[what, number, do...|[what number, num...|[number, u, live,...|    (3,[],[])|  0.0|\n",
      "| ham|\"Gimme a few\" was...|[gimme, a, few, w...|[gimme a, a few, ...|[gimme, lt, gt, m...|(3,[1],[1.0])|  0.0|\n",
      "| ham|\"Happy valentines...|[happy, valentine...|[happy valentines...|[happy, valentine...|    (3,[],[])|  0.0|\n",
      "| ham|\"Its Ur luck to L...|[its, ur, luck, t...|[its ur, ur luck,...|[ur, luck, love, ...|    (3,[],[])|  0.0|\n",
      "| ham|\"Life is nothing ...|[life, is, nothin...|[life is, is noth...|[life, nothing, w...|    (3,[],[])|  0.0|\n",
      "| ham|\"SYMPTOMS\" when U...|[symptoms, when, ...|[symptoms when, w...|[symptoms, u, lov...|    (3,[],[])|  0.0|\n",
      "| ham|\"Speak only when ...|[speak, only, whe...|[speak only, only...|[speak, feel, wor...|    (3,[],[])|  0.0|\n",
      "| ham|\"The world suffer...|[the, world, suff...|[the world, world...|[world, suffers, ...|    (3,[],[])|  0.0|\n",
      "| ham|&lt;#&gt;  am I t...|[lt, gt, am, i, t...|[lt gt, gt am, am...|[lt, gt, think, s...|(3,[1],[1.0])|  0.0|\n",
      "| ham|&lt;#&gt;  great ...|[lt, gt, great, l...|[lt gt, gt great,...|[lt, gt, great, l...|(3,[1],[1.0])|  0.0|\n",
      "| ham|&lt;#&gt;  is fas...|[lt, gt, is, fast...|[lt gt, gt is, is...|[lt, gt, fast, ap...|(3,[1],[2.0])|  0.0|\n",
      "| ham|&lt;#&gt;  w jett...|[lt, gt, w, jetto...|[lt gt, gt w, w j...|[lt, gt, w, jetto...|(3,[1],[1.0])|  0.0|\n",
      "| ham|&lt;#&gt; %of ppl...|[lt, gt, of, pple...|[lt gt, gt of, of...|[lt, gt, pple, ma...|(3,[1],[3.0])|  0.0|\n",
      "+----+--------------------+--------------------+--------------------+--------------------+-------------+-----+\n",
      "only showing top 20 rows\n",
      "\n"
     ]
    }
   ],
   "source": [
    "training, test = ham_spam_encoded_data.randomSplit([0.7, 0.3], seed = 12345)\n",
    "training.show()"
   ]
  },
  {
   "cell_type": "code",
   "execution_count": 156,
   "metadata": {},
   "outputs": [],
   "source": [
    "lr_bigrams = LogisticRegression()\n",
    "model_fit = lr_bigrams.fit(training)\n",
    "predictions = model_fit.transform(test)"
   ]
  },
  {
   "cell_type": "code",
   "execution_count": 162,
   "metadata": {},
   "outputs": [
    {
     "data": {
      "text/plain": [
       "0.5708676973250963"
      ]
     },
     "execution_count": 162,
     "metadata": {},
     "output_type": "execute_result"
    }
   ],
   "source": [
    "evaluate_bigrams = BinaryClassificationEvaluator()\n",
    "accuracy = evaluate_bigrams.evaluate(predictions)\n",
    "accuracy"
   ]
  },
  {
   "cell_type": "code",
   "execution_count": null,
   "metadata": {},
   "outputs": [],
   "source": []
  }
 ],
 "metadata": {
  "kernelspec": {
   "display_name": "Python 3",
   "language": "python",
   "name": "python3"
  },
  "language_info": {
   "codemirror_mode": {
    "name": "ipython",
    "version": 3
   },
   "file_extension": ".py",
   "mimetype": "text/x-python",
   "name": "python",
   "nbconvert_exporter": "python",
   "pygments_lexer": "ipython3",
   "version": "3.6.5"
  }
 },
 "nbformat": 4,
 "nbformat_minor": 2
}
